{
  "nbformat": 4,
  "nbformat_minor": 0,
  "metadata": {
    "kernelspec": {
      "display_name": "Python 3",
      "language": "python",
      "name": "python3"
    },
    "language_info": {
      "codemirror_mode": {
        "name": "ipython",
        "version": 3
      },
      "file_extension": ".py",
      "mimetype": "text/x-python",
      "name": "python",
      "nbconvert_exporter": "python",
      "pygments_lexer": "ipython3",
      "version": "3.7.4"
    },
    "toc": {
      "base_numbering": 1,
      "nav_menu": {},
      "number_sections": true,
      "sideBar": true,
      "skip_h1_title": false,
      "title_cell": "Table of Contents",
      "title_sidebar": "Contents",
      "toc_cell": true,
      "toc_position": {},
      "toc_section_display": true,
      "toc_window_display": true
    },
    "colab": {
      "name": "audioIO.ipynb",
      "provenance": [],
      "include_colab_link": true
    }
  },
  "cells": [
    {
      "cell_type": "markdown",
      "metadata": {
        "id": "view-in-github",
        "colab_type": "text"
      },
      "source": [
        "<a href=\"https://colab.research.google.com/github/SMC-AAU-CPH/med4-ap-jupyter/blob/main/lecture3_Digital_Audio_Signals/audioIO.ipynb\" target=\"_parent\"><img src=\"https://colab.research.google.com/assets/colab-badge.svg\" alt=\"Open In Colab\"/></a>"
      ]
    },
    {
      "cell_type": "markdown",
      "metadata": {
        "toc": true,
        "id": "FILsgJ2f9yWb"
      },
      "source": [
        "<h1>Table of Contents<span class=\"tocSkip\"></span></h1>\n",
        "<div class=\"toc\"><ul class=\"toc-item\"><li><span><a href=\"#Recording-and-playback-of-audio-with-Python-and-sounddevice\" data-toc-modified-id=\"Recording-and-playback-of-audio-with-Python-and-sounddevice-1\"><span class=\"toc-item-num\">1&nbsp;&nbsp;</span>Recording and playback of audio with Python and sounddevice</a></span><ul class=\"toc-item\"><li><span><a href=\"#Introduction\" data-toc-modified-id=\"Introduction-1.1\"><span class=\"toc-item-num\">1.1&nbsp;&nbsp;</span>Introduction</a></span></li><li><span><a href=\"#Selecting-the-sound-card\" data-toc-modified-id=\"Selecting-the-sound-card-1.2\"><span class=\"toc-item-num\">1.2&nbsp;&nbsp;</span>Selecting the sound card</a></span></li><li><span><a href=\"#Recording-of-audio-data\" data-toc-modified-id=\"Recording-of-audio-data-1.3\"><span class=\"toc-item-num\">1.3&nbsp;&nbsp;</span>Recording of audio data</a></span></li><li><span><a href=\"#Playback-of-audio-data\" data-toc-modified-id=\"Playback-of-audio-data-1.4\"><span class=\"toc-item-num\">1.4&nbsp;&nbsp;</span>Playback of audio data</a></span></li><li><span><a href=\"#Simultaneous-playback-and-recording\" data-toc-modified-id=\"Simultaneous-playback-and-recording-1.5\"><span class=\"toc-item-num\">1.5&nbsp;&nbsp;</span>Simultaneous playback and recording</a></span></li><li><span><a href=\"#Frame-based-audio-processing\" data-toc-modified-id=\"Frame-based-audio-processing-1.6\"><span class=\"toc-item-num\">1.6&nbsp;&nbsp;</span>Frame-based audio processing</a></span></li></ul></li></ul></div>"
      ]
    },
    {
      "cell_type": "markdown",
      "metadata": {
        "id": "SAowPUaz9yWh"
      },
      "source": [
        "# Recording and playback of audio with Python and sounddevice\n",
        "Audio Processing, MED4, Aalborg University, 2020\n",
        "\n",
        "By Jesper Kjær Nielsen (jkn@create.aau.dk), Audio Analysis Lab, Aalborg University.\n",
        "\n",
        "Last edited: 2020-02-09"
      ]
    },
    {
      "cell_type": "markdown",
      "metadata": {
        "id": "fLbNun3r9yWi"
      },
      "source": [
        "## Introduction\n",
        "\n",
        "This guide will take you through the basics of how you read/write audio data with your computer. We will use Python along with the **sounddevice** module for this (note that alternative modules such as **PyAudio** also can be used for this).\n",
        "\n",
        "If you are interested in more details than provided here, please go to the homepage of [sounddevice](https://python-sounddevice.readthedocs.io/en/0.3.14/).\n"
      ]
    },
    {
      "cell_type": "markdown",
      "metadata": {
        "id": "0vrZWjhm9yWi"
      },
      "source": [
        "### Loading the sounddevice module\n",
        "We first load the required libraries. If you have not installed sounddevice, you will get an error when running the next cell. You can install sounddevice either\n",
        "1. through **anaconda's** graphical user interface,\n",
        "2. via `pip` in a terminal window, or\n",
        "3. or via `conda` in a terminal window\n",
        "\n",
        "Please go to the [installation instructions](https://python-sounddevice.readthedocs.io/en/0.3.14/installation.html) to see more details."
      ]
    },
    {
      "cell_type": "code",
      "metadata": {
        "id": "JtnAWiO59yWj",
        "outputId": "eca99a1b-7426-4f38-ce0e-17b90fe1121a",
        "colab": {
          "base_uri": "https://localhost:8080/"
        }
      },
      "source": [
        "!sudo apt-get install libportaudio2\n",
        "!pip install sounddevice\n",
        "%matplotlib inline\n",
        "import numpy as np\n",
        "import matplotlib.pyplot as plt\n",
        "import sounddevice as sd"
      ],
      "execution_count": 2,
      "outputs": [
        {
          "output_type": "stream",
          "text": [
            "Reading package lists... Done\n",
            "Building dependency tree       \n",
            "Reading state information... Done\n",
            "The following NEW packages will be installed:\n",
            "  libportaudio2\n",
            "0 upgraded, 1 newly installed, 0 to remove and 29 not upgraded.\n",
            "Need to get 64.6 kB of archives.\n",
            "After this operation, 215 kB of additional disk space will be used.\n",
            "Get:1 http://archive.ubuntu.com/ubuntu bionic/universe amd64 libportaudio2 amd64 19.6.0-1 [64.6 kB]\n",
            "Fetched 64.6 kB in 1s (87.1 kB/s)\n",
            "debconf: unable to initialize frontend: Dialog\n",
            "debconf: (No usable dialog-like program is installed, so the dialog based frontend cannot be used. at /usr/share/perl5/Debconf/FrontEnd/Dialog.pm line 76, <> line 1.)\n",
            "debconf: falling back to frontend: Readline\n",
            "debconf: unable to initialize frontend: Readline\n",
            "debconf: (This frontend requires a controlling tty.)\n",
            "debconf: falling back to frontend: Teletype\n",
            "dpkg-preconfigure: unable to re-open stdin: \n",
            "Selecting previously unselected package libportaudio2:amd64.\n",
            "(Reading database ... 160975 files and directories currently installed.)\n",
            "Preparing to unpack .../libportaudio2_19.6.0-1_amd64.deb ...\n",
            "Unpacking libportaudio2:amd64 (19.6.0-1) ...\n",
            "Setting up libportaudio2:amd64 (19.6.0-1) ...\n",
            "Processing triggers for libc-bin (2.27-3ubuntu1.2) ...\n",
            "/sbin/ldconfig.real: /usr/local/lib/python3.7/dist-packages/ideep4py/lib/libmkldnn.so.0 is not a symbolic link\n",
            "\n",
            "Collecting sounddevice\n",
            "  Downloading https://files.pythonhosted.org/packages/3d/e9/cf30f70b81c1a7fa97598d2e89fddb16ab798ca6d64182aa8cd2d66794a4/sounddevice-0.4.1-py3-none-any.whl\n",
            "Requirement already satisfied: CFFI>=1.0 in /usr/local/lib/python3.7/dist-packages (from sounddevice) (1.14.5)\n",
            "Requirement already satisfied: pycparser in /usr/local/lib/python3.7/dist-packages (from CFFI>=1.0->sounddevice) (2.20)\n",
            "Installing collected packages: sounddevice\n",
            "Successfully installed sounddevice-0.4.1\n"
          ],
          "name": "stdout"
        }
      ]
    },
    {
      "cell_type": "markdown",
      "metadata": {
        "id": "m5ZA1uYc9yWk"
      },
      "source": [
        "## Selecting the sound card\n",
        "We might sometimes have access to multiple sound cards so we first have to choose which one we wish. To see the sound cards, we have access to, run the following cell."
      ]
    },
    {
      "cell_type": "code",
      "metadata": {
        "id": "PlNie8ws9yWk",
        "outputId": "e6fd37d8-ba29-4323-ed6e-e79508c666e2",
        "colab": {
          "base_uri": "https://localhost:8080/"
        }
      },
      "source": [
        "deviceList  = sd.query_devices()\n",
        "print(deviceList)"
      ],
      "execution_count": 7,
      "outputs": [
        {
          "output_type": "stream",
          "text": [
            "\n"
          ],
          "name": "stdout"
        }
      ]
    },
    {
      "cell_type": "markdown",
      "metadata": {
        "id": "Xd2rLc5a9yWl"
      },
      "source": [
        "When you run the cell above, a list of devices including some information will be printed out. A `*` in the margin will indicate the default device. The default device (input, output) can also be seen by running:"
      ]
    },
    {
      "cell_type": "code",
      "metadata": {
        "id": "0izCExKC9yWl",
        "outputId": "54b16ae3-f26a-44cc-d2d3-bee4979a62dd",
        "colab": {
          "base_uri": "https://localhost:8080/"
        }
      },
      "source": [
        "print(sd.default.device)"
      ],
      "execution_count": 6,
      "outputs": [
        {
          "output_type": "stream",
          "text": [
            "[-1, -1]\n"
          ],
          "name": "stdout"
        }
      ]
    },
    {
      "cell_type": "markdown",
      "metadata": {
        "id": "tV1AXw1V9yWl"
      },
      "source": [
        "Each element in the `deviceList` list is a Python dictionary. Thus, if you only want to know the default sampling frequency of your first device, you have to run:"
      ]
    },
    {
      "cell_type": "code",
      "metadata": {
        "id": "ZImDf-DY9yWm",
        "outputId": "91fa2152-0b6f-4c2b-c849-e17049d95187",
        "colab": {
          "base_uri": "https://localhost:8080/",
          "height": 183
        }
      },
      "source": [
        "# print default sampling frequency in Hz of the first device\n",
        "print(deviceList[0]['default_samplerate']) "
      ],
      "execution_count": 8,
      "outputs": [
        {
          "output_type": "error",
          "ename": "IndexError",
          "evalue": "ignored",
          "traceback": [
            "\u001b[0;31m---------------------------------------------------------------------------\u001b[0m",
            "\u001b[0;31mIndexError\u001b[0m                                Traceback (most recent call last)",
            "\u001b[0;32m<ipython-input-8-f5689b6139fe>\u001b[0m in \u001b[0;36m<module>\u001b[0;34m()\u001b[0m\n\u001b[1;32m      1\u001b[0m \u001b[0;31m# print default sampling frequency in Hz of the first device\u001b[0m\u001b[0;34m\u001b[0m\u001b[0;34m\u001b[0m\u001b[0;34m\u001b[0m\u001b[0m\n\u001b[0;32m----> 2\u001b[0;31m \u001b[0mprint\u001b[0m\u001b[0;34m(\u001b[0m\u001b[0mdeviceList\u001b[0m\u001b[0;34m[\u001b[0m\u001b[0;36m0\u001b[0m\u001b[0;34m]\u001b[0m\u001b[0;34m[\u001b[0m\u001b[0;34m'default_samplerate'\u001b[0m\u001b[0;34m]\u001b[0m\u001b[0;34m)\u001b[0m\u001b[0;34m\u001b[0m\u001b[0;34m\u001b[0m\u001b[0m\n\u001b[0m",
            "\u001b[0;31mIndexError\u001b[0m: tuple index out of range"
          ]
        }
      ]
    },
    {
      "cell_type": "markdown",
      "metadata": {
        "id": "4P5iZjNB9yWm"
      },
      "source": [
        "Please read through the [documentation of query_devices](https://python-sounddevice.readthedocs.io/en/0.3.11/#sounddevice.query_devices) to make yourself familiar with what the output means.\n",
        "\n",
        "Once we have listed the devices, we will now select and set-up the device, we wish to use. We can do this by running the following cell."
      ]
    },
    {
      "cell_type": "code",
      "metadata": {
        "id": "M4C_SslJ9yWm"
      },
      "source": [
        "samplingFreq = 48000 # Hz\n",
        "recDeviceName = 'default'\n",
        "playDeviceName = 'default'\n",
        "# the default sampling frequency when nothing is specified (typical values are 44100 and 48000)\n",
        "sd.default.samplerate = samplingFreq\n",
        "# use None if you wish to disable the input or output\n",
        "sd.default.device = (recDeviceName, playDeviceName)\n",
        "# number of input and output channels to use (if you want to specify which channel number to use, see the `mapping` argument)\n",
        "sd.default.channels = (1,2)"
      ],
      "execution_count": null,
      "outputs": []
    },
    {
      "cell_type": "markdown",
      "metadata": {
        "id": "_8ct3mkf9yWn"
      },
      "source": [
        "## Recording of audio data \n",
        "To get audio data on your computer, we need the following basic elements:\n",
        "1. A microphone: converts pressure variations into voltage variations\n",
        "2. Microphone pre-amplifier: amplifies the microphone signal to the so-called line level which is expected by the A/D-converter\n",
        "3. A/D-converver: converts the analogue voltage signal into a gigital signal\n",
        "4. Sound card: acts as the interface between the computer and the A/D-converter.\n",
        "\n",
        "Note that some or all of these elements might be integrated in the same device. For example, all these things are most likely integrated into your computer.\n",
        "\n",
        "Let us make a 5 second recording and plot it."
      ]
    },
    {
      "cell_type": "code",
      "metadata": {
        "id": "fX63i5F09yWn",
        "outputId": "83363332-d322-48c2-f96a-d7c7086afce9"
      },
      "source": [
        "recTime = 5 # s\n",
        "# note that we use the default setup specified above\n",
        "micData = sd.rec(recTime*samplingFreq)\n",
        "# wait for the recording to finish\n",
        "sd.wait()\n",
        "# plot the recorded sound\n",
        "timeVector = np.arange(recTime*samplingFreq)/samplingFreq\n",
        "plt.figure(figsize=(10,4))\n",
        "plt.plot(timeVector, micData, lineWidth=2)\n",
        "plt.xlim((timeVector[0],timeVector[-1]))\n",
        "plt.xlabel('$t$ [s]')\n",
        "plt.ylabel('$x(t)$ [$\\cdot$]')\n",
        "plt.grid(True)"
      ],
      "execution_count": null,
      "outputs": [
        {
          "output_type": "display_data",
          "data": {
            "image/png": "[encoded data removed]",
            "text/plain": [
              "<Figure size 720x288 with 1 Axes>"
            ]
          },
          "metadata": {
            "tags": [],
            "needs_background": "light"
          }
        }
      ]
    },
    {
      "cell_type": "markdown",
      "metadata": {
        "id": "vSUERYhh9yWn"
      },
      "source": [
        "## Playback of audio data \n",
        "To play audio data from your computer, we need the following basic elements:\n",
        "1. Sound card: acts as the interface between the computer and the D/A-converter.\n",
        "2. D/A-converter: converts a digital signal to a voltage (analogue signal)\n",
        "3. Amplifier: amplifies the voltage\n",
        "4. Loudspeaker: converts the amplified voltage into pressure variations \n",
        "\n",
        "Note that some or all of these elements might be integrated in the same device. For example, all these things are most likely integrated into your computer.\n",
        "\n",
        "Let us now play back what you just recorded on the left channel and a 1 kHz sine tone on the right channel."
      ]
    },
    {
      "cell_type": "code",
      "metadata": {
        "id": "BJmAoSwi9yWo"
      },
      "source": [
        "sinusoid = 0.02*np.sin(2*np.pi*1000*timeVector)\n",
        "# the reshape command makes the sinusoid into a column vector (same as micData)\n",
        "concatenatedData = np.append(micData, np.reshape(sinusoid,(-1,1)), axis=1)\n",
        "# note that we use the default setup specified above\n",
        "sd.play(concatenatedData)"
      ],
      "execution_count": null,
      "outputs": []
    },
    {
      "cell_type": "markdown",
      "metadata": {
        "id": "CbtONdFK9yWo"
      },
      "source": [
        "## Simultaneous playback and recording\n",
        "This is your job. By using the soundmodule's [documentation](https://python-sounddevice.readthedocs.io/en/0.3.14/usage.html) and the information provided here, please do the following.\n",
        "1. Write a function that will playback a 440 Hz sinusoid while also recording it. The duration should be 10 seconds.\n",
        "2. Plot the played back and recorded sinusoid on top of each other. Do they differ in terms of amplitude, phase, and/or frequency? Why/why not?\n",
        " \n",
        "Tip: use sounddevice's `playrec` function."
      ]
    },
    {
      "cell_type": "markdown",
      "metadata": {
        "id": "CSPkodX49yWo"
      },
      "source": [
        "## Frame-based audio processing\n",
        "In many situations, we wish to simultaneously process data and playback/record it. This can also be done using sounddevice, but is slightly more involved. You have to look into `streams`. If you have more time, you can start playing around with it. Start by reading this [description of callback streams](https://python-sounddevice.readthedocs.io/en/0.3.14/usage.html#callback-streams)."
      ]
    }
  ]
}