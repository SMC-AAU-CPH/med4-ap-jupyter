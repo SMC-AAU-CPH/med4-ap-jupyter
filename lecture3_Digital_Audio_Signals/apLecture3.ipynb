{
  "nbformat": 4,
  "nbformat_minor": 0,
  "metadata": {
    "celltoolbar": "Slideshow",
    "kernelspec": {
      "name": "python3",
      "display_name": "Python 3"
    },
    "toc": {
      "base_numbering": 1,
      "nav_menu": {},
      "number_sections": true,
      "sideBar": true,
      "skip_h1_title": true,
      "title_cell": "Table of Contents",
      "title_sidebar": "Contents",
      "toc_cell": true,
      "toc_position": {},
      "toc_section_display": true,
      "toc_window_display": false
    },
    "colab": {
      "name": "apLecture3.ipynb",
      "provenance": [],
      "toc_visible": true
    }
  },
  "cells": [
    {
      "cell_type": "markdown",
      "metadata": {
        "id": "odZq7fqcnuq1"
      },
      "source": [
        "Lecture 3: Digital Audio Signals\n",
        "Audio Processing, MED4, Aalborg University, 2021\n",
        "\n",
        "By Jesper Kjær Nielsen (jkn@create.aau.dk) and Cumhur Erkut (cer@create.aau.dk)"
      ]
    },
    {
      "cell_type": "markdown",
      "metadata": {
        "id": "2jp4jNyUnuq7"
      },
      "source": [
        "Central aspects of the course\n",
        "- [x] What is sound?\n",
        "- [x] How is sound generated?\n",
        "- [ ] **How is sound turned into signals (i.e., data) on a computer?**\n",
        "- [ ] How can we analyse these signals (i.e. extract information from them)?\n",
        "- [ ] How can we modify these signals?\n",
        "<center>\n",
        "<img src=\"https://github.com/SMC-AAU-CPH/med4-ap-jupyter/blob/main/lecture3_Digital_Audio_Signals/figures/apOverview.png?raw=1\" alt=\"Course overview\" width=\"100%\"/>\n",
        "</center>\n"
      ]
    },
    {
      "cell_type": "markdown",
      "metadata": {
        "id": "lY1Vkhjynuq9"
      },
      "source": [
        "# Sampling and reconstruction\n",
        "In the next 20 minutes, you will learn\n",
        "- What a **continuous-time** signal is.\n",
        "- What a **discrete-time** signal is.\n",
        "- How you turn a continuous-time signal into a discrete-time signal (i.e., **sampling**).\n",
        "- How you turn a discrete-time signal into a continuous-time signal (i.e., **reconstruction**)."
      ]
    },
    {
      "cell_type": "markdown",
      "metadata": {
        "id": "MHi5YpbNnuq9"
      },
      "source": [
        "In the figure below, the following is happening:\n",
        "1. An audio signal $p_\\text{i}(t)$ is propagating through the air as **pressure variations**.\n",
        "2. The microphone picks up the pressure variations and turns them into **voltage variations** $v_\\text{i}(t)$.\n",
        "3. The voltage is converted into a series of numbers $x_n$ via **sampling**.\n",
        "4. A voltage signal $v_\\text{o}(t)$ is **reconstructed** from the series of numbers $x_n$.\n",
        "5. A loudspeakers converts the voltage variations into pressure variations $p_\\text{o}(t)$.\n",
        "\n",
        "<center>\n",
        "<img src=\"https://github.com/SMC-AAU-CPH/med4-ap-jupyter/blob/main/lecture3_Digital_Audio_Signals/figures/samplingReconstructionIllustration.png?raw=1\" alt=\"Illustration of sampling and reconstruction\" width=\"80%\"/>\n",
        "</center>"
      ]
    },
    {
      "cell_type": "markdown",
      "metadata": {
        "id": "Q2CMHZxynuq-"
      },
      "source": [
        "## Continuous-time signal\n",
        "A **continuous-time** signal is characterised by\n",
        "- **time**: the signal has a value $x(t)$ for every possible time $t$\n",
        "- **amplitude**: the signal value $x(t)$ can take on any value from a continuum of numbers (such as the real numbers).\n",
        "\n",
        "A continuous-time signal is often also referred to as an **analog signal**.\n",
        "\n",
        "<center>\n",
        "<img src=\"https://github.com/SMC-AAU-CPH/med4-ap-jupyter/blob/main/lecture3_Digital_Audio_Signals/figures/continuousTimeSignal.png?raw=1\" alt=\"Continuous-time signal\" width=\"80%\"/>\n",
        "</center>\n",
        "\n",
        "Informally: You draw a continuous-time signal without lifting your pen from the paper."
      ]
    },
    {
      "cell_type": "markdown",
      "metadata": {
        "id": "O1NO96g0nuq_"
      },
      "source": [
        "## Sampling\n",
        "- Storing a continuous-time signal on a computer requires an infinite amount of memory!\n",
        "- Solution: We only measure the value of a continuous-time signal every $T_\\text{s}$ seconds. This is called **sampling**.\n",
        "- A very important quantity is\n",
        "$$\n",
        "    f_\\text{s} = 1/T_\\text{s}\n",
        "$$\n",
        "where\n",
        " - $f_\\text{s}$ is the **sampling frequency** (measured in Hz) and describes how many times per second the continuous-time signal is sampled\n",
        " - $T_\\text{s}$ is the **sampling time** (measured in seconds).\n",
        "\n",
        "<center>\n",
        "<img src=\"https://github.com/SMC-AAU-CPH/med4-ap-jupyter/blob/main/lecture3_Digital_Audio_Signals/figures/samplingContinuousTimeSignal.png?raw=1\" alt=\"Sampling continuous-time signal\" width=\"80%\"/>\n",
        "</center>"
      ]
    },
    {
      "cell_type": "markdown",
      "metadata": {
        "id": "Omj3iJtpnuq_"
      },
      "source": [
        "We can illustrate sampling by a person controlling a contact (see figure below):\n",
        "1. When $T_\\text{s}$ seconds has passed, the contact is pushed and released immidiately.\n",
        "2. At that exact time instant, the value of the continuous-time signal $x(T_\\text{s})$ is stored on the computer.\n",
        "3. After another $T_\\text{s}$ seconds, the contact is again pushed and released immidiately so that $x(2T_\\text{s})$ is now stored.\n",
        "4. If we keep pushing/relasing the contact every $T_\\text{s}$ seconds, we will after $n$ times store the signal value $x(t_n)$ where\n",
        "$$\n",
        "    t_n = nT_\\text{s} = n/f_\\text{s}\\ .\n",
        "$$\n",
        "The scaler $n$ is often referred to as the **sampling index**.\n",
        "\n",
        "Note that people often write $x(t_n)$ as\n",
        "$$\n",
        "    x(t_n) = x_n = x[n]\\ .\n",
        "$$\n",
        "\n",
        "<center>\n",
        "<img src=\"https://github.com/SMC-AAU-CPH/med4-ap-jupyter/blob/main/lecture3_Digital_Audio_Signals/figures/samplingIllustration.png?raw=1\" alt=\"Illustration of sampling\" width=\"80%\"/>\n",
        "</center>"
      ]
    },
    {
      "cell_type": "markdown",
      "metadata": {
        "id": "rXn9OXwqnurA"
      },
      "source": [
        "## Discrete-time signal\n",
        "A **discrete-time** signal is characterised by\n",
        "- **time**: the signal only has a value $x_n$ at certain times, i.e., $t_n=nT_\\text{s}$ for $n=\\cdots,-3,-2,1,0,1,2,3,\\cdots$. Therefore, the $x$-axis is often the sampling index $n$ instead of time.\n",
        "- **amplitude**: the signal value $x_n$ can take on any value from a continuum of numbers (such as the real numbers).\n",
        "\n",
        "A discrete-time signal is sometimes also referred to as a **digital signal** (although we will use this term for something slightly different later).\n",
        "\n",
        "<center>\n",
        "<img src=\"https://github.com/SMC-AAU-CPH/med4-ap-jupyter/blob/main/lecture3_Digital_Audio_Signals/figures/discreteTimeSignal.png?raw=1\" alt=\"Discrete-time signal\" width=\"80%\"/>\n",
        "</center>\n",
        "\n",
        "Informally: A discrete-time signal is a series of time-ordered numbers."
      ]
    },
    {
      "cell_type": "markdown",
      "metadata": {
        "id": "vT2QXJRTnurA"
      },
      "source": [
        "## Reconstruction\n",
        "If we want to play back a discrete-time signal on, e.g., a loudspeaker, we have to convert the discrete-time signal back into a continuous-time signal.\n",
        "- Converting a discrete-time signal $x_n$ into a continuous-time signal $x(t)$ is called **reconstruction**.\n",
        "- Reconstruction is performed using two components:\n",
        " - **hold circuit**: holds a value $x_n$ for $T_\\text{s}$ seconds. This will create a **staircase** signal.\n",
        " - **post filter**: smooth out the discountinuities in the staircase signal by using a low-pass filter with a cut-off frequency of $f_\\text{s}/2$ Hz.\n",
        "\n",
        "<center>\n",
        "<img src=\"https://github.com/SMC-AAU-CPH/med4-ap-jupyter/blob/main/lecture3_Digital_Audio_Signals/figures/reconstructionIllustration.png?raw=1\" alt=\"Illustration of reconstruction\" width=\"80%\"/>\n",
        "</center>\n",
        "\n",
        "---\n",
        "Note that we will talk much more about filtering in the next lectures."
      ]
    },
    {
      "cell_type": "markdown",
      "metadata": {
        "id": "j5ODGo_hnurB"
      },
      "source": [
        "## Summary\n",
        "1. A **continuous-time** signal $x(t)$ can be drawn without lifting the pen from the paper.\n",
        "2. A **discrete-time** signal $x_n = x(t_n)$ is a series of time-ordered numbers.\n",
        "3. **Sampling** converts a $x(t)$ into $x_n$ by measuring the value of $x(t)$ at the times\n",
        "$$\n",
        "    t_n = nT_\\text{s} = n/f_\\text{s}\n",
        "$$\n",
        "where\n",
        " - $n$ is the **sampling index**\n",
        " - $T_\\text{s}$ is the **sampling time**\n",
        " - $f_\\text{s}=1/T_\\text{s}$ is the **sampling frequency**\n",
        "4. **Reconstruction** converts $x_n$ into $x(t)$ by first creating a staircase signal from $x_n$ and then by filtering this staircase signal with a low-pass filter.\n"
      ]
    },
    {
      "cell_type": "markdown",
      "metadata": {
        "id": "FsZdzLg6nurB"
      },
      "source": [
        "## Assignment\n",
        "Assume that we have a continuous-time signal given by\n",
        "$$\n",
        "    x(t) = \\sin(2\\pi f t)\n",
        "$$\n",
        "where the frequency of the sinusoid is $f=1$ Hz.\n",
        "1. Sketch the signal from $t=-0.5$ s to $t= 2$ s.\n",
        "\n",
        "We now sample the signal with a sampling frequency of $f_\\text{s}=4$ Hz.\n",
        "2. What is the sampling time $T_\\text{s}$?\n",
        "3. Sketch the sampled signal $x_n$ (in a new plot with the time index $n$ on the $x$-axis).\n",
        "4. Sketch the staircase signal $x_\\text{sc}(t)$ from $x_n$.\n",
        "5. Repeat 2. to 4. with a sampling frequency of $f_\\text{s}=1$ Hz.\n"
      ]
    },
    {
      "cell_type": "markdown",
      "metadata": {
        "id": "xK3niBqRnurB"
      },
      "source": [
        "# Aliasing\n",
        "In the next 20 minutes, you will learn\n",
        "- How we write a discrete-time sinusoid.\n",
        "- What aliasing is.\n",
        "- How we can avoid aliasing by selecting the sampling frequency $f_\\text{s}$.\n",
        "- What an anti-aliasing filter is and why we need it."
      ]
    },
    {
      "cell_type": "markdown",
      "metadata": {
        "id": "sKzKNH7UnurC"
      },
      "source": [
        "### Discrete-time sinusoid\n",
        "As we have seen in the first two lectures, a continuous-time sinusoid can be written as\n",
        "$$\n",
        "    x(t) = A\\cos(\\Omega t+\\psi)\n",
        "$$\n",
        "where\n",
        "- $A\\geq 0$ is an amplitude\n",
        "- $\\Omega=2\\pi f$ is a frequency measured in rad/s\n",
        "- $\\psi$ is the inial phase.\n",
        "\n",
        "Let us now sample this signal with a sampling frequency of $f_\\text{s}$ Hz. We then get the discrete-time sinusoid\n",
        "\\begin{align}\n",
        "    x_n &= x(t_n) = x(n/f_\\text{s}) = A\\cos(\\Omega n/f_\\text{s}+\\psi) = A\\cos((2\\pi f/f_\\text{s}) n+\\psi)\\\\\n",
        "    &= A\\cos(\\omega n+\\psi)\n",
        "\\end{align}\n",
        "where\n",
        "- $\\omega = \\Omega f_\\text{s}= 2\\pi f/f_\\text{s}$ is the **digital frequency** measured in **radians/sample**.\n",
        "\n",
        "For a discrete-time signal, $\\omega = 2\\pi$ corresponds to the sampling frequency, and we will also write this frequency as $\\omega_\\text{s}$."
      ]
    },
    {
      "cell_type": "markdown",
      "metadata": {
        "id": "IWhtAexunurC"
      },
      "source": [
        "## What is Aliasing?\n",
        "- **Aliasing** comes from the word **alias**.\n",
        "- It refers to that a sinusoidal component of one frequency is 'disguising' itself as a sinusoidal component with another frequency.\n",
        "\n",
        "As an example, let us try to sample the three continuous-time sinusoids\n",
        "\\begin{align}\n",
        "    x(t) &= \\cos(2\\pi f t)\\\\\n",
        "    y(t) &= \\cos(2\\pi (f_\\text{s}-f) t)\n",
        "\\end{align}\n",
        "using a sampling frequency of $f_\\text{s}$ Hz."
      ]
    },
    {
      "cell_type": "markdown",
      "metadata": {
        "id": "euWqIlfinurC"
      },
      "source": [
        "For the first sinusoid, we get that\n",
        "$$\n",
        "    x_n = \\cos(\\omega n)\\ .\n",
        "$$\n",
        "\n",
        "For the second sinusoid, we get that\n",
        "\\begin{align}\n",
        "    y_n &= \\cos((\\omega_\\text{s}-\\omega) n) = \\text{Re}\\left[\\mathrm{e}^{j(\\omega_\\text{s}-\\omega) n}\\right] = \\text{Re}\\left[\\mathrm{e}^{j\\omega_\\text{s} n}\\mathrm{e}^{-j\\omega n}\\right]\n",
        "\\end{align}\n",
        "However, we have that\n",
        "$$\n",
        "    \\mathrm{e}^{j\\omega_\\text{s}n} = \\mathrm{e}^{j2\\pi n} = \\cos(2\\pi n)+j\\sin(2\\pi n) = 1\n",
        "$$\n",
        "for all time indices $n$ since $n$ is an integer. This means that\n",
        "$$\n",
        "    y_n = \\text{Re}\\left[\\mathrm{e}^{-j\\omega n}\\right] = \\cos(-\\omega n) = \\cos(\\omega n)\n",
        "$$\n",
        "which is exactly the same as $x_n$."
      ]
    },
    {
      "cell_type": "markdown",
      "metadata": {
        "id": "qCPjX0CmnurC"
      },
      "source": [
        "**Observation:** Even though the continuous time signals $x(t)$ and $y(t)$ have **different frequencies**, the discrete-time signals $x_n$ and $y_n$ have the **same digital frequency**.\n",
        "\n",
        "Some consequences:\n",
        "- Reconstructing a continuous-time signal from $y_n$ results in $x(t)$ - not $y(t)$.\n",
        "- We say that $y(t)$ has been **aliased** when we cannot recover it again after sampling it.\n",
        "- A discrete-time sinusoid of digital frequency $\\omega=2\\pi f/f_\\text{s}$, could be a sampled continuous-time sinusoid given by\n",
        "$$\n",
        "    y(t) = A\\cos((\\Omega+k2\\pi f_\\text{s})t + \\psi)\n",
        "$$\n",
        "for any integer $k$."
      ]
    },
    {
      "cell_type": "markdown",
      "metadata": {
        "id": "YCha-e7hnurD"
      },
      "source": [
        "<center>\n",
        "<img src=\"https://github.com/SMC-AAU-CPH/med4-ap-jupyter/blob/main/lecture3_Digital_Audio_Signals/figures/aliasingExample.png?raw=1\" alt=\"Example of aliasing\" width=\"80%\"/>\n",
        "</center>"
      ]
    },
    {
      "cell_type": "code",
      "metadata": {
        "id": "b3XZmhAWnurD",
        "outputId": "e5676b1d-32e5-4fd1-b69f-41930d3163e5",
        "colab": {
          "base_uri": "https://localhost:8080/",
          "height": 392
        }
      },
      "source": [
        "%matplotlib inline\n",
        "import numpy as np\n",
        "import matplotlib.pyplot as plt\n",
        "\n",
        "def sinusoid(samplingIndices, digitalFreq):\n",
        "    '''Compute a cosine'''\n",
        "    return np.cos(2*np.pi*digitalFreq*samplingIndices)\n",
        "\n",
        "nData = 100\n",
        "samplingFreq = 100 # Hz\n",
        "samplingTime = 1/samplingFreq # s\n",
        "samplingIndices = np.arange(nData)\n",
        "time = samplingIndices*samplingTime\n",
        "freqA = 10 # Hz\n",
        "freqB = 5 # Hz (samplingFreq-freqA)\n",
        "\n",
        "# plot the results\n",
        "plt.figure(figsize=(10,6))\n",
        "plt.plot(time, sinusoid(samplingIndices,freqA/samplingFreq), linewidth=2, marker='o', label=\"$x(t)$\")\n",
        "plt.plot(time, sinusoid(samplingIndices,freqB/samplingFreq), linewidth=2, marker='o', label=\"$y(t)$\")\n",
        "plt.legend()\n",
        "plt.xlim((time[0],time[nData-1])), plt.ylim((-1.5,1.5))\n",
        "plt.xlabel('time [s]'), plt.ylabel('Amplitude [.]');"
      ],
      "execution_count": 2,
      "outputs": [
        {
          "output_type": "display_data",
          "data": {
            "image/png": "[encoded data removed]",
            "text/plain": [
              "<Figure size 720x432 with 1 Axes>"
            ]
          },
          "metadata": {
            "tags": [],
            "needs_background": "light"
          }
        }
      ]
    },
    {
      "cell_type": "markdown",
      "metadata": {
        "id": "XdrBJIdXnurF"
      },
      "source": [
        "## Nyquist-Shannon sampling theorem\n",
        "To avoid aliasing, the maximum frequency $f_\\text{max}$ in a continuous-time signal must satisfy that\n",
        "$$\n",
        "    2f_\\text{max} < f_\\text{s}\n",
        "$$\n",
        "where $f_\\text{s}$ is the sampling frequency.\n",
        "\n",
        "We can satisfy the sampling theorem in two ways:\n",
        "1. Select the sampling frequency $f_\\text{s}$ high enough\n",
        "2. Pre-filter the continuous-time signal with a low-pass filter (a so-called **anti-aliasing filter**) with a cut-off frequency below $f_\\text{s}/2$."
      ]
    },
    {
      "cell_type": "markdown",
      "metadata": {
        "id": "AuVw2Rf9nurF"
      },
      "source": [
        "### Typical sampling frequencies used for recording audio\n",
        "| Application | Sampling frequency $f_\\text{s}$ |\n",
        "|-------------|---------------------------------|\n",
        "|CD           | 44100 Hz|\n",
        "|Narrowband speech| 8000 Hz|\n",
        "|Widebannd speech, VoIP| 16000 Hz|\n",
        "|Video recorders| 48000 Hz|\n",
        "|DVD-audio and Blu-ray| 96000 and 192000 Hz|"
      ]
    },
    {
      "cell_type": "markdown",
      "metadata": {
        "id": "nmxTpqqWnurF"
      },
      "source": [
        "## Anti-aliasing filter\n",
        "- Often, we do not know the highest frequency $f_\\text{max}$ in our input signal.\n",
        "- Instead, we simply filter out all frequency content above $f_\\text{s}/2$ to avoid aliasing.\n",
        "- This filter is called an **anti-aliasing filter** and is present in all practical sampling blocks.\n",
        "<center>\n",
        "<img src=\"https://github.com/SMC-AAU-CPH/med4-ap-jupyter/blob/main/lecture3_Digital_Audio_Signals/figures/ap3SamplingAntiAliasing.png?raw=1\" alt=\"Illustration of filtering and sampling\" width=\"80%\"/>\n",
        "</center>"
      ]
    },
    {
      "cell_type": "markdown",
      "metadata": {
        "id": "_pxFNJGpnurF"
      },
      "source": [
        "### Aliasing also occours in videos and images\n",
        "<br />\n",
        "<center>\n",
        "<a href=\"http://www.youtube.com/watch?feature=player_embedded&v=ttgLyWFINJI\n",
        "\" target=\"_blank\"><img src=\"http://img.youtube.com/vi/ttgLyWFINJI/0.jpg\" \n",
        "alt=\"Taylor series\" width=\"480\" height=\"360\" border=\"10\" /></a>\n",
        "</center>"
      ]
    },
    {
      "cell_type": "markdown",
      "metadata": {
        "id": "ZsflIgYunurF"
      },
      "source": [
        "<center>\n",
        "<img src=\"https://svi.nl/wikiimg/StFargeaux_kasteel_buiten1_aliased.jpg\" alt=\"Image example of aliasing\" width=\"80%\"/>\n",
        "</center>"
      ]
    },
    {
      "cell_type": "markdown",
      "metadata": {
        "id": "JBKYTMjknurG"
      },
      "source": [
        "## Summary\n",
        "1. A discrete-time sinusoid is written as\n",
        "$$\n",
        "    x_n = A\\cos(\\omega n +\\psi)\n",
        "$$\n",
        "where $A$ and $\\psi$ have the same meaning as for the continuous-time sinusoid and\n",
        "- $\\omega = 2\\pi f/f_\\text{s}$ is the **digital frequency** and measured in rad/sample\n",
        "- $f_\\text{s}$ is the **sampling frequency** measured in Hz.\n",
        "2. Aliasing refers to when the frequency of a sinusoid is lowered due to undersampling the signal.\n",
        "3. To avoid aliasing, we must satisfy **Nyquist's sampling theorem** stating that\n",
        "$$\n",
        "    2f_\\text{max} < f_\\text{s}\n",
        "$$\n",
        "where $f_\\text{max}$ is the maximum frequency in the continuous-time input signal.\n",
        "4. We can limit the maximum frequency of a continuous-time input signal by passing it through an **anti-aliasing filter**. This filter, which is a low-pass filter, ensures that aliasing does not occur."
      ]
    },
    {
      "cell_type": "markdown",
      "metadata": {
        "id": "pEnwlQv7nurG"
      },
      "source": [
        "# Binary numbers\n",
        "In the next 20 minutes, you will learn\n",
        "- What a binary number is\n",
        "- What a bit and a byte is\n",
        "- How you store data on, e.g., a computer or a CD\n",
        "- To get the following slightly geeky joke :)\n",
        "\n",
        "> There are 10 types of people in this world.\n",
        "> Those who understand binary numbers and those who don't!"
      ]
    },
    {
      "cell_type": "markdown",
      "metadata": {
        "id": "oNUWi_ttnurG"
      },
      "source": [
        "## The decimal numer systems\n",
        "We are used to the decimal number system where we encounter numbers such 3, 42, and 89809.\n",
        "\n",
        "Let's look at the example\n",
        "$$\n",
        "    1314\\ .\n",
        "$$\n",
        "We can make the following observations about this decimal number:\n",
        "- The number consists of four symbols, each called a **digit**\n",
        "- Each digit can be one of ten possible symbols (either 0, 1, 2, 3, 4, 5, 6, 7, 8, or 9).\n",
        "- The order of the digits matter. For example, the right-most one in 1314 represents the number of 10s whereas the left-most one represents the number of 1000s. A number system with ordering is called a **positional number system**."
      ]
    },
    {
      "cell_type": "markdown",
      "metadata": {
        "id": "nZ1-2HOwnurG"
      },
      "source": [
        "We can rewrite the decimal number 1314 as\n",
        "\\begin{align}\n",
        "    1314 &= 1000 + 300 + 10 + 4\\\\\n",
        "         &= 1\\cdot 1000 + 3\\cdot 100 + 1\\cdot 10 + 4\\cdot 1\\\\\n",
        "         &= 1\\cdot 10^3 + 3\\cdot 10^2 + 1\\cdot 10^1 + 4\\cdot 10^0\\ .\n",
        "\\end{align}\n",
        "\n",
        "In general, we can write an $N$ digit decimal number $d_{N-1}d_{N-2}\\cdots d_2d_1d_0$ as\n",
        "$$\n",
        "    d_{N-1}d_{N-2}\\cdots d_2d_1d_0 = \\sum_{n=0}^{N-1}d_n10^n\\ .\n",
        "$$\n",
        "\n",
        "Note that\n",
        "- $d_n\\in\\{0,1,2,3,4,5,6,7,8,9\\}$\n",
        "- 10 is the number of symbols that $d_n$ can take on and is called the **base** of the decimal number system."
      ]
    },
    {
      "cell_type": "markdown",
      "metadata": {
        "id": "XLNhaSnYnurG"
      },
      "source": [
        "Let us now allow for an arbitrary base $b$. Then we can write numbers as\n",
        "$$\n",
        "    d_{N-1}d_{N-2}\\cdots d_2d_1d_0 = \\sum_{n=0}^{N-1} d_n b^n\n",
        "$$\n",
        "where\n",
        "- $d_n\\in\\{0,1,\\ldots,b-1\\}$ \n",
        "- $b$ is the base of the number.\n",
        "\n",
        "For different values of $b$, we get different number systems. Some examples are\n",
        "- $b=10$: The **decimal number system** with possible symbols 0,1,2,3,4,5,6,7,8,9\n",
        "- $b=2$: The **binary number system** with possible symbols 0,1\n",
        "- $b=16$: The **hexadecimal number system** with possible symbols 0,1,2,3,4,5,6,7,8,9, A, B, C, D, E, F"
      ]
    },
    {
      "cell_type": "markdown",
      "metadata": {
        "id": "TLh9ssY1nurG"
      },
      "source": [
        "## The binary number system\n",
        "A binary number \n",
        "- has base 2 and\n",
        "- is written only in terms of 0s and 1s.\n",
        "\n",
        "An example of a binary number is \n",
        "$$\n",
        "    0110\\ 1101_2\n",
        "$$\n",
        "where the subscript 2 is here only added to make it explicit that $0110\\ 1101$ is a binary number.\n",
        "\n",
        "Note that\n",
        "- a 'digit' in a binary number is called a **bit**\n",
        "- a collection of 8 bits is called a **byte** with symbol B\n",
        "- a computer represents everything (numbers, colours, text, etc.) as binary numbers\n",
        "\n",
        "Thus, the binary number $0110\\ 1101_2$ has 8 bits and 1 byte (or 1 B)"
      ]
    },
    {
      "cell_type": "markdown",
      "metadata": {
        "id": "McJjcZ6gnurH"
      },
      "source": [
        "### Converting binary numbers to decimal numbers\n",
        "To convert from a binary number to a decimal number, we simple use the expression\n",
        "$$\n",
        "    d_{N-1}d_{N-2}\\cdots d_2d_1d_0 = \\sum_{n=0}^{N-1} d_n b^n\\ .\n",
        "$$\n",
        "\n",
        "As an example, we get that $1101_2$ converts to\n",
        "\\begin{align}\n",
        "    1101_2 &= 1\\cdot 2^3 + 1\\cdot 2^2 + 0\\cdot 2^1 + 1\\cdot 2^0\\\\\n",
        "    &= 1 \\cdot 8 + 1 \\cdot 4 + 0\\cdot 2 + 1\\cdot 1\\\\\n",
        "    &= 13_{10}\\ .\n",
        "\\end{align}\n",
        "\n",
        "Converting from decimal numbers to binary numbers is also possible, but is not covered here."
      ]
    },
    {
      "cell_type": "markdown",
      "metadata": {
        "id": "O9B04BvKnurH"
      },
      "source": [
        "### Adding binary numbers\n",
        "You do it exactly as you learned in 2nd grade with decimal numbers. That is,\n",
        "- $0_2+0_2 = 0_2$\n",
        "- $0_2+1_2 = 1_2$\n",
        "- $1_2+1_2 = 0_2$ with $1_2$ in carry\n",
        "\n",
        "Using these three rules, we obtain\n",
        "$$\n",
        "\\begin{array}[t]{r}\n",
        "    0100\\ 1001_2 \\\\\n",
        "+ \\ 0111\\ 1100_2 \\\\ \\hline\n",
        "    1100\\ 0101_2\n",
        "\\end{array}\n",
        "$$"
      ]
    },
    {
      "cell_type": "markdown",
      "metadata": {
        "id": "cQzemcg3nurH"
      },
      "source": [
        "### Example: Representing text using binary numbers\n",
        "<center>\n",
        "<img src=\"https://github.com/SMC-AAU-CPH/med4-ap-jupyter/blob/main/lecture3_Digital_Audio_Signals/figures/ascii.png?raw=1\" alt=\"ASCII characters\" width=\"100%\"/>\n",
        "</center"
      ]
    },
    {
      "cell_type": "markdown",
      "metadata": {
        "id": "JJW_D6jbnurH"
      },
      "source": [
        "### Example: Storing data on a disc\n",
        "Information is stored by making tiny indentations known as **pits** on a disc.\n",
        "- A pit represents a 0\n",
        "- The opposite of a pit (called land) represents a 1\n",
        "<center>\n",
        "<img src=\"https://github.com/SMC-AAU-CPH/med4-ap-jupyter/blob/main/lecture3_Digital_Audio_Signals/figures/pits.jpg?raw=1\" alt=\"ASCII characters\" width=\"100%\"/>\n",
        "</center"
      ]
    },
    {
      "cell_type": "markdown",
      "metadata": {
        "id": "pGhvTd6WnurI"
      },
      "source": [
        "- The binary data is stored along one long spiral on the disc.\n",
        " - **CD**: The spiral is 5.7 km long\n",
        " - **DVD**: The spiral is 12.3 km long\n",
        " - **Blu-ray**: The spiral is 28.4 km long\n",
        "- A laser is used for reading the binary data by following this spiral path.\n",
        "\n",
        "<br />\n",
        "<center>\n",
        "<img src=\"https://github.com/SMC-AAU-CPH/med4-ap-jupyter/blob/main/lecture3_Digital_Audio_Signals/figures/spiral.jpg?raw=1\" alt=\"ASCII characters\" width=\"40%\"/>\n",
        "</center"
      ]
    },
    {
      "cell_type": "markdown",
      "metadata": {
        "id": "ZIgxeubdnurI"
      },
      "source": [
        "## Summary\n",
        "1. A binary number\n",
        " - only contains 0s and 1s\n",
        " - consists of bits\n",
        "2. A collection of eight bit is called a **byte**\n",
        "3. Everything (numbers, text, images, video, audio, etc.) is stored and manipulated as binary numbers on a computer\n",
        "4. The following slightly geeky joke is now funny ;)\n",
        "\n",
        "> There are 10 types of people in this world.\n",
        "> Those who understand binary numbers and those who don't!"
      ]
    },
    {
      "cell_type": "markdown",
      "metadata": {
        "id": "DWWmkyx8nurI"
      },
      "source": [
        "## Assignment\n",
        "1. Convert the following binary numbers to decimal numbers: $10_2$, $110_2$, and $0101_2$.\n",
        "2. How many different binary numbers could you write with 4 bits?\n",
        "3. How many bits can be stored on a 700 GB harddrive?\n",
        "4. If you have an internet connection with a download speed of 10 Mbit/s, how much time does it then take to download a 100 MB file?\n",
        "\n",
        "---\n",
        "Bonus info:\n",
        "1. With base $b=2$, a binary number can be written as\n",
        "$$\n",
        "    d_{N-1}d_{N-2}\\cdots d_2d_1d_0 = \\sum_{n=0}^{N-1} d_n b^n\\ .\n",
        "$$\n",
        "2. G means billion ($10^9$), M means million ($10^6$), k means thousand ($10^3$), and B means byte (8 bit)\n"
      ]
    },
    {
      "cell_type": "markdown",
      "metadata": {
        "id": "hkM4gsDenurI"
      },
      "source": [
        "# Quantisation\n",
        "In the next 20 minutes, you will learn\n",
        "- What quantisation is and why it is necessary\n",
        "- How you will typically do it\n",
        "- What signal-to-noise ratio (SNR) and dynamic range is"
      ]
    },
    {
      "cell_type": "markdown",
      "metadata": {
        "id": "ldJ5OAxxnurI"
      },
      "source": [
        "## Example: Storing $\\pi$ on a computer\n",
        "How would you store $\\pi$ (or other irrational numbers) on a computer?\n",
        "<br />\n",
        "<center>\n",
        "<img src=\"https://www.shakespearegeek.com/wp-content/uploads/2017/03/enhanced-buzz-25261-1363280735-6.jpg\" alt=\"Digits of pi\" width=\"70%\"/>\n",
        "</center"
      ]
    },
    {
      "cell_type": "markdown",
      "metadata": {
        "id": "e2ecXWo_nurI"
      },
      "source": [
        "- It requires an **infinite** amount of memory to store $\\pi$ on a computer.\n",
        "- Therefore, we have to store an approximation to $\\pi$ with only a **finite** number of digits. Let us call this approximation $p$.\n",
        "- The approximation error $e$ can be written as\n",
        "$$\n",
        "    e = \\pi-p\\ .\n",
        "$$\n",
        "\n",
        "**Example**: Let $p$ contain only the first two digits of $\\pi$ after the comma (i.e., $p=3.14$). Then\n",
        "$$\n",
        "    e = \\pi-p = \\pi-3.14 = 0.001592653589\\ldots\n",
        "$$\n",
        "\n",
        "We say that we have rounded of (or **quantized**) $\\pi$ to its nearest two-digits-after-the-comma representation."
      ]
    },
    {
      "cell_type": "markdown",
      "metadata": {
        "id": "TFjWw8rHnurJ"
      },
      "source": [
        "## The need for quantisation\n",
        "Sampling converts a continuous-time signal into a discrete-time signal. That is, we go from an infinite number of time values to a finite number of time values.\n",
        "\n",
        "<center>\n",
        "<img src=\"https://github.com/SMC-AAU-CPH/med4-ap-jupyter/blob/main/lecture3_Digital_Audio_Signals/figures/ap3SamplingAntiAliasing.png?raw=1\" alt=\"Illustration of sampling\" width=\"80%\"/>\n",
        "</center>"
      ]
    },
    {
      "cell_type": "markdown",
      "metadata": {
        "id": "n-ew1LhonurJ"
      },
      "source": [
        "However, we also have to do something about the signal value $x(t_n)=x_n$ for every sampling time, so that we can store this number on the computer using a finite number of digits. This is called **quantisation**.\n",
        "\n",
        "<center>\n",
        "<img src=\"https://github.com/SMC-AAU-CPH/med4-ap-jupyter/blob/main/lecture3_Digital_Audio_Signals/figures/ap3AdcIllustration.png?raw=1\" alt=\"Illustration of ADC\" width=\"90%\"/>\n",
        "</center>"
      ]
    },
    {
      "cell_type": "markdown",
      "metadata": {
        "id": "3NPkBMMynurJ"
      },
      "source": [
        "## Uniform quantisation\n",
        "Assume that we sample the signal value $x_n$ and that\n",
        "- the signal value is in the interval $(-\\alpha,\\alpha)$\n",
        "- we have $\\beta$ bits available for storing this signal value.\n",
        "Note that we can represent $2^\\beta$ different values with $\\beta$ bits.\n",
        "\n",
        "We now do the following.\n",
        "1. Divide the interval $(-\\alpha,\\alpha)$ into $2^\\beta$ equally large cells, each of size\n",
        "$$\n",
        "    \\Delta = \\frac{\\alpha-(-\\alpha)}{2^\\beta} = \\frac{2\\alpha}{2^\\beta} = \\frac{\\alpha}{2^{\\beta-1}}\\ .\n",
        "$$\n",
        "2. Round (or **quantise**) the signal value $x_n$ to the value $y_n$ at the nearest cell boundary, i.e., \n",
        "$$\n",
        "    y_n = Q(x_n) = \\Delta \\left\\lfloor\\frac{x_n}{\\Delta}\\right\\rceil = \\Delta \\left\\lfloor\\frac{x_n}{\\Delta}+\\frac{1}{2}\\right\\rfloor\n",
        "$$\n",
        "where $\\lfloor\\cdot\\rceil$ and $\\lfloor\\cdot\\rfloor$ refer to the rounding and flooring operations, respectively."
      ]
    },
    {
      "cell_type": "markdown",
      "metadata": {
        "id": "ux2jISGunurJ"
      },
      "source": [
        "### Example: 3 bit quantisation\n",
        "In the figure below, the continuous-time signal (dashed gray) is first sampled (green) and then quantised (orange) using a three bit quantiser. The horisontal dashed red lines mark the quantisation levels. The final bit stream is\n",
        "$$\n",
        "    100\\ 110\\ 111\\ 111\\ 111\\ 110\\ 110\\ 100\\ 011\\ 010\\ 001\\ 001\\ .\n",
        "$$\n",
        "<center>\n",
        "<img src=\"https://github.com/SMC-AAU-CPH/med4-ap-jupyter/blob/main/lecture3_Digital_Audio_Signals/figures/ap3ThreeBitQuantisation.png?raw=1\" alt=\"Three bit quantisation\" width=\"70%\"/>\n",
        "</center>"
      ]
    },
    {
      "cell_type": "markdown",
      "metadata": {
        "id": "BxJvOYiZnurJ"
      },
      "source": [
        "## Quantisation error\n",
        "The quantisation error $e_n$ is the difference between the signal value $x_n$ and its rounded value $y_n=Q(x_n)$, i.e.,\n",
        "$$\n",
        "    e_n = x_n-Q(x_n)\\ .\n",
        "$$\n",
        "\n",
        "We can rearrange this into\n",
        "$$\n",
        "    Q(x_n) = x_n+e_n\\ .\n",
        "$$\n",
        "That is, we can think of quantisation as **adding an error** to the signal value $x_n$.\n",
        "\n",
        "<center>\n",
        "<img src=\"https://github.com/SMC-AAU-CPH/med4-ap-jupyter/blob/main/lecture3_Digital_Audio_Signals/figures/ap3QuantiserBlock.png?raw=1\" alt=\"Quantisation block\" width=\"40%\"/>\n",
        "</center>"
      ]
    },
    {
      "cell_type": "markdown",
      "metadata": {
        "id": "51YsXFDTnurJ"
      },
      "source": [
        "A measure of quantisation quality is how big the average power of $e_n$ is compared to the average power of $x_n$. The average power of, e.g., $e_n$ is defined as\n",
        "$$\n",
        "    P_e = \\frac{1}{N}\\sum_{n=0}^{N-1} e_n^2\\ .\n",
        "$$\n",
        "\n",
        "If we define $P_x$ in a similar way, the signal-to-noise ratio (SNR) is defined as\n",
        "$$\n",
        "    \\text{SNR} = 10\\log_{10}\\frac{P_x}{P_e}\\ ,\n",
        "$$\n",
        "and it is measured in decibel (dB)."
      ]
    },
    {
      "cell_type": "markdown",
      "metadata": {
        "id": "qSP-x-1YnurJ"
      },
      "source": [
        "Now, assume that \n",
        "- the signal values $x_n$ take on values in $(-\\alpha,\\alpha)$ equally often (a uniform distribution)\n",
        "- the quantisation errors $e_n$ take on values in $(-\\Delta/2,\\Delta/2)$ equally often (a uniform distribution)\n",
        "\n",
        "We then get\n",
        "\\begin{align}\n",
        "    P_x &= \\frac{(2\\alpha)^2}{12} = \\frac{\\alpha^2}{3}\\\\\n",
        "    P_e &= \\frac{\\Delta^2}{12} = \\frac{1}{12}\\left(\\frac{\\alpha}{2^{\\beta-1}}\\right)^2\\ .\n",
        "\\end{align}\n",
        "These results can be derived by computing the variance of a uniform distribution."
      ]
    },
    {
      "cell_type": "markdown",
      "metadata": {
        "id": "OZDcfSgTnurK"
      },
      "source": [
        "Finally, we get the SNR\n",
        "\\begin{align}\n",
        "    \\text{SNR} &= 10\\log_{10}\\frac{P_x}{P_e} = 10\\log_{10}\\left(\\frac{\\alpha^2}{3}12\\left(\\frac{2^{\\beta-1}}{\\alpha}\\right)^2\\right)\\\\\n",
        "    &= 10\\log_{10}\\left(2^{2\\beta}\\right) = \\beta 20 \\log_{10} 2 \\approx 6\\beta\\ .\n",
        "\\end{align}\n",
        "\n",
        "Thus, for every additional bit, the SNR is improved by approximately 6 dB."
      ]
    },
    {
      "cell_type": "markdown",
      "metadata": {
        "id": "z6_c4UCGnurK"
      },
      "source": [
        "## Dynamic range\n",
        "The **dynamic range** is the ratio between the loudest and softest values we can represent using a $\\beta$ bit quantiser.\n",
        "- **Softest value**: $1$\n",
        "- **Loudest value**: $2^\\beta$\n",
        "\n",
        "The dynamic range of a quantiser is thus\n",
        "$$\n",
        "    \\text{DR} = 10\\log_{10}\\left(\\left(\\frac{2^\\beta}{1}\\right)^2\\right) = 10\\log_{10}\\left(2^{2\\beta}\\right) = \\beta 20 \\log_{10} 2 \\approx 6\\beta\\ .\n",
        "$$\n",
        "\n",
        "Thus, we get a dynamic range of 96 dB for a 16 bit quantiser (typical CD quality) and 144 dB for a 24 bit quantiser. Note that the dynamic range of the human ear is approximately 120 dB."
      ]
    },
    {
      "cell_type": "markdown",
      "metadata": {
        "id": "Oiil3EBGnurK"
      },
      "source": [
        "## Summary\n",
        "1. A quantiser rounds the signal values to a value on a grid.\n",
        "2. All the points of the grid can be represented using $\\beta$ bits which results in $2^\\beta$ possible values.\n",
        "3. Quantisation introduces noise into the digital signal. The signal-to-noise ratio (SNR) describes how powerful the signal is compared to this quantisation noise.\n",
        "4. The SNR (and dynamic range) depends on the number of bits used as\n",
        "$$\n",
        "    \\beta20\\log_{10} \\approx 6\\beta\\ .\n",
        "$$"
      ]
    },
    {
      "cell_type": "markdown",
      "metadata": {
        "id": "_0wEyOzW3uj_"
      },
      "source": [
        "## Assignment\n",
        "Think of ways for increasing the dynamic range without increasing the number of the bits. *Hint* = Could non-uniform quantisation work?"
      ]
    }
  ]
}