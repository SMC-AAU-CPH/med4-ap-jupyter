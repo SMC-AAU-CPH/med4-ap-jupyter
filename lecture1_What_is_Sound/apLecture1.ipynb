{
 "cells": [
  {
   "cell_type": "markdown",
   "metadata": {
    "slideshow": {
     "slide_type": "slide"
    }
   },
   "source": [
    "# Lecture 1: What is Sound?\n",
    "Audio Processing, MED4, Aalborg University, 2021\n",
    " \n",
    "- Jesper Kjær Nielsen (jkn@create.aau.dk), Audio Analysis Lab, Aalborg University, and\n",
    "- Cumhur Erkut (cer@create.aau.dk), Multisensory Experience Lab, Aalborg University"
   ]
  },
<<<<<<< HEAD
  "cells": [
    {
      "cell_type": "markdown",
      "metadata": {
        "id": "h-1dxc_NszSu"
      },
      "source": [
        "# Lecture 1: What is Sound?\n",
        "Audio Processing, MED4, Aalborg University, 2021\n",
        "\n",
        "Jesper Kjær Nielsen (jekjaer@gmail.com) and Cumhur Erkut (cer@create.aau.dk), Aalborg University"
      ]
    },
    {
      "cell_type": "markdown",
      "metadata": {
        "toc": true,
        "toc-hr-collapsed": false,
        "id": "tvwuJNReszSz"
      },
      "source": [
       "<h1>Table of Contents<span class=\"tocSkip\"></span></h1>\n",
       "<div class=\"toc\"><ul class=\"toc-item\"><li><span><a href=\"#Sound-and-simple-vibrations\" data-toc-modified-id=\"Sound-and-simple-vibrations-1\"><span class=\"toc-item-num\">1&nbsp;&nbsp;</span>Sound and simple vibrations</a></span><ul class=\"toc-item\"><li><span><a href=\"#What-is-sound?\" data-toc-modified-id=\"What-is-sound?-1.1\"><span class=\"toc-item-num\">1.1&nbsp;&nbsp;</span>What is sound?</a></span></li><li><span><a href=\"#Human-hearing\" data-toc-modified-id=\"Human-hearing-1.2\"><span class=\"toc-item-num\">1.2&nbsp;&nbsp;</span>Human hearing</a></span></li><li><span><a href=\"#Sinusoids\" data-toc-modified-id=\"Sinusoids-1.3\"><span class=\"toc-item-num\">1.3&nbsp;&nbsp;</span>Sinusoids</a></span></li><li><span><a href=\"#Summary1\" data-toc-modified-id=\"Summary-1.4\"><span class=\"toc-item-num\">1.4&nbsp;&nbsp;</span>Summary</a></span></li></ul></li><li><span><a href=\"#Complex-numbers\" data-toc-modified-id=\"Complex-numbers-2\"><span class=\"toc-item-num\">2&nbsp;&nbsp;</span>Complex numbers</a></span><ul class=\"toc-item\"><li><span><a href=\"#The-need-for-complex-numbers\" data-toc-modified-id=\"The-need-for-complex-numbers-2.1\"><span class=\"toc-item-num\">2.1&nbsp;&nbsp;</span>The need for complex numbers</a></span></li><li><span><a href=\"#The-complex-number\" data-toc-modified-id=\"The-complex-number-2.2\"><span class=\"toc-item-num\">2.2&nbsp;&nbsp;</span>The complex number</a></span></li><li><span><a href=\"#Summary2\" data-toc-modified-id=\"Summary-2.3\"><span class=\"toc-item-num\">2.3&nbsp;&nbsp;</span>Summary</a></span></li><li><span><a href=\"#Additional-information-on-complex-numbers\" data-toc-modified-id=\"Additional-information-on-complex-numbers-2.4\"><span class=\"toc-item-num\">2.4&nbsp;&nbsp;</span>Additional information on complex numbers</a></span></li><li><span><a href=\"#Exit-Question\" data-toc-modified-id=\"Exit-Question-2.5\"><span class=\"toc-item-num\">2.5&nbsp;&nbsp;</span>Exit Question</a></span></li></ul></li><li><span><a href=\"#Phasors\" data-toc-modified-id=\"Phasors-3\"><span class=\"toc-item-num\">3&nbsp;&nbsp;</span>Phasors</a></span><ul class=\"toc-item\"><li><span><a href=\"#The-polar-(or-exponential)-form-of-a-complex-number\" data-toc-modified-id=\"The-polar-(or-exponential)-form-of-a-complex-number-3.1\"><span class=\"toc-item-num\">3.1&nbsp;&nbsp;</span>The polar (or exponential) form of a complex number</a></span></li><li><span><a href=\"#The-phasor\" data-toc-modified-id=\"The-phasor-3.2\"><span class=\"toc-item-num\">3.2&nbsp;&nbsp;</span>The phasor</a></span></li><li><span><a href=\"#Summary3\" data-toc-modified-id=\"Summary-3.3\"><span class=\"toc-item-num\">3.3&nbsp;&nbsp;</span>Summary</a></span></li></ul></li></ul></div>"]
    },
    {
      "cell_type": "markdown",
      "metadata": {
        "ExecuteTime": {
          "end_time": "2019-01-11T14:57:09.249670Z",
          "start_time": "2019-01-11T14:57:09.210499Z"
        },
        "id": "eGUIoPn2szS0"
      },
      "source": [
        "## Sound and simple vibrations\n",
        "In the next 20 minutes, you will learn\n",
        "- What sound is and how it propagates\n",
        "- How humans perceive sound\n",
        "- What a sinusoid is\n",
        "- that striking a bar creates a sinusoidal sound"
      ]
    },
    {
      "cell_type": "markdown",
      "metadata": {
        "toc-hr-collapsed": true,
        "id": "bP7jVg1eszS1"
      },
      "source": [
        "<a name=\"What-is-sound?\"></a>\n",
        "### What is sound?"
      ]
    },
    {
      "cell_type": "code",
      "metadata": {
        "id": "hM6HXpdVszS6",
        "outputId": "e2d0fe45-511b-47a8-a0e2-2963c035da50",
        "colab": {
          "base_uri": "https://localhost:8080/",
          "height": 320
        }
      },
      "source": [
        "from IPython.display import display, YouTubeVideo, Image\n",
        "YouTubeVideo('GkNJvZINSEY')"
      ],
      "execution_count": 18,
      "outputs": [
        {
          "output_type": "execute_result",
          "data": {
            "text/html": [
              "\n",
              "        <iframe\n",
              "            width=\"400\"\n",
              "            height=\"300\"\n",
              "            src=\"https://www.youtube.com/embed/GkNJvZINSEY\"\n",
              "            frameborder=\"0\"\n",
              "            allowfullscreen\n",
              "        ></iframe>\n",
              "        "
            ],
            "text/plain": [
              "<IPython.lib.display.YouTubeVideo at 0x7f21813e6c50>"
            ],
            "image/jpeg": "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\n"
          },
          "metadata": {
            "tags": []
          },
          "execution_count": 18
        }
      ]
    },
    {
      "cell_type": "markdown",
      "metadata": {
        "id": "dGPyFIbPszS8"
      },
      "source": [
        "Sound is a **vibration** which travels through a medium as\n",
        "- **longitudinal** waves: gasses (e.g., air), liquids (e.g., water), and solids (e.g., concrete)\n",
        "- **transversal** sound waves: solids (e.g., concrete)\n",
        "\n",
        "The **speed of sound** depends on the medium. In, e.g., air at room temperature, it is approximately 343 m/s."
      ]
    },
    {
      "cell_type": "markdown",
      "metadata": {
        "id": "v_SCHtUEszS8"
      },
      "source": [
        "Sound is normally divided into three types:\n",
        "1. Infrasound: Sound with frequencies up to 20 Hz\n",
        "2. Audible sound: Sound with frequencies in range 20 Hz - 20 kHz (this is often referred to as **audio**)\n",
        "3. Ultra sound: Sound with frequencies above 20 kHz\n"
      ]
    },
    {
      "cell_type": "markdown",
      "metadata": {
        "ExecuteTime": {
          "end_time": "2019-01-15T07:38:35.046925Z",
          "start_time": "2019-01-15T07:38:35.043165Z"
        },
        "toc-hr-collapsed": true,
        "id": "1uGDXHdIszS9"
      },
      "source": [
        "<a name=\"Human-hearing\"></a>\n",
        "### Human hearing"
      ]
=======
  {
   "cell_type": "markdown",
   "metadata": {
    "slideshow": {
     "slide_type": "slide"
    },
    "toc": true,
    "toc-hr-collapsed": false
   },
   "source": [
    "<h1>Table of Contents<span class=\"tocSkip\"></span></h1>\n",
    "<div class=\"toc\"><ul class=\"toc-item\"><li><span><a href=\"#Sound-and-simple-vibrations\" data-toc-modified-id=\"Sound-and-simple-vibrations-1\"><span class=\"toc-item-num\">1&nbsp;&nbsp;</span>Sound and simple vibrations</a></span><ul class=\"toc-item\"><li><span><a href=\"#What-is-sound?\" data-toc-modified-id=\"What-is-sound?-1.1\"><span class=\"toc-item-num\">1.1&nbsp;&nbsp;</span>What is sound?</a></span></li><li><span><a href=\"#Human-hearing\" data-toc-modified-id=\"Human-hearing-1.2\"><span class=\"toc-item-num\">1.2&nbsp;&nbsp;</span>Human hearing</a></span></li><li><span><a href=\"#Sinusoids\" data-toc-modified-id=\"Sinusoids-1.3\"><span class=\"toc-item-num\">1.3&nbsp;&nbsp;</span>Sinusoids</a></span></li><li><span><a href=\"#Summary\" data-toc-modified-id=\"Summary-1.4\"><span class=\"toc-item-num\">1.4&nbsp;&nbsp;</span>Summary</a></span></li></ul></li><li><span><a href=\"#Complex-numbers\" data-toc-modified-id=\"Complex-numbers-2\"><span class=\"toc-item-num\">2&nbsp;&nbsp;</span>Complex numbers</a></span><ul class=\"toc-item\"><li><span><a href=\"#The-need-for-complex-numbers\" data-toc-modified-id=\"The-need-for-complex-numbers-2.1\"><span class=\"toc-item-num\">2.1&nbsp;&nbsp;</span>The need for complex numbers</a></span></li><li><span><a href=\"#The-complex-number\" data-toc-modified-id=\"The-complex-number-2.2\"><span class=\"toc-item-num\">2.2&nbsp;&nbsp;</span>The complex number</a></span></li><li><span><a href=\"#Summary\" data-toc-modified-id=\"Summary-2.3\"><span class=\"toc-item-num\">2.3&nbsp;&nbsp;</span>Summary</a></span></li><li><span><a href=\"#Additional-information-on-complex-numbers\" data-toc-modified-id=\"Additional-information-on-complex-numbers-2.4\"><span class=\"toc-item-num\">2.4&nbsp;&nbsp;</span>Additional information on complex numbers</a></span></li><li><span><a href=\"#Active-5-minutes-break\" data-toc-modified-id=\"Active-5-minutes-break-2.5\"><span class=\"toc-item-num\">2.5&nbsp;&nbsp;</span>Active 5 minutes break</a></span></li></ul></li><li><span><a href=\"#Phasors\" data-toc-modified-id=\"Phasors-3\"><span class=\"toc-item-num\">3&nbsp;&nbsp;</span>Phasors</a></span><ul class=\"toc-item\"><li><span><a href=\"#The-polar-(or-exponential)-form-of-a-complex-number\" data-toc-modified-id=\"The-polar-(or-exponential)-form-of-a-complex-number-3.1\"><span class=\"toc-item-num\">3.1&nbsp;&nbsp;</span>The polar (or exponential) form of a complex number</a></span></li><li><span><a href=\"#The-phasor\" data-toc-modified-id=\"The-phasor-3.2\"><span class=\"toc-item-num\">3.2&nbsp;&nbsp;</span>The phasor</a></span></li><li><span><a href=\"#Summary\" data-toc-modified-id=\"Summary-3.3\"><span class=\"toc-item-num\">3.3&nbsp;&nbsp;</span>Summary</a></span></li></ul></li></ul></div>"
   ]
  },
  {
   "cell_type": "markdown",
   "metadata": {
    "ExecuteTime": {
     "end_time": "2019-01-11T14:57:09.249670Z",
     "start_time": "2019-01-11T14:57:09.210499Z"
    },
    "slideshow": {
     "slide_type": "slide"
    }
   },
   "source": [
    "## Sound and simple vibrations\n",
    "In the next 20 minutes, you will learn\n",
    "- What sound is and how it propagates\n",
    "- How humans perceive sound\n",
    "- What a sinusoid is\n",
    "- that striking a bar creates a sinusoidal sound"
   ]
  },
  {
   "cell_type": "markdown",
   "metadata": {
    "slideshow": {
     "slide_type": "subslide"
>>>>>>> c09bf28 (RISE tests)
    },
    "toc-hr-collapsed": true
   },
   "source": [
    "### What is sound?"
   ]
  },
  {
   "cell_type": "code",
   "execution_count": 1,
   "metadata": {
    "slideshow": {
     "slide_type": "fragment"
    }
   },
   "outputs": [
    {
     "data": {
      "image/jpeg": "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\n",
      "text/html": [
       "\n",
       "        <iframe\n",
       "            width=\"400\"\n",
       "            height=\"300\"\n",
       "            src=\"https://www.youtube.com/embed/GkNJvZINSEY\"\n",
       "            frameborder=\"0\"\n",
       "            allowfullscreen\n",
       "        ></iframe>\n",
       "        "
      ],
      "text/plain": [
       "<IPython.lib.display.YouTubeVideo at 0x106dfa8e0>"
      ]
     },
     "execution_count": 1,
     "metadata": {},
     "output_type": "execute_result"
    }
   ],
   "source": [
    "from IPython.display import display, YouTubeVideo, Image\n",
    "YouTubeVideo('GkNJvZINSEY')"
   ]
  },
  {
   "cell_type": "markdown",
   "metadata": {
    "slideshow": {
     "slide_type": "fragment"
    }
   },
   "source": [
    "Sound is a **vibration** which travels through a medium as\n",
    "- **longitudinal** waves: gasses (e.g., air), liquids (e.g., water), and solids (e.g., concrete)\n",
    "- **transversal** sound waves: solids (e.g., concrete)\n",
    "\n",
    "The **speed of sound** depends on the medium. \n",
    "\n",
    "In air at room temperature, for example, it is approximately 343 m/s."
   ]
  },
  {
   "cell_type": "code",
   "execution_count": 7,
   "metadata": {
    "slideshow": {
     "slide_type": "fragment"
    }
   },
   "outputs": [
    {
<<<<<<< HEAD
      "cell_type": "markdown",
      "metadata": {
        "id": "Dn96daVBszS-"
      },
      "source": [
        "<a name=\"Sinusoids\"></a>\n",
        "### Sinusoids\n",
        "A sinusoid (or a sine wave) is given by\n",
        "$$\n",
        "    x(t) = A \\cos(\\Omega t + \\Phi)\n",
        "$$\n",
        "where\n",
        "- $A\\geq0$ is the **amplitude**\n",
        "- $\\Omega$ is the **frequency** measured in radians pr. second (SI symbol **rad/s**). Is related to the frequency $f$ measured in cycles pr. second (SI symbol **Hz**) via $\\Omega = 2\\pi f$.\n",
        "- $t$ is the **time** measured in seconds (SI symbol **s**)\n",
        "- $\\Phi$ is the **initial phase** measured in radians (SI symbol **rad**)"
=======
     "data": {
      "image/png": "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\n",
      "text/plain": [
       "<IPython.core.display.Image object>"
>>>>>>> c09bf28 (RISE tests)
      ]
     },
     "execution_count": 7,
     "metadata": {},
     "output_type": "execute_result"
    }
   ],
   "source": [
    "Image('apLecture1_files/wave.png')"
   ]
  },
  {
   "cell_type": "markdown",
   "metadata": {
    "slideshow": {
     "slide_type": "subslide"
    }
   },
   "source": [
    "Sound is normally divided into three types:\n",
    "1. *Infrasound*: Sound with frequencies up to 20 Hz\n",
    "2. *Audible sound*: Sound with frequencies in range 20 Hz - 20 kHz (*audio*)\n",
    "3. *Ultrasound*: Sound with frequencies above 20 kHz\n"
   ]
  },
  {
   "cell_type": "markdown",
   "metadata": {
    "ExecuteTime": {
     "end_time": "2019-01-15T07:38:35.046925Z",
     "start_time": "2019-01-15T07:38:35.043165Z"
    },
    "slideshow": {
     "slide_type": "slide"
    },
    "toc-hr-collapsed": true
   },
   "source": [
    "### Human hearing"
   ]
  },
  {
   "cell_type": "code",
   "execution_count": 3,
   "metadata": {
    "ExecuteTime": {
     "end_time": "2019-01-15T07:38:35.046925Z",
     "start_time": "2019-01-15T07:38:35.043165Z"
    },
    "slideshow": {
     "slide_type": "subslide"
    }
   },
   "outputs": [
    {
     "data": {
      "image/jpeg": "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\n",
      "text/html": [
       "\n",
       "        <iframe\n",
       "            width=\"400\"\n",
       "            height=\"300\"\n",
       "            src=\"https://www.youtube.com/embed/eQEaiZ2j9oc\"\n",
       "            frameborder=\"0\"\n",
       "            allowfullscreen\n",
       "        ></iframe>\n",
       "        "
      ],
<<<<<<< HEAD
      "execution_count": 11,
      "outputs": [
        {
          "output_type": "display_data",
          "data": {
            "image/png": "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\n",
            "text/plain": [
              "<Figure size 432x288 with 1 Axes>"
            ]
          },
          "metadata": {
            "tags": [],
            "needs_background": "light"
          }
        }
      ]
    },
    {
      "cell_type": "markdown",
      "metadata": {
        "id": "ZfEc1dckszS_"
      },
      "source": [
        "#### Example: Generation of a sinusoid from a vibrating bar\n",
        "<br />\n",
        "<center>\n",
        "<img src=\"https://upload.wikimedia.org/wikipedia/commons/thumb/7/72/Glockenspiel.jpg/1280px-Glockenspiel.jpg\" alt=\"Glockenspiel\" width=\"60%\" />\n",
        "</center>"
      ]
    },
    {
      "cell_type": "markdown",
      "metadata": {
        "id": "ONV082YRszS_"
      },
      "source": [
        "Assume that the act of striking a bar is modelled as **compressing a spring** in one dimension. From Hooke's law, this compresssion can be written as\n",
        "$$\n",
        "    F(t) = -k x(t)\n",
        "$$\n",
        "where\n",
        "- $F(t)$ is the **restoring force** measured in Newton (SI unit **N**)\n",
        "- $x(t)$ is the **displacement** measured in meters (SI unit **m**) of the string from its resting position\n",
        "- $k$ is the **spring constant** measured in N/m"
      ]
    },
    {
      "cell_type": "markdown",
      "metadata": {
        "id": "9I6kOAgwszS_"
      },
      "source": [
        "From **Newton's second law**, the force can also be expressed as\n",
        "$$\n",
        "    F(t) = ma(t)\n",
        "$$\n",
        "where\n",
        "- $m$ is the **mass** of the string measured in kilogram (SI unit **kg**)\n",
        "- $a(t)$ is the **acceleration** measured in m/s^2.\n",
        "The acceleration is related to the displacement $x(t)$ as\n",
        "$$\n",
        "    a(t) = \\frac{dv(t)}{dt} = \\frac{d^2 x(t)}{d t^2}\n",
        "$$\n",
        "where $v(t)$ is the **velocity** measured in m/s."
      ]
    },
    {
      "cell_type": "markdown",
      "metadata": {
        "id": "-5se3Rk4szS_"
      },
      "source": [
        "Combining these three equations gives\n",
        "$$\n",
        "    -k x(t) = F(t) = ma(t) = m \\frac{d^2 x(t)}{dt^2}\n",
        "$$\n",
        "which can be rewritten as\n",
        "$$\n",
        "    \\frac{d^2 x(t)}{dt^2} = -\\frac{k}{m} x(t)\\ .\n",
        "$$\n",
        "This is a constant-coefficient second-order differential equation."
      ]
    },
    {
      "cell_type": "markdown",
      "metadata": {
        "id": "3mJsI7zAszTA"
      },
      "source": [
        "Let us check if our sinusoid\n",
        "$$\n",
        "    x(t) = A\\cos(\\Omega t + \\Phi)\n",
        "$$\n",
        "is a solution to the above differential equation. Since\n",
        "\\begin{align}\n",
        "    \\frac{dx(t)}{dt} &= -\\Omega A\\sin(\\Omega t + \\Phi)\\\\\n",
        "    \\frac{d^2 x(t)}{d t^2} &= -\\Omega^2 A\\cos(\\Omega t + \\Phi) = -\\Omega^2 x(t)\\ ,\n",
        "\\end{align}\n",
        "we obtain\n",
        "$$\n",
        "    -\\Omega^2x(t) = -\\frac{k}{m} x(t)\\ .\n",
        "$$\n",
        "Thus, striking a bar will make it vibrate sinusoidally with the frequency\n",
        "$$\n",
        "    \\Omega = \\sqrt{k/m}\\ .\n",
        "$$\n",
        "This frequency can be changed by changing the spring constant and mass."
      ]
    },
    {
      "cell_type": "markdown",
      "metadata": {
        "id": "llN1avBAszTA"
      },
      "source": [
        "<a name=\"Summary1\"></a>\n",
        "### Summary\n",
        "- Sound is a vibration travelling through a medium.\n",
        "- Sound waves are longitudal waves (and also transversal waves when travelling through a solid).\n",
        "- The human ear converts pressure variations in the air to\n",
        " 1. mechanical movement (interface is the eardrum)\n",
        " 2. vibrations in a liquid (interface is the oval window)\n",
        " 3. electrical signal to the brain (interface is the haircells attached to the basilar membrane)\n",
        "- A sinusoid (or sine wave) is given by\n",
        "$$\n",
        "    x(t) = A\\cos(\\Omega t + \\Phi)\\ ,\n",
        "$$\n",
        "and it an extremely important building block (or atom) in analysing and manipulating sound.\n",
        "- Assuming that striking a bar can be modelled as compressing a spring, the bar will vibrate sinusoidally."
=======
      "text/plain": [
       "<IPython.lib.display.YouTubeVideo at 0x106e391c0>"
>>>>>>> c09bf28 (RISE tests)
      ]
     },
     "execution_count": 3,
     "metadata": {},
     "output_type": "execute_result"
    }
   ],
   "source": [
    "YouTubeVideo('eQEaiZ2j9oc') #2:27"
   ]
  },
  {
   "cell_type": "markdown",
   "metadata": {
    "ExecuteTime": {
     "end_time": "2019-01-15T07:38:35.046925Z",
     "start_time": "2019-01-15T07:38:35.043165Z"
    },
<<<<<<< HEAD
    {
      "cell_type": "markdown",
      "metadata": {
        "id": "WEGXavoNszTA"
      },
      "source": [
        "<a name=\"Complex-numbers\"></a>\n",
        "## Complex numbers\n",
        "In the next 20 minutes, you will learn\n",
        "- that the equation\n",
        "$$\n",
        "    x^2+1=0\n",
        "$$\n",
        "has two solutions\n",
        "- what a complex number is\n",
        "- how you add and multiply complex numbers"
      ]
    },
    {
      "cell_type": "markdown",
      "metadata": {
        "id": "k86PbqL_szTB"
      },
      "source": [
        "<a name=\"The-need-for-complex-numbers\"></a>\n",
        "### The need for complex numbers\n",
        "While the **linear** equation\n",
        "$$\n",
        "    x + 1 = 0\n",
        "$$\n",
        "can easily be solved, the simple **quadratic** equation\n",
        "$$\n",
        "    x^2 + 1 = 0\n",
        "$$\n",
        "was in high school said to have **no** solution since its descriminant was negative."
      ]
=======
    "slideshow": {
     "slide_type": "subslide"
    }
   },
   "source": [
    "The human ear consists of the following parts:\n",
    "- **Outer ear**: Everything on the outside of the ear drum, including the pinna\n",
    "- **Middle ear**: The three bones (Malleus, Incus, Stapes). What do they do?\n",
    "- **Inner ear**: The cochlea (Latin for what?) tube. What does the basilar membrane do inside? Hair cells?\n",
    "<center>\n",
    "<img src=\"https://www.hearinglink.org/wp-content/uploads/2016/02/Human-Ear-Diagram.jpg\" alt=\"Human ear\" width=\"65%\"/>\n",
    "</center>"
   ]
  },
  {
   "cell_type": "markdown",
   "metadata": {
    "ExecuteTime": {
     "end_time": "2019-01-15T07:38:35.046925Z",
     "start_time": "2019-01-15T07:38:35.043165Z"
    },
    "slideshow": {
     "slide_type": "subslide"
    }
   },
   "source": [
    "The human ear\n",
    "- does not hear all frequencies equally well\n",
    "- is most sensitive to frequencies around 4 kHz\n",
    "- is tuned to speech\n",
    "- has a really large dynamic range of up to ~120 dB (i.e., we can hear sound intensities up to ~10^12 the quietest sounds)\n",
    "<center>\n",
    "<img src=\"https://qph.fs.quoracdn.net/main-qimg-98ef07eac5bba8e7f571ecab93755d97\" alt=\"Human ear\" width=\"80%\"/>\n",
    "</center>"
   ]
  },
  {
   "cell_type": "markdown",
   "metadata": {
    "slideshow": {
     "slide_type": "slide"
    }
   },
   "source": [
    "### Sinusoids\n",
    "A sinusoid (or a sine wave) is given by\n",
    "$$\n",
    "    x(t) = A \\cos(\\Omega t + \\Phi)\n",
    "$$\n",
    "where\n",
    "- $A\\geq0$ is the **amplitude**\n",
    "- $\\Omega$ is the **frequency** measured in radians pr. second (SI symbol **rad/s**). Is related to the frequency $f$ measured in cycles pr. second (SI symbol **Hz**) via $\\Omega = 2\\pi f$.\n",
    "- $t$ is the **time** measured in seconds (SI symbol **s**)\n",
    "- $\\Phi$ is the **initial phase** measured in radians (SI symbol **rad**)"
   ]
  },
  {
   "cell_type": "markdown",
   "metadata": {
    "slideshow": {
     "slide_type": "fragment"
    }
   },
   "source": [
    "The above form of the sinusoid is often referred to as the **polar form**. By using the angle addition formula for a cosine, i.e.,\n",
    "\n",
    "$$\n",
    "    \\cos(\\theta+\\phi) = \\cos(\\theta)\\cos(\\phi)-\\sin(\\theta)\\sin(\\phi)\\ ,\n",
    "$$\n",
    "\n",
    "a sinusoid can also be written in a **rectangular form** as\n",
    "\n",
    "$$\n",
    "    x(t) = a\\cos(\\Omega t) + b\\sin(\\Omega t)\n",
    "$$\n",
    "\n",
    "where a and b are scalars given by\n",
    "\\begin{align}\n",
    "    a &= A\\cos(\\Phi)\\\\\n",
    "    b &= -A\\sin(\\Phi)\\ .\n",
    "\\end{align}"
   ]
  },
  {
   "cell_type": "markdown",
   "metadata": {
    "slideshow": {
     "slide_type": "subslide"
>>>>>>> c09bf28 (RISE tests)
    },
    "toc-hr-collapsed": true
   },
   "source": [
    "#### Numpy example: A sinusoid"
   ]
  },
  {
   "cell_type": "code",
   "execution_count": 9,
   "metadata": {
    "slideshow": {
     "slide_type": "subslide"
    }
   },
   "outputs": [
    {
     "data": {
      "image/png": "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\n",
      "text/plain": [
       "<Figure size 432x288 with 1 Axes>"
      ]
     },
     "metadata": {
      "needs_background": "light"
     },
     "output_type": "display_data"
    }
   ],
   "source": [
    "%matplotlib inline\n",
    "import numpy as np\n",
    "import matplotlib.pyplot as plt\n",
    "\n",
    "samplingFreq = 44100 # Hz\n",
    "nData = 2000\n",
    "time = np.arange(0,nData).T/samplingFreq # s\n",
    "\n",
    "# Generate a sinusoid\n",
    "amp = 1;\n",
    "freq = 100 # Hz\n",
    "initPhase = np.pi/2 # rad\n",
    "sinusoid = amp*np.cos(2*np.pi*freq*time+initPhase)\n",
    "\n",
    "# Plot the sinusoids\n",
    "plt.plot(time, sinusoid, lineWidth=2)\n",
    "plt.xlim((time[0],time[nData-1]))\n",
    "plt.ylim((-1,1))\n",
    "plt.xlabel('Time [s]')\n",
    "plt.ylabel('Amplitude [.]')\n",
    "plt.grid(True)"
   ]
  },
  {
   "cell_type": "markdown",
   "metadata": {
    "slideshow": {
     "slide_type": "slide"
    }
   },
   "source": [
    "#### Example: Generation of a sinusoid from a vibrating bar\n",
    "<br />\n",
    "<center>\n",
    "<img src=\"https://upload.wikimedia.org/wikipedia/commons/thumb/7/72/Glockenspiel.jpg/1280px-Glockenspiel.jpg\" alt=\"Glockenspiel\" width=\"60%\" />\n",
    "</center>"
   ]
  },
  {
   "cell_type": "markdown",
   "metadata": {
    "slideshow": {
     "slide_type": "slide"
    }
   },
   "source": [
    "Assume that the act of striking a bar is modelled as **compressing a spring** in one dimension. From Hooke's law, this compresssion can be written as\n",
    "$$\n",
    "    F(t) = -k x(t)\n",
    "$$\n",
    "where\n",
    "- $F(t)$ is the **restoring force** measured in Newton (SI unit **N**)\n",
    "- $x(t)$ is the **displacement** measured in meters (SI unit **m**) of the string from its resting position\n",
    "- $k$ is the **spring constant** measured in N/m"
   ]
  },
  {
   "cell_type": "markdown",
   "metadata": {
    "slideshow": {
     "slide_type": "slide"
    }
   },
   "source": [
    "From **Newton's second law**, the force can also be expressed as\n",
    "$$\n",
    "    F(t) = ma(t)\n",
    "$$\n",
    "where\n",
    "- $m$ is the **mass** of the string measured in kilogram (SI unit **kg**)\n",
    "- $a(t)$ is the **acceleration** measured in m/s^2.\n",
    "The acceleration is related to the displacement $x(t)$ as\n",
    "$$\n",
    "    a(t) = \\frac{dv(t)}{dt} = \\frac{d^2 x(t)}{d t^2}\n",
    "$$\n",
    "where $v(t)$ is the **velocity** measured in m/s."
   ]
  },
  {
   "cell_type": "markdown",
   "metadata": {
    "slideshow": {
     "slide_type": "slide"
    }
   },
   "source": [
    "Combining these three equations gives\n",
    "$$\n",
    "    -k x(t) = F(t) = ma(t) = m \\frac{d^2 x(t)}{dt^2}\n",
    "$$\n",
    "which can be rewritten as\n",
    "$$\n",
    "    \\frac{d^2 x(t)}{dt^2} = -\\frac{k}{m} x(t)\\ .\n",
    "$$\n",
    "This is a constant-coefficient second-order differential equation."
   ]
  },
  {
   "cell_type": "markdown",
   "metadata": {
    "slideshow": {
     "slide_type": "slide"
    }
   },
   "source": [
    "Let us check if our sinusoid\n",
    "$$\n",
    "    x(t) = A\\cos(\\Omega t + \\Phi)\n",
    "$$\n",
    "is a solution to the above differential equation. Since\n",
    "\\begin{align}\n",
    "    \\frac{dx(t)}{dt} &= -\\Omega A\\sin(\\Omega t + \\Phi)\\\\\n",
    "    \\frac{d^2 x(t)}{d t^2} &= -\\Omega^2 A\\cos(\\Omega t + \\Phi) = -\\Omega^2 x(t)\\ ,\n",
    "\\end{align}\n",
    "we obtain\n",
    "$$\n",
    "    -\\Omega^2x(t) = -\\frac{k}{m} x(t)\\ .\n",
    "$$\n",
    "Thus, striking a bar will make it vibrate sinusoidally with the frequency\n",
    "$$\n",
    "    \\Omega = \\sqrt{k/m}\\ .\n",
    "$$\n",
    "This frequency can be changed by changing the spring constant and mass."
   ]
  },
  {
   "cell_type": "markdown",
   "metadata": {
    "slideshow": {
     "slide_type": "slide"
    }
   },
   "source": [
    "### Summary\n",
    "- Sound is a vibration travelling through a medium.\n",
    "- Sound waves are longitudal waves (and also transversal waves when travelling through a solid).\n",
    "- The human ear converts pressure variations in the air to\n",
    " 1. mechanical movement (interface is the eardrum)\n",
    " 2. vibrations in a liquid (interface is the oval window)\n",
    " 3. electrical signal to the brain (interface is the haircells attached to the basilar membrane)\n",
    "- A sinusoid (or sine wave) is given by\n",
    "$$\n",
    "    x(t) = A\\cos(\\Omega t + \\Phi)\\ ,\n",
    "$$\n",
    "and it an extremely important building block (or atom) in analysing and manipulating sound.\n",
    "- Assuming that striking a bar can be modelled as compressing a spring, the bar will vibrate sinusoidally."
   ]
  },
  {
   "cell_type": "markdown",
   "metadata": {
    "slideshow": {
     "slide_type": "slide"
    }
   },
   "source": [
    "## Complex numbers\n",
    "In the next 20 minutes, you will learn\n",
    "- that the equation\n",
    "$$\n",
    "    x^2+1=0\n",
    "$$\n",
    "has two solutions\n",
    "- what a complex number is\n",
    "- how you add and multiply complex numbers"
   ]
  },
  {
   "cell_type": "markdown",
   "metadata": {
    "slideshow": {
     "slide_type": "slide"
    }
   },
   "source": [
    "### The need for complex numbers\n",
    "While the **linear** equation\n",
    "$$\n",
    "    x + 1 = 0\n",
    "$$\n",
    "can easily be solved, the simple **quadratic** equation\n",
    "$$\n",
    "    x^2 + 1 = 0\n",
    "$$\n",
    "was in high school said to have **no** solution since its descriminant was negative."
   ]
  },
  {
   "cell_type": "code",
   "execution_count": 4,
   "metadata": {},
   "outputs": [
    {
     "data": {
      "image/png": "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\n",
      "text/plain": [
       "<Figure size 432x288 with 1 Axes>"
      ]
     },
     "metadata": {
      "needs_background": "light"
     },
     "output_type": "display_data"
    }
   ],
   "source": [
    "%matplotlib inline\n",
    "import numpy as np\n",
    "import matplotlib.pyplot as plt\n",
    "\n",
    "nData = 100\n",
    "x = np.linspace(-2,2,nData)\n",
    "y = x**2+1\n",
    "plt.plot(x,y,linewidth=2)\n",
    "plt.xlabel('x')\n",
    "plt.ylabel('y')\n",
    "plt.ylim((-1,5))\n",
    "plt.grid(True);"
   ]
  },
  {
   "cell_type": "markdown",
   "metadata": {
    "slideshow": {
     "slide_type": "slide"
    }
   },
   "source": [
    "However, the quadratic equation can in fact be solved by using **complex numbers**."
   ]
  },
  {
   "cell_type": "code",
   "execution_count": 6,
   "metadata": {},
   "outputs": [
    {
     "data": {
      "image/jpeg": "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\n",
      "text/html": [
       "\n",
       "        <iframe\n",
       "            width=\"400\"\n",
       "            height=\"300\"\n",
       "            src=\"https://www.youtube.com/embed/T647CGsuOVU\"\n",
       "            frameborder=\"0\"\n",
       "            allowfullscreen\n",
       "        ></iframe>\n",
       "        "
      ],
<<<<<<< HEAD
      "execution_count": 13,
      "outputs": [
        {
          "output_type": "execute_result",
          "data": {
            "text/html": [
              "\n",
              "        <iframe\n",
              "            width=\"400\"\n",
              "            height=\"300\"\n",
              "            src=\"https://www.youtube.com/embed/T647CGsuOVU\"\n",
              "            frameborder=\"0\"\n",
              "            allowfullscreen\n",
              "        ></iframe>\n",
              "        "
            ],
            "text/plain": [
              "<IPython.lib.display.YouTubeVideo at 0x7f2181c0eda0>"
            ],
            "image/jpeg": "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\n"
          },
          "metadata": {
            "tags": []
          },
          "execution_count": 13
        }
      ]
    },
    {
      "cell_type": "markdown",
      "metadata": {
        "id": "6VBGIhAdszTC"
      },
      "source": [
        "Rearranging our simple **quadratic** equation gives\n",
        "$$\n",
        "    x^2 = -1\n",
        "$$\n",
        "which allows us to write the solution as\n",
        "$$\n",
        "    x = \\pm\\sqrt{-1} = \\pm j\n",
        "$$\n",
        "where\n",
        "$$\n",
        "    j = \\sqrt{-1}\n",
        "$$\n",
        "is the **imaginary unit**. This unit also satisfies that\n",
        "$$\n",
        "    j^2 = \\sqrt{-1}^2 = -1\\ .\n",
        "$$\n",
        "\n",
        "Note that\n",
        "- **engineers** normally use the symbol $j$ for the imaginary unit\n",
        "- **mathematicians** normally use the symbol $i$ for the imaginary unit."
      ]
    },
    {
      "cell_type": "markdown",
      "metadata": {
        "id": "MfImsVzcszTC"
      },
      "source": [
        "Let us now consider the quadratic equation\n",
        "$$\n",
        "    x^2 + 2x + 5 = 0\\ .\n",
        "$$\n",
        "\n",
        "We know from high school that the solutions to the general quadratic\n",
        "$$\n",
        "    ax^2 + bx + c = 0\\ ,\\qquad\\text{for }a\\neq0\n",
        "$$\n",
        "have the form\n",
        "$$\n",
        "    x = \\frac{-b\\pm\\sqrt{d}}{2a}\n",
        "$$\n",
        "where $d$ is the **discriminant** given by\n",
        "$$\n",
        "    d = b^2-4ac\\ .\n",
        "$$"
      ]
    },
    {
      "cell_type": "markdown",
      "metadata": {
        "ExecuteTime": {
          "end_time": "2019-01-16T09:50:09.956042Z",
          "start_time": "2019-01-16T09:50:09.949657Z"
        },
        "id": "DNxyt7oaszTC"
      },
      "source": [
        "We obtain\n",
        "$$\n",
        "    d = 4-20 = -16\n",
        "$$\n",
        "so that\n",
        "$$\n",
        "    x = \\frac{-2\\pm\\sqrt{-16}}{2} = -1\\pm\\frac{1}{2}\\sqrt{-1\\cdot 4^2} = -1\\pm 2\\sqrt{-1} = -1\\pm 2j\\ .\n",
        "$$\n",
        "Thus, the **complex numbers** $-1+2j$ and $-1-2j$ are the solutions."
      ]
    },
    {
      "cell_type": "markdown",
      "metadata": {
        "id": "ID37y192szTC"
      },
      "source": [
        "<a name=\"The-complex-number\"></a>\n",
        "### The complex number\n",
        "A **complex number** can be written as\n",
        "$$\n",
        "    z = a + jb\n",
        "$$\n",
        "where\n",
        "- $a = \\text{Re}\\{z\\}$ is the **real** part\n",
        "- $b = \\text{Im}\\{z\\}$ is the **imaginary** part.\n",
        "\n",
        "A complex number can be depicted in the **complex plane** which is a 2D coordinate system.\n",
        "<center>\n",
        "<img src=\"https://github.com/SMC-AAU-CPH/med4-ap-jupyter/blob/main/lecture1_What_is_Sound/figures/ap1ComplexPlaneSketchA.png?raw=1\" alt=\"Complex plane\" width=\"80%\"/>\n",
        "</center>\n"
      ]
    },
    {
      "cell_type": "markdown",
      "metadata": {
        "id": "_4NxvJ7MszTC"
      },
      "source": [
        "#### The complex conjugate\n",
        "The **complex conjugate** of a complex number $z$ is\n",
        "$$\n",
        "    z^* = a - jb\\ .\n",
        "$$\n",
        "Thus, the conjugation operator ${}^*$ changes the sign of imaginary part, but not the real part."
      ]
    },
    {
      "cell_type": "markdown",
      "metadata": {
        "id": "oGKK9OcbszTD"
      },
      "source": [
        "#### Addition of complex numbers\n",
        "Assume we have the two complex numbers\n",
        "\\begin{align}\n",
        "    z_1 &= a_1+jb_1\\\\\n",
        "    z_2 &= a_2+jb_2\\ .\n",
        "\\end{align}\n",
        "\n",
        "The **sum** of these two numbers is then\n",
        "$$\n",
        "    z = z_1 + z_2 = a_1+jb_1 + a_2+jb_2 = (a_1+a_2) + j(b_1+b_2).\n",
        "$$\n",
        "\n",
        "Thus, the real and imaginary part of of $z=a+jb$ are simply\n",
        "\\begin{align}\n",
        "    a &= a_1 + a_2\\\\\n",
        "    b &= b_1 + b_2\\ .\n",
        "\\end{align}\n",
        "\n",
        "Note that\n",
        "\\begin{align}\n",
        "    z_1 + z_1^* &= 2a_1 + 0j = 2\\text{Re}(z_1)\\\\\n",
        "    z_1 - z_1^* &= 0 + 2jb_1 = 2\\text{Im}(z_1)\\ .\n",
        "\\end{align}\n",
        "\n"
      ]
    },
    {
      "cell_type": "markdown",
      "metadata": {
        "id": "z2jXmx6RszTD"
      },
      "source": [
        "#### Multiplication of complex numbers\n",
        "Assume we have the two complex numbers\n",
        "\\begin{align}\n",
        "    z_1 &= a_1+jb_1\\\\\n",
        "    z_2 &= a_2+jb_2\\ .\n",
        "\\end{align}\n",
        "\n",
        "The **product** of these two numbers is then\n",
        "$$\n",
        "    z = z_1z_2 = (a_1+jb_1)(a_2+jb_2) = (a_1a_2-b_1b_2) + j(a_1b_2+b_1a_2).\n",
        "$$\n",
        "\n",
        "Thus, the real and imaginary part of of $z=a+jb$ are\n",
        "\\begin{align}\n",
        "    a &= (a_1a_2-b_1b_2)\\\\\n",
        "    b &= (a_1b_2+b_1a_2)\\ .\n",
        "\\end{align}\n",
        "\n",
        "Note that\n",
        "$$\n",
        "    z_1z_1^* = (a_1a_1-b_1(-b_1)) +j(a_1b_1-b_1a_1) = a_1^2+b_1^2 = \\text{Re}(z_1)^2+\\text{Im}(z_1)^2\n",
        "$$"
      ]
    },
    {
      "cell_type": "markdown",
      "metadata": {
        "id": "JaWNO5RCszTD"
      },
      "source": [
        "<a name=\"Summary2\"></a>\n",
        "### Summary\n",
        "- Complex numbers were originally invented to solve algebraic equations (e.g., the cubic equation)\n",
        "- The imaginary unit is $j=\\sqrt{-1}$\n",
        "- A **complex number** $z$ consists of a real part $a$ and imaginary part $b$, and is written as\n",
        "$$\n",
        "    z = a+jb\\ .\n",
        "$$\n",
        "- The **complex conjugate** of $z$ is\n",
        "$$\n",
        "    z^* = a-jb\\ .\n",
        "$$\n",
        "- It is much easier to add two complex numbers than it is to multiply them."
      ]
    },
    {
      "cell_type": "markdown",
      "metadata": {
        "heading_collapsed": true,
        "id": "AYjI4tgmszTD"
      },
      "source": [
        "<a name=\"Additional-information-on-complex-numbers\"></a>\n",
        "### Additional information on complex numbers\n",
        "If you want to know more about complex numbers (e.g., its history), you can find some nice videos here:\n",
        "\n",
        "https://www.youtube.com/playlist?list=PLiaHhY2iBX9g6KIvZ_703G3KJXapKkNaF"
      ]
    },
    {
      "cell_type": "markdown",
      "metadata": {
        "id": "jUrZRg6MszTD"
      },
      "source": [
        "### Active 5 minutes break\n",
        "Let\n",
        "\\begin{align}\n",
        "    z_1 &= a_1+jb_1 =  2+3j\\\\\n",
        "    z_2 &= a_2+jb_2 = -1-2j\\ .\n",
        "\\end{align}\n",
        "\n",
        "By hand, please calculate\n",
        "\\begin{align}\n",
        "    z_1 + z_2 &= \\\\\n",
        "    z_1 - z_2 &= \\\\\n",
        "    z_1 + z_1^* &= \\\\\n",
        "    z_2 - z_2^*+2z_1 &= \\\\\n",
        "    z_1z_2^* &=\\\\\n",
        "    z_1^2+z_2^*z_1 &=\n",
        "\\end{align}\n",
        "Check the results with your neighbours.\n",
        "\n",
        "---\n",
        "**Tip:** Use the rules\n",
        "\\begin{align}\n",
        "    z_1 + z_2 &= (a_1+a_2) + j(b_1+b_2)\\\\\n",
        "     z_1z_2 &= (a_1a_2-b_1b_2) + j(a_1b_2+b_1a_2)\\ .\n",
        "\\end{align}"
      ]
    },
    {
      "cell_type": "markdown",
      "metadata": {
        "id": "xnKKsWpVszTD"
      },
      "source": [
        "<a name=\"Phasors\"></a>\n",
        "## Phasors\n",
        "In the next 20 minutes, you will learn\n",
        "- how a complex number can be written in a **polar form**\n",
        "- why the polar form makes multiplications much easier\n",
        "- what a **phasor** is\n",
        "- how a phasor is related to a **real sinusoid**"
      ]
    },
    {
      "cell_type": "markdown",
      "metadata": {
        "id": "otvylDO4szTE"
      },
      "source": [
        "<a name=\"The-polar-(or-exponential)-form-of-a-complex-number\"></a>\n",
        "### The polar (or exponential) form of a complex number\n",
        "As for 2D vectors, we can also write a complex number in terms of its **magnitude** $r$ and **angle** $\\psi$. We have\n",
        "\\begin{align}\n",
        "    a &= r\\cos\\psi\\\\\n",
        "    b &= r\\sin\\psi\\ .\n",
        "\\end{align}\n",
        "Thus,\n",
        "$$\n",
        "    z = a + jb = r\\left(\\cos\\psi + j\\sin\\psi\\right) = r\\mathrm{e}^{j\\psi}\n",
        "$$\n",
        "where the last equality follows from **Euler's formula**.\n",
        "<center>\n",
        "<img src=\"https://github.com/SMC-AAU-CPH/med4-ap-jupyter/blob/main/lecture1_What_is_Sound/figures/ap1ComplexPlaneSketchB.png?raw=1\" alt=\"Complex plane\" width=\"80%\"/>\n",
        "</center>"
      ]
    },
    {
      "cell_type": "markdown",
      "metadata": {
        "id": "5EroEHCSszTE"
      },
      "source": [
        "#### Euler's formula\n",
        "Given by\n",
        "$$\n",
        "    \\mathrm{e}^{j\\psi} = \\cos\\psi + j\\sin\\psi\\ .\n",
        "$$\n",
        "- A very important formula used everywhere in science and engineering\n",
        "- Simplifies notation and mathematical manipulations\n",
        "- Its real and imaginary parts are a cosine and a sine, respectively, i.e.,\n",
        "\\begin{align}\n",
        "    \\text{Re}(\\mathrm{e}^{j\\psi}) &= \\cos\\psi\\\\\n",
        "    \\text{Im}(\\mathrm{e}^{j\\psi}) &= \\sin\\psi\\ .\n",
        "\\end{align}\n",
        "<center>\n",
        "<img src=\"https://github.com/SMC-AAU-CPH/med4-ap-jupyter/blob/main/lecture1_What_is_Sound/figures/ap1eulersFormula.png?raw=1\" alt=\"Complex plane\" width=\"80%\"/>\n",
        "</center>"
      ]
    },
    {
      "cell_type": "markdown",
      "metadata": {
        "id": "17jjq9XXszTE"
      },
      "source": [
        "#### The complex conjugate\n",
        "The **complex conjugate** of a complex number\n",
        "$$\n",
        "    z=r \\mathrm{e}^{j\\psi}\n",
        "$$\n",
        "is\n",
        "$$\n",
        "    z^* = r \\mathrm{e}^{-j\\psi}\\ .\n",
        "$$\n",
        "Thus, the conjugation operator ${}^*$ changes the sign of the angle, but not the magnitude."
      ]
    },
    {
      "cell_type": "markdown",
      "metadata": {
        "id": "Yi_v_7nLszTE"
      },
      "source": [
        "#### Multiplication of complex numbers\n",
        "Multiplication of complex numbers is much easier when the polar form is used. Let\n",
        "\\begin{align}\n",
        "    z_1 &= a_1+jb_1 = r_1 \\mathrm{e}^{j\\psi_1}\\\\\n",
        "    z_2 &= a_2+jb_2 = r_2 \\mathrm{e}^{j\\psi_2}\\ .\n",
        "\\end{align}\n",
        "\n",
        "The **product** of these two numbers is then\n",
        "$$\n",
        "    z = z_1z_2 = r_1 \\mathrm{e}^{j\\psi_1}r_2 \\mathrm{e}^{j\\psi_2} = r_1 r_2 \\mathrm{e}^{j\\psi_1}r_2 \\mathrm{e}^{j\\psi_2} = r_1 r_2 \\mathrm{e}^{j(\\psi_1+\\psi_2)}\n",
        "$$\n",
        "where we used $a^na^m = a^{n+m}$ to get the last equation.\n",
        "\n",
        "Thus, to multiply two complex numbers we\n",
        "- multiply their magnitudes\n",
        "- add their angles\n",
        "\n",
        "Note that **divisions** can be calculated as multiplications since\n",
        "$$\n",
        "    \\frac{z_1}{z_2} = z_1\\frac{1}{z_2} = z_1 z_2^{-1}\n",
        "$$\n",
        "and\n",
        "$$\n",
        "    z_2^{-1} = \\frac{1}{r_2}\\mathrm{e}^{-j\\psi_2}\\ .\n",
        "$$"
      ]
    },
    {
      "cell_type": "markdown",
      "metadata": {
        "id": "GR87D8ORszTE"
      },
      "source": [
        "#### Converting between the rectangular and polar forms\n",
        "We have seen that a complex number $z$ can be written as\n",
        "$$\n",
        "    z = a+jb = r\\mathrm{e}^{j\\psi}\\ .\n",
        "$$\n",
        "\n",
        "We can convert from the polar coordinates $(r,\\psi)$ to the rectangular coordinates $(a,b)$ via\n",
        "\\begin{align}\n",
        "    a &= r\\cos\\psi\\\\\n",
        "    b &= r\\sin\\psi\\ .\n",
        "\\end{align}\n",
        "\n",
        "We can convert from the rectangular coordinates $(a,b)$ to the polar coordinates $(r,\\psi)$ via\n",
        "\\begin{align}\n",
        "    r &= \\sqrt{a^2+b^2}\\\\\n",
        "    \\psi &= \\mathrm{arctan2}(b,a)\\ .\n",
        "\\end{align}"
      ]
    },
    {
      "cell_type": "markdown",
      "metadata": {
        "id": "WqEGyRs3szTE"
      },
      "source": [
        "<a name=\"The-phasor\"></a>\n",
        "### The phasor\n",
        "We have previously looked at the sinusoid\n",
        "$$\n",
        "    x(t) = A\\cos(\\Omega t + \\Phi)\\ .\n",
        "$$\n",
        "\n",
        "Based on what we know about Euler's formula and complex numbers, we can now also write $x(t)$ as\n",
        "$$\n",
        "    x(t) = \\text{Re}\\left[A\\exp(j(\\Omega t +\\Psi))\\right]\n",
        "$$\n",
        "since (from Euler's formula)\n",
        "$$\n",
        "    A\\exp(j(\\Omega t +\\Psi)) = A\\cos(\\Omega t +\\Psi)+jA\\sin(\\Omega t +\\Psi)\\ .\n",
        "$$\n",
        "This time-varying complex number is called a **phasor** or a **complex sinusoid**.\n",
        "\n",
        "Note that\n",
        "- using the phasor instead of the real sinusoid makes life much easier (you will see this later in the course)\n",
        "- even though we work with the phasor, we can always come back to the real sinusoid by taking the real part of the phasor"
      ]
    },
    {
      "cell_type": "markdown",
      "metadata": {
        "id": "9FjS7NSiszTF"
      },
      "source": [
        "<center>\n",
        "<img src=\"https://github.com/SMC-AAU-CPH/med4-ap-jupyter/blob/main/lecture1_What_is_Sound/figures/ap1PhasorIllustration.png?raw=1\" alt=\"Phasor illustration\" width=\"80%\"/>\n",
        "</center>"
      ]
    },
    {
      "cell_type": "markdown",
      "metadata": {
        "id": "ppMEMl6vszTF"
      },
      "source": [
        "<center>\n",
        "<img src=\"https://thumbs.gfycat.com/FixedElderlyAtlanticblackgoby-small.gif\" alt=\"Animated phasors\" width=\"40%\"/>\n",
        "</center>"
=======
      "text/plain": [
       "<IPython.lib.display.YouTubeVideo at 0x1168d3f40>"
>>>>>>> c09bf28 (RISE tests)
      ]
     },
     "execution_count": 6,
     "metadata": {},
     "output_type": "execute_result"
    }
   ],
   "source": [
    "YouTubeVideo('T647CGsuOVU') #5:47"
   ]
  },
  {
   "cell_type": "markdown",
   "metadata": {
    "slideshow": {
     "slide_type": "slide"
    }
   },
   "source": [
    "Rearranging our simple **quadratic** equation gives\n",
    "$$\n",
    "    x^2 = -1\n",
    "$$\n",
    "which allows us to write the solution as\n",
    "$$\n",
    "    x = \\pm\\sqrt{-1} = \\pm j\n",
    "$$\n",
    "where\n",
    "$$\n",
    "    j = \\sqrt{-1}\n",
    "$$\n",
    "is the **imaginary unit**. This unit also satisfies that\n",
    "$$\n",
    "    j^2 = \\sqrt{-1}^2 = -1\\ .\n",
    "$$\n",
    "\n",
    "Note that\n",
    "- **engineers** normally use the symbol $j$ for the imaginary unit\n",
    "- **mathematicians** normally use the symbol $i$ for the imaginary unit."
   ]
  },
  {
   "cell_type": "markdown",
   "metadata": {
    "slideshow": {
     "slide_type": "slide"
    }
   },
   "source": [
    "Let us now consider the quadratic equation\n",
    "$$\n",
    "    x^2 + 2x + 5 = 0\\ .\n",
    "$$\n",
    "\n",
    "We know from high school that the solutions to the general quadratic\n",
    "$$\n",
    "    ax^2 + bx + c = 0\\ ,\\qquad\\text{for }a\\neq0\n",
    "$$\n",
    "have the form\n",
    "$$\n",
    "    x = \\frac{-b\\pm\\sqrt{d}}{2a}\n",
    "$$\n",
    "where $d$ is the **discriminant** given by\n",
    "$$\n",
    "    d = b^2-4ac\\ .\n",
    "$$"
   ]
  },
  {
   "cell_type": "markdown",
   "metadata": {
    "ExecuteTime": {
     "end_time": "2019-01-16T09:50:09.956042Z",
     "start_time": "2019-01-16T09:50:09.949657Z"
    },
<<<<<<< HEAD
    {
      "cell_type": "markdown",
      "metadata": {
        "id": "_0Po2p2uszTF"
      },
      "source": [
        "<a name=\"Summary3\"></a>\n",
        "### Summary\n",
        "- The **polar form** of a complex number $z=a+jb$ is\n",
        "$$\n",
        "    z = r\\mathrm{e}^{j\\psi}\n",
        "$$\n",
        "where the magnitude $r$ and angle $\\psi$ are given by\n",
        "\\begin{align}\n",
        "    r &= \\sqrt{a^2+b^2}\\\\\n",
        "    \\psi &= \\mathrm{arctan2}(b,a)\\ .\n",
        "\\end{align}\n",
        "- Multiplications (and divisions) are much easier when using the polar form.\n",
        "- A **phasor** is a complex sinusoid given by\n",
        "$$\n",
        "    z(t) = A\\exp(j(\\Omega t +\\Psi))\\ ,\n",
        "$$\n",
        "and its real part is a real sinusoid, i.e., \n",
        "$$\n",
        "    x(t) = \\text{Re}(z(t)) = A\\cos(\\Omega t +\\Psi)\\ .\n",
        "$$\n"
      ]
    }
  ]
=======
    "slideshow": {
     "slide_type": "fragment"
    }
   },
   "source": [
    "We obtain\n",
    "$$\n",
    "    d = 4-20 = -16\n",
    "$$\n",
    "so that\n",
    "$$\n",
    "    x = \\frac{-2\\pm\\sqrt{-16}}{2} = -1\\pm\\frac{1}{2}\\sqrt{-1\\cdot 4^2} = -1\\pm 2\\sqrt{-1} = -1\\pm 2j\\ .\n",
    "$$\n",
    "Thus, the **complex numbers** $-1+2j$ and $-1-2j$ are the solutions."
   ]
  },
  {
   "cell_type": "markdown",
   "metadata": {
    "slideshow": {
     "slide_type": "slide"
    }
   },
   "source": [
    "### The complex number\n",
    "A **complex number** can be written as\n",
    "$$\n",
    "    z = a + jb\n",
    "$$\n",
    "where\n",
    "- $a = \\text{Re}\\{z\\}$ is the **real** part\n",
    "- $b = \\text{Im}\\{z\\}$ is the **imaginary** part.\n",
    "\n",
    "A complex number can be depicted in the **complex plane** which is a 2D coordinate system.\n",
    "<center>\n",
    "<img src=\"figures/ap1ComplexPlaneSketchA.png\" alt=\"Complex plane\" width=\"80%\"/>\n",
    "</center>\n"
   ]
  },
  {
   "cell_type": "markdown",
   "metadata": {
    "slideshow": {
     "slide_type": "slide"
    }
   },
   "source": [
    "#### The complex conjugate\n",
    "The **complex conjugate** of a complex number $z$ is\n",
    "$$\n",
    "    z^* = a - jb\\ .\n",
    "$$\n",
    "Thus, the conjugation operator ${}^*$ changes the sign of imaginary part, but not the real part."
   ]
  },
  {
   "cell_type": "markdown",
   "metadata": {
    "slideshow": {
     "slide_type": "slide"
    }
   },
   "source": [
    "#### Addition of complex numbers\n",
    "Assume we have the two complex numbers\n",
    "\\begin{align}\n",
    "    z_1 &= a_1+jb_1\\\\\n",
    "    z_2 &= a_2+jb_2\\ .\n",
    "\\end{align}\n",
    "\n",
    "The **sum** of these two numbers is then\n",
    "$$\n",
    "    z = z_1 + z_2 = a_1+jb_1 + a_2+jb_2 = (a_1+a_2) + j(b_1+b_2).\n",
    "$$\n",
    "\n",
    "Thus, the real and imaginary part of of $z=a+jb$ are simply\n",
    "\\begin{align}\n",
    "    a &= a_1 + a_2\\\\\n",
    "    b &= b_1 + b_2\\ .\n",
    "\\end{align}\n",
    "\n",
    "Note that\n",
    "\\begin{align}\n",
    "    z_1 + z_1^* &= 2a_1 + 0j = 2\\text{Re}(z_1)\\\\\n",
    "    z_1 - z_1^* &= 0 + 2jb_1 = 2\\text{Im}(z_1)\\ .\n",
    "\\end{align}\n",
    "\n"
   ]
  },
  {
   "cell_type": "markdown",
   "metadata": {
    "slideshow": {
     "slide_type": "slide"
    }
   },
   "source": [
    "#### Multiplication of complex numbers\n",
    "Assume we have the two complex numbers\n",
    "\\begin{align}\n",
    "    z_1 &= a_1+jb_1\\\\\n",
    "    z_2 &= a_2+jb_2\\ .\n",
    "\\end{align}\n",
    "\n",
    "The **product** of these two numbers is then\n",
    "$$\n",
    "    z = z_1z_2 = (a_1+jb_1)(a_2+jb_2) = (a_1a_2-b_1b_2) + j(a_1b_2+b_1a_2).\n",
    "$$\n",
    "\n",
    "Thus, the real and imaginary part of of $z=a+jb$ are\n",
    "\\begin{align}\n",
    "    a &= (a_1a_2-b_1b_2)\\\\\n",
    "    b &= (a_1b_2+b_1a_2)\\ .\n",
    "\\end{align}\n",
    "\n",
    "Note that\n",
    "$$\n",
    "    z_1z_1^* = (a_1a_1-b_1(-b_1)) +j(a_1b_1-b_1a_1) = a_1^2+b_1^2 = \\text{Re}(z_1)^2+\\text{Im}(z_1)^2\n",
    "$$"
   ]
  },
  {
   "cell_type": "markdown",
   "metadata": {
    "slideshow": {
     "slide_type": "slide"
    }
   },
   "source": [
    "### Summary\n",
    "- Complex numbers were originally invented to solve algebraic equations (e.g., the cubic equation)\n",
    "- The imaginary unit is $j=\\sqrt{-1}$\n",
    "- A **complex number** $z$ consists of a real part $a$ and imaginary part $b$, and is written as\n",
    "$$\n",
    "    z = a+jb\\ .\n",
    "$$\n",
    "- The **complex conjugate** of $z$ is\n",
    "$$\n",
    "    z^* = a-jb\\ .\n",
    "$$\n",
    "- It is much easier to add two complex numbers than it is to multiply them."
   ]
  },
  {
   "cell_type": "markdown",
   "metadata": {
    "heading_collapsed": true,
    "slideshow": {
     "slide_type": "skip"
    }
   },
   "source": [
    "### Additional information on complex numbers\n",
    "If you want to know more about complex numbers (e.g., its history), you can find some nice videos here:\n",
    "\n",
    "https://www.youtube.com/playlist?list=PLiaHhY2iBX9g6KIvZ_703G3KJXapKkNaF"
   ]
  },
  {
   "cell_type": "markdown",
   "metadata": {
    "slideshow": {
     "slide_type": "slide"
    }
   },
   "source": [
    "### Active 5 minutes break\n",
    "Let\n",
    "\\begin{align}\n",
    "    z_1 &= a_1+jb_1 =  2+3j\\\\\n",
    "    z_2 &= a_2+jb_2 = -1-2j\\ .\n",
    "\\end{align}\n",
    "\n",
    "By hand, please calculate\n",
    "\\begin{align}\n",
    "    z_1 + z_2 &= \\\\\n",
    "    z_1 - z_2 &= \\\\\n",
    "    z_1 + z_1^* &= \\\\\n",
    "    z_2 - z_2^*+2z_1 &= \\\\\n",
    "    z_1z_2^* &=\\\\\n",
    "    z_1^2+z_2^*z_1 &=\n",
    "\\end{align}\n",
    "Check the results with your neighbours.\n",
    "\n",
    "---\n",
    "**Tip:** Use the rules\n",
    "\\begin{align}\n",
    "    z_1 + z_2 &= (a_1+a_2) + j(b_1+b_2)\\\\\n",
    "     z_1z_2 &= (a_1a_2-b_1b_2) + j(a_1b_2+b_1a_2)\\ .\n",
    "\\end{align}"
   ]
  },
  {
   "cell_type": "markdown",
   "metadata": {
    "slideshow": {
     "slide_type": "slide"
    }
   },
   "source": [
    "## Phasors\n",
    "In the next 20 minutes, you will learn\n",
    "- how a complex number can be written in a **polar form**\n",
    "- why the polar form makes multiplications much easier\n",
    "- what a **phasor** is\n",
    "- how a phasor is related to a **real sinusoid**"
   ]
  },
  {
   "cell_type": "markdown",
   "metadata": {
    "slideshow": {
     "slide_type": "slide"
    }
   },
   "source": [
    "### The polar (or exponential) form of a complex number\n",
    "As for 2D vectors, we can also write a complex number in terms of its **magnitude** $r$ and **angle** $\\psi$. We have\n",
    "\\begin{align}\n",
    "    a &= r\\cos\\psi\\\\\n",
    "    b &= r\\sin\\psi\\ .\n",
    "\\end{align}\n",
    "Thus,\n",
    "$$\n",
    "    z = a + jb = r\\left(\\cos\\psi + j\\sin\\psi\\right) = r\\mathrm{e}^{j\\psi}\n",
    "$$\n",
    "where the last equality follows from **Euler's formula**.\n",
    "<center>\n",
    "<img src=\"figures/ap1ComplexPlaneSketchB.png\" alt=\"Complex plane\" width=\"80%\"/>\n",
    "</center>"
   ]
  },
  {
   "cell_type": "markdown",
   "metadata": {
    "slideshow": {
     "slide_type": "slide"
    }
   },
   "source": [
    "#### Euler's formula\n",
    "Given by\n",
    "$$\n",
    "    \\mathrm{e}^{j\\psi} = \\cos\\psi + j\\sin\\psi\\ .\n",
    "$$\n",
    "- A very important formula used everywhere in science and engineering\n",
    "- Simplifies notation and mathematical manipulations\n",
    "- Its real and imaginary parts are a cosine and a sine, respectively, i.e.,\n",
    "\\begin{align}\n",
    "    \\text{Re}(\\mathrm{e}^{j\\psi}) &= \\cos\\psi\\\\\n",
    "    \\text{Im}(\\mathrm{e}^{j\\psi}) &= \\sin\\psi\\ .\n",
    "\\end{align}\n",
    "<center>\n",
    "<img src=\"figures/ap1eulersFormula.png\" alt=\"Complex plane\" width=\"80%\"/>\n",
    "</center>"
   ]
  },
  {
   "cell_type": "markdown",
   "metadata": {
    "slideshow": {
     "slide_type": "slide"
    }
   },
   "source": [
    "#### The complex conjugate\n",
    "The **complex conjugate** of a complex number\n",
    "$$\n",
    "    z=r \\mathrm{e}^{j\\psi}\n",
    "$$\n",
    "is\n",
    "$$\n",
    "    z^* = r \\mathrm{e}^{-j\\psi}\\ .\n",
    "$$\n",
    "Thus, the conjugation operator ${}^*$ changes the sign of the angle, but not the magnitude."
   ]
  },
  {
   "cell_type": "markdown",
   "metadata": {
    "slideshow": {
     "slide_type": "slide"
    }
   },
   "source": [
    "#### Multiplication of complex numbers\n",
    "Multiplication of complex numbers is much easier when the polar form is used. Let\n",
    "\\begin{align}\n",
    "    z_1 &= a_1+jb_1 = r_1 \\mathrm{e}^{j\\psi_1}\\\\\n",
    "    z_2 &= a_2+jb_2 = r_2 \\mathrm{e}^{j\\psi_2}\\ .\n",
    "\\end{align}\n",
    "\n",
    "The **product** of these two numbers is then\n",
    "$$\n",
    "    z = z_1z_2 = r_1 \\mathrm{e}^{j\\psi_1}r_2 \\mathrm{e}^{j\\psi_2} = r_1 r_2 \\mathrm{e}^{j\\psi_1}r_2 \\mathrm{e}^{j\\psi_2} = r_1 r_2 \\mathrm{e}^{j(\\psi_1+\\psi_2)}\n",
    "$$\n",
    "where we used $a^na^m = a^{n+m}$ to get the last equation.\n",
    "\n",
    "Thus, to multiply two complex numbers we\n",
    "- multiply their magnitudes\n",
    "- add their angles\n",
    "\n",
    "Note that **divisions** can be calculated as multiplications since\n",
    "$$\n",
    "    \\frac{z_1}{z_2} = z_1\\frac{1}{z_2} = z_1 z_2^{-1}\n",
    "$$\n",
    "and\n",
    "$$\n",
    "    z_2^{-1} = \\frac{1}{r_2}\\mathrm{e}^{-j\\psi_2}\\ .\n",
    "$$"
   ]
  },
  {
   "cell_type": "markdown",
   "metadata": {
    "slideshow": {
     "slide_type": "slide"
    }
   },
   "source": [
    "#### Converting between the rectangular and polar forms\n",
    "We have seen that a complex number $z$ can be written as\n",
    "$$\n",
    "    z = a+jb = r\\mathrm{e}^{j\\psi}\\ .\n",
    "$$\n",
    "\n",
    "We can convert from the polar coordinates $(r,\\psi)$ to the rectangular coordinates $(a,b)$ via\n",
    "\\begin{align}\n",
    "    a &= r\\cos\\psi\\\\\n",
    "    b &= r\\sin\\psi\\ .\n",
    "\\end{align}\n",
    "\n",
    "We can convert from the rectangular coordinates $(a,b)$ to the polar coordinates $(r,\\psi)$ via\n",
    "\\begin{align}\n",
    "    r &= \\sqrt{a^2+b^2}\\\\\n",
    "    \\psi &= \\mathrm{arctan2}(b,a)\\ .\n",
    "\\end{align}"
   ]
  },
  {
   "cell_type": "markdown",
   "metadata": {
    "slideshow": {
     "slide_type": "slide"
    }
   },
   "source": [
    "### The phasor\n",
    "We have previously looked at the sinusoid\n",
    "$$\n",
    "    x(t) = A\\cos(\\Omega t + \\Phi)\\ .\n",
    "$$\n",
    "\n",
    "Based on what we know about Euler's formula and complex numbers, we can now also write $x(t)$ as\n",
    "$$\n",
    "    x(t) = \\text{Re}\\left[A\\exp(j(\\Omega t +\\Psi))\\right]\n",
    "$$\n",
    "since (from Euler's formula)\n",
    "$$\n",
    "    A\\exp(j(\\Omega t +\\Psi)) = A\\cos(\\Omega t +\\Psi)+jA\\sin(\\Omega t +\\Psi)\\ .\n",
    "$$\n",
    "This time-varying complex number is called a **phasor** or a **complex sinusoid**.\n",
    "\n",
    "Note that\n",
    "- using the phasor instead of the real sinusoid makes life much easier (you will see this later in the course)\n",
    "- even though we work with the phasor, we can always come back to the real sinusoid by taking the real part of the phasor"
   ]
  },
  {
   "cell_type": "markdown",
   "metadata": {
    "slideshow": {
     "slide_type": "slide"
    }
   },
   "source": [
    "<center>\n",
    "<img src=\"figures/ap1PhasorIllustration.png\" alt=\"Phasor illustration\" width=\"80%\"/>\n",
    "</center>"
   ]
  },
  {
   "cell_type": "markdown",
   "metadata": {
    "slideshow": {
     "slide_type": "slide"
    }
   },
   "source": [
    "<center>\n",
    "<img src=\"https://thumbs.gfycat.com/FixedElderlyAtlanticblackgoby-small.gif\" alt=\"Animated phasors\" width=\"40%\"/>\n",
    "</center>"
   ]
  },
  {
   "cell_type": "markdown",
   "metadata": {
    "slideshow": {
     "slide_type": "slide"
    }
   },
   "source": [
    "### Summary\n",
    "- The **polar form** of a complex number $z=a+jb$ is\n",
    "$$\n",
    "    z = r\\mathrm{e}^{j\\psi}\n",
    "$$\n",
    "where the magnitude $r$ and angle $\\psi$ are given by\n",
    "\\begin{align}\n",
    "    r &= \\sqrt{a^2+b^2}\\\\\n",
    "    \\psi &= \\mathrm{arctan2}(b,a)\\ .\n",
    "\\end{align}\n",
    "- Multiplications (and divisions) are much easier when using the polar form.\n",
    "- A **phasor** is a complex sinusoid given by\n",
    "$$\n",
    "    z(t) = A\\exp(j(\\Omega t +\\Psi))\\ ,\n",
    "$$\n",
    "and its real part is a real sinusoid, i.e., \n",
    "$$\n",
    "    x(t) = \\text{Re}(z(t)) = A\\cos(\\Omega t +\\Psi)\\ .\n",
    "$$\n"
   ]
  }
 ],
 "metadata": {
  "celltoolbar": "Slideshow",
  "kernelspec": {
   "display_name": "Python 3.8.0 64-bit ('minimal_ds': conda)",
   "language": "python",
   "name": "python38064bitminimaldsconda76ff49a8f8ba4468b4e7edfee9b9acfa"
  },
  "language_info": {
   "codemirror_mode": {
    "name": "ipython",
    "version": 3
   },
   "file_extension": ".py",
   "mimetype": "text/x-python",
   "name": "python",
   "nbconvert_exporter": "python",
   "pygments_lexer": "ipython3",
   "version": "3.8.5"
  },
  "latex_envs": {
   "LaTeX_envs_menu_present": true,
   "autoclose": false,
   "autocomplete": true,
   "bibliofile": "biblio.bib",
   "cite_by": "apalike",
   "current_citInitial": 1,
   "eqLabelWithNumbers": true,
   "eqNumInitial": 1,
   "hotkeys": {
    "equation": "Ctrl-E",
    "itemize": "Ctrl-I"
   },
   "labels_anchors": false,
   "latex_user_defs": false,
   "report_style_numbering": false,
   "user_envs_cfg": false
  },
  "toc": {
   "base_numbering": 1,
   "nav_menu": {
    "height": "299px",
    "width": "374px"
   },
   "number_sections": true,
   "sideBar": true,
   "skip_h1_title": true,
   "title_cell": "Table of Contents",
   "title_sidebar": "Contents",
   "toc_cell": true,
   "toc_position": {
    "height": "calc(100% - 180px)",
    "left": "10px",
    "top": "150px",
    "width": "248.8px"
   },
   "toc_section_display": true,
   "toc_window_display": false
  },
  "toc-autonumbering": false,
  "toc-showcode": true,
  "toc-showmarkdowntxt": false,
  "toc-showtags": false
 },
 "nbformat": 4,
 "nbformat_minor": 4
>>>>>>> c09bf28 (RISE tests)
}
