{
  "nbformat": 4,
  "nbformat_minor": 0,
  "metadata": {
    "celltoolbar": "Slideshow",
    "kernelspec": {
      "display_name": "Python 3.8.0 64-bit ('minimal_ds': conda)",
      "language": "python",
      "name": "python38064bitminimaldsconda76ff49a8f8ba4468b4e7edfee9b9acfa"
    },
    "language_info": {
      "codemirror_mode": {
        "name": "ipython",
        "version": 3
      },
      "file_extension": ".py",
      "mimetype": "text/x-python",
      "name": "python",
      "nbconvert_exporter": "python",
      "pygments_lexer": "ipython3",
      "version": "3.8.2"
    },
    "latex_envs": {
      "LaTeX_envs_menu_present": true,
      "autoclose": false,
      "autocomplete": true,
      "bibliofile": "biblio.bib",
      "cite_by": "apalike",
      "current_citInitial": 1,
      "eqLabelWithNumbers": true,
      "eqNumInitial": 1,
      "hotkeys": {
        "equation": "Ctrl-E",
        "itemize": "Ctrl-I"
      },
      "labels_anchors": false,
      "latex_user_defs": false,
      "report_style_numbering": false,
      "user_envs_cfg": false
    },
    "toc": {
      "base_numbering": 1,
      "nav_menu": {
        "height": "299px",
        "width": "374px"
      },
      "number_sections": true,
      "sideBar": true,
      "skip_h1_title": true,
      "title_cell": "Table of Contents",
      "title_sidebar": "Contents",
      "toc_cell": true,
      "toc_position": {
        "height": "calc(100% - 180px)",
        "left": "10px",
        "top": "150px",
        "width": "248.8px"
      },
      "toc_section_display": true,
      "toc_window_display": false
    },
    "toc-autonumbering": false,
    "toc-showcode": true,
    "toc-showmarkdowntxt": false,
    "toc-showtags": false,
    "colab": {
      "name": "apLecture1.ipynb",
      "provenance": [],
      "toc_visible": true
    }
  },
  "cells": [
    {
      "cell_type": "markdown",
      "metadata": {
        "id": "h-1dxc_NszSu"
      },
      "source": [
        "# Lecture 1: What is Sound?\n",
        "Audio Processing, MED4, Aalborg University, 2021\n",
        "\n",
        "Jesper Kjær Nielsen (jekjaer@gmail.com) and Cumhur Erkut (cer@create.aau.dk), Aalborg University"
      ]
    },
    {
      "cell_type": "markdown",
      "metadata": {
        "toc": true,
        "toc-hr-collapsed": false,
        "id": "tvwuJNReszSz"
      },
      "source": [
       "<h1>Table of Contents<span class=\"tocSkip\"></span></h1>\n",
       "<div class=\"toc\"><ul class=\"toc-item\"><li><span><a href=\"#Sound-and-simple-vibrations\" data-toc-modified-id=\"Sound-and-simple-vibrations-1\"><span class=\"toc-item-num\">1&nbsp;&nbsp;</span>Sound and simple vibrations</a></span><ul class=\"toc-item\"><li><span><a href=\"#What-is-sound?\" data-toc-modified-id=\"What-is-sound?-1.1\"><span class=\"toc-item-num\">1.1&nbsp;&nbsp;</span>What is sound?</a></span></li><li><span><a href=\"#Human-hearing\" data-toc-modified-id=\"Human-hearing-1.2\"><span class=\"toc-item-num\">1.2&nbsp;&nbsp;</span>Human hearing</a></span></li><li><span><a href=\"#Sinusoids\" data-toc-modified-id=\"Sinusoids-1.3\"><span class=\"toc-item-num\">1.3&nbsp;&nbsp;</span>Sinusoids</a></span></li><li><span><a href=\"#Summary1\" data-toc-modified-id=\"Summary-1.4\"><span class=\"toc-item-num\">1.4&nbsp;&nbsp;</span>Summary</a></span></li></ul></li><li><span><a href=\"#Complex-numbers\" data-toc-modified-id=\"Complex-numbers-2\"><span class=\"toc-item-num\">2&nbsp;&nbsp;</span>Complex numbers</a></span><ul class=\"toc-item\"><li><span><a href=\"#The-need-for-complex-numbers\" data-toc-modified-id=\"The-need-for-complex-numbers-2.1\"><span class=\"toc-item-num\">2.1&nbsp;&nbsp;</span>The need for complex numbers</a></span></li><li><span><a href=\"#The-complex-number\" data-toc-modified-id=\"The-complex-number-2.2\"><span class=\"toc-item-num\">2.2&nbsp;&nbsp;</span>The complex number</a></span></li><li><span><a href=\"#Summary2\" data-toc-modified-id=\"Summary-2.3\"><span class=\"toc-item-num\">2.3&nbsp;&nbsp;</span>Summary</a></span></li><li><span><a href=\"#Additional-information-on-complex-numbers\" data-toc-modified-id=\"Additional-information-on-complex-numbers-2.4\"><span class=\"toc-item-num\">2.4&nbsp;&nbsp;</span>Additional information on complex numbers</a></span></li><li><span><a href=\"#Exit-Question\" data-toc-modified-id=\"Exit-Question-2.5\"><span class=\"toc-item-num\">2.5&nbsp;&nbsp;</span>Exit Question</a></span></li></ul></li><li><span><a href=\"#Phasors\" data-toc-modified-id=\"Phasors-3\"><span class=\"toc-item-num\">3&nbsp;&nbsp;</span>Phasors</a></span><ul class=\"toc-item\"><li><span><a href=\"#The-polar-(or-exponential)-form-of-a-complex-number\" data-toc-modified-id=\"The-polar-(or-exponential)-form-of-a-complex-number-3.1\"><span class=\"toc-item-num\">3.1&nbsp;&nbsp;</span>The polar (or exponential) form of a complex number</a></span></li><li><span><a href=\"#The-phasor\" data-toc-modified-id=\"The-phasor-3.2\"><span class=\"toc-item-num\">3.2&nbsp;&nbsp;</span>The phasor</a></span></li><li><span><a href=\"#Summary3\" data-toc-modified-id=\"Summary-3.3\"><span class=\"toc-item-num\">3.3&nbsp;&nbsp;</span>Summary</a></span></li></ul></li></ul></div>"]
    },
    {
      "cell_type": "markdown",
      "metadata": {
        "ExecuteTime": {
          "end_time": "2019-01-11T14:57:09.249670Z",
          "start_time": "2019-01-11T14:57:09.210499Z"
        },
        "id": "eGUIoPn2szS0"
      },
      "source": [
        "## Sound and simple vibrations\n",
        "In the next 20 minutes, you will learn\n",
        "- What sound is and how it propagates\n",
        "- How humans perceive sound\n",
        "- What a sinusoid is\n",
        "- that striking a bar creates a sinusoidal sound"
      ]
    },
    {
      "cell_type": "markdown",
      "metadata": {
        "toc-hr-collapsed": true,
        "id": "bP7jVg1eszS1"
      },
      "source": [
        "<a name=\"What-is-sound?\"></a>\n",
        "### What is sound?"
      ]
    },
    {
      "cell_type": "code",
      "metadata": {
        "id": "hM6HXpdVszS6",
        "outputId": "e2d0fe45-511b-47a8-a0e2-2963c035da50",
        "colab": {
          "base_uri": "https://localhost:8080/",
          "height": 320
        }
      },
      "source": [
        "from IPython.display import display, YouTubeVideo, Image\n",
        "YouTubeVideo('GkNJvZINSEY')"
      ],
      "execution_count": 18,
      "outputs": [
        {
          "output_type": "execute_result",
          "data": {
            "text/html": [
              "\n",
              "        <iframe\n",
              "            width=\"400\"\n",
              "            height=\"300\"\n",
              "            src=\"https://www.youtube.com/embed/GkNJvZINSEY\"\n",
              "            frameborder=\"0\"\n",
              "            allowfullscreen\n",
              "        ></iframe>\n",
              "        "
            ],
            "text/plain": [
              "<IPython.lib.display.YouTubeVideo at 0x7f21813e6c50>"
            ],
            "image/jpeg": "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\n"
          },
          "metadata": {
            "tags": []
          },
          "execution_count": 18
        }
      ]
    },
    {
      "cell_type": "markdown",
      "metadata": {
        "id": "dGPyFIbPszS8"
      },
      "source": [
        "Sound is a **vibration** which travels through a medium as\n",
        "- **longitudinal** waves: gasses (e.g., air), liquids (e.g., water), and solids (e.g., concrete)\n",
        "- **transversal** sound waves: solids (e.g., concrete)\n",
        "\n",
        "The **speed of sound** depends on the medium. In, e.g., air at room temperature, it is approximately 343 m/s."
      ]
    },
    {
      "cell_type": "markdown",
      "metadata": {
        "id": "v_SCHtUEszS8"
      },
      "source": [
        "Sound is normally divided into three types:\n",
        "1. Infrasound: Sound with frequencies up to 20 Hz\n",
        "2. Audible sound: Sound with frequencies in range 20 Hz - 20 kHz (this is often referred to as **audio**)\n",
        "3. Ultra sound: Sound with frequencies above 20 kHz\n"
      ]
    },
    {
      "cell_type": "markdown",
      "metadata": {
        "ExecuteTime": {
          "end_time": "2019-01-15T07:38:35.046925Z",
          "start_time": "2019-01-15T07:38:35.043165Z"
        },
        "toc-hr-collapsed": true,
        "id": "1uGDXHdIszS9"
      },
      "source": [
        "<a name=\"Human-hearing\"></a>\n",
        "### Human hearing"
      ]
    },
    {
      "cell_type": "code",
      "metadata": {
        "ExecuteTime": {
          "end_time": "2019-01-15T07:38:35.046925Z",
          "start_time": "2019-01-15T07:38:35.043165Z"
        },
        "id": "rdArnFmKszS9",
        "outputId": "5e473c82-b8f3-42bb-c533-3092ac86e770",
        "colab": {
          "base_uri": "https://localhost:8080/",
          "height": 320
        }
      },
      "source": [
        "YouTubeVideo('eQEaiZ2j9oc')"
      ],
      "execution_count": 10,
      "outputs": [
        {
          "output_type": "execute_result",
          "data": {
            "text/html": [
              "\n",
              "        <iframe\n",
              "            width=\"400\"\n",
              "            height=\"300\"\n",
              "            src=\"https://www.youtube.com/embed/eQEaiZ2j9oc\"\n",
              "            frameborder=\"0\"\n",
              "            allowfullscreen\n",
              "        ></iframe>\n",
              "        "
            ],
            "text/plain": [
              "<IPython.lib.display.YouTubeVideo at 0x7f21813f1080>"
            ],
            "image/jpeg": "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\n"
          },
          "metadata": {
            "tags": []
          },
          "execution_count": 10
        }
      ]
    },
    {
      "cell_type": "markdown",
      "metadata": {
        "ExecuteTime": {
          "end_time": "2019-01-15T07:38:35.046925Z",
          "start_time": "2019-01-15T07:38:35.043165Z"
        },
        "id": "vH-9gC3HszS9"
      },
      "source": [
        "The human ear consists of the following parts:\n",
        "- **Outer ear**: Everything on the outside of the ear drum, including the pinna\n",
        "- **Middle ear**: The three bones (Malleus, Incus, Stapes) acting as a mechanical transducer between the ear drum and the oval window in the cochlea\n",
        "- **Inner ear**: The cochlea which is a coiled, liqued-filled tube. Subsided in the liqued is the basilar membrane which vibrates when sound propagates through the fluid. These vibrations are converted into electrical signals by hair cells attached to the basilar membrane.\n",
        "<center>\n",
        "<img src=\"https://www.hearinglink.org/wp-content/uploads/2016/02/Human-Ear-Diagram.jpg\" alt=\"Human ear\" width=\"80%\"/>\n",
        "</center>"
      ]
    },
    {
      "cell_type": "markdown",
      "metadata": {
        "ExecuteTime": {
          "end_time": "2019-01-15T07:38:35.046925Z",
          "start_time": "2019-01-15T07:38:35.043165Z"
        },
        "id": "0VxoPh6tszS9"
      },
      "source": [
        "The human ear\n",
        "- does not hear all frequencies equally well\n",
        "- is most sensitive to frequencies around 4 kHz\n",
        "- is tuned to speech\n",
        "- has a really large dynamic range of up to ~120 dB (i.e., we can hear sound intensities up to ~10^12 the quietest sounds)\n",
        "<center>\n",
        "<img src=\"https://qph.fs.quoracdn.net/main-qimg-98ef07eac5bba8e7f571ecab93755d97\" alt=\"Human ear\" width=\"80%\"/>\n",
        "</center>"
      ]
    },
    {
      "cell_type": "markdown",
      "metadata": {
        "id": "Dn96daVBszS-"
      },
      "source": [
        "<a name=\"Sinusoids\"></a>\n",
        "### Sinusoids\n",
        "A sinusoid (or a sine wave) is given by\n",
        "$$\n",
        "    x(t) = A \\cos(\\Omega t + \\Phi)\n",
        "$$\n",
        "where\n",
        "- $A\\geq0$ is the **amplitude**\n",
        "- $\\Omega$ is the **frequency** measured in radians pr. second (SI symbol **rad/s**). Is related to the frequency $f$ measured in cycles pr. second (SI symbol **Hz**) via $\\Omega = 2\\pi f$.\n",
        "- $t$ is the **time** measured in seconds (SI symbol **s**)\n",
        "- $\\Phi$ is the **initial phase** measured in radians (SI symbol **rad**)"
      ]
    },
    {
      "cell_type": "markdown",
      "metadata": {
        "id": "g3_Sw-NXszS-"
      },
      "source": [
        "The above form of the sinusoid is often referred to as the **polar form**. By using the angle addition formula for a cosine, i.e.,\n",
        "$$\n",
        "    \\cos(\\theta+\\phi) = \\cos(\\theta)\\cos(\\phi)-\\sin(\\theta)\\sin(\\phi)\\ ,\n",
        "$$\n",
        "a sinusoid can also be written in a **rectangular form** as\n",
        "$$\n",
        "    x(t) = a\\cos(\\Omega t) + b\\sin(\\Omega t)\n",
        "$$\n",
        "where a and b are scalers given by\n",
        "\\begin{align}\n",
        "    a &= A\\cos(\\Phi)\\\\\n",
        "    b &= -A\\sin(\\Phi)\\ .\n",
        "\\end{align}"
      ]
    },
    {
      "cell_type": "markdown",
      "metadata": {
        "toc-hr-collapsed": true,
        "id": "39BNG8R4szS-"
      },
      "source": [
        "#### Numpy example: A sinusoid"
      ]
    },
    {
      "cell_type": "code",
      "metadata": {
        "id": "tLnuMqkHszS_",
        "outputId": "2017918e-3d3c-47cd-8054-6e698c5e560b",
        "colab": {
          "base_uri": "https://localhost:8080/",
          "height": 283
        }
      },
      "source": [
        "%matplotlib inline\n",
        "import numpy as np\n",
        "import matplotlib.pyplot as plt\n",
        "\n",
        "samplingFreq = 44100 # Hz\n",
        "nData = 2000\n",
        "time = np.arange(0,nData).T/samplingFreq # s\n",
        "\n",
        "# Generate a sinusoid\n",
        "amp = 1;\n",
        "freq = 100 # Hz\n",
        "initPhase = np.pi/2 # rad\n",
        "sinusoid = amp*np.cos(2*np.pi*freq*time+initPhase)\n",
        "\n",
        "# Plot the sinusoids\n",
        "plt.plot(time, sinusoid, lineWidth=2)\n",
        "plt.xlim((time[0],time[nData-1]))\n",
        "plt.ylim((-1,1))\n",
        "plt.xlabel('Time [s]')\n",
        "plt.ylabel('Amplitude [.]')\n",
        "plt.grid(True)"
      ],
      "execution_count": 11,
      "outputs": [
        {
          "output_type": "display_data",
          "data": {
            "image/png": "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\n",
            "text/plain": [
              "<Figure size 432x288 with 1 Axes>"
            ]
          },
          "metadata": {
            "tags": [],
            "needs_background": "light"
          }
        }
      ]
    },
    {
      "cell_type": "markdown",
      "metadata": {
        "id": "ZfEc1dckszS_"
      },
      "source": [
        "#### Example: Generation of a sinusoid from a vibrating bar\n",
        "<br />\n",
        "<center>\n",
        "<img src=\"https://upload.wikimedia.org/wikipedia/commons/thumb/7/72/Glockenspiel.jpg/1280px-Glockenspiel.jpg\" alt=\"Glockenspiel\" width=\"60%\" />\n",
        "</center>"
      ]
    },
    {
      "cell_type": "markdown",
      "metadata": {
        "id": "ONV082YRszS_"
      },
      "source": [
        "Assume that the act of striking a bar is modelled as **compressing a spring** in one dimension. From Hooke's law, this compresssion can be written as\n",
        "$$\n",
        "    F(t) = -k x(t)\n",
        "$$\n",
        "where\n",
        "- $F(t)$ is the **restoring force** measured in Newton (SI unit **N**)\n",
        "- $x(t)$ is the **displacement** measured in meters (SI unit **m**) of the string from its resting position\n",
        "- $k$ is the **spring constant** measured in N/m"
      ]
    },
    {
      "cell_type": "markdown",
      "metadata": {
        "id": "9I6kOAgwszS_"
      },
      "source": [
        "From **Newton's second law**, the force can also be expressed as\n",
        "$$\n",
        "    F(t) = ma(t)\n",
        "$$\n",
        "where\n",
        "- $m$ is the **mass** of the string measured in kilogram (SI unit **kg**)\n",
        "- $a(t)$ is the **acceleration** measured in m/s^2.\n",
        "The acceleration is related to the displacement $x(t)$ as\n",
        "$$\n",
        "    a(t) = \\frac{dv(t)}{dt} = \\frac{d^2 x(t)}{d t^2}\n",
        "$$\n",
        "where $v(t)$ is the **velocity** measured in m/s."
      ]
    },
    {
      "cell_type": "markdown",
      "metadata": {
        "id": "-5se3Rk4szS_"
      },
      "source": [
        "Combining these three equations gives\n",
        "$$\n",
        "    -k x(t) = F(t) = ma(t) = m \\frac{d^2 x(t)}{dt^2}\n",
        "$$\n",
        "which can be rewritten as\n",
        "$$\n",
        "    \\frac{d^2 x(t)}{dt^2} = -\\frac{k}{m} x(t)\\ .\n",
        "$$\n",
        "This is a constant-coefficient second-order differential equation."
      ]
    },
    {
      "cell_type": "markdown",
      "metadata": {
        "id": "3mJsI7zAszTA"
      },
      "source": [
        "Let us check if our sinusoid\n",
        "$$\n",
        "    x(t) = A\\cos(\\Omega t + \\Phi)\n",
        "$$\n",
        "is a solution to the above differential equation. Since\n",
        "\\begin{align}\n",
        "    \\frac{dx(t)}{dt} &= -\\Omega A\\sin(\\Omega t + \\Phi)\\\\\n",
        "    \\frac{d^2 x(t)}{d t^2} &= -\\Omega^2 A\\cos(\\Omega t + \\Phi) = -\\Omega^2 x(t)\\ ,\n",
        "\\end{align}\n",
        "we obtain\n",
        "$$\n",
        "    -\\Omega^2x(t) = -\\frac{k}{m} x(t)\\ .\n",
        "$$\n",
        "Thus, striking a bar will make it vibrate sinusoidally with the frequency\n",
        "$$\n",
        "    \\Omega = \\sqrt{k/m}\\ .\n",
        "$$\n",
        "This frequency can be changed by changing the spring constant and mass."
      ]
    },
    {
      "cell_type": "markdown",
      "metadata": {
        "id": "llN1avBAszTA"
      },
      "source": [
        "<a name=\"Summary1\"></a>\n",
        "### Summary\n",
        "- Sound is a vibration travelling through a medium.\n",
        "- Sound waves are longitudal waves (and also transversal waves when travelling through a solid).\n",
        "- The human ear converts pressure variations in the air to\n",
        " 1. mechanical movement (interface is the eardrum)\n",
        " 2. vibrations in a liquid (interface is the oval window)\n",
        " 3. electrical signal to the brain (interface is the haircells attached to the basilar membrane)\n",
        "- A sinusoid (or sine wave) is given by\n",
        "$$\n",
        "    x(t) = A\\cos(\\Omega t + \\Phi)\\ ,\n",
        "$$\n",
        "and it an extremely important building block (or atom) in analysing and manipulating sound.\n",
        "- Assuming that striking a bar can be modelled as compressing a spring, the bar will vibrate sinusoidally."
      ]
    },
    {
      "cell_type": "markdown",
      "metadata": {
        "id": "WEGXavoNszTA"
      },
      "source": [
        "<a name=\"Complex-numbers\"></a>\n",
        "## Complex numbers\n",
        "In the next 20 minutes, you will learn\n",
        "- that the equation\n",
        "$$\n",
        "    x^2+1=0\n",
        "$$\n",
        "has two solutions\n",
        "- what a complex number is\n",
        "- how you add and multiply complex numbers"
      ]
    },
    {
      "cell_type": "markdown",
      "metadata": {
        "id": "k86PbqL_szTB"
      },
      "source": [
        "<a name=\"The-need-for-complex-numbers\"></a>\n",
        "### The need for complex numbers\n",
        "While the **linear** equation\n",
        "$$\n",
        "    x + 1 = 0\n",
        "$$\n",
        "can easily be solved, the simple **quadratic** equation\n",
        "$$\n",
        "    x^2 + 1 = 0\n",
        "$$\n",
        "was in high school said to have **no** solution since its descriminant was negative."
      ]
    },
    {
      "cell_type": "code",
      "metadata": {
        "id": "fD5wGTzBszTB",
        "outputId": "7de47b0e-2a9a-4cbd-8e3b-4008515cf7f8",
        "colab": {
          "base_uri": "https://localhost:8080/",
          "height": 283
        }
      },
      "source": [
        "%matplotlib inline\n",
        "import numpy as np\n",
        "import matplotlib.pyplot as plt\n",
        "\n",
        "nData = 100\n",
        "x = np.linspace(-2,2,nData)\n",
        "y = x**2+1\n",
        "plt.plot(x,y,linewidth=2)\n",
        "plt.xlabel('x')\n",
        "plt.ylabel('y')\n",
        "plt.ylim((-1,5))\n",
        "plt.grid(True);"
      ],
      "execution_count": 12,
      "outputs": [
        {
          "output_type": "display_data",
          "data": {
            "image/png": "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\n",
            "text/plain": [
              "<Figure size 432x288 with 1 Axes>"
            ]
          },
          "metadata": {
            "tags": [],
            "needs_background": "light"
          }
        }
      ]
    },
    {
      "cell_type": "markdown",
      "metadata": {
        "id": "LQ52uVIAszTB"
      },
      "source": [
        "However, the quadratic equation can in fact be solved by using **complex numbers**."
      ]
    },
    {
      "cell_type": "code",
      "metadata": {
        "id": "DQWkE55FszTB",
        "outputId": "debdfde4-d6c6-4b4b-e165-ce5e5094deed",
        "colab": {
          "base_uri": "https://localhost:8080/",
          "height": 320
        }
      },
      "source": [
        "YouTubeVideo('T647CGsuOVU')"
      ],
      "execution_count": 13,
      "outputs": [
        {
          "output_type": "execute_result",
          "data": {
            "text/html": [
              "\n",
              "        <iframe\n",
              "            width=\"400\"\n",
              "            height=\"300\"\n",
              "            src=\"https://www.youtube.com/embed/T647CGsuOVU\"\n",
              "            frameborder=\"0\"\n",
              "            allowfullscreen\n",
              "        ></iframe>\n",
              "        "
            ],
            "text/plain": [
              "<IPython.lib.display.YouTubeVideo at 0x7f2181c0eda0>"
            ],
            "image/jpeg": "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\n"
          },
          "metadata": {
            "tags": []
          },
          "execution_count": 13
        }
      ]
    },
    {
      "cell_type": "markdown",
      "metadata": {
        "id": "6VBGIhAdszTC"
      },
      "source": [
        "Rearranging our simple **quadratic** equation gives\n",
        "$$\n",
        "    x^2 = -1\n",
        "$$\n",
        "which allows us to write the solution as\n",
        "$$\n",
        "    x = \\pm\\sqrt{-1} = \\pm j\n",
        "$$\n",
        "where\n",
        "$$\n",
        "    j = \\sqrt{-1}\n",
        "$$\n",
        "is the **imaginary unit**. This unit also satisfies that\n",
        "$$\n",
        "    j^2 = \\sqrt{-1}^2 = -1\\ .\n",
        "$$\n",
        "\n",
        "Note that\n",
        "- **engineers** normally use the symbol $j$ for the imaginary unit\n",
        "- **mathematicians** normally use the symbol $i$ for the imaginary unit."
      ]
    },
    {
      "cell_type": "markdown",
      "metadata": {
        "id": "MfImsVzcszTC"
      },
      "source": [
        "Let us now consider the quadratic equation\n",
        "$$\n",
        "    x^2 + 2x + 5 = 0\\ .\n",
        "$$\n",
        "\n",
        "We know from high school that the solutions to the general quadratic\n",
        "$$\n",
        "    ax^2 + bx + c = 0\\ ,\\qquad\\text{for }a\\neq0\n",
        "$$\n",
        "have the form\n",
        "$$\n",
        "    x = \\frac{-b\\pm\\sqrt{d}}{2a}\n",
        "$$\n",
        "where $d$ is the **discriminant** given by\n",
        "$$\n",
        "    d = b^2-4ac\\ .\n",
        "$$"
      ]
    },
    {
      "cell_type": "markdown",
      "metadata": {
        "ExecuteTime": {
          "end_time": "2019-01-16T09:50:09.956042Z",
          "start_time": "2019-01-16T09:50:09.949657Z"
        },
        "id": "DNxyt7oaszTC"
      },
      "source": [
        "We obtain\n",
        "$$\n",
        "    d = 4-20 = -16\n",
        "$$\n",
        "so that\n",
        "$$\n",
        "    x = \\frac{-2\\pm\\sqrt{-16}}{2} = -1\\pm\\frac{1}{2}\\sqrt{-1\\cdot 4^2} = -1\\pm 2\\sqrt{-1} = -1\\pm 2j\\ .\n",
        "$$\n",
        "Thus, the **complex numbers** $-1+2j$ and $-1-2j$ are the solutions."
      ]
    },
    {
      "cell_type": "markdown",
      "metadata": {
        "id": "ID37y192szTC"
      },
      "source": [
        "<a name=\"The-complex-number\"></a>\n",
        "### The complex number\n",
        "A **complex number** can be written as\n",
        "$$\n",
        "    z = a + jb\n",
        "$$\n",
        "where\n",
        "- $a = \\text{Re}\\{z\\}$ is the **real** part\n",
        "- $b = \\text{Im}\\{z\\}$ is the **imaginary** part.\n",
        "\n",
        "A complex number can be depicted in the **complex plane** which is a 2D coordinate system.\n",
        "<center>\n",
        "<img src=\"https://github.com/SMC-AAU-CPH/med4-ap-jupyter/blob/main/lecture1_What_is_Sound/figures/ap1ComplexPlaneSketchA.png?raw=1\" alt=\"Complex plane\" width=\"80%\"/>\n",
        "</center>\n"
      ]
    },
    {
      "cell_type": "markdown",
      "metadata": {
        "id": "_4NxvJ7MszTC"
      },
      "source": [
        "#### The complex conjugate\n",
        "The **complex conjugate** of a complex number $z$ is\n",
        "$$\n",
        "    z^* = a - jb\\ .\n",
        "$$\n",
        "Thus, the conjugation operator ${}^*$ changes the sign of imaginary part, but not the real part."
      ]
    },
    {
      "cell_type": "markdown",
      "metadata": {
        "id": "oGKK9OcbszTD"
      },
      "source": [
        "#### Addition of complex numbers\n",
        "Assume we have the two complex numbers\n",
        "\\begin{align}\n",
        "    z_1 &= a_1+jb_1\\\\\n",
        "    z_2 &= a_2+jb_2\\ .\n",
        "\\end{align}\n",
        "\n",
        "The **sum** of these two numbers is then\n",
        "$$\n",
        "    z = z_1 + z_2 = a_1+jb_1 + a_2+jb_2 = (a_1+a_2) + j(b_1+b_2).\n",
        "$$\n",
        "\n",
        "Thus, the real and imaginary part of of $z=a+jb$ are simply\n",
        "\\begin{align}\n",
        "    a &= a_1 + a_2\\\\\n",
        "    b &= b_1 + b_2\\ .\n",
        "\\end{align}\n",
        "\n",
        "Note that\n",
        "\\begin{align}\n",
        "    z_1 + z_1^* &= 2a_1 + 0j = 2\\text{Re}(z_1)\\\\\n",
        "    z_1 - z_1^* &= 0 + 2jb_1 = 2\\text{Im}(z_1)\\ .\n",
        "\\end{align}\n",
        "\n"
      ]
    },
    {
      "cell_type": "markdown",
      "metadata": {
        "id": "z2jXmx6RszTD"
      },
      "source": [
        "#### Multiplication of complex numbers\n",
        "Assume we have the two complex numbers\n",
        "\\begin{align}\n",
        "    z_1 &= a_1+jb_1\\\\\n",
        "    z_2 &= a_2+jb_2\\ .\n",
        "\\end{align}\n",
        "\n",
        "The **product** of these two numbers is then\n",
        "$$\n",
        "    z = z_1z_2 = (a_1+jb_1)(a_2+jb_2) = (a_1a_2-b_1b_2) + j(a_1b_2+b_1a_2).\n",
        "$$\n",
        "\n",
        "Thus, the real and imaginary part of of $z=a+jb$ are\n",
        "\\begin{align}\n",
        "    a &= (a_1a_2-b_1b_2)\\\\\n",
        "    b &= (a_1b_2+b_1a_2)\\ .\n",
        "\\end{align}\n",
        "\n",
        "Note that\n",
        "$$\n",
        "    z_1z_1^* = (a_1a_1-b_1(-b_1)) +j(a_1b_1-b_1a_1) = a_1^2+b_1^2 = \\text{Re}(z_1)^2+\\text{Im}(z_1)^2\n",
        "$$"
      ]
    },
    {
      "cell_type": "markdown",
      "metadata": {
        "id": "JaWNO5RCszTD"
      },
      "source": [
        "<a name=\"Summary2\"></a>\n",
        "### Summary\n",
        "- Complex numbers were originally invented to solve algebraic equations (e.g., the cubic equation)\n",
        "- The imaginary unit is $j=\\sqrt{-1}$\n",
        "- A **complex number** $z$ consists of a real part $a$ and imaginary part $b$, and is written as\n",
        "$$\n",
        "    z = a+jb\\ .\n",
        "$$\n",
        "- The **complex conjugate** of $z$ is\n",
        "$$\n",
        "    z^* = a-jb\\ .\n",
        "$$\n",
        "- It is much easier to add two complex numbers than it is to multiply them."
      ]
    },
    {
      "cell_type": "markdown",
      "metadata": {
        "heading_collapsed": true,
        "id": "AYjI4tgmszTD"
      },
      "source": [
        "<a name=\"Additional-information-on-complex-numbers\"></a>\n",
        "### Additional information on complex numbers\n",
        "If you want to know more about complex numbers (e.g., its history), you can find some nice videos here:\n",
        "\n",
        "https://www.youtube.com/playlist?list=PLiaHhY2iBX9g6KIvZ_703G3KJXapKkNaF"
      ]
    },
    {
      "cell_type": "markdown",
      "metadata": {
        "id": "jUrZRg6MszTD"
      },
      "source": [
        "### Active 5 minutes break\n",
        "Let\n",
        "\\begin{align}\n",
        "    z_1 &= a_1+jb_1 =  2+3j\\\\\n",
        "    z_2 &= a_2+jb_2 = -1-2j\\ .\n",
        "\\end{align}\n",
        "\n",
        "By hand, please calculate\n",
        "\\begin{align}\n",
        "    z_1 + z_2 &= \\\\\n",
        "    z_1 - z_2 &= \\\\\n",
        "    z_1 + z_1^* &= \\\\\n",
        "    z_2 - z_2^*+2z_1 &= \\\\\n",
        "    z_1z_2^* &=\\\\\n",
        "    z_1^2+z_2^*z_1 &=\n",
        "\\end{align}\n",
        "Check the results with your neighbours.\n",
        "\n",
        "---\n",
        "**Tip:** Use the rules\n",
        "\\begin{align}\n",
        "    z_1 + z_2 &= (a_1+a_2) + j(b_1+b_2)\\\\\n",
        "     z_1z_2 &= (a_1a_2-b_1b_2) + j(a_1b_2+b_1a_2)\\ .\n",
        "\\end{align}"
      ]
    },
    {
      "cell_type": "markdown",
      "metadata": {
        "id": "xnKKsWpVszTD"
      },
      "source": [
        "<a name=\"Phasors\"></a>\n",
        "## Phasors\n",
        "In the next 20 minutes, you will learn\n",
        "- how a complex number can be written in a **polar form**\n",
        "- why the polar form makes multiplications much easier\n",
        "- what a **phasor** is\n",
        "- how a phasor is related to a **real sinusoid**"
      ]
    },
    {
      "cell_type": "markdown",
      "metadata": {
        "id": "otvylDO4szTE"
      },
      "source": [
        "<a name=\"The-polar-(or-exponential)-form-of-a-complex-number\"></a>\n",
        "### The polar (or exponential) form of a complex number\n",
        "As for 2D vectors, we can also write a complex number in terms of its **magnitude** $r$ and **angle** $\\psi$. We have\n",
        "\\begin{align}\n",
        "    a &= r\\cos\\psi\\\\\n",
        "    b &= r\\sin\\psi\\ .\n",
        "\\end{align}\n",
        "Thus,\n",
        "$$\n",
        "    z = a + jb = r\\left(\\cos\\psi + j\\sin\\psi\\right) = r\\mathrm{e}^{j\\psi}\n",
        "$$\n",
        "where the last equality follows from **Euler's formula**.\n",
        "<center>\n",
        "<img src=\"https://github.com/SMC-AAU-CPH/med4-ap-jupyter/blob/main/lecture1_What_is_Sound/figures/ap1ComplexPlaneSketchB.png?raw=1\" alt=\"Complex plane\" width=\"80%\"/>\n",
        "</center>"
      ]
    },
    {
      "cell_type": "markdown",
      "metadata": {
        "id": "5EroEHCSszTE"
      },
      "source": [
        "#### Euler's formula\n",
        "Given by\n",
        "$$\n",
        "    \\mathrm{e}^{j\\psi} = \\cos\\psi + j\\sin\\psi\\ .\n",
        "$$\n",
        "- A very important formula used everywhere in science and engineering\n",
        "- Simplifies notation and mathematical manipulations\n",
        "- Its real and imaginary parts are a cosine and a sine, respectively, i.e.,\n",
        "\\begin{align}\n",
        "    \\text{Re}(\\mathrm{e}^{j\\psi}) &= \\cos\\psi\\\\\n",
        "    \\text{Im}(\\mathrm{e}^{j\\psi}) &= \\sin\\psi\\ .\n",
        "\\end{align}\n",
        "<center>\n",
        "<img src=\"https://github.com/SMC-AAU-CPH/med4-ap-jupyter/blob/main/lecture1_What_is_Sound/figures/ap1eulersFormula.png?raw=1\" alt=\"Complex plane\" width=\"80%\"/>\n",
        "</center>"
      ]
    },
    {
      "cell_type": "markdown",
      "metadata": {
        "id": "17jjq9XXszTE"
      },
      "source": [
        "#### The complex conjugate\n",
        "The **complex conjugate** of a complex number\n",
        "$$\n",
        "    z=r \\mathrm{e}^{j\\psi}\n",
        "$$\n",
        "is\n",
        "$$\n",
        "    z^* = r \\mathrm{e}^{-j\\psi}\\ .\n",
        "$$\n",
        "Thus, the conjugation operator ${}^*$ changes the sign of the angle, but not the magnitude."
      ]
    },
    {
      "cell_type": "markdown",
      "metadata": {
        "id": "Yi_v_7nLszTE"
      },
      "source": [
        "#### Multiplication of complex numbers\n",
        "Multiplication of complex numbers is much easier when the polar form is used. Let\n",
        "\\begin{align}\n",
        "    z_1 &= a_1+jb_1 = r_1 \\mathrm{e}^{j\\psi_1}\\\\\n",
        "    z_2 &= a_2+jb_2 = r_2 \\mathrm{e}^{j\\psi_2}\\ .\n",
        "\\end{align}\n",
        "\n",
        "The **product** of these two numbers is then\n",
        "$$\n",
        "    z = z_1z_2 = r_1 \\mathrm{e}^{j\\psi_1}r_2 \\mathrm{e}^{j\\psi_2} = r_1 r_2 \\mathrm{e}^{j\\psi_1}r_2 \\mathrm{e}^{j\\psi_2} = r_1 r_2 \\mathrm{e}^{j(\\psi_1+\\psi_2)}\n",
        "$$\n",
        "where we used $a^na^m = a^{n+m}$ to get the last equation.\n",
        "\n",
        "Thus, to multiply two complex numbers we\n",
        "- multiply their magnitudes\n",
        "- add their angles\n",
        "\n",
        "Note that **divisions** can be calculated as multiplications since\n",
        "$$\n",
        "    \\frac{z_1}{z_2} = z_1\\frac{1}{z_2} = z_1 z_2^{-1}\n",
        "$$\n",
        "and\n",
        "$$\n",
        "    z_2^{-1} = \\frac{1}{r_2}\\mathrm{e}^{-j\\psi_2}\\ .\n",
        "$$"
      ]
    },
    {
      "cell_type": "markdown",
      "metadata": {
        "id": "GR87D8ORszTE"
      },
      "source": [
        "#### Converting between the rectangular and polar forms\n",
        "We have seen that a complex number $z$ can be written as\n",
        "$$\n",
        "    z = a+jb = r\\mathrm{e}^{j\\psi}\\ .\n",
        "$$\n",
        "\n",
        "We can convert from the polar coordinates $(r,\\psi)$ to the rectangular coordinates $(a,b)$ via\n",
        "\\begin{align}\n",
        "    a &= r\\cos\\psi\\\\\n",
        "    b &= r\\sin\\psi\\ .\n",
        "\\end{align}\n",
        "\n",
        "We can convert from the rectangular coordinates $(a,b)$ to the polar coordinates $(r,\\psi)$ via\n",
        "\\begin{align}\n",
        "    r &= \\sqrt{a^2+b^2}\\\\\n",
        "    \\psi &= \\mathrm{arctan2}(b,a)\\ .\n",
        "\\end{align}"
      ]
    },
    {
      "cell_type": "markdown",
      "metadata": {
        "id": "WqEGyRs3szTE"
      },
      "source": [
        "<a name=\"The-phasor\"></a>\n",
        "### The phasor\n",
        "We have previously looked at the sinusoid\n",
        "$$\n",
        "    x(t) = A\\cos(\\Omega t + \\Phi)\\ .\n",
        "$$\n",
        "\n",
        "Based on what we know about Euler's formula and complex numbers, we can now also write $x(t)$ as\n",
        "$$\n",
        "    x(t) = \\text{Re}\\left[A\\exp(j(\\Omega t +\\Psi))\\right]\n",
        "$$\n",
        "since (from Euler's formula)\n",
        "$$\n",
        "    A\\exp(j(\\Omega t +\\Psi)) = A\\cos(\\Omega t +\\Psi)+jA\\sin(\\Omega t +\\Psi)\\ .\n",
        "$$\n",
        "This time-varying complex number is called a **phasor** or a **complex sinusoid**.\n",
        "\n",
        "Note that\n",
        "- using the phasor instead of the real sinusoid makes life much easier (you will see this later in the course)\n",
        "- even though we work with the phasor, we can always come back to the real sinusoid by taking the real part of the phasor"
      ]
    },
    {
      "cell_type": "markdown",
      "metadata": {
        "id": "9FjS7NSiszTF"
      },
      "source": [
        "<center>\n",
        "<img src=\"https://github.com/SMC-AAU-CPH/med4-ap-jupyter/blob/main/lecture1_What_is_Sound/figures/ap1PhasorIllustration.png?raw=1\" alt=\"Phasor illustration\" width=\"80%\"/>\n",
        "</center>"
      ]
    },
    {
      "cell_type": "markdown",
      "metadata": {
        "id": "ppMEMl6vszTF"
      },
      "source": [
        "<center>\n",
        "<img src=\"https://thumbs.gfycat.com/FixedElderlyAtlanticblackgoby-small.gif\" alt=\"Animated phasors\" width=\"40%\"/>\n",
        "</center>"
      ]
    },
    {
      "cell_type": "markdown",
      "metadata": {
        "id": "_0Po2p2uszTF"
      },
      "source": [
        "<a name=\"Summary3\"></a>\n",F
        "### Summary\n",
        "- The **polar form** of a complex number $z=a+jb$ is\n",
        "$$\n",
        "    z = r\\mathrm{e}^{j\\psi}\n",
        "$$\n",
        "where the magnitude $r$ and angle $\\psi$ are given by\n",
        "\\begin{align}\n",
        "    r &= \\sqrt{a^2+b^2}\\\\\n",
        "    \\psi &= \\mathrm{arctan2}(b,a)\\ .\n",
        "\\end{align}\n",
        "- Multiplications (and divisions) are much easier when using the polar form.\n",
        "- A **phasor** is a complex sinusoid given by\n",
        "$$\n",
        "    z(t) = A\\exp(j(\\Omega t +\\Psi))\\ ,\n",
        "$$\n",
        "and its real part is a real sinusoid, i.e., \n",
        "$$\n",
        "    x(t) = \\text{Re}(z(t)) = A\\cos(\\Omega t +\\Psi)\\ .\n",
        "$$\n"
      ]
    }
  ]
}
