{
 "cells": [
  {
   "cell_type": "markdown",
   "metadata": {
    "slideshow": {
     "slide_type": "slide"
    }
   },
   "outputs": [],
   "source": [
    "# Lecture 1: What is Sound?\n",
    "Audio Processing, MED4, Aalborg University, 2019\n",
    "\n",
    "By Jesper Kjær Nielsen (jkn@create.aau.dk), Audio Analysis Lab, Aalborg University.\n",
    "\n",
    "Last edited: 2019-02-04"
   ]
  },
  {
   "cell_type": "markdown",
   "metadata": {
    "slideshow": {
     "slide_type": "slide"
    },
    "toc": true,
    "toc-hr-collapsed": false
   },
   "outputs": [],
   "source": [
    "<h1>Table of Contents<span class=\"tocSkip\"></span></h1>\n",
    "<div class=\"toc\"><ul class=\"toc-item\"><li><span><a href=\"#Sound-and-simple-vibrations\" data-toc-modified-id=\"Sound-and-simple-vibrations-1\"><span class=\"toc-item-num\">1&nbsp;&nbsp;</span>Sound and simple vibrations</a></span><ul class=\"toc-item\"><li><span><a href=\"#What-is-sound?\" data-toc-modified-id=\"What-is-sound?-1.1\"><span class=\"toc-item-num\">1.1&nbsp;&nbsp;</span>What is sound?</a></span></li><li><span><a href=\"#Human-hearing\" data-toc-modified-id=\"Human-hearing-1.2\"><span class=\"toc-item-num\">1.2&nbsp;&nbsp;</span>Human hearing</a></span></li><li><span><a href=\"#Sinusoids\" data-toc-modified-id=\"Sinusoids-1.3\"><span class=\"toc-item-num\">1.3&nbsp;&nbsp;</span>Sinusoids</a></span></li><li><span><a href=\"#Summary\" data-toc-modified-id=\"Summary-1.4\"><span class=\"toc-item-num\">1.4&nbsp;&nbsp;</span>Summary</a></span></li></ul></li><li><span><a href=\"#Complex-numbers\" data-toc-modified-id=\"Complex-numbers-2\"><span class=\"toc-item-num\">2&nbsp;&nbsp;</span>Complex numbers</a></span><ul class=\"toc-item\"><li><span><a href=\"#The-need-for-complex-numbers\" data-toc-modified-id=\"The-need-for-complex-numbers-2.1\"><span class=\"toc-item-num\">2.1&nbsp;&nbsp;</span>The need for complex numbers</a></span></li><li><span><a href=\"#The-complex-number\" data-toc-modified-id=\"The-complex-number-2.2\"><span class=\"toc-item-num\">2.2&nbsp;&nbsp;</span>The complex number</a></span></li><li><span><a href=\"#Summary\" data-toc-modified-id=\"Summary-2.3\"><span class=\"toc-item-num\">2.3&nbsp;&nbsp;</span>Summary</a></span></li><li><span><a href=\"#Additional-information-on-complex-numbers\" data-toc-modified-id=\"Additional-information-on-complex-numbers-2.4\"><span class=\"toc-item-num\">2.4&nbsp;&nbsp;</span>Additional information on complex numbers</a></span></li><li><span><a href=\"#Active-5-minutes-break\" data-toc-modified-id=\"Active-5-minutes-break-2.5\"><span class=\"toc-item-num\">2.5&nbsp;&nbsp;</span>Active 5 minutes break</a></span></li></ul></li><li><span><a href=\"#Phasors\" data-toc-modified-id=\"Phasors-3\"><span class=\"toc-item-num\">3&nbsp;&nbsp;</span>Phasors</a></span><ul class=\"toc-item\"><li><span><a href=\"#The-polar-(or-exponential)-form-of-a-complex-number\" data-toc-modified-id=\"The-polar-(or-exponential)-form-of-a-complex-number-3.1\"><span class=\"toc-item-num\">3.1&nbsp;&nbsp;</span>The polar (or exponential) form of a complex number</a></span></li><li><span><a href=\"#The-phasor\" data-toc-modified-id=\"The-phasor-3.2\"><span class=\"toc-item-num\">3.2&nbsp;&nbsp;</span>The phasor</a></span></li><li><span><a href=\"#Summary\" data-toc-modified-id=\"Summary-3.3\"><span class=\"toc-item-num\">3.3&nbsp;&nbsp;</span>Summary</a></span></li></ul></li></ul></div>"
   ]
  },
  {
   "cell_type": "markdown",
   "metadata": {
    "ExecuteTime": {
     "end_time": "2019-01-11T14:57:09.249670Z",
     "start_time": "2019-01-11T14:57:09.210499Z"
    },
    "slideshow": {
     "slide_type": "slide"
    }
   },
   "outputs": [],
   "source": [
    "## Sound and simple vibrations\n",
    "In the next 20 minutes, you will learn\n",
    "- What sound is and how it propagates\n",
    "- How humans perceive sound\n",
    "- What a sinusoid is\n",
    "- that striking a bar creates a sinusoidal sound"
   ]
  },
  {
   "cell_type": "markdown",
   "metadata": {
    "slideshow": {
     "slide_type": "slide"
    }
   },
   "outputs": [],
   "source": [
    "### What is sound?\n",
    "<center>\n",
    "<a href=\"http://www.youtube.com/watch?feature=player_embedded&v=GkNJvZINSEY\n",
    "\" target=\"_blank\"><img src=\"http://img.youtube.com/vi/GkNJvZINSEY/0.jpg\" \n",
    "alt=\"IMAGE ALT TEXT HERE\" width=\"480\" height=\"360\" border=\"10\" /></a>\n",
    "</center>"
   ]
  },
  {
   "cell_type": "code",
   "execution_count": null,
   "metadata": {},
   "outputs": [],
   "source": [
    "from IPython.display import display, YouTubeVideo, Image\n",
    "YouTubeVideo('GkNJvZINSEY')"
   ]
  },
  {
   "cell_type": "markdown",
   "metadata": {
    "slideshow": {
     "slide_type": "slide"
    }
   },
   "outputs": [],
   "source": [
    "Sound is a **vibration** which travels through a medium as\n",
    "- **longitudinal** waves: gasses (e.g., air), liquids (e.g., water), and solids (e.g., concrete)\n",
    "- **transversal** sound waves: solids (e.g., concrete)\n",
    "The **speed of sound** depends on the medium. In, e.g., air at room temperature, it is approximately 343 m/s."
   ]
  },
  {
   "cell_type": "code",
   "execution_count": null,
   "metadata": {},
   "outputs": [],
   "source": [
    "Image('apLecture1_files/wave.png')"
   ]
  },
  {
   "cell_type": "markdown",
   "metadata": {
    "slideshow": {
     "slide_type": "slide"
    }
   },
   "outputs": [],
   "source": [
    "Sound is normally divided into three types:\n",
    "1. Infrasound: Sound with frequencies up to 20 Hz\n",
    "2. Audible sound: Sound with frequencies in range 20 Hz - 20 kHz (this is often referred to as **audio**)\n",
    "3. Ultra sound: Sound with frequencies above 20 kHz"
   ]
  },
  {
   "cell_type": "markdown",
   "metadata": {
    "ExecuteTime": {
     "end_time": "2019-01-15T07:38:35.046925Z",
     "start_time": "2019-01-15T07:38:35.043165Z"
    },
    "slideshow": {
     "slide_type": "slide"
    }
   },
   "outputs": [],
   "source": [
    "### Human hearing\n",
    "<centering>\n",
    "<a href=\"http://www.youtube.com/watch?feature=player_embedded&v=eQEaiZ2j9oc\n",
    "\" target=\"_blank\"><img src=\"http://img.youtube.com/vi/eQEaiZ2j9oc/0.jpg\" \n",
    "alt=\"IMAGE ALT TEXT HERE\" width=\"480\" height=\"360\" border=\"10\" /></a>\n",
    "<centering>"
   ]
  },
  {
   "cell_type": "markdown",
   "metadata": {
    "ExecuteTime": {
     "end_time": "2019-01-15T07:38:35.046925Z",
     "start_time": "2019-01-15T07:38:35.043165Z"
    },
    "slideshow": {
     "slide_type": "slide"
    }
   },
   "outputs": [],
   "source": [
    "The human ear consists of the following parts:\n",
    "- **Outer ear**: Everything on the outside of the ear drum, including the pinna\n",
    "- **Middle ear**: The three bones (Malleus, Incus, Stapes) acting as a mechanical transducer between the ear drum and the oval window in the cochlea\n",
    "- **Inner ear**: The cochlea which is a coiled, liqued-filled tube. Subsided in the liqued is the basilar membrane which vibrates when sound propagates through the fluid. These vibrations are converted into electrical signals by hair cells attached to the basilar membrane.\n",
    "<center>\n",
    "<img src=\"https://www.hearinglink.org/wp-content/uploads/2016/02/Human-Ear-Diagram.jpg\" alt=\"Human ear\" width=\"80%\"/>\n",
    "</center>"
   ]
  },
  {
   "cell_type": "markdown",
   "metadata": {
    "ExecuteTime": {
     "end_time": "2019-01-15T07:38:35.046925Z",
     "start_time": "2019-01-15T07:38:35.043165Z"
    },
    "slideshow": {
     "slide_type": "slide"
    }
   },
   "outputs": [],
   "source": [
    "The human ear\n",
    "- does not hear all frequencies equally well\n",
    "- is most sensitive to frequencies around 4 kHz\n",
    "- is tuned to speech\n",
    "- has a really large dynamic range of up to ~120 dB (i.e., we can hear sound intensities up to ~10^12 the quietest sounds)\n",
    "<center>\n",
    "<img src=\"https://qph.fs.quoracdn.net/main-qimg-98ef07eac5bba8e7f571ecab93755d97\" alt=\"Human ear\" width=\"80%\"/>\n",
    "</center>"
   ]
  },
  {
   "cell_type": "markdown",
   "metadata": {
    "slideshow": {
     "slide_type": "slide"
    }
   },
   "outputs": [],
   "source": [
    "### Sinusoids\n",
    "A sinusoid (or a sine wave) is given by\n",
    "$$\n",
    "    x(t) = A \\cos(\\Omega t + \\Phi)\n",
    "$$\n",
    "where\n",
    "- $A\\geq0$ is the **amplitude**\n",
    "- $\\Omega$ is the **frequency** measured in radians pr. second (SI symbol **rad/s**). Is related to the frequency $f$ measured in cycles pr. second (SI symbol **Hz**) via $\\Omega = 2\\pi f$.\n",
    "- $t$ is the **time** measured in seconds (SI symbol **s**)\n",
    "- $\\Phi$ is the **initial phase** measured in radians (SI symbol **rad**)"
   ]
  },
  {
   "cell_type": "markdown",
   "metadata": {
    "slideshow": {
     "slide_type": "slide"
    }
   },
   "outputs": [],
   "source": [
    "The above form of the sinusoid is often referred to as the **polar form**. By using the angle addition formula for a cosine, i.e.,\n",
    "$$\n",
    "    \\cos(\\theta+\\phi) = \\cos(\\theta)\\cos(\\phi)-\\sin(\\theta)\\sin(\\phi)\\ ,\n",
    "$$\n",
    "a sinusoid can also be written in a **rectangular form** as\n",
    "$$\n",
    "    x(t) = a\\cos(\\Omega t) + b\\sin(\\Omega t)\n",
    "$$\n",
    "where a and b are scalers given by\n",
    "\\begin{align}\n",
    "    a &= A\\cos(\\Phi)\\\\\n",
    "    b &= -A\\sin(\\Phi)\\ .\n",
    "\\end{align}"
   ]
  },
  {
   "cell_type": "markdown",
   "metadata": {
    "slideshow": {
     "slide_type": "slide"
    }
   },
   "outputs": [],
   "source": [
    "#### Numpy example: A sinusoid"
   ]
  },
  {
   "cell_type": "markdown",
   "metadata": {
    "slideshow": {
     "slide_type": "slide"
    }
   },
   "outputs": [],
   "source": [
    "#### Example: Generation of a sinusoid from a vibrating bar\n",
    "<br />\n",
    "<center>\n",
    "<img src=\"https://upload.wikimedia.org/wikipedia/commons/thumb/7/72/Glockenspiel.jpg/1280px-Glockenspiel.jpg\" alt=\"Glockenspiel\" width=\"60%\" />\n",
    "</center>"
   ]
  },
  {
   "cell_type": "markdown",
   "metadata": {
    "slideshow": {
     "slide_type": "slide"
    }
   },
   "outputs": [],
   "source": [
    "Assume that the act of striking a bar is modelled as **compressing a spring** in one dimension. From Hooke's law, this compresssion can be written as\n",
    "$$\n",
    "    F(t) = -k x(t)\n",
    "$$\n",
    "where\n",
    "- $F(t)$ is the **restoring force** measured in Newton (SI unit **N**)\n",
    "- $x(t)$ is the **displacement** measured in meters (SI unit **m**) of the string from its resting position\n",
    "- $k$ is the **spring constant** measured in N/m"
   ]
  },
  {
   "cell_type": "markdown",
   "metadata": {
    "slideshow": {
     "slide_type": "slide"
    }
   },
   "outputs": [],
   "source": [
    "From **Newton's second law**, the force can also be expressed as\n",
    "$$\n",
    "    F(t) = ma(t)\n",
    "$$\n",
    "where\n",
    "- $m$ is the **mass** of the string measured in kilogram (SI unit **kg**)\n",
    "- $a(t)$ is the **acceleration** measured in m/s^2.\n",
    "The acceleration is related to the displacement $x(t)$ as\n",
    "$$\n",
    "    a(t) = \\frac{dv(t)}{dt} = \\frac{d^2 x(t)}{d t^2}\n",
    "$$\n",
    "where $v(t)$ is the **velocity** measured in m/s."
   ]
  },
  {
   "cell_type": "markdown",
   "metadata": {
    "slideshow": {
     "slide_type": "slide"
    }
   },
   "outputs": [],
   "source": [
    "Combining these three equations gives\n",
    "$$\n",
    "    -k x(t) = F(t) = ma(t) = m \\frac{d^2 x(t)}{dt^2}\n",
    "$$\n",
    "which can be rewritten as\n",
    "$$\n",
    "    \\frac{d^2 x(t)}{dt^2} = -\\frac{k}{m} x(t)\\ .\n",
    "$$\n",
    "This is a constant-coefficient second-order differential equation."
   ]
  },
  {
   "cell_type": "markdown",
   "metadata": {
    "slideshow": {
     "slide_type": "slide"
    }
   },
   "outputs": [],
   "source": [
    "Let us check if our sinusoid\n",
    "$$\n",
    "    x(t) = A\\cos(\\Omega t + \\Phi)\n",
    "$$\n",
    "is a solution to the above differential equation. Since\n",
    "\\begin{align}\n",
    "    \\frac{dx(t)}{dt} &= -\\Omega A\\sin(\\Omega t + \\Phi)\\\\\n",
    "    \\frac{d^2 x(t)}{d t^2} &= -\\Omega^2 A\\cos(\\Omega t + \\Phi) = -\\Omega^2 x(t)\\ ,\n",
    "\\end{align}\n",
    "we obtain\n",
    "$$\n",
    "    -\\Omega^2x(t) = -\\frac{k}{m} x(t)\\ .\n",
    "$$\n",
    "Thus, striking a bar will make it vibrate sinusoidally with the frequency\n",
    "$$\n",
    "    \\Omega = \\sqrt{k/m}\\ .\n",
    "$$\n",
    "This frequency can be changed by changing the spring constant and mass."
   ]
  },
  {
   "cell_type": "raw",
   "metadata": {
    "slideshow": {
     "slide_type": "slide"
    }
   },
   "outputs": [],
   "source": [
    "### Summary\n",
    "- Sound is a vibration travelling through a medium.\n",
    "- Sound waves are longitudal waves (and also transversal waves when travelling through a solid).\n",
    "- The human ear converts pressure variations in the air to\n",
    " 1. mechanical movement (interface is the eardrum)\n",
    " 2. vibrations in a liquid (interface is the oval window)\n",
    " 3. electrical signal to the brain (interface is the haircells attached to the basilar membrane)\n",
    "- A sinusoid (or sine wave) is given by\n",
    "$$\n",
    "    x(t) = A\\cos(\\Omega t + \\Phi)\\ ,\n",
    "$$\n",
    "and it an extremely important building block (or atom) in analysing and manipulating sound.\n",
    "- Assuming that striking a bar can be modelled as compressing a spring, the bar will vibrate sinusoidally."
   ]
  },
  {
   "cell_type": "markdown",
   "metadata": {
    "slideshow": {
     "slide_type": "slide"
    }
   },
   "outputs": [],
   "source": [
    "## Complex numbers\n",
    "In the next 20 minutes, you will learn\n",
    "- that the equation\n",
    "$$\n",
    "    x^2+1=0\n",
    "$$\n",
    "has two solutions\n",
    "- what a complex number is\n",
    "- how you add and multiply complex numbers"
   ]
  },
  {
   "cell_type": "markdown",
   "metadata": {
    "slideshow": {
     "slide_type": "slide"
    }
   },
   "outputs": [],
   "source": [
    "### The need for complex numbers\n",
    "While the **linear** equation\n",
    "$$\n",
    "    x + 1 = 0\n",
    "$$\n",
    "can easily be solved, the simple **quadratic** equation\n",
    "$$\n",
    "    x^2 + 1 = 0\n",
    "$$\n",
    "was in high school said to have **no** solution since its descriminant was negative."
   ]
  },
  {
   "cell_type": "code",
   "execution_count": null,
   "metadata": {},
   "outputs": [],
   "source": [
    "%matplotlib inline\n",
    "import numpy as np\n",
    "import matplotlib.pyplot as plt\n",
    "\n",
    "nData = 100\n",
    "x = np.linspace(-2,2,nData)\n",
    "y = x**2+1\n",
    "plt.plot(x,y,linewidth=2)\n",
    "plt.xlabel('x')\n",
    "plt.ylabel('y')\n",
    "plt.ylim((-1,5))\n",
    "plt.grid(True);"
   ]
  },
  {
   "cell_type": "code",
   "execution_count": null,
   "metadata": {},
   "outputs": [],
   "source": []
  },
  {
   "cell_type": "markdown",
   "metadata": {
    "slideshow": {
     "slide_type": "slide"
    }
   },
   "outputs": [],
   "source": [
    "However, the quadratic equation can in fact be solved by using **complex numbers**.\n",
    "<center>\n",
    "<a href=\"http://www.youtube.com/watch?feature=player_embedded&v=T647CGsuOVU\n",
    "\" target=\"_blank\"><img src=\"http://img.youtube.com/vi/T647CGsuOVU/0.jpg\" \n",
    "alt=\"IMAGE ALT TEXT HERE\" width=\"480\" height=\"360\" border=\"10\" /></a>\n",
    "</center>"
   ]
  },
  {
   "cell_type": "markdown",
   "metadata": {
    "slideshow": {
     "slide_type": "slide"
    }
   },
   "outputs": [],
   "source": [
    "Rearranging our simple **quadratic** equation gives\n",
    "$$\n",
    "    x^2 = -1\n",
    "$$\n",
    "which allows us to write the solution as\n",
    "$$\n",
    "    x = \\pm\\sqrt{-1} = \\pm j\n",
    "$$\n",
    "where\n",
    "$$\n",
    "    j = \\sqrt{-1}\n",
    "$$\n",
    "is the **imaginary unit**. This unit also satisfies that\n",
    "$$\n",
    "    j^2 = \\sqrt{-1}^2 = -1\\ .\n",
    "$$\n",
    "\n",
    "Note that\n",
    "- **engineers** normally use the symbol $j$ for the imaginary unit\n",
    "- **mathematicians** normally use the symbol $i$ for the imaginary unit."
   ]
  },
  {
   "cell_type": "markdown",
   "metadata": {
    "slideshow": {
     "slide_type": "slide"
    }
   },
   "outputs": [],
   "source": [
    "Let us now consider the quadratic equation\n",
    "$$\n",
    "    x^2 + 2x + 5 = 0\\ .\n",
    "$$\n",
    "\n",
    "We know from high school that the solutions to the general quadratic\n",
    "$$\n",
    "    ax^2 + bx + c = 0\\ ,\\qquad\\text{for }a\\neq0\n",
    "$$\n",
    "have the form\n",
    "$$\n",
    "    x = \\frac{-b\\pm\\sqrt{d}}{2a}\n",
    "$$\n",
    "where $d$ is the **discriminant** given by\n",
    "$$\n",
    "    d = b^2-4ac\\ .\n",
    "$$"
   ]
  },
  {
   "cell_type": "markdown",
   "metadata": {
    "ExecuteTime": {
     "end_time": "2019-01-16T09:50:09.956042Z",
     "start_time": "2019-01-16T09:50:09.949657Z"
    },
    "slideshow": {
     "slide_type": "fragment"
    }
   },
   "outputs": [],
   "source": [
    "We obtain\n",
    "$$\n",
    "    d = 4-20 = -16\n",
    "$$\n",
    "so that\n",
    "$$\n",
    "    x = \\frac{-2\\pm\\sqrt{-16}}{2} = -1\\pm\\frac{1}{2}\\sqrt{-1\\cdot 4^2} = -1\\pm 2\\sqrt{-1} = -1\\pm 2j\\ .\n",
    "$$\n",
    "Thus, the **complex numbers** $-1+2j$ and $-1-2j$ are the solutions."
   ]
  },
  {
   "cell_type": "markdown",
   "metadata": {
    "slideshow": {
     "slide_type": "slide"
    }
   },
   "outputs": [],
   "source": [
    "### The complex number\n",
    "A **complex number** can be written as\n",
    "$$\n",
    "    z = a + jb\n",
    "$$\n",
    "where\n",
    "- $a = \\text{Re}\\{z\\}$ is the **real** part\n",
    "- $b = \\text{Im}\\{z\\}$ is the **imaginary** part.\n",
    "\n",
    "A complex number can be depicted in the **complex plane** which is a 2D coordinate system.\n",
    "<center>\n",
    "<img src=\"figures/ap1ComplexPlaneSketchA.png\" alt=\"Complex plane\" width=\"80%\"/>\n",
    "</center>\n"
   ]
  },
  {
   "cell_type": "markdown",
   "metadata": {
    "slideshow": {
     "slide_type": "slide"
    }
   },
   "outputs": [],
   "source": [
    "#### The complex conjugate\n",
    "The **complex conjugate** of a complex number $z$ is\n",
    "$$\n",
    "    z^* = a - jb\\ .\n",
    "$$\n",
    "Thus, the conjugation operator ${}^*$ changes the sign of imaginary part, but not the real part."
   ]
  },
  {
   "cell_type": "markdown",
   "metadata": {
    "slideshow": {
     "slide_type": "slide"
    }
   },
   "outputs": [],
   "source": [
    "#### Addition of complex numbers\n",
    "Assume we have the two complex numbers\n",
    "\\begin{align}\n",
    "    z_1 &= a_1+jb_1\\\\\n",
    "    z_2 &= a_2+jb_2\\ .\n",
    "\\end{align}\n",
    "\n",
    "The **sum** of these two numbers is then\n",
    "$$\n",
    "    z = z_1 + z_2 = a_1+jb_1 + a_2+jb_2 = (a_1+a_2) + j(b_1+b_2).\n",
    "$$\n",
    "\n",
    "Thus, the real and imaginary part of of $z=a+jb$ are simply\n",
    "\\begin{align}\n",
    "    a &= a_1 + a_2\\\\\n",
    "    b &= b_1 + b_2\\ .\n",
    "\\end{align}\n",
    "\n",
    "Note that\n",
    "\\begin{align}\n",
    "    z_1 + z_1^* &= 2a_1 + 0j = 2\\text{Re}(z_1)\\\\\n",
    "    z_1 - z_1^* &= 0 + 2jb_1 = 2\\text{Im}(z_1)\\ .\n",
    "\\end{align}\n",
    "\n"
   ]
  },
  {
   "cell_type": "markdown",
   "metadata": {
    "slideshow": {
     "slide_type": "slide"
    }
   },
   "outputs": [],
   "source": [
    "#### Multiplication of complex numbers\n",
    "Assume we have the two complex numbers\n",
    "\\begin{align}\n",
    "    z_1 &= a_1+jb_1\\\\\n",
    "    z_2 &= a_2+jb_2\\ .\n",
    "\\end{align}\n",
    "\n",
    "The **product** of these two numbers is then\n",
    "$$\n",
    "    z = z_1z_2 = (a_1+jb_1)(a_2+jb_2) = (a_1a_2-b_1b_2) + j(a_1b_2+b_1a_2).\n",
    "$$\n",
    "\n",
    "Thus, the real and imaginary part of of $z=a+jb$ are\n",
    "\\begin{align}\n",
    "    a &= (a_1a_2-b_1b_2)\\\\\n",
    "    b &= (a_1b_2+b_1a_2)\\ .\n",
    "\\end{align}\n",
    "\n",
    "Note that\n",
    "$$\n",
    "    z_1z_1^* = (a_1a_1-b_1(-b_1)) +j(a_1b_1-b_1a_1) = a_1^2+b_1^2 = \\text{Re}(z_1)^2+\\text{Im}(z_1)^2\n",
    "$$"
   ]
  },
  {
   "cell_type": "markdown",
   "metadata": {
    "slideshow": {
     "slide_type": "slide"
    }
   },
   "outputs": [],
   "source": [
    "### Summary\n",
    "- Complex numbers were originally invented to solve algebraic equations (e.g., the cubic equation)\n",
    "- The imaginary unit is $j=\\sqrt{-1}$\n",
    "- A **complex number** $z$ consists of a real part $a$ and imaginary part $b$, and is written as\n",
    "$$\n",
    "    z = a+jb\\ .\n",
    "$$\n",
    "- The **complex conjugate** of $z$ is\n",
    "$$\n",
    "    z^* = a-jb\\ .\n",
    "$$\n",
    "- It is much easier to add two complex numbers than it is to multiply them."
   ]
  },
  {
   "cell_type": "markdown",
   "metadata": {
    "heading_collapsed": true,
    "slideshow": {
     "slide_type": "skip"
    }
   },
   "outputs": [],
   "source": [
    "### Additional information on complex numbers\n",
    "If you want to know more about complex numbers (e.g., its history), you can find some nice videos here:\n",
    "https://www.youtube.com/playlist?list=PLiaHhY2iBX9g6KIvZ_703G3KJXapKkNaF"
   ]
  },
  {
   "cell_type": "markdown",
   "metadata": {
    "slideshow": {
     "slide_type": "slide"
    }
   },
   "outputs": [],
   "source": [
    "### Active 5 minutes break\n",
    "Let\n",
    "\\begin{align}\n",
    "    z_1 &= a_1+jb_1 =  2+3j\\\\\n",
    "    z_2 &= a_2+jb_2 = -1-2j\\ .\n",
    "\\end{align}\n",
    "\n",
    "By hand, please calculate\n",
    "\\begin{align}\n",
    "    z_1 + z_2 &= \\\\\n",
    "    z_1 - z_2 &= \\\\\n",
    "    z_1 + z_1^* &= \\\\\n",
    "    z_2 - z_2^*+2z_1 &= \\\\\n",
    "    z_1z_2^* &=\\\\\n",
    "    z_1^2+z_2^*z_1 &=\n",
    "\\end{align}\n",
    "Check the results with your neighbours.\n",
    "\n",
    "---\n",
    "**Tip:** Use the rules\n",
    "\\begin{align}\n",
    "    z_1 + z_2 &= (a_1+a_2) + j(b_1+b_2)\\\\\n",
    "     z_1z_2 &= (a_1a_2-b_1b_2) + j(a_1b_2+b_1a_2)\\ .\n",
    "\\end{align}\n",
    "\n",
    "** TODO: Check nbgrader"
   ]
  },
  {
   "cell_type": "markdown",
   "metadata": {
    "slideshow": {
     "slide_type": "slide"
    }
   },
   "outputs": [],
   "source": [
    "## Phasors\n",
    "In the next 20 minutes, you will learn\n",
    "- how a complex number can be written in a **polar form**\n",
    "- why the polar form makes multiplications much easier\n",
    "- what a **phasor** is\n",
    "- how a phasor is related to a **real sinusoid**"
   ]
  },
  {
   "cell_type": "markdown",
   "metadata": {
    "slideshow": {
     "slide_type": "slide"
    }
   },
   "outputs": [],
   "source": [
    "### The polar (or exponential) form of a complex number\n",
    "As for 2D vectors, we can also write a complex number in terms of its **magnitude** $r$ and **angle** $\\psi$. We have\n",
    "\\begin{align}\n",
    "    a &= r\\cos\\psi\\\\\n",
    "    b &= r\\sin\\psi\\ .\n",
    "\\end{align}\n",
    "Thus,\n",
    "$$\n",
    "    z = a + jb = r\\left(\\cos\\psi + j\\sin\\psi\\right) = r\\mathrm{e}^{j\\psi}\n",
    "$$\n",
    "where the last equality follows from **Euler's formula**.\n",
    "<center>\n",
    "<img src=\"figures/ap1ComplexPlaneSketchB.png\" alt=\"Complex plane\" width=\"80%\"/>\n",
    "</center>"
   ]
  },
  {
   "cell_type": "markdown",
   "metadata": {
    "slideshow": {
     "slide_type": "slide"
    }
   },
   "outputs": [],
   "source": [
    "#### Euler's formula\n",
    "Given by\n",
    "$$\n",
    "    \\mathrm{e}^{j\\psi} = \\cos\\psi + j\\sin\\psi\\ .\n",
    "$$\n",
    "- A very important formula used everywhere in science and engineering\n",
    "- Simplifies notation and mathematical manipulations\n",
    "- Its real and imaginary parts are a cosine and a sine, respectively, i.e.,\n",
    "\\begin{align}\n",
    "    \\text{Re}(\\mathrm{e}^{j\\psi}) &= \\cos\\psi\\\\\n",
    "    \\text{Im}(\\mathrm{e}^{j\\psi}) &= \\sin\\psi\\ .\n",
    "\\end{align}\n",
    "<center>\n",
    "<img src=\"figures/ap1eulersFormula.png\" alt=\"Complex plane\" width=\"80%\"/>\n",
    "</center>"
   ]
  },
  {
   "cell_type": "markdown",
   "metadata": {
    "slideshow": {
     "slide_type": "slide"
    }
   },
   "outputs": [],
   "source": [
    "#### The complex conjugate\n",
    "The **complex conjugate** of a complex number\n",
    "$$\n",
    "    z=r \\mathrm{e}^{j\\psi}\n",
    "$$\n",
    "is\n",
    "$$\n",
    "    z^* = r \\mathrm{e}^{-j\\psi}\\ .\n",
    "$$\n",
    "Thus, the conjugation operator ${}^*$ changes the sign of the angle, but not the magnitude."
   ]
  },
  {
   "cell_type": "markdown",
   "metadata": {
    "slideshow": {
     "slide_type": "slide"
    }
   },
   "outputs": [],
   "source": [
    "#### Multiplication of complex numbers\n",
    "Multiplication of complex numbers is much easier when the polar form is used. Let\n",
    "\\begin{align}\n",
    "    z_1 &= a_1+jb_1 = r_1 \\mathrm{e}^{j\\psi_1}\\\\\n",
    "    z_2 &= a_2+jb_2 = r_2 \\mathrm{e}^{j\\psi_2}\\ .\n",
    "\\end{align}\n",
    "\n",
    "The **product** of these two numbers is then\n",
    "$$\n",
    "    z = z_1z_2 = r_1 \\mathrm{e}^{j\\psi_1}r_2 \\mathrm{e}^{j\\psi_2} = r_1 r_2 \\mathrm{e}^{j\\psi_1}r_2 \\mathrm{e}^{j\\psi_2} = r_1 r_2 \\mathrm{e}^{j(\\psi_1+\\psi_2)}\n",
    "$$\n",
    "where we used $a^na^m = a^{n+m}$ to get the last equation.\n",
    "\n",
    "Thus, to multiply two complex numbers we\n",
    "- multiply their magnitudes\n",
    "- add their angles\n",
    "\n",
    "Note that **divisions** can be calculated as multiplications since\n",
    "$$\n",
    "    \\frac{z_1}{z_2} = z_1\\frac{1}{z_2} = z_1 z_2^{-1}\n",
    "$$\n",
    "and\n",
    "$$\n",
    "    z_2^{-1} = \\frac{1}{r_2}\\mathrm{e}^{-j\\psi_2}\\ .\n",
    "$$"
   ]
  },
  {
   "cell_type": "markdown",
   "metadata": {
    "slideshow": {
     "slide_type": "slide"
    }
   },
   "outputs": [],
   "source": [
    "#### Converting between the rectangular and polar forms\n",
    "We have seen that a complex number $z$ can be written as\n",
    "$$\n",
    "    z = a+jb = r\\mathrm{e}^{j\\psi}\\ .\n",
    "$$\n",
    "\n",
    "We can convert from the polar coordinates $(r,\\psi)$ to the rectangular coordinates $(a,b)$ via\n",
    "\\begin{align}\n",
    "    a &= r\\cos\\psi\\\\\n",
    "    b &= r\\sin\\psi\\ .\n",
    "\\end{align}\n",
    "\n",
    "We can convert from the rectangular coordinates $(a,b)$ to the polar coordinates $(r,\\psi)$ via\n",
    "\\begin{align}\n",
    "    r &= \\sqrt{a^2+b^2}\\\\\n",
    "    \\psi &= \\mathrm{arctan2}(b,a)\\ .\n",
    "\\end{align}"
   ]
  },
  {
   "cell_type": "markdown",
   "metadata": {
    "slideshow": {
     "slide_type": "slide"
    }
   },
   "outputs": [],
   "source": [
    "### The phasor\n",
    "We have previously looked at the sinusoid\n",
    "$$\n",
    "    x(t) = A\\cos(\\Omega t + \\Phi)\\ .\n",
    "$$\n",
    "\n",
    "Based on what we know about Euler's formula and complex numbers, we can now also write $x(t)$ as\n",
    "$$\n",
    "    x(t) = \\text{Re}\\left[A\\exp(j(\\Omega t +\\Psi))\\right]\n",
    "$$\n",
    "since (from Euler's formula)\n",
    "$$\n",
    "    A\\exp(j(\\Omega t +\\Psi)) = A\\cos(\\Omega t +\\Psi)+jA\\sin(\\Omega t +\\Psi)\\ .\n",
    "$$\n",
    "This time-varying complex number is called a **phasor** or a **complex sinusoid**.\n",
    "\n",
    "Note that\n",
    "- using the phasor instead of the real sinusoid makes life much easier (you will see this later in the course)\n",
    "- even though we work with the phasor, we can always come back to the real sinusoid by taking the real part of the phasor"
   ]
  },
  {
   "cell_type": "markdown",
   "metadata": {
    "slideshow": {
     "slide_type": "slide"
    }
   },
   "outputs": [],
   "source": [
    "<center>\n",
    "<img src=\"figures/ap1PhasorIllustration.png\" alt=\"Phasor illustration\" width=\"80%\"/>\n",
    "</center>"
   ]
  },
  {
   "cell_type": "markdown",
   "metadata": {
    "slideshow": {
     "slide_type": "slide"
    }
   },
   "outputs": [],
   "source": [
    "<center>\n",
    "<img src=\"https://thumbs.gfycat.com/FixedElderlyAtlanticblackgoby-small.gif\" alt=\"Animated phasors\" width=\"40%\"/>\n",
    "</center>"
   ]
  },
  {
   "cell_type": "markdown",
   "metadata": {
    "slideshow": {
     "slide_type": "slide"
    }
   },
   "outputs": [],
   "source": [
    "### Summary\n",
    "- The **polar form** of a complex number $z=a+jb$ is\n",
    "$$\n",
    "    z = r\\mathrm{e}^{j\\psi}\n",
    "$$\n",
    "where the magnitude $r$ and angle $\\psi$ are given by\n",
    "\\begin{align}\n",
    "    r &= \\sqrt{a^2+b^2}\\\\\n",
    "    \\psi &= \\mathrm{arctan2}(b,a)\\ .\n",
    "\\end{align}\n",
    "- Multiplications (and divisions) are much easier when using the polar form.\n",
    "- A **phasor** is a complex sinusoid given by\n",
    "$$\n",
    "    z(t) = A\\exp(j(\\Omega t +\\Psi))\\ ,\n",
    "$$\n",
    "and its real part is a real sinusoid, i.e., \n",
    "$$\n",
    "    x(t) = \\text{Re}(z(t)) = A\\cos(\\Omega t +\\Psi)\\ .\n",
    "$$\n"
   ]
  }
 ],
 "metadata": {
  "celltoolbar": "Slideshow",
  "kernelspec": {
   "display_name": "Python 3",
   "language": "python",
   "name": "python3"
  },
  "language_info": {
   "codemirror_mode": {
    "name": "ipython",
    "version": 3
   },
   "file_extension": ".py",
   "mimetype": "text/x-python",
   "name": "python",
   "nbconvert_exporter": "python",
   "pygments_lexer": "ipython3",
   "version": "3.7.5"
  },
  "latex_envs": {
   "LaTeX_envs_menu_present": true,
   "autoclose": false,
   "autocomplete": true,
   "bibliofile": "biblio.bib",
   "cite_by": "apalike",
   "current_citInitial": 1,
   "eqLabelWithNumbers": true,
   "eqNumInitial": 1,
   "hotkeys": {
    "equation": "Ctrl-E",
    "itemize": "Ctrl-I"
   },
   "labels_anchors": false,
   "latex_user_defs": false,
   "report_style_numbering": false,
   "user_envs_cfg": false
  },
  "toc": {
   "base_numbering": 1,
   "nav_menu": {
    "height": "299px",
    "width": "374px"
   },
   "number_sections": true,
   "sideBar": true,
   "skip_h1_title": true,
   "title_cell": "Table of Contents",
   "title_sidebar": "Contents",
   "toc_cell": true,
   "toc_position": {
    "height": "calc(100% - 180px)",
    "left": "10px",
    "top": "150px",
    "width": "248.8px"
   },
   "toc_section_display": true,
   "toc_window_display": false
  },
  "toc-autonumbering": false,
  "toc-showcode": true,
  "toc-showmarkdowntxt": false,
  "toc-showtags": false
 },
 "nbformat": 4,
 "nbformat_minor": 4
}