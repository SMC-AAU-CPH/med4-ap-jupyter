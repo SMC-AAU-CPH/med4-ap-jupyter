{
 "cells": [
  {
   "cell_type": "markdown",
   "metadata": {
    "slideshow": {
     "slide_type": "slide"
    }
   },
   "source": [
    "# Lecture 10: Audio Equalizers\n",
    "Audio Processing, MED4, Aalborg University, 2019\n",
    "\n",
    "By Jesper Kjær Nielsen (jkn@create.aau.dk), Audio Analysis Lab, Aalborg University.\n",
    "\n",
    "Last edited: 2019-04-23"
   ]
  },
  {
   "cell_type": "markdown",
   "metadata": {
    "slideshow": {
     "slide_type": "slide"
    },
    "toc": true
   },
   "source": [
    "<h1>Table of Contents<span class=\"tocSkip\"></span></h1>\n",
    "<div class=\"toc\"><ul class=\"toc-item\"><li><span><a href=\"#Introduction\" data-toc-modified-id=\"Introduction-1\"><span class=\"toc-item-num\">1&nbsp;&nbsp;</span>Introduction</a></span><ul class=\"toc-item\"><li><span><a href=\"#Why-do-we-need-audio-equalizers?\" data-toc-modified-id=\"Why-do-we-need-audio-equalizers?-1.1\"><span class=\"toc-item-num\">1.1&nbsp;&nbsp;</span>Why do we need audio equalizers?</a></span></li><li><span><a href=\"#A-typical-parametric-equalizer\" data-toc-modified-id=\"A-typical-parametric-equalizer-1.2\"><span class=\"toc-item-num\">1.2&nbsp;&nbsp;</span>A typical parametric equalizer</a></span></li><li><span><a href=\"#Summary\" data-toc-modified-id=\"Summary-1.3\"><span class=\"toc-item-num\">1.3&nbsp;&nbsp;</span>Summary</a></span></li><li><span><a href=\"#Active-5-minutes-break\" data-toc-modified-id=\"Active-5-minutes-break-1.4\"><span class=\"toc-item-num\">1.4&nbsp;&nbsp;</span>Active 5 minutes break</a></span></li></ul></li><li><span><a href=\"#Notch-and-peak-filters\" data-toc-modified-id=\"Notch-and-peak-filters-2\"><span class=\"toc-item-num\">2&nbsp;&nbsp;</span>Notch and peak filters</a></span><ul class=\"toc-item\"><li><span><a href=\"#Notch-(bandstop)-filter\" data-toc-modified-id=\"Notch-(bandstop)-filter-2.1\"><span class=\"toc-item-num\">2.1&nbsp;&nbsp;</span>Notch (bandstop) filter</a></span></li><li><span><a href=\"#Peak-(bandpass)-filter\" data-toc-modified-id=\"Peak-(bandpass)-filter-2.2\"><span class=\"toc-item-num\">2.2&nbsp;&nbsp;</span>Peak (bandpass) filter</a></span></li><li><span><a href=\"#Summary\" data-toc-modified-id=\"Summary-2.3\"><span class=\"toc-item-num\">2.3&nbsp;&nbsp;</span>Summary</a></span></li></ul></li><li><span><a href=\"#Parametric-equalizer-filter\" data-toc-modified-id=\"Parametric-equalizer-filter-3\"><span class=\"toc-item-num\">3&nbsp;&nbsp;</span>Parametric equalizer filter</a></span><ul class=\"toc-item\"><li><span><a href=\"#Summary\" data-toc-modified-id=\"Summary-3.1\"><span class=\"toc-item-num\">3.1&nbsp;&nbsp;</span>Summary</a></span></li><li><span><a href=\"#Active-5-minutes-break\" data-toc-modified-id=\"Active-5-minutes-break-3.2\"><span class=\"toc-item-num\">3.2&nbsp;&nbsp;</span>Active 5 minutes break</a></span></li></ul></li><li><span><a href=\"#Shelving-filters\" data-toc-modified-id=\"Shelving-filters-4\"><span class=\"toc-item-num\">4&nbsp;&nbsp;</span>Shelving filters</a></span><ul class=\"toc-item\"><li><span><a href=\"#Low-frequency-shelving-filter\" data-toc-modified-id=\"Low-frequency-shelving-filter-4.1\"><span class=\"toc-item-num\">4.1&nbsp;&nbsp;</span>Low frequency shelving filter</a></span></li><li><span><a href=\"#High-frequency-shelving-filter\" data-toc-modified-id=\"High-frequency-shelving-filter-4.2\"><span class=\"toc-item-num\">4.2&nbsp;&nbsp;</span>High frequency shelving filter</a></span></li><li><span><a href=\"#Multi-band-parametric-equalizer\" data-toc-modified-id=\"Multi-band-parametric-equalizer-4.3\"><span class=\"toc-item-num\">4.3&nbsp;&nbsp;</span>Multi-band parametric equalizer</a></span></li><li><span><a href=\"#Summary\" data-toc-modified-id=\"Summary-4.4\"><span class=\"toc-item-num\">4.4&nbsp;&nbsp;</span>Summary</a></span></li></ul></li></ul></div>"
   ]
  },
  {
   "cell_type": "markdown",
   "metadata": {
    "slideshow": {
     "slide_type": "slide"
    }
   },
   "source": [
    "## Introduction\n",
    "In the next 20 minutes, you will learn\n",
    "- what an audio equalizer is\n",
    "- what it is used for\n",
    "- what a parametric equalizer is"
   ]
  },
  {
   "cell_type": "markdown",
   "metadata": {
    "slideshow": {
     "slide_type": "slide"
    }
   },
   "source": [
    "### Why do we need audio equalizers?\n",
    "Many phenomena change the sound before it reaches our ears:\n",
    "- amplifier\n",
    "- loudspeaker\n",
    "- room acoustics\n",
    "- our hearing\n",
    "- etc.\n",
    "\n",
    "The main objective of audio equalizers is to **invert (some of) these changes**!"
   ]
  },
  {
   "cell_type": "markdown",
   "metadata": {
    "slideshow": {
     "slide_type": "slide"
    }
   },
   "source": [
    "#### Example: hard surfaces boost the bass of a loudspeaker\n",
    "We need an equalizer to compensate for the boost in bass.\n",
    "<center>\n",
    "    <img src=\"figures/ap10BassBoost.png\" alt=\"Example of bass boost\" width=\"70%\"/>\n",
    "</center>"
   ]
  },
  {
   "cell_type": "markdown",
   "metadata": {
    "slideshow": {
     "slide_type": "slide"
    }
   },
   "source": [
    "#### Example: loudspeaker tuning\n",
    "We need to tune the filters in the loudspeaker so that the listener hears what is intended.\n",
    "<center>\n",
    "    <img src=\"figures/ap10ThreeWaySpeaker.png\" alt=\"Example of filters in a three-way speaker\" width=\"70%\"/>\n",
    "</center>"
   ]
  },
  {
   "cell_type": "markdown",
   "metadata": {
    "slideshow": {
     "slide_type": "slide"
    }
   },
   "source": [
    "#### Example: equalizing compensation for hearing loss\n",
    "<center>\n",
    "    <img src=\"figures/hearingThresholdVsAge.png\" alt=\"Hearing threshold vs. age\" width=\"70%\"/>\n",
    "</center>"
   ]
  },
  {
   "cell_type": "markdown",
   "metadata": {
    "slideshow": {
     "slide_type": "slide"
    }
   },
   "source": [
    "### A typical parametric equalizer\n",
    "A common audio equalizer is a **parametric equalizer** which functions by\n",
    "- dividing the frequency range into a number of bands\n",
    "- apply filters in each band which can amplify/attenuate the frequency content in this band\n",
    "<center>\n",
    "    <img src=\"figures/midasEqualizer.jpg\" alt=\"Example of equalizer\" width=\"90%\"/>\n",
    "</center>\n",
    "\n",
    "---\n",
    "\n",
    "Note that so-called graphic equalizers is an alternative to the parametric equalizer, but we will not cover that here."
   ]
  },
  {
   "cell_type": "markdown",
   "metadata": {
    "slideshow": {
     "slide_type": "slide"
    }
   },
   "source": [
    "Example of a block diagram of a parametric equalizer.\n",
    "<center>\n",
    "    <img src=\"figures/ap10ExampleEqBlockDiagram.png\" alt=\"Example of equalizer\" width=\"90%\"/>\n",
    "</center>"
   ]
  },
  {
   "cell_type": "markdown",
   "metadata": {
    "slideshow": {
     "slide_type": "slide"
    }
   },
   "source": [
    "The filter in each band of the parametric equalizer is called a **parametric equalizer filter**. It can be either a\n",
    "- **first and last band**: lowpass or highpass filter with adjustable cut-off frequency and gain (a **shelving filter**)\n",
    "- **bands in the middle**: combination of a bandpass (peak) or a bandstop (notch) filter with adjustable center frequency and bandwidth\n",
    "\n",
    "Note that\n",
    "- both of these filters can be implemented using **a second order feedback (IIR) filter**\n",
    "- we will go more into depth with these two kinds of parametric equalizer filters later"
   ]
  },
  {
   "cell_type": "markdown",
   "metadata": {
    "slideshow": {
     "slide_type": "slide"
    }
   },
   "source": [
    "### Summary\n",
    "1. Audio equalizers are useful in many applications such as room compensation and the tuning of hearing aids\n",
    "2. A parametric equaliser is used to amplify/attenuate the frequency content within different bands"
   ]
  },
  {
   "cell_type": "markdown",
   "metadata": {
    "slideshow": {
     "slide_type": "slide"
    }
   },
   "source": [
    "### Active 5 minutes break\n",
    "As we see later, the basic ingredient is a **parametric equalizer filter** resulting in the **difference equation**\n",
    "$$\n",
    "    y_n = b_0x_n + b_1 x_{n-1} + b_2 x_{n-2} + a_1y_{n-1} + a_2 y_{n-2}\n",
    "$$\n",
    "1. Is this a feedforward or a feedback filter?\n",
    "2. What are the feedforward and feedback filter coefficients?\n",
    "3. Sketch the difference equations using the delay, summation, and multipication blocks.\n",
    "<center>\n",
    "<img src=\"figures/ap4FilterBuildingBlocks.png\" alt=\"Filter blocks\" width=\"30%\"/>\n",
    "</center>"
   ]
  },
  {
   "cell_type": "markdown",
   "metadata": {
    "slideshow": {
     "slide_type": "slide"
    }
   },
   "source": [
    "## Notch and peak filters\n",
    "In the next 20 minutes, you will learn\n",
    "- how a parametric equalizer filter can be designed using a notch (bandstop) and peak (bandpass) filter\n",
    "- how the notch filter is designed and controlled\n",
    "- how the peak filter is designed and controlled"
   ]
  },
  {
   "cell_type": "markdown",
   "metadata": {
    "slideshow": {
     "slide_type": "slide"
    }
   },
   "source": [
    "The **transfer function** of the parametric equalizer filter $H_\\text{eq}(z)$ is\n",
    "$$\n",
    "    H_\\text{eq}(z) = G_0H_\\text{notch}(z) + G H_\\text{peak}(z)\\ .\n",
    "$$\n",
    "<center>\n",
    "    <img src=\"figures/ap10ParametricEqFilter.png\" alt=\"Parametric equalizer filter\" width=\"70%\"/>\n",
    "</center>"
   ]
  },
  {
   "cell_type": "markdown",
   "metadata": {
    "slideshow": {
     "slide_type": "slide"
    }
   },
   "source": [
    "### Notch (bandstop) filter\n",
    "We will use the following notation:\n",
    "- $\\omega_1$ and $\\omega_2$: lower and upper cutoff frequencies in radians/sample\n",
    "- $\\omega_0=\\sqrt{\\omega_1\\omega_2}$: center frequency in radians/sample\n",
    "- $\\Delta\\omega=\\omega_2-\\omega_1$: bandwidth in radians/sample\n",
    "- $G_\\text{B}$: gain at the cutoff frequencies.\n",
    "<center>\n",
    "    <img src=\"figures/ap10NotchFilterNomenclature.png\" alt=\"The notch filter\" width=\"50%\"/>\n",
    "</center>"
   ]
  },
  {
   "cell_type": "markdown",
   "metadata": {
    "slideshow": {
     "slide_type": "slide"
    }
   },
   "source": [
    "It can be shown that the transfer function of a notch filter is given by\n",
    "$$\n",
    "    H_\\text{notch}(z) = b\\frac{1-2\\cos(\\omega_0)z^{-1}+z^{-2}}{1-2b\\cos(\\omega_0)z^{-1}+(2b-1)z^{-2}}\n",
    "$$\n",
    "where\n",
    "- $\\omega_0$ is the center frequency in radians/sample\n",
    "- $b=(1+\\beta)^{-1}$ where\n",
    "$$\n",
    "    \\beta = \\frac{\\sqrt{1-G_\\text{B}^2}}{G_\\text{B}}\\tan(\\Delta\\omega/2)\n",
    "$$\n",
    "- $G_\\text{B}$ is the gain at the cutoff frequencies $\\omega_1$ and $\\omega_2$\n",
    "- $\\Delta\\omega$ is the bandwidth (i.e., $\\omega_2-\\omega_1$) in radians/sample."
   ]
  },
  {
   "cell_type": "markdown",
   "metadata": {
    "slideshow": {
     "slide_type": "slide"
    }
   },
   "source": [
    "The notch filter results in the difference equation\n",
    "$$\n",
    "    y_n = bx_n -2b\\cos(\\omega_0)x_{n-1}+bx_{n-2} + 2b\\cos(\\omega_0)y_{n-1} - (2b-1) y_{n-2}\n",
    "$$\n",
    "<center>\n",
    "    <img src=\"figures/ap10NotchFilterSignalFlowGraph.png\" alt=\"The signal flow graph of a notch filter\" width=\"70%\"/>\n",
    "</center>"
   ]
  },
  {
   "cell_type": "code",
   "execution_count": 1,
   "metadata": {
    "slideshow": {
     "slide_type": "slide"
    }
   },
   "outputs": [],
   "source": [
    "%matplotlib inline\n",
    "import numpy as np\n",
    "import matplotlib.pyplot as plt\n",
    "import scipy.signal as sig\n",
    "\n",
    "def computeNotchFilterParameters(digCenterFreq, digBandwidth, cutoffGain):\n",
    "    beta = (np.sqrt(1-cutoffGain**2)/cutoffGain)*np.tan(digBandwidth/2)\n",
    "    b0 = 1/(1+beta)\n",
    "    b1 = -2*b0*np.cos(digCenterFreq)\n",
    "    b2 = b0\n",
    "    a1 = -b1\n",
    "    a2 = -(2*b0-1)\n",
    "    feedforwardParams = np.array([b0, b1, b2])\n",
    "    feedbackParams = np.array([a1, a2])\n",
    "    return feedforwardParams, feedbackParams"
   ]
  },
  {
   "cell_type": "code",
   "execution_count": 2,
   "metadata": {
    "slideshow": {
     "slide_type": "slide"
    }
   },
   "outputs": [
    {
     "data": {
      "image/png": "[encoded data removed]",
      "text/plain": [
       "<Figure size 1008x432 with 1 Axes>"
      ]
     },
     "metadata": {
      "needs_background": "light"
     },
     "output_type": "display_data"
    }
   ],
   "source": [
    "samplingFreq = 44100 # Hz\n",
    "centerFreq = 1000 # Hz\n",
    "bandwidth = 250 # Hz\n",
    "cutoffGain = np.sqrt(0.5)\n",
    "nDtft = 2048\n",
    "feedforwardParams, feedbackParams = computeNotchFilterParameters(centerFreq*2*np.pi/samplingFreq, \\\n",
    "    bandwidth*2*np.pi/samplingFreq, cutoffGain)\n",
    "digFreqVector, freqResp = sig.freqz(feedforwardParams, np.r_[1,-feedbackParams],nDtft)\n",
    "freqVector = digFreqVector*samplingFreq/(2*np.pi)\n",
    "plt.figure(figsize=(14,6))\n",
    "plt.plot(freqVector, np.abs(freqResp))\n",
    "plt.xlim((0,freqVector[-1])), plt.ylim((0,1)), plt.xlabel('$f$ [Hz]'), plt.ylabel('$|H_{notch}(f)|$');"
   ]
  },
  {
   "cell_type": "markdown",
   "metadata": {
    "slideshow": {
     "slide_type": "slide"
    }
   },
   "source": [
    "### Peak (bandpass) filter\n",
    "We will use the following notation:\n",
    "- $\\omega_1$ and $\\omega_2$: lower and upper cutoff frequencies in radians/sample\n",
    "- $\\omega_0=\\sqrt{\\omega_1\\omega_2}$: center frequency in radians/sample\n",
    "- $\\Delta\\omega=\\omega_2-\\omega_1$: bandwidth in radians/sample\n",
    "- $G_\\text{B}$: gain at the cutoff frequencies.\n",
    "<center>\n",
    "    <img src=\"figures/ap10PeakFilterNomenclature.png\" alt=\"The peak filter\" width=\"50%\"/>\n",
    "</center>"
   ]
  },
  {
   "cell_type": "markdown",
   "metadata": {
    "slideshow": {
     "slide_type": "slide"
    }
   },
   "source": [
    "It can be shown that the transfer function of a notch filter is given by\n",
    "$$\n",
    "    H_\\text{peak}(z) = (1-b)\\frac{1-z^{-2}}{1-2b\\cos(\\omega_0)z^{-1}+(2b-1)z^{-2}}\n",
    "$$\n",
    "where\n",
    "- $\\omega_0$ is the center frequency in radians/sample\n",
    "- $b=(1+\\beta)^{-1}$ where\n",
    "$$\n",
    "    \\beta = \\frac{G_\\text{B}}{\\sqrt{1-G_\\text{B}^2}}\\tan(\\Delta\\omega/2)\n",
    "$$\n",
    "- $G_\\text{B}$ is the gain at the cutoff frequencies $\\omega_1$ and $\\omega_2$\n",
    "- $\\Delta\\omega$ is the bandwidth (i.e., $\\omega_2-\\omega_1$) in radians/sample."
   ]
  },
  {
   "cell_type": "markdown",
   "metadata": {
    "slideshow": {
     "slide_type": "slide"
    }
   },
   "source": [
    "The peak filter results in the difference equation\n",
    "$$\n",
    "    y_n = (1-b)x_n - (1-b)x_{n-2} + 2b\\cos(\\omega_0)y_{n-1} - (2b-1) y_{n-2}\n",
    "$$\n",
    "<center>\n",
    "    <img src=\"figures/ap10PeakFilterSignalFlowGraph.png\" alt=\"The signal flow graph of a notch filter\" width=\"70%\"/>\n",
    "</center>"
   ]
  },
  {
   "cell_type": "code",
   "execution_count": 28,
   "metadata": {
    "slideshow": {
     "slide_type": "slide"
    }
   },
   "outputs": [],
   "source": [
    "%matplotlib inline\n",
    "import numpy as np\n",
    "import matplotlib.pyplot as plt\n",
    "import scipy.signal as sig\n",
    "\n",
    "def computePeakFilterParameters(digCenterFreq, digBandwidth, cutoffGain):\n",
    "    beta = (cutoffGain/np.sqrt(1-cutoffGain**2))*np.tan(digBandwidth/2)\n",
    "    b = 1/(1+beta)\n",
    "    b0 = 1-b\n",
    "    b1 = 0\n",
    "    b2 = -b0\n",
    "    a1 = 2*b*np.cos(digCenterFreq)\n",
    "    a2 = -(2*b-1)\n",
    "    feedforwardParams = np.array([b0, b1, b2])\n",
    "    feedbackParams = np.array([a1, a2])\n",
    "    return feedforwardParams, feedbackParams"
   ]
  },
  {
   "cell_type": "code",
   "execution_count": 70,
   "metadata": {
    "slideshow": {
     "slide_type": "slide"
    }
   },
   "outputs": [
    {
     "data": {
      "image/png": "[encoded data removed]",
      "text/plain": [
       "<Figure size 1008x432 with 1 Axes>"
      ]
     },
     "metadata": {
      "needs_background": "light"
     },
     "output_type": "display_data"
    }
   ],
   "source": [
    "samplingFreq = 44100 # Hz\n",
    "centerFreq = 1000 # Hz\n",
    "bandwidth = 2500 # Hz\n",
    "cutoffGain = np.sqrt(0.5)\n",
    "nDtft = 2048\n",
    "feedforwardParams, feedbackParams = computePeakFilterParameters(centerFreq*2*np.pi/samplingFreq, \\\n",
    "    bandwidth*2*np.pi/samplingFreq, cutoffGain)\n",
    "digFreqVector, freqResp = sig.freqz(feedforwardParams, np.r_[1,-feedbackParams],nDtft)\n",
    "freqVector = digFreqVector*samplingFreq/(2*np.pi)\n",
    "plt.figure(figsize=(14,6))\n",
    "plt.plot(freqVector, np.abs(freqResp))\n",
    "plt.xlim((0,freqVector[-1])), plt.ylim((0,1)), plt.xlabel('$f$ [Hz]'), plt.ylabel('$|H_{peak}(f)|$');"
   ]
  },
  {
   "cell_type": "markdown",
   "metadata": {
    "slideshow": {
     "slide_type": "slide"
    }
   },
   "source": [
    "### Summary\n",
    "1. A notch (bandstop) filter can be used to remove frequencies\n",
    "<center>\n",
    "    <img src=\"figures/ap10NotchFilterNomenclature.png\" alt=\"The notch filter\" width=\"30%\"/>\n",
    "</center>\n",
    "2. A peak (bandpass) filter can be used to remove frequencies\n",
    "<center>\n",
    "    <img src=\"figures/ap10PeakFilterNomenclature.png\" alt=\"The notch filter\" width=\"30%\"/>\n",
    "</center>"
   ]
  },
  {
   "cell_type": "markdown",
   "metadata": {
    "slideshow": {
     "slide_type": "slide"
    }
   },
   "source": [
    "## Parametric equalizer filter\n",
    "In the next 20 minutes, you will learn\n",
    "- how we can combine a notch and a peak filter into a parametric equalizer filter"
   ]
  },
  {
   "cell_type": "markdown",
   "metadata": {
    "slideshow": {
     "slide_type": "slide"
    }
   },
   "source": [
    "We can write the transfer function of the peak and notch filters as\n",
    "\\begin{align}\n",
    "    H_\\text{notch}(z) &= \\frac{A_\\text{notch}(z)}{B_\\text{notch}(z)}\\\\\n",
    "    H_\\text{peak}(z) &= \\frac{A_\\text{peak}(z)}{B_\\text{peak}(z)}\n",
    "\\end{align}\n",
    "where\n",
    "\\begin{align}\n",
    "    A_\\text{notch}(z) &= b_\\text{notch}(1-2\\cos(\\omega_0)z^{-1}+z^{-2})\\\\\n",
    "    B_\\text{notch}(z) &= 1-2b_\\text{notch}\\cos(\\omega_0)z^{-1}+(2b_\\text{notch}-1)z^{-2}\\\\\n",
    "    A_\\text{peak}(z) &= (1-b_\\text{peak})(1-z^{-2})\\\\\n",
    "    B_\\text{peak}(z) &= 1-2b_\\text{peak}\\cos(\\omega_0)z^{-1}+(2b_\\text{peak}-1)z^{-2}\\ .\n",
    "\\end{align}"
   ]
  },
  {
   "cell_type": "markdown",
   "metadata": {
    "slideshow": {
     "slide_type": "slide"
    }
   },
   "source": [
    "Recall that the **transfer function** of the parametric equalizer filter $H_\\text{eq}(z)$ is\n",
    "$$\n",
    "    H_\\text{eq}(z) = G_0H_\\text{notch}(z) + G H_\\text{peak}(z)\\ .\n",
    "$$\n",
    "<center>\n",
    "    <img src=\"figures/ap10ParametricEqFilter.png\" alt=\"Parametric equalizer filter\" width=\"70%\"/>\n",
    "</center>"
   ]
  },
  {
   "cell_type": "markdown",
   "metadata": {
    "slideshow": {
     "slide_type": "slide"
    }
   },
   "source": [
    "Note that\n",
    "- $G_0$ (which is sometimes called the level) is often set to 1\n",
    "- $G>G_0$ results in a boost of some frequencies\n",
    "- $G<G_0$ results in a cut of some frequencies\n",
    "\n",
    "<center>\n",
    "    <img src=\"figures/ap10ParametricEqFilter.png\" alt=\"Parametric equalizer filter\" width=\"50%\"/>\n",
    "</center>"
   ]
  },
  {
   "cell_type": "markdown",
   "metadata": {
    "slideshow": {
     "slide_type": "slide"
    }
   },
   "source": [
    "We have\n",
    "\\begin{align}\n",
    "    H_\\text{eq}(z) &= G_0H_\\text{notch}(z) + G H_\\text{peak}(z)\\\\\n",
    "    &= \\frac{G_0A_\\text{notch}(z)B_\\text{peak}(z)+GA_\\text{peak}(z)B_\\text{notch}(z)}{B_\\text{notch}(z)B_\\text{peak}(z)}\n",
    "\\end{align}\n",
    "with three interesting special cases:\n",
    "1. $G_0=G=1$: the signal passes unaltered, i.e., $H_\\text{eq}(z)=1$\n",
    "2. $G_0=1$ and $G=0$: the parametric equalizer filter is a notch filter, i.e., $H_\\text{eq}(z)=H_\\text{notch}(z)$\n",
    "3. $G_0=0$ and $G=1$: the parametric equalizer filter is a peak filter, i.e., $H_\\text{eq}(z)=H_\\text{peak}(z)$"
   ]
  },
  {
   "cell_type": "markdown",
   "metadata": {
    "slideshow": {
     "slide_type": "slide"
    }
   },
   "source": [
    "After a lot of math, it can be shown that\n",
    "$$\n",
    "    H_\\text{eq}(z) = \\frac{b_0 + b_1z^{-1}+b_2z^{-2}}{1 - a_1z^{-1}-a_2z^{-2}}\n",
    "$$\n",
    "where we have defined\n",
    "\\begin{alignat}{2}\n",
    "    b_0 &= \\frac{G_0+G\\alpha}{1+\\alpha}\\ , &\\qquad b_1 &= \\frac{-2G_0\\cos(\\omega_0)}{1+\\alpha}\\\\\n",
    "    b_2 &= \\frac{G_0-G\\alpha}{1+\\alpha}\\ , &\\qquad a_1 &= \\frac{2\\cos(\\omega_0)}{1+\\alpha}\\\\\n",
    "    a_2 &= -\\frac{1-\\alpha}{1+\\alpha}\\ , &\\qquad \\alpha &= \\sqrt{\\frac{G_\\text{B}^2-G_0^2}{G^2-G_\\text{B}^2}}\\tan(\\Delta\\omega/2)\\ .\n",
    "\\end{alignat}"
   ]
  },
  {
   "cell_type": "markdown",
   "metadata": {
    "slideshow": {
     "slide_type": "slide"
    }
   },
   "source": [
    "#### Example: design of parametric equalizer filter\n",
    "Assume that the user can control the three parameters\n",
    "1. center frequency $\\omega_0$\n",
    "2. bandwidth $\\Delta\\omega$\n",
    "3. boost/cut $G$\n",
    "\n",
    "When design the parametric equalizer filter as\n",
    "1. calculate the cutoff gain as either\n",
    "$$\n",
    "    G_\\text{B}^2 = G_0G \\quad\\text{or}\\quad G_\\text{B} = G_0^2/2+G^2/2\n",
    "$$\n",
    "with (typically) $G_0=1$.\n",
    "2. Compute $\\alpha$ and the filter coefficients $b_0$, $b_1$, $b_2$, $a_1$, and $a_2$ (see above) "
   ]
  },
  {
   "cell_type": "markdown",
   "metadata": {
    "slideshow": {
     "slide_type": "slide"
    }
   },
   "source": [
    "The parametric equalizer filter results in the difference equation\n",
    "$$\n",
    "    y_n = b_0x_n + b_1 x_{n-1} + b_2 x_{n-2} + a_1y_{n-1} + a_2 y_{n-2}\n",
    "$$\n",
    "<center>\n",
    "    <img src=\"figures/ap10SecondOrderFilterSignalFlowGraph.png\" alt=\"Second order IIR filter\" width=\"70%\"/>\n",
    "</center>"
   ]
  },
  {
   "cell_type": "code",
   "execution_count": 5,
   "metadata": {
    "slideshow": {
     "slide_type": "slide"
    }
   },
   "outputs": [],
   "source": [
    "def paramEqFilterCoefficients(digCenterFreq, digBandwidth, gain, level=1):\n",
    "    if gain == level:\n",
    "        feedforwardParams = np.array([1, 0, 0])\n",
    "        feedbackParams = np.array([0, 0])\n",
    "    else:\n",
    "        cutoffGain = np.sqrt((gain**2+level**2)/2) # could also be the geometric mean instead\n",
    "        alpha = np.sqrt((cutoffGain**2-level**2)/(gain**2-cutoffGain**2))*np.tan(digBandwidth/2)\n",
    "        b0 = (level+gain*alpha)/(1+alpha)\n",
    "        b1 = -2*level*np.cos(digCenterFreq)/(1+alpha)\n",
    "        b2 = (level-gain*alpha)/(1+alpha)\n",
    "        a1 = 2*np.cos(digCenterFreq)/(1+alpha)\n",
    "        a2 = -(1-alpha)/(1+alpha)\n",
    "        feedforwardParams = np.array([b0, b1, b2])\n",
    "        feedbackParams = np.array([a1, a2])\n",
    "    return feedforwardParams, feedbackParams"
   ]
  },
  {
   "cell_type": "code",
   "execution_count": 7,
   "metadata": {
    "slideshow": {
     "slide_type": "slide"
    }
   },
   "outputs": [
    {
     "data": {
      "image/png": "[encoded data removed]",
      "text/plain": [
       "<Figure size 1008x432 with 1 Axes>"
      ]
     },
     "metadata": {
      "needs_background": "light"
     },
     "output_type": "display_data"
    }
   ],
   "source": [
    "samplingFreq = 44100 # Hz\n",
    "centerFreq = 1000 # Hz\n",
    "bandwidth = 2500 # Hz\n",
    "gain = 1\n",
    "nDtft = 2048\n",
    "feedforwardParams, feedbackParams = paramEqFilterCoefficients(centerFreq*2*np.pi/samplingFreq, \\\n",
    "    bandwidth*2*np.pi/samplingFreq, gain)\n",
    "digFreqVector, freqResp = sig.freqz(feedforwardParams, np.r_[1,-feedbackParams],nDtft)\n",
    "freqVector = digFreqVector*samplingFreq/(2*np.pi)\n",
    "plt.figure(figsize=(14,6))\n",
    "plt.plot(freqVector, np.abs(freqResp))\n",
    "plt.xlim((0,freqVector[-1])), plt.ylim((0,2)), plt.xlabel('$f$ [Hz]'), plt.ylabel('$|H_{notch}(f)|$');"
   ]
  },
  {
   "cell_type": "markdown",
   "metadata": {
    "slideshow": {
     "slide_type": "slide"
    }
   },
   "source": [
    "### Summary\n",
    "1. A parametric equalizer filter is a way of boosting or cutting some frequencies using a combination of peak and notch filters.\n",
    "2. Typically, the user can control \n",
    " - $\\omega_0$: the center frequency,\n",
    " - $\\Delta\\omega$: the bandwidth, and\n",
    " - $G$: the amount of boost/cut \n",
    "\n",
    "<center>\n",
    "    <img src=\"figures/ap10ParametricEqFilter.png\" alt=\"Parametric equalizer filter\" width=\"70%\"/>\n",
    "</center>"
   ]
  },
  {
   "cell_type": "markdown",
   "metadata": {
    "slideshow": {
     "slide_type": "slide"
    }
   },
   "source": [
    "### Active 5 minutes break\n",
    "1. Together with your neightbour, explain as much as you can about the equalizer on the picture (i.e., number of bands, user parameters, etc.)\n",
    "<center>\n",
    "    <img src=\"figures/dbx555Eq.jpg\" alt=\"dbx 555 equalizer\" width=\"80%\"/>\n",
    "</center>"
   ]
  },
  {
   "cell_type": "markdown",
   "metadata": {
    "slideshow": {
     "slide_type": "slide"
    }
   },
   "source": [
    "## Shelving filters \n",
    "In the next 20 minutes, you will learn\n",
    "- what a shelving filter is and why we need them\n",
    "- that a shelving filter is a special case of the parametric equalizer filter"
   ]
  },
  {
   "cell_type": "markdown",
   "metadata": {
    "slideshow": {
     "slide_type": "slide"
    }
   },
   "source": [
    "Recall that a **parametric equalizer** functions by\n",
    "- dividing the frequency range into a number of bands\n",
    "- apply filters in each band which can amplify/attenuate the frequency content in this band\n",
    "\n",
    "What about the first (low frequencies) and last (high frequencies) band?\n",
    "<center>\n",
    "    <img src=\"figures/midasEqualizer.jpg\" alt=\"Example of equalizer\" width=\"90%\"/>\n",
    "</center>"
   ]
  },
  {
   "cell_type": "markdown",
   "metadata": {
    "slideshow": {
     "slide_type": "slide"
    }
   },
   "source": [
    "For the low and high frequencies, traditional low- and highpass filters are used instead of peak and notch filters. When used as shown below, the filter is called a **shelving filter**!\n",
    "\n",
    "The shelving filter exists in two forms:\n",
    "1. Low frequency shelving filter\n",
    "2. High frequency shelving filter\n",
    "\n",
    "<center>\n",
    "    <img src=\"figures/ap10ShelvingEqFilter.png\" alt=\"Shelving equalizer filter\" width=\"70%\"/>\n",
    "</center>"
   ]
  },
  {
   "cell_type": "markdown",
   "metadata": {
    "slideshow": {
     "slide_type": "slide"
    }
   },
   "source": [
    "### Low frequency shelving filter\n",
    "The low frequency shelving filter is simply the **parametric equalizer filter** with $\\omega_0 = 0$ which can be written as\n",
    "\\begin{align}\n",
    "    H_\\text{low}(z) &= \\frac{(b_0-b_2z^{-1})(1-z^{-1})}{(1+a_2z^{-1})(1-z^{-1})}\\\\\n",
    "    &= \\frac{b_0-b_2z^{-1}}{1+a_2z^{-1}}\n",
    "\\end{align}\n",
    "since $\\cos(\\omega_0)=1$ for $\\omega_0=0$ where (as before)\n",
    "\\begin{alignat}{2}\n",
    "    b_0 &= \\frac{G_0+G\\alpha}{1+\\alpha}\\ , &\\qquad b_2 &= \\frac{G_0-G\\alpha}{1+\\alpha}\\\\\n",
    "    a_2 &= -\\frac{1-\\alpha}{1+\\alpha}\\ , &\\qquad \\alpha &= \\sqrt{\\frac{G_\\text{B}^2-G_0^2}{G^2-G_\\text{B}^2}}\\tan(\\Delta\\omega/2)\\ .\n",
    "\\end{alignat}"
   ]
  },
  {
   "cell_type": "markdown",
   "metadata": {
    "slideshow": {
     "slide_type": "slide"
    }
   },
   "source": [
    "In the context of the **low frequency shelving filter**, the meaning of $\\Delta\\omega$ and $G_\\text{B}$ are\n",
    "- $\\Delta\\omega$: the cutoff frequency which is sometimes denoted as $\\omega_\\text{c}$\n",
    "- $G_\\text{B}$: the gain at the cutoff frequency which is sometimes denoted as $G_\\text{C}$\n",
    "\n",
    "<center>\n",
    "    <img src=\"figures/ap10LowShelvingFilter.png\" alt=\"Low shelving filter\" width=\"60%\"/>\n",
    "</center>"
   ]
  },
  {
   "cell_type": "code",
   "execution_count": 11,
   "metadata": {
    "slideshow": {
     "slide_type": "slide"
    }
   },
   "outputs": [
    {
     "data": {
      "image/png": "[encoded data removed]",
      "text/plain": [
       "<Figure size 1008x432 with 1 Axes>"
      ]
     },
     "metadata": {
      "needs_background": "light"
     },
     "output_type": "display_data"
    }
   ],
   "source": [
    "samplingFreq = 44100 # Hz\n",
    "centerFreq = 1 # Hz - for low shelving filter\n",
    "cutoffFreq = 250 # Hz\n",
    "gain = 1\n",
    "nDtft = 2048\n",
    "feedforwardParams, feedbackParams = paramEqFilterCoefficients(centerFreq*2*np.pi/samplingFreq, \\\n",
    "    cutoffFreq*2*np.pi/samplingFreq, gain)\n",
    "digFreqVector, freqResp = sig.freqz(feedforwardParams, np.r_[1,-feedbackParams],nDtft)\n",
    "freqVector = digFreqVector*samplingFreq/(2*np.pi)\n",
    "plt.figure(figsize=(14,6))\n",
    "plt.plot(freqVector, np.abs(freqResp))\n",
    "plt.xlim((0,freqVector[-1])), plt.ylim((0,2)), plt.xlabel('$f$ [Hz]'), plt.ylabel('$|H_{low}(f)|$');"
   ]
  },
  {
   "cell_type": "markdown",
   "metadata": {
    "slideshow": {
     "slide_type": "slide"
    }
   },
   "source": [
    "### High frequency shelving filter\n",
    "The high frequency shelving filter is simply the **parametric equalizer filter** with $\\omega_0 = \\pi$ which can be written as\n",
    "\\begin{align}\n",
    "    H_\\text{high}(z) &= \\frac{(b_0+b_2z^{-1})(1-z^{-1})}{(1-a_2z^{-1})(1-z^{-1})}\\\\\n",
    "    &= \\frac{b_0+b_2z^{-1}}{1-a_2z^{-1}}\n",
    "\\end{align}\n",
    "since $\\cos(\\omega_0)=-1$ for $\\omega_0=\\pi$ where (as before)\n",
    "\\begin{alignat}{2}\n",
    "    b_0 &= \\frac{G_0+G\\alpha}{1+\\alpha}\\ , &\\qquad b_2 &= \\frac{G_0-G\\alpha}{1+\\alpha}\\\\\n",
    "    a_2 &= -\\frac{1-\\alpha}{1+\\alpha}\\ , &\\qquad \\alpha &= \\sqrt{\\frac{G_\\text{B}^2-G_0^2}{G^2-G_\\text{B}^2}}\\tan(\\Delta\\omega/2)\\ .\n",
    "\\end{alignat}"
   ]
  },
  {
   "cell_type": "markdown",
   "metadata": {
    "slideshow": {
     "slide_type": "slide"
    }
   },
   "source": [
    "In the context of the **high frequency shelving filter**, the meaning of $\\Delta\\omega$ and $G_\\text{B}$ are\n",
    "- $\\Delta\\omega$: the Nyquist frequency minus the cutoff frequency, i.e., $\\Delta\\omega=\\pi-\\omega_\\text{c}$\n",
    "- $G_\\text{B}$: the gain at the cutoff frequency which is sometimes denoted as $G_\\text{C}$\n",
    "\n",
    "<center>\n",
    "    <img src=\"figures/ap10HighShelvingFilter.png\" alt=\"High shelving filter\" width=\"60%\"/>\n",
    "</center>"
   ]
  },
  {
   "cell_type": "code",
   "execution_count": 10,
   "metadata": {
    "scrolled": false,
    "slideshow": {
     "slide_type": "slide"
    }
   },
   "outputs": [
    {
     "data": {
      "image/png": "[encoded data removed]",
      "text/plain": [
       "<Figure size 1008x432 with 1 Axes>"
      ]
     },
     "metadata": {
      "needs_background": "light"
     },
     "output_type": "display_data"
    }
   ],
   "source": [
    "samplingFreq = 44100 # Hz\n",
    "centerFreq = samplingFreq/2 # Hz - for high shelving filter\n",
    "cutoffFreq = 20000 # Hz\n",
    "gain = 1.5\n",
    "nDtft = 2048\n",
    "feedforwardParams, feedbackParams = paramEqFilterCoefficients(centerFreq*2*np.pi/samplingFreq, \\\n",
    "    np.pi-cutoffFreq*2*np.pi/samplingFreq, gain)\n",
    "digFreqVector, freqResp = sig.freqz(feedforwardParams, np.r_[1,-feedbackParams],nDtft)\n",
    "freqVector = digFreqVector*samplingFreq/(2*np.pi)\n",
    "plt.figure(figsize=(14,6))\n",
    "plt.plot(freqVector, np.abs(freqResp))\n",
    "plt.xlim((0,freqVector[-1])), plt.ylim((0,2)), plt.xlabel('$f$ [Hz]'), plt.ylabel('$|H_{high}(f)|$');"
   ]
  },
  {
   "cell_type": "markdown",
   "metadata": {
    "slideshow": {
     "slide_type": "slide"
    }
   },
   "source": [
    "### Multi-band parametric equalizer\n",
    "Building a multi-band parametric equalizer is simply a question of\n",
    "- designing a number of parametric equalizer filters (possibly as low and high shelving filters)\n",
    "- connect all the parametric equalizer filters in series\n",
    "<center>\n",
    "    <img src=\"figures/ap10ExampleEqBlockDiagram.png\" alt=\"Example of equalizer\" width=\"90%\"/>\n",
    "</center>"
   ]
  },
  {
   "cell_type": "code",
   "execution_count": 3,
   "metadata": {
    "slideshow": {
     "slide_type": "slide"
    }
   },
   "outputs": [],
   "source": [
    "def multibandParametricEq(digCenterFreqs, digBandwidths, gains, nDtft=0):\n",
    "    nBands = np.size(digCenterFreqs)\n",
    "    feedforwardParams = np.zeros((3,nBands))\n",
    "    feedbackParams = np.zeros((2,nBands))\n",
    "    if nDtft > 0:\n",
    "        freqResp = np.ones(nDtft)\n",
    "    for ii in np.arange(nBands):\n",
    "        feedforwardParams[:,ii], feedbackParams[:,ii] = \\\n",
    "            paramEqFilterCoefficients(digCenterFreqs[ii], digBandwidths[ii], gains[ii])\n",
    "        if nDtft > 0:\n",
    "            digFreqVector, iifreqResp = \\\n",
    "                sig.freqz(feedforwardParams[:,ii], np.r_[1,-feedbackParams[:,ii]],nDtft)\n",
    "            freqResp = freqResp*iifreqResp\n",
    "    if nDtft > 0:\n",
    "        return feedforwardParams, feedbackParams, digFreqVector, freqResp\n",
    "    else:\n",
    "        return feedforwardParams, feedbackParams"
   ]
  },
  {
   "cell_type": "code",
   "execution_count": 12,
   "metadata": {
    "slideshow": {
     "slide_type": "slide"
    }
   },
   "outputs": [
    {
     "name": "stderr",
     "output_type": "stream",
     "text": [
      "/usr/local/anaconda3/lib/python3.7/site-packages/scipy/signal/filter_design.py:446: RuntimeWarning: divide by zero encountered in true_divide\n",
      "  npp_polyval(zm1, a, tensor=False))\n",
      "/usr/local/anaconda3/lib/python3.7/site-packages/scipy/signal/filter_design.py:446: RuntimeWarning: invalid value encountered in true_divide\n",
      "  npp_polyval(zm1, a, tensor=False))\n",
      "/usr/local/anaconda3/lib/python3.7/site-packages/ipykernel_launcher.py:13: RuntimeWarning: invalid value encountered in multiply\n",
      "  del sys.path[0]\n"
     ]
    }
   ],
   "source": [
    "samplingFreq = 44100 # Hz\n",
    "centerFreqs = np.array([0, 3000, 10000, samplingFreq/2]) # Hz\n",
    "bandwidths = np.array([1000, 1000, 300, 15000]) # Hz\n",
    "gains = np.array([1.2, 0.2, 2, 0.8])\n",
    "nDtft = 2048\n",
    "feedforwardParams, feedbackParams, digFreqVector, freqResp = \\\n",
    "    multibandParametricEq(centerFreqs*2*np.pi/samplingFreq, bandwidths*2*np.pi/samplingFreq, gains, nDtft)"
   ]
  },
  {
   "cell_type": "code",
   "execution_count": 13,
   "metadata": {
    "scrolled": false,
    "slideshow": {
     "slide_type": "slide"
    }
   },
   "outputs": [
    {
     "data": {
      "image/png": "[encoded data removed]",
      "text/plain": [
       "<Figure size 1008x432 with 1 Axes>"
      ]
     },
     "metadata": {
      "needs_background": "light"
     },
     "output_type": "display_data"
    }
   ],
   "source": [
    "freqVector = digFreqVector*samplingFreq/(2*np.pi)\n",
    "plt.figure(figsize=(14,6))\n",
    "plt.plot(freqVector, np.abs(freqResp))\n",
    "plt.xlim((0,freqVector[-1])), plt.ylim((0,2)), plt.xlabel('$f$ [Hz]'), plt.ylabel('$|H_{high}(f)|$');"
   ]
  },
  {
   "cell_type": "markdown",
   "metadata": {
    "slideshow": {
     "slide_type": "slide"
    }
   },
   "source": [
    "### Summary\n",
    "1. Shelving filters are low and high pass filters which can either amplify or attenuate low and high frequencies.\n",
    "2. Shelving filters are used only for the first and last band of an equalizer.\n",
    "3. A shelving filter is a special case of the parametric equalizer filter.\n",
    "<center>\n",
    "    <img src=\"figures/midasEqualizer.jpg\" alt=\"Example of equalizer\" width=\"90%\"/>\n",
    "</center>"
   ]
  }
 ],
 "metadata": {
  "celltoolbar": "Slideshow",
  "kernelspec": {
   "display_name": "Python 3",
   "language": "python",
   "name": "python3"
  },
  "language_info": {
   "codemirror_mode": {
    "name": "ipython",
    "version": 3
   },
   "file_extension": ".py",
   "mimetype": "text/x-python",
   "name": "python",
   "nbconvert_exporter": "python",
   "pygments_lexer": "ipython3",
   "version": "3.7.1"
  },
  "toc": {
   "base_numbering": 1,
   "nav_menu": {
    "height": "100px",
    "width": "160px"
   },
   "number_sections": true,
   "sideBar": true,
   "skip_h1_title": true,
   "title_cell": "Table of Contents",
   "title_sidebar": "Contents",
   "toc_cell": true,
   "toc_position": {},
   "toc_section_display": true,
   "toc_window_display": false
  }
 },
 "nbformat": 4,
 "nbformat_minor": 2
}
