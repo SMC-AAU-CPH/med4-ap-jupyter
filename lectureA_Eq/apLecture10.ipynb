{
  "nbformat": 4,
  "nbformat_minor": 0,
  "metadata": {
    "celltoolbar": "Edit Metadata",
    "kernelspec": {
      "display_name": "Python 3.8.0 64-bit ('minimal_ds': conda)",
      "language": "python",
      "name": "python38064bitminimaldsconda76ff49a8f8ba4468b4e7edfee9b9acfa"
    },
    "language_info": {
      "codemirror_mode": {
        "name": "ipython",
        "version": 3
      },
      "file_extension": ".py",
      "mimetype": "text/x-python",
      "name": "python",
      "nbconvert_exporter": "python",
      "pygments_lexer": "ipython3",
      "version": "3.8.2"
    },
    "rise": {
      "enable_chalkboard": true,
      "transition": "zoom"
    },
    "toc": {
      "base_numbering": 1,
      "nav_menu": {
        "height": "100px",
        "width": "160px"
      },
      "number_sections": true,
      "sideBar": true,
      "skip_h1_title": true,
      "title_cell": "Table of Contents",
      "title_sidebar": "Contents",
      "toc_cell": true,
      "toc_position": {},
      "toc_section_display": true,
      "toc_window_display": false
    },
    "colab": {
      "name": "apLecture10.ipynb",
      "provenance": []
    }
  },
  "cells": [
    {
      "cell_type": "markdown",
      "metadata": {
        "id": "_ooKTzKXKQDU"
      },
      "source": [
        "# Lecture 10: Audio Equalizers\n",
        "Audio Processing, MED4, Aalborg University, 2020\n",
        "\n",
        "By \n",
        "- Jesper Kjær Nielsen (jkn@create.aau.dk), Audio Analysis Lab, Aalborg University, and\n",
        "- Cumhur Erkut (cer@create.aau.dk), Multisensory Experience Lab, Aalborg University \n",
        "\n",
        "Last edited: 2020-03-29"
      ]
    },
    {
      "cell_type": "markdown",
      "metadata": {
        "toc": true,
        "id": "EOVeRhouKQDa"
      },
      "source": [
        "<h1>Table of Contents<span class=\"tocSkip\"></span></h1>\n",
        "<div class=\"toc\"><ul class=\"toc-item\"><li><span><a href=\"#Introduction\" data-toc-modified-id=\"Introduction-1\"><span class=\"toc-item-num\">1&nbsp;&nbsp;</span>Introduction</a></span><ul class=\"toc-item\"><li><span><a href=\"#Why-do-we-need-audio-equalizers?\" data-toc-modified-id=\"Why-do-we-need-audio-equalizers?-1.1\"><span class=\"toc-item-num\">1.1&nbsp;&nbsp;</span>Why do we need audio equalizers?</a></span></li><li><span><a href=\"#A-typical-parametric-equalizer\" data-toc-modified-id=\"A-typical-parametric-equalizer-1.2\"><span class=\"toc-item-num\">1.2&nbsp;&nbsp;</span>A typical parametric equalizer</a></span></li><li><span><a href=\"#Summary\" data-toc-modified-id=\"Summary-1.3\"><span class=\"toc-item-num\">1.3&nbsp;&nbsp;</span>Summary</a></span></li><li><span><a href=\"#Active-5-minutes-break\" data-toc-modified-id=\"Active-5-minutes-break-1.4\"><span class=\"toc-item-num\">1.4&nbsp;&nbsp;</span>Active 5 minutes break</a></span></li></ul></li><li><span><a href=\"#Notch-and-peak-filters\" data-toc-modified-id=\"Notch-and-peak-filters-2\"><span class=\"toc-item-num\">2&nbsp;&nbsp;</span>Notch and peak filters</a></span><ul class=\"toc-item\"><li><span><a href=\"#Notch-(bandstop)-filter\" data-toc-modified-id=\"Notch-(bandstop)-filter-2.1\"><span class=\"toc-item-num\">2.1&nbsp;&nbsp;</span>Notch (bandstop) filter</a></span></li><li><span><a href=\"#Peak-(bandpass)-filter\" data-toc-modified-id=\"Peak-(bandpass)-filter-2.2\"><span class=\"toc-item-num\">2.2&nbsp;&nbsp;</span>Peak (bandpass) filter</a></span></li><li><span><a href=\"#Summary\" data-toc-modified-id=\"Summary-2.3\"><span class=\"toc-item-num\">2.3&nbsp;&nbsp;</span>Summary</a></span></li></ul></li><li><span><a href=\"#Parametric-equalizer-filter\" data-toc-modified-id=\"Parametric-equalizer-filter-3\"><span class=\"toc-item-num\">3&nbsp;&nbsp;</span>Parametric equalizer filter</a></span><ul class=\"toc-item\"><li><span><a href=\"#Summary\" data-toc-modified-id=\"Summary-3.1\"><span class=\"toc-item-num\">3.1&nbsp;&nbsp;</span>Summary</a></span></li><li><span><a href=\"#Active-5-minutes-break\" data-toc-modified-id=\"Active-5-minutes-break-3.2\"><span class=\"toc-item-num\">3.2&nbsp;&nbsp;</span>Active 5 minutes break</a></span></li></ul></li><li><span><a href=\"#Shelving-filters\" data-toc-modified-id=\"Shelving-filters-4\"><span class=\"toc-item-num\">4&nbsp;&nbsp;</span>Shelving filters</a></span><ul class=\"toc-item\"><li><span><a href=\"#Low-frequency-shelving-filter\" data-toc-modified-id=\"Low-frequency-shelving-filter-4.1\"><span class=\"toc-item-num\">4.1&nbsp;&nbsp;</span>Low frequency shelving filter</a></span></li><li><span><a href=\"#High-frequency-shelving-filter\" data-toc-modified-id=\"High-frequency-shelving-filter-4.2\"><span class=\"toc-item-num\">4.2&nbsp;&nbsp;</span>High frequency shelving filter</a></span></li><li><span><a href=\"#Multi-band-parametric-equalizer\" data-toc-modified-id=\"Multi-band-parametric-equalizer-4.3\"><span class=\"toc-item-num\">4.3&nbsp;&nbsp;</span>Multi-band parametric equalizer</a></span></li><li><span><a href=\"#Summary\" data-toc-modified-id=\"Summary-4.4\"><span class=\"toc-item-num\">4.4&nbsp;&nbsp;</span>Summary</a></span></li></ul></li></ul></div>"
      ]
    },
    {
      "cell_type": "markdown",
      "metadata": {
        "id": "GzHkPGGkKQDa"
      },
      "source": [
        "## Introduction\n",
        "In the next 20 minutes, you will learn\n",
        "\n",
        "- what an audio equalizer is\n",
        "\n",
        "- what it is used for\n",
        "\n",
        "- what a parametric equalizer is\n"
      ]
    },
    {
      "cell_type": "markdown",
      "metadata": {
        "id": "PDp7jeVNKQDb"
      },
      "source": [
        "### Why do we need audio equalizers?\n",
        "Many phenomena change the sound before it reaches our ears:\n",
        "- amplifier\n",
        "- loudspeaker\n",
        "- room acoustics\n",
        "- our hearing\n",
        "- etc.\n",
        "\n",
        "The main objective of audio equalizers is to **invert (some of) these changes**!"
      ]
    },
    {
      "cell_type": "markdown",
      "metadata": {
        "id": "Frb7boX6KQDb"
      },
      "source": [
        "#### Example: hard surfaces boost the bass of a loudspeaker\n",
        "We need an equalizer to compensate for the boost in bass.\n",
        "<center>\n",
        "    <img src=\"https://github.com/SMC-AAU-CPH/med4-ap-jupyter/blob/main/lectureA_Eq/figures/ap10BassBoost.png?raw=1\" alt=\"Example of equalizer\" width=\"65%\"/>\n",
        "</center>"
      ]
    },
    {
      "cell_type": "markdown",
      "metadata": {
        "id": "Up1lbcGdKQDd"
      },
      "source": [
        "#### Example: loudspeaker tuning\n",
        "We need to tune the filters in the loudspeaker so that the listener hears what is intended.\n",
        "<center>\n",
        "    <img src=\"https://github.com/SMC-AAU-CPH/med4-ap-jupyter/blob/main/lectureA_Eq/figures/ap10ThreeWaySpeaker.png?raw=1\" alt=\"3-way loudspeaker\" width=\"75%\"/>\n",
        "</center>"
      ]
    },
    {
      "cell_type": "markdown",
      "metadata": {
        "id": "OStL717EKQDd"
      },
      "source": [
        "#### Example: equalizing compensation for hearing loss\n",
        "<center>\n",
        "    <img src=\"https://github.com/SMC-AAU-CPH/med4-ap-jupyter/blob/main/lectureA_Eq/figures/hearingThresholdVsAge.png?raw=1\" alt=\"hearing loss compensation\" width=\"75%\"/>\n",
        "</center>"
      ]
    },
    {
      "cell_type": "markdown",
      "metadata": {
        "id": "U-j-pfGQKQDe"
      },
      "source": [
        "### A typical parametric equalizer\n",
        "A common audio equalizer is a **parametric equalizer** which functions by\n",
        "- dividing the frequency range into a number of bands\n",
        "- apply filters in each band which can amplify/attenuate the frequency content in this band\n",
        "---\n",
        "Note that so-called graphic equalizers is an alternative to the parametric equalizer, but we will not cover that here.\n",
        "<center>\n",
        "    <img src=\"https://github.com/SMC-AAU-CPH/med4-ap-jupyter/blob/main/lectureA_Eq/figures/midasEqualizer.jpg?raw=1\" alt=\"a typical parametric EQ\" width=\"75%\"/>\n",
        "</center>\n"
      ]
    },
    {
      "cell_type": "markdown",
      "metadata": {
        "id": "QRWGItX4KQDe"
      },
      "source": [
        "### Example of a block diagram of a parametric equalizer\n",
        "<center>\n",
        "    <img src=\"https://github.com/SMC-AAU-CPH/med4-ap-jupyter/blob/main/lectureA_Eq/figures/ap10ExampleEqBlockDiagram.png?raw=1\" alt=\"3-way loudspeaker\" width=\"75%\"/>\n",
        "</center>\n"
      ]
    },
    {
      "cell_type": "markdown",
      "metadata": {
        "id": "YOGF12EZKQDf"
      },
      "source": [
        "The filter in each band of the parametric equalizer is called a **parametric equalizer filter**. It can be either a\n",
        "- **first and last band**: lowpass or highpass filter with adjustable cut-off frequency and gain (a **shelving filter**)\n",
        "- **bands in the middle**: combination of a bandpass (peak) or a bandstop (notch) filter with adjustable center frequency and bandwidth\n",
        "\n",
        "Note that\n",
        "- both of these filters can be implemented using **a second order feedback (IIR) filter**\n",
        "- we will go more into depth with these two kinds of parametric equalizer filters later"
      ]
    },
    {
      "cell_type": "markdown",
      "metadata": {
        "id": "Q12m6eSyKQDf"
      },
      "source": [
        "### Summary\n",
        "1. Audio equalizers are useful in many applications such as room compensation and the tuning of hearing aids\n",
        "2. A parametric equaliser is used to amplify/attenuate the frequency content within different bands"
      ]
    },
    {
      "cell_type": "markdown",
      "metadata": {
        "id": "cxGCXbOeKQDf"
      },
      "source": [
        "### Active 5 minutes break\n",
        "As we see later, the basic ingredient is a **parametric equalizer filter** resulting in the **difference equation**\n",
        "$$\n",
        "    y_n = b_0x_n + b_1 x_{n-1} + b_2 x_{n-2} + a_1y_{n-1} + a_2 y_{n-2}\n",
        "$$\n",
        "\n",
        "1. Do you know this filter? Is this a feedforward or a feedback filter?\n",
        "2. What are the feedforward and feedback filter coefficients?\n",
        "3. Sketch the difference equations using the delay, summation, and multiplication blocks.\n",
        "\n",
        "<center>\n",
        "    <img src=\"https://github.com/SMC-AAU-CPH/med4-ap-jupyter/blob/main/lectureA_Eq/figures/ap4FilterBuildingBlocks.png?raw=1\" alt=\"Blocks from AP4\" width=\"38%\"/>\n",
        "</center>\n"
      ]
    },
    {
      "cell_type": "markdown",
      "metadata": {
        "id": "j_zj61SzKQDg"
      },
      "source": [
        "## Notch and peak filters\n",
        "In the next 20 minutes, you will learn\n",
        "- how a parametric equalizer filter can be designed using a notch (bandstop) and peak (bandpass) filter\n",
        "- how the notch filter is designed and controlled\n",
        "- how the peak filter is designed and controlled"
      ]
    },
    {
      "cell_type": "markdown",
      "metadata": {
        "id": "2ijqbXneKQDh"
      },
      "source": [
        "The **transfer function** of the parametric equalizer filter $H_\\text{eq}(z)$ is\n",
        "$$\n",
        "    H_\\text{eq}(z) = G_0H_\\text{notch}(z) + G H_\\text{peak}(z)\\ .\n",
        "$$\n",
        "<center>\n",
        "    <img src=\"https://github.com/SMC-AAU-CPH/med4-ap-jupyter/blob/main/lectureA_Eq/figures/ap10ParametricEqFilter.png?raw=1\" alt=\"Parametric equalizer filter\" width=\"70%\"/>\n",
        "</center>"
      ]
    },
    {
      "cell_type": "markdown",
      "metadata": {
        "id": "gn-tCXqqKQDh"
      },
      "source": [
        "### Notch (bandstop) filter\n",
        "We will use the following notation:\n",
        "- $\\omega_1$ and $\\omega_2$: lower and upper cutoff frequencies in radians/sample\n",
        "- $\\omega_0=\\sqrt{\\omega_1\\omega_2}$: center frequency in radians/sample\n",
        "- $\\Delta\\omega=\\omega_2-\\omega_1$: bandwidth in radians/sample\n",
        "- $G_\\text{B}$: gain at the cutoff frequencies.\n",
        "<center>\n",
        "    <img src=\"https://github.com/SMC-AAU-CPH/med4-ap-jupyter/blob/main/lectureA_Eq/figures/ap10NotchFilterNomenclature.png?raw=1\" alt=\"The notch filter\" width=\"50%\"/>\n",
        "</center>"
      ]
    },
    {
      "cell_type": "markdown",
      "metadata": {
        "id": "Hm3I3KFAKQDh"
      },
      "source": [
        "It can be shown that the transfer function of a notch filter is given by\n",
        "$$\n",
        "    H_\\text{notch}(z) = b\\frac{1-2\\cos(\\omega_0)z^{-1}+z^{-2}}{1-2b\\cos(\\omega_0)z^{-1}+(2b-1)z^{-2}}\n",
        "$$\n",
        "where\n",
        "- $\\omega_0$ is the center frequency in radians/sample\n",
        "- $b=(1+\\beta)^{-1}$ where\n",
        "$$\n",
        "    \\beta = \\frac{\\sqrt{1-G_\\text{B}^2}}{G_\\text{B}}\\tan(\\Delta\\omega/2)\n",
        "$$\n",
        "- $G_\\text{B}$ is the gain at the cutoff frequencies $\\omega_1$ and $\\omega_2$\n",
        "- $\\Delta\\omega$ is the bandwidth (i.e., $\\omega_2-\\omega_1$) in radians/sample."
      ]
    },
    {
      "cell_type": "markdown",
      "metadata": {
        "id": "_1ZPtbmuKQDh"
      },
      "source": [
        "The notch filter results in the difference equation\n",
        "$$\n",
        "    y_n = bx_n -2b\\cos(\\omega_0)x_{n-1}+bx_{n-2} + 2b\\cos(\\omega_0)y_{n-1} - (2b-1) y_{n-2}\n",
        "$$\n",
        "<center>\n",
        "    <img src=\"https://github.com/SMC-AAU-CPH/med4-ap-jupyter/blob/main/lectureA_Eq/figures/ap10NotchFilterSignalFlowGraph.png?raw=1\" alt=\"The signal flow graph of a notch filter\" width=\"70%\"/>\n",
        "</center>"
      ]
    },
    {
      "cell_type": "code",
      "metadata": {
        "id": "lvrTwGmXKQDh"
      },
      "source": [
        "%matplotlib inline\n",
        "import numpy as np\n",
        "import matplotlib.pyplot as plt\n",
        "import scipy.signal as sig\n",
        "\n",
        "def computeNotchFilterParameters(digCenterFreq, digBandwidth, cutoffGain):\n",
        "    beta = (np.sqrt(1-cutoffGain**2)/cutoffGain)*np.tan(digBandwidth/2)\n",
        "    b0 = 1/(1+beta)\n",
        "    b1 = -2*b0*np.cos(digCenterFreq)\n",
        "    b2 = b0\n",
        "    a1 = -b1\n",
        "    a2 = -(2*b0-1)\n",
        "    feedforwardParams = np.array([b0, b1, b2])\n",
        "    feedbackParams = np.array([a1, a2])\n",
        "    return feedforwardParams, feedbackParams"
      ],
      "execution_count": null,
      "outputs": []
    },
    {
      "cell_type": "code",
      "metadata": {
        "id": "HIr7AGU0KQDi",
        "outputId": "3834a918-9d25-4f78-e7b3-78fc506c61cd"
      },
      "source": [
        "samplingFreq = 44100 # Hz\n",
        "centerFreq = 1000 # Hz\n",
        "bandwidth = 250 # Hz\n",
        "cutoffGain = np.sqrt(0.5)\n",
        "nDtft = 2048\n",
        "feedforwardParams, feedbackParams = computeNotchFilterParameters(centerFreq*2*np.pi/samplingFreq, \\\n",
        "    bandwidth*2*np.pi/samplingFreq, cutoffGain)\n",
        "digFreqVector, freqResp = sig.freqz(feedforwardParams, np.r_[1,-feedbackParams],nDtft)\n",
        "freqVector = digFreqVector*samplingFreq/(2*np.pi)\n",
        "plt.figure(figsize=(14,6))\n",
        "plt.plot(freqVector, np.abs(freqResp))\n",
        "plt.xlim((0,freqVector[-1])), plt.ylim((0,1)), plt.xlabel('$f$ [Hz]'), plt.ylabel('$|H_{notch}(f)|$');"
      ],
      "execution_count": null,
      "outputs": [
        {
          "output_type": "display_data",
          "data": {
            "image/png": "[encoded data removed]",
            "text/plain": [
              "<Figure size 1008x432 with 1 Axes>"
            ]
          },
          "metadata": {
            "tags": [],
            "needs_background": "light"
          }
        }
      ]
    },
    {
      "cell_type": "markdown",
      "metadata": {
        "id": "nJnDQv8ZKQDi"
      },
      "source": [
        "### Peak (bandpass) filter\n",
        "We will use the following notation:\n",
        "- $\\omega_1$ and $\\omega_2$: lower and upper cutoff frequencies in radians/sample\n",
        "- $\\omega_0=\\sqrt{\\omega_1\\omega_2}$: center frequency in radians/sample\n",
        "- $\\Delta\\omega=\\omega_2-\\omega_1$: bandwidth in radians/sample\n",
        "- $G_\\text{B}$: gain at the cutoff frequencies.\n",
        "<center>\n",
        "    <img src=\"https://github.com/SMC-AAU-CPH/med4-ap-jupyter/blob/main/lectureA_Eq/figures/ap10PeakFilterNomenclature.png?raw=1\" alt=\"The peak filter\" width=\"50%\"/>\n",
        "</center>"
      ]
    },
    {
      "cell_type": "markdown",
      "metadata": {
        "id": "lI76sbokKQDi"
      },
      "source": [
        "It can be shown that the transfer function of a notch filter is given by\n",
        "$$\n",
        "    H_\\text{peak}(z) = (1-b)\\frac{1-z^{-2}}{1-2b\\cos(\\omega_0)z^{-1}+(2b-1)z^{-2}}\n",
        "$$\n",
        "where\n",
        "- $\\omega_0$ is the center frequency in radians/sample\n",
        "- $b=(1+\\beta)^{-1}$ where\n",
        "$$\n",
        "    \\beta = \\frac{G_\\text{B}}{\\sqrt{1-G_\\text{B}^2}}\\tan(\\Delta\\omega/2)\n",
        "$$\n",
        "- $G_\\text{B}$ is the gain at the cutoff frequencies $\\omega_1$ and $\\omega_2$\n",
        "- $\\Delta\\omega$ is the bandwidth (i.e., $\\omega_2-\\omega_1$) in radians/sample."
      ]
    },
    {
      "cell_type": "markdown",
      "metadata": {
        "id": "GxdxuSQ1KQDj"
      },
      "source": [
        "The peak filter results in the difference equation\n",
        "$$\n",
        "    y_n = (1-b)x_n - (1-b)x_{n-2} + 2b\\cos(\\omega_0)y_{n-1} - (2b-1) y_{n-2}\n",
        "$$\n",
        "<center>\n",
        "    <img src=\"https://github.com/SMC-AAU-CPH/med4-ap-jupyter/blob/main/lectureA_Eq/figures/ap10PeakFilterSignalFlowGraph.png?raw=1\" alt=\"The signal flow graph of a notch filter\" width=\"70%\"/>\n",
        "</center>"
      ]
    },
    {
      "cell_type": "code",
      "metadata": {
        "id": "S2yNbnZPKQDj"
      },
      "source": [
        "%matplotlib inline\n",
        "import numpy as np\n",
        "import matplotlib.pyplot as plt\n",
        "import scipy.signal as sig\n",
        "\n",
        "def computePeakFilterParameters(digCenterFreq, digBandwidth, cutoffGain):\n",
        "    beta = (cutoffGain/np.sqrt(1-cutoffGain**2))*np.tan(digBandwidth/2)\n",
        "    b = 1/(1+beta)\n",
        "    b0 = 1-b\n",
        "    b1 = 0\n",
        "    b2 = -b0\n",
        "    a1 = 2*b*np.cos(digCenterFreq)\n",
        "    a2 = -(2*b-1)\n",
        "    feedforwardParams = np.array([b0, b1, b2])\n",
        "    feedbackParams = np.array([a1, a2])\n",
        "    return feedforwardParams, feedbackParams"
      ],
      "execution_count": null,
      "outputs": []
    },
    {
      "cell_type": "code",
      "metadata": {
        "id": "tZ76eynYKQDj",
        "outputId": "1a66c833-bc24-48bb-bdd0-4e7fb1545966"
      },
      "source": [
        "samplingFreq = 44100 # Hz\n",
        "centerFreq = 1000 # Hz\n",
        "bandwidth = 2500 # Hz\n",
        "cutoffGain = np.sqrt(0.5)\n",
        "nDtft = 2048\n",
        "feedforwardParams, feedbackParams = computePeakFilterParameters(centerFreq*2*np.pi/samplingFreq, \\\n",
        "    bandwidth*2*np.pi/samplingFreq, cutoffGain)\n",
        "digFreqVector, freqResp = sig.freqz(feedforwardParams, np.r_[1,-feedbackParams],nDtft)\n",
        "freqVector = digFreqVector*samplingFreq/(2*np.pi)\n",
        "plt.figure(figsize=(14,6))\n",
        "plt.plot(freqVector, np.abs(freqResp))\n",
        "plt.xlim((0,freqVector[-1])), plt.ylim((0,1)), plt.xlabel('$f$ [Hz]'), plt.ylabel('$|H_{peak}(f)|$');"
      ],
      "execution_count": null,
      "outputs": [
        {
          "output_type": "display_data",
          "data": {
            "image/png": "[encoded data removed]",
            "text/plain": [
              "<Figure size 1008x432 with 1 Axes>"
            ]
          },
          "metadata": {
            "tags": [],
            "needs_background": "light"
          }
        }
      ]
    },
    {
      "cell_type": "markdown",
      "metadata": {
        "id": "0O00slgJKQDj"
      },
      "source": [
        "### Summary\n",
        "1. A notch (bandstop) filter can be used to remove frequencies\n",
        "<center>\n",
        "    <img src=\"https://github.com/SMC-AAU-CPH/med4-ap-jupyter/blob/main/lectureA_Eq/figures/ap10NotchFilterNomenclature.png?raw=1\" alt=\"The notch filter\" width=\"30%\"/>\n",
        "</center>\n",
        "2. A peak (bandpass) filter can be used to remove frequencies\n",
        "<center>\n",
        "    <img src=\"https://github.com/SMC-AAU-CPH/med4-ap-jupyter/blob/main/lectureA_Eq/figures/ap10PeakFilterNomenclature.png?raw=1\" alt=\"The notch filter\" width=\"30%\"/>\n",
        "</center>"
      ]
    },
    {
      "cell_type": "markdown",
      "metadata": {
        "id": "Y9mZKzhGKQDk"
      },
      "source": [
        "## Parametric equalizer filter\n",
        "In the next 20 minutes, you will learn\n",
        "- how we can combine a notch and a peak filter into a parametric equalizer filter"
      ]
    },
    {
      "cell_type": "markdown",
      "metadata": {
        "id": "fPKV87_xKQDk"
      },
      "source": [
        "We can write the transfer function of the peak and notch filters as\n",
        "\\begin{align}\n",
        "    H_\\text{notch}(z) &= \\frac{A_\\text{notch}(z)}{B_\\text{notch}(z)}\\\\\n",
        "    H_\\text{peak}(z) &= \\frac{A_\\text{peak}(z)}{B_\\text{peak}(z)}\n",
        "\\end{align}\n",
        "where\n",
        "\\begin{align}\n",
        "    A_\\text{notch}(z) &= b_\\text{notch}(1-2\\cos(\\omega_0)z^{-1}+z^{-2})\\\\\n",
        "    B_\\text{notch}(z) &= 1-2b_\\text{notch}\\cos(\\omega_0)z^{-1}+(2b_\\text{notch}-1)z^{-2}\\\\\n",
        "    A_\\text{peak}(z) &= (1-b_\\text{peak})(1-z^{-2})\\\\\n",
        "    B_\\text{peak}(z) &= 1-2b_\\text{peak}\\cos(\\omega_0)z^{-1}+(2b_\\text{peak}-1)z^{-2}\\ .\n",
        "\\end{align}"
      ]
    },
    {
      "cell_type": "markdown",
      "metadata": {
        "id": "AhdxYgJ2KQDk"
      },
      "source": [
        "Recall that the **transfer function** of the parametric equalizer filter $H_\\text{eq}(z)$ is\n",
        "$$\n",
        "    H_\\text{eq}(z) = G_0H_\\text{notch}(z) + G H_\\text{peak}(z)\\ .\n",
        "$$\n",
        "<center>\n",
        "    <img src=\"https://github.com/SMC-AAU-CPH/med4-ap-jupyter/blob/main/lectureA_Eq/figures/ap10ParametricEqFilter.png?raw=1\" alt=\"Parametric equalizer filter\" width=\"70%\"/>\n",
        "</center>"
      ]
    },
    {
      "cell_type": "markdown",
      "metadata": {
        "id": "RGp_9E3zKQDk"
      },
      "source": [
        "Note that\n",
        "- $G_0$ (which is sometimes called the level) is often set to 1\n",
        "- $G>G_0$ results in a boost of some frequencies\n",
        "- $G<G_0$ results in a cut of some frequencies\n",
        "\n",
        "<center>\n",
        "    <img src=\"https://github.com/SMC-AAU-CPH/med4-ap-jupyter/blob/main/lectureA_Eq/figures/ap10ParametricEqFilter.png?raw=1\" alt=\"Parametric equalizer filter\" width=\"50%\"/>\n",
        "</center>"
      ]
    },
    {
      "cell_type": "markdown",
      "metadata": {
        "id": "2KJrRQYtKQDk"
      },
      "source": [
        "We have\n",
        "\\begin{align}\n",
        "    H_\\text{eq}(z) &= G_0H_\\text{notch}(z) + G H_\\text{peak}(z)\\\\\n",
        "    &= \\frac{G_0A_\\text{notch}(z)B_\\text{peak}(z)+GA_\\text{peak}(z)B_\\text{notch}(z)}{B_\\text{notch}(z)B_\\text{peak}(z)}\n",
        "\\end{align}\n",
        "with three interesting special cases:\n",
        "1. $G_0=G=1$: the signal passes unaltered, i.e., $H_\\text{eq}(z)=1$\n",
        "2. $G_0=1$ and $G=0$: the parametric equalizer filter is a notch filter, i.e., $H_\\text{eq}(z)=H_\\text{notch}(z)$\n",
        "3. $G_0=0$ and $G=1$: the parametric equalizer filter is a peak filter, i.e., $H_\\text{eq}(z)=H_\\text{peak}(z)$"
      ]
    },
    {
      "cell_type": "markdown",
      "metadata": {
        "id": "Zgmn-0Y5KQDk"
      },
      "source": [
        "After a lot of math, it can be shown that\n",
        "$$\n",
        "    H_\\text{eq}(z) = \\frac{b_0 + b_1z^{-1}+b_2z^{-2}}{1 - a_1z^{-1}-a_2z^{-2}}\n",
        "$$\n",
        "where we have defined\n",
        "\\begin{alignat}{2}\n",
        "    b_0 &= \\frac{G_0+G\\alpha}{1+\\alpha}\\ , &\\qquad b_1 &= \\frac{-2G_0\\cos(\\omega_0)}{1+\\alpha}\\\\\n",
        "    b_2 &= \\frac{G_0-G\\alpha}{1+\\alpha}\\ , &\\qquad a_1 &= \\frac{2\\cos(\\omega_0)}{1+\\alpha}\\\\\n",
        "    a_2 &= -\\frac{1-\\alpha}{1+\\alpha}\\ , &\\qquad \\alpha &= \\sqrt{\\frac{G_\\text{B}^2-G_0^2}{G^2-G_\\text{B}^2}}\\tan(\\Delta\\omega/2)\\ .\n",
        "\\end{alignat}"
      ]
    },
    {
      "cell_type": "markdown",
      "metadata": {
        "id": "OSsRoTJYKQDl"
      },
      "source": [
        "#### Example: design of parametric equalizer filter\n",
        "Assume that the user can control the three parameters\n",
        "1. center frequency $\\omega_0$\n",
        "2. bandwidth $\\Delta\\omega$\n",
        "3. boost/cut $G$\n",
        "\n",
        "When design the parametric equalizer filter as\n",
        "1. calculate the cutoff gain as either\n",
        "$$\n",
        "    G_\\text{B}^2 = G_0G \\quad\\text{or}\\quad G_\\text{B} = G_0^2/2+G^2/2\n",
        "$$\n",
        "with (typically) $G_0=1$.\n",
        "2. Compute $\\alpha$ and the filter coefficients $b_0$, $b_1$, $b_2$, $a_1$, and $a_2$ (see above) "
      ]
    },
    {
      "cell_type": "markdown",
      "metadata": {
        "id": "apCxE5j6KQDl"
      },
      "source": [
        "The parametric equalizer filter results in the difference equation\n",
        "$$\n",
        "    y_n = b_0x_n + b_1 x_{n-1} + b_2 x_{n-2} + a_1y_{n-1} + a_2 y_{n-2}\n",
        "$$\n",
        "<center>\n",
        "    <img src=\"https://github.com/SMC-AAU-CPH/med4-ap-jupyter/blob/main/lectureA_Eq/figures/ap10SecondOrderFilterSignalFlowGraph.png?raw=1\" alt=\"Second order IIR filter\" width=\"70%\"/>\n",
        "</center>"
      ]
    },
    {
      "cell_type": "code",
      "metadata": {
        "id": "U8YEwCScKQDl"
      },
      "source": [
        "def paramEqFilterCoefficients(digCenterFreq, digBandwidth, gain, level=1):\n",
        "    if gain == level:\n",
        "        feedforwardParams = np.array([1, 0, 0])\n",
        "        feedbackParams = np.array([0, 0])\n",
        "    else:\n",
        "        cutoffGain = np.sqrt((gain**2+level**2)/2) # could also be the geometric mean instead\n",
        "        alpha = np.sqrt((cutoffGain**2-level**2)/(gain**2-cutoffGain**2))*np.tan(digBandwidth/2)\n",
        "        b0 = (level+gain*alpha)/(1+alpha)\n",
        "        b1 = -2*level*np.cos(digCenterFreq)/(1+alpha)\n",
        "        b2 = (level-gain*alpha)/(1+alpha)\n",
        "        a1 = 2*np.cos(digCenterFreq)/(1+alpha)\n",
        "        a2 = -(1-alpha)/(1+alpha)\n",
        "        feedforwardParams = np.array([b0, b1, b2])\n",
        "        feedbackParams = np.array([a1, a2])\n",
        "    return feedforwardParams, feedbackParams"
      ],
      "execution_count": null,
      "outputs": []
    },
    {
      "cell_type": "code",
      "metadata": {
        "id": "A-DBjwyvKQDl",
        "outputId": "9848a286-15d7-404b-8095-8ff362921dfa"
      },
      "source": [
        "samplingFreq = 44100 # Hz\n",
        "centerFreq = 1000 # Hz\n",
        "bandwidth = 2500 # Hz\n",
        "gain = 1\n",
        "nDtft = 2048\n",
        "feedforwardParams, feedbackParams = paramEqFilterCoefficients(centerFreq*2*np.pi/samplingFreq, \\\n",
        "    bandwidth*2*np.pi/samplingFreq, gain)\n",
        "digFreqVector, freqResp = sig.freqz(feedforwardParams, np.r_[1,-feedbackParams],nDtft)\n",
        "freqVector = digFreqVector*samplingFreq/(2*np.pi)\n",
        "plt.figure(figsize=(14,6))\n",
        "plt.plot(freqVector, np.abs(freqResp))\n",
        "plt.xlim((0,freqVector[-1])), plt.ylim((0,2)), plt.xlabel('$f$ [Hz]'), plt.ylabel('$|H_{notch}(f)|$');"
      ],
      "execution_count": null,
      "outputs": [
        {
          "output_type": "display_data",
          "data": {
            "image/png": "[encoded data removed]",
            "text/plain": [
              "<Figure size 1008x432 with 1 Axes>"
            ]
          },
          "metadata": {
            "tags": [],
            "needs_background": "light"
          }
        }
      ]
    },
    {
      "cell_type": "markdown",
      "metadata": {
        "id": "Map1dBtpKQDl"
      },
      "source": [
        "### Summary\n",
        "1. A parametric equalizer filter is a way of boosting or cutting some frequencies using a combination of peak and notch filters.\n",
        "2. Typically, the user can control \n",
        " - $\\omega_0$: the center frequency,\n",
        " - $\\Delta\\omega$: the bandwidth, and\n",
        " - $G$: the amount of boost/cut \n",
        "\n",
        "<center>\n",
        "    <img src=\"https://github.com/SMC-AAU-CPH/med4-ap-jupyter/blob/main/lectureA_Eq/figures/ap10ParametricEqFilter.png?raw=1\" alt=\"Parametric equalizer filter\" width=\"70%\"/>\n",
        "</center>"
      ]
    },
    {
      "cell_type": "markdown",
      "metadata": {
        "id": "PUpFwefaKQDl"
      },
      "source": [
        "### Active 5 minutes break\n",
        "1. Together with your neighbour, explain as much as you can about the equalizer on the picture (i.e., number of bands, user parameters, etc.)\n",
        "<center>\n",
        "    <img src=\"https://github.com/SMC-AAU-CPH/med4-ap-jupyter/blob/main/lectureA_Eq/figures/dbx555Eq.jpg?raw=1\" alt=\"dbx 555 equalizer\" width=\"80%\"/>\n",
        "</center>"
      ]
    },
    {
      "cell_type": "markdown",
      "metadata": {
        "id": "tC0msHHBKQDm"
      },
      "source": [
        "## Shelving filters \n",
        "In the next 20 minutes, you will learn\n",
        "- what a shelving filter is and why we need them\n",
        "- that a shelving filter is a special case of the parametric equalizer filter"
      ]
    },
    {
      "cell_type": "markdown",
      "metadata": {
        "id": "rYntnWQyKQDm"
      },
      "source": [
        "Recall that a **parametric equalizer** functions by\n",
        "- dividing the frequency range into a number of bands\n",
        "- apply filters in each band which can amplify/attenuate the frequency content in this band\n",
        "\n",
        "What about the first (low frequencies) and last (high frequencies) band?\n",
        "<center>\n",
        "    <img src=\"https://github.com/SMC-AAU-CPH/med4-ap-jupyter/blob/main/lectureA_Eq/figures/midasEqualizer.jpg?raw=1\" alt=\"Example of equalizer\" width=\"90%\"/>\n",
        "</center>"
      ]
    },
    {
      "cell_type": "markdown",
      "metadata": {
        "id": "TZATGMTmKQDm"
      },
      "source": [
        "For the low and high frequencies, traditional low- and highpass filters are used instead of peak and notch filters. When used as shown below, the filter is called a **shelving filter**!\n",
        "\n",
        "The shelving filter exists in two forms:\n",
        "1. Low frequency shelving filter\n",
        "2. High frequency shelving filter\n",
        "\n",
        "<center>\n",
        "    <img src=\"https://github.com/SMC-AAU-CPH/med4-ap-jupyter/blob/main/lectureA_Eq/figures/ap10ShelvingEqFilter.png?raw=1\" alt=\"Shelving equalizer filter\" width=\"70%\"/>\n",
        "</center>"
      ]
    },
    {
      "cell_type": "markdown",
      "metadata": {
        "id": "oVBdjmQeKQDm"
      },
      "source": [
        "### Low frequency shelving filter\n",
        "The low frequency shelving filter is simply the **parametric equalizer filter** with $\\omega_0 = 0$ which can be written as\n",
        "\\begin{align}\n",
        "    H_\\text{low}(z) &= \\frac{(b_0-b_2z^{-1})(1-z^{-1})}{(1+a_2z^{-1})(1-z^{-1})}\\\\\n",
        "    &= \\frac{b_0-b_2z^{-1}}{1+a_2z^{-1}}\n",
        "\\end{align}\n",
        "since $\\cos(\\omega_0)=1$ for $\\omega_0=0$ where (as before)\n",
        "\\begin{alignat}{2}\n",
        "    b_0 &= \\frac{G_0+G\\alpha}{1+\\alpha}\\ , &\\qquad b_2 &= \\frac{G_0-G\\alpha}{1+\\alpha}\\\\\n",
        "    a_2 &= -\\frac{1-\\alpha}{1+\\alpha}\\ , &\\qquad \\alpha &= \\sqrt{\\frac{G_\\text{B}^2-G_0^2}{G^2-G_\\text{B}^2}}\\tan(\\Delta\\omega/2)\\ .\n",
        "\\end{alignat}"
      ]
    },
    {
      "cell_type": "markdown",
      "metadata": {
        "id": "Vl65rc3GKQDm"
      },
      "source": [
        "In the context of the **low frequency shelving filter**, the meaning of $\\Delta\\omega$ and $G_\\text{B}$ are\n",
        "- $\\Delta\\omega$: the cutoff frequency which is sometimes denoted as $\\omega_\\text{c}$\n",
        "- $G_\\text{B}$: the gain at the cutoff frequency which is sometimes denoted as $G_\\text{C}$\n",
        "\n",
        "<center>\n",
        "    <img src=\"https://github.com/SMC-AAU-CPH/med4-ap-jupyter/blob/main/lectureA_Eq/figures/ap10LowShelvingFilter.png?raw=1\" alt=\"Low shelving filter\" width=\"60%\"/>\n",
        "</center>"
      ]
    },
    {
      "cell_type": "code",
      "metadata": {
        "id": "IGh6pvlfKQDm",
        "outputId": "ec898f13-0ec0-4056-fe3e-7eaaf97d5d0a"
      },
      "source": [
        "samplingFreq = 44100 # Hz\n",
        "centerFreq = 1 # Hz - for low shelving filter\n",
        "cutoffFreq = 250 # Hz\n",
        "gain = 1\n",
        "nDtft = 2048\n",
        "feedforwardParams, feedbackParams = paramEqFilterCoefficients(centerFreq*2*np.pi/samplingFreq, \\\n",
        "    cutoffFreq*2*np.pi/samplingFreq, gain)\n",
        "digFreqVector, freqResp = sig.freqz(feedforwardParams, np.r_[1,-feedbackParams],nDtft)\n",
        "freqVector = digFreqVector*samplingFreq/(2*np.pi)\n",
        "plt.figure(figsize=(14,6))\n",
        "plt.plot(freqVector, np.abs(freqResp))\n",
        "plt.xlim((0,freqVector[-1])), plt.ylim((0,2)), plt.xlabel('$f$ [Hz]'), plt.ylabel('$|H_{low}(f)|$');"
      ],
      "execution_count": null,
      "outputs": [
        {
          "output_type": "display_data",
          "data": {
            "image/png": "[encoded data removed]",
            "text/plain": [
              "<Figure size 1008x432 with 1 Axes>"
            ]
          },
          "metadata": {
            "tags": [],
            "needs_background": "light"
          }
        }
      ]
    },
    {
      "cell_type": "markdown",
      "metadata": {
        "id": "nV7n3u-lKQDn"
      },
      "source": [
        "### High frequency shelving filter\n",
        "The high frequency shelving filter is simply the **parametric equalizer filter** with $\\omega_0 = \\pi$ which can be written as\n",
        "\\begin{align}\n",
        "    H_\\text{high}(z) &= \\frac{(b_0+b_2z^{-1})(1-z^{-1})}{(1-a_2z^{-1})(1-z^{-1})}\\\\\n",
        "    &= \\frac{b_0+b_2z^{-1}}{1-a_2z^{-1}}\n",
        "\\end{align}\n",
        "since $\\cos(\\omega_0)=-1$ for $\\omega_0=\\pi$ where (as before)\n",
        "\\begin{alignat}{2}\n",
        "    b_0 &= \\frac{G_0+G\\alpha}{1+\\alpha}\\ , &\\qquad b_2 &= \\frac{G_0-G\\alpha}{1+\\alpha}\\\\\n",
        "    a_2 &= -\\frac{1-\\alpha}{1+\\alpha}\\ , &\\qquad \\alpha &= \\sqrt{\\frac{G_\\text{B}^2-G_0^2}{G^2-G_\\text{B}^2}}\\tan(\\Delta\\omega/2)\\ .\n",
        "\\end{alignat}"
      ]
    },
    {
      "cell_type": "markdown",
      "metadata": {
        "id": "zVR23gWHKQDn"
      },
      "source": [
        "In the context of the **high frequency shelving filter**, the meaning of $\\Delta\\omega$ and $G_\\text{B}$ are\n",
        "- $\\Delta\\omega$: the Nyquist frequency minus the cutoff frequency, i.e., $\\Delta\\omega=\\pi-\\omega_\\text{c}$\n",
        "- $G_\\text{B}$: the gain at the cutoff frequency which is sometimes denoted as $G_\\text{C}$\n",
        "\n",
        "<center>\n",
        "    <img src=\"https://github.com/SMC-AAU-CPH/med4-ap-jupyter/blob/main/lectureA_Eq/figures/ap10HighShelvingFilter.png?raw=1\" alt=\"High shelving filter\" width=\"60%\"/>\n",
        "</center>"
      ]
    },
    {
      "cell_type": "code",
      "metadata": {
        "id": "Ky3ZFKsRKQDn",
        "outputId": "b03d6c59-1006-4193-acc1-b0d643f793ef"
      },
      "source": [
        "samplingFreq = 44100 # Hz\n",
        "centerFreq = samplingFreq/2 # Hz - for high shelving filter\n",
        "cutoffFreq = 20000 # Hz\n",
        "gain = 1.5\n",
        "nDtft = 2048\n",
        "feedforwardParams, feedbackParams = paramEqFilterCoefficients(centerFreq*2*np.pi/samplingFreq, \\\n",
        "    np.pi-cutoffFreq*2*np.pi/samplingFreq, gain)\n",
        "digFreqVector, freqResp = sig.freqz(feedforwardParams, np.r_[1,-feedbackParams],nDtft)\n",
        "freqVector = digFreqVector*samplingFreq/(2*np.pi)\n",
        "plt.figure(figsize=(14,6))\n",
        "plt.plot(freqVector, np.abs(freqResp))\n",
        "plt.xlim((0,freqVector[-1])), plt.ylim((0,2)), plt.xlabel('$f$ [Hz]'), plt.ylabel('$|H_{high}(f)|$');"
      ],
      "execution_count": null,
      "outputs": [
        {
          "output_type": "display_data",
          "data": {
            "image/png": "[encoded data removed]",
            "text/plain": [
              "<Figure size 1008x432 with 1 Axes>"
            ]
          },
          "metadata": {
            "tags": [],
            "needs_background": "light"
          }
        }
      ]
    },
    {
      "cell_type": "markdown",
      "metadata": {
        "id": "vZni8DeKKQDn"
      },
      "source": [
        "### Multi-band parametric equalizer\n",
        "Building a multi-band parametric equalizer is simply a question of\n",
        "- designing a number of parametric equalizer filters (possibly as low and high shelving filters)\n",
        "- connect all the parametric equalizer filters in series\n",
        "<center>\n",
        "    <img src=\"https://github.com/SMC-AAU-CPH/med4-ap-jupyter/blob/main/lectureA_Eq/figures/ap10ExampleEqBlockDiagram.png?raw=1\" alt=\"Example of equalizer\" width=\"90%\"/>\n",
        "</center>"
      ]
    },
    {
      "cell_type": "code",
      "metadata": {
        "id": "najl3uW7KQDo"
      },
      "source": [
        "def multibandParametricEq(digCenterFreqs, digBandwidths, gains, nDtft=0):\n",
        "    nBands = np.size(digCenterFreqs)\n",
        "    feedforwardParams = np.zeros((3,nBands))\n",
        "    feedbackParams = np.zeros((2,nBands))\n",
        "    if nDtft > 0:\n",
        "        freqResp = np.ones(nDtft)\n",
        "    for ii in np.arange(nBands):\n",
        "        feedforwardParams[:,ii], feedbackParams[:,ii] = \\\n",
        "            paramEqFilterCoefficients(digCenterFreqs[ii], digBandwidths[ii], gains[ii])\n",
        "        if nDtft > 0:\n",
        "            digFreqVector, iifreqResp = \\\n",
        "                sig.freqz(feedforwardParams[:,ii], np.r_[1,-feedbackParams[:,ii]],nDtft)\n",
        "            freqResp = freqResp*iifreqResp\n",
        "    if nDtft > 0:\n",
        "        return feedforwardParams, feedbackParams, digFreqVector, freqResp\n",
        "    else:\n",
        "        return feedforwardParams, feedbackParams"
      ],
      "execution_count": null,
      "outputs": []
    },
    {
      "cell_type": "code",
      "metadata": {
        "id": "lYZoN7gUKQDo"
      },
      "source": [
        "samplingFreq = 44100 # Hz\n",
        "centerFreqs = np.array([1, 3000, 10000, samplingFreq/2]) # Hz\n",
        "bandwidths = np.array([1000, 1000, 300, 15000]) # Hz\n",
        "gains = np.array([1.2, 0.2, 2, 0.8])\n",
        "nDtft = 2048\n",
        "feedforwardParams, feedbackParams, digFreqVector, freqResp = \\\n",
        "    multibandParametricEq(centerFreqs*2*np.pi/samplingFreq, bandwidths*2*np.pi/samplingFreq, gains, nDtft)"
      ],
      "execution_count": null,
      "outputs": []
    },
    {
      "cell_type": "code",
      "metadata": {
        "id": "AMErFVvoKQDo",
        "outputId": "ab3d37dc-f10b-4b96-ded5-7a6bf0f63389"
      },
      "source": [
        "freqVector = digFreqVector*samplingFreq/(2*np.pi)\n",
        "plt.figure(figsize=(14,6))\n",
        "plt.plot(freqVector, np.abs(freqResp))\n",
        "plt.xlim((0,freqVector[-1])), plt.ylim((0,2)), plt.xlabel('$f$ [Hz]'), plt.ylabel('$|H_{high}(f)|$');"
      ],
      "execution_count": null,
      "outputs": [
        {
          "output_type": "display_data",
          "data": {
            "image/png": "[encoded data removed]",
            "text/plain": [
              "<Figure size 1008x432 with 1 Axes>"
            ]
          },
          "metadata": {
            "tags": [],
            "needs_background": "light"
          }
        }
      ]
    },
    {
      "cell_type": "markdown",
      "metadata": {
        "id": "BNeTXtOFKQDo"
      },
      "source": [
        "### Summary\n",
        "1. Shelving filters are low and high pass filters which can either amplify or attenuate low and high frequencies.\n",
        "2. Shelving filters are used only for the first and last band of an equalizer.\n",
        "3. A shelving filter is a special case of the parametric equalizer filter.\n",
        "<center>\n",
        "    <img src=\"https://github.com/SMC-AAU-CPH/med4-ap-jupyter/blob/main/lectureA_Eq/figures/midasEqualizer.jpg?raw=1\" alt=\"Example of equalizer\" width=\"90%\"/>\n",
        "</center>"
      ]
    }
  ]
}