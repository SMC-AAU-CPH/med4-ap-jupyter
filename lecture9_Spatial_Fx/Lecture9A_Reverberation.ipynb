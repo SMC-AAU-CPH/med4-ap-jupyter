{
 "cells": [
  {
   "cell_type": "markdown",
   "metadata": {},
   "source": [
    "## Lecture 9: Spatial effects\n",
    "\n"
   ]
  },
  {
   "cell_type": "markdown",
   "metadata": {},
   "source": [
    "Audio Processing, MED4, Aalborg University, 2019\n",
    "\n",
    "By Jesper Kjær Nielsen (jkn@create.aau.dk), Audio Analysis Lab, Aalborg\n",
    "University.\n",
    "\n",
    "Last edited: 2019-04-21\n",
    "\n"
   ]
  },
  {
   "cell_type": "markdown",
   "metadata": {},
   "source": [
    "### TOC\n",
    "\n"
   ]
  },
  {
   "cell_type": "markdown",
   "metadata": {},
   "source": [
    "<div class=\"HTML\">\n",
    "<h1>\n",
    "\n",
    "</div>\n",
    "\n",
    "Table of Contents\n",
    "\n",
    "<div class=\"HTML\">\n",
    "</h1>\n",
    "\n",
    "</div>\n",
    "\n",
    "<div class=\"HTML\">\n",
    "<div class=\"toc\">\n",
    "\n",
    "</div>\n",
    "\n",
    "<div class=\"HTML\">\n",
    "<ul class=\"toc-item\">\n",
    "\n",
    "</div>\n",
    "\n",
    "<div class=\"HTML\">\n",
    "<li>\n",
    "\n",
    "</div>\n",
    "\n",
    "<a href=\"#Room-reverberation\" data-toc-modified-id=\"Room-reverberation-1\">1  Room\n",
    "reverberation</a>\n",
    "\n",
    "<div class=\"HTML\">\n",
    "<ul class=\"toc-item\">\n",
    "\n",
    "</div>\n",
    "\n",
    "<div class=\"HTML\">\n",
    "<li>\n",
    "\n",
    "</div>\n",
    "\n",
    "<a href=\"#What-is-room-reverberation?\" data-toc-modified-id=\"What-is-room-reverberation?-1.1\">1.1  What\n",
    "is room reverberation?</a>\n",
    "\n",
    "<div class=\"HTML\">\n",
    "</li>\n",
    "\n",
    "</div>\n",
    "\n",
    "<div class=\"HTML\">\n",
    "<li>\n",
    "\n",
    "</div>\n",
    "\n",
    "<a href=\"#Why-is-room-reverberation-important?\" data-toc-modified-id=\"Why-is-room-reverberation-important?-1.2\">1.2  Why\n",
    "is room reverberation important?</a>\n",
    "\n",
    "<div class=\"HTML\">\n",
    "</li>\n",
    "\n",
    "</div>\n",
    "\n",
    "<div class=\"HTML\">\n",
    "<li>\n",
    "\n",
    "</div>\n",
    "\n",
    "<a href=\"#Modelling-reverberation\" data-toc-modified-id=\"Modelling-reverberation-1.3\">1.3  Modelling\n",
    "reverberation</a>\n",
    "\n",
    "<div class=\"HTML\">\n",
    "</li>\n",
    "\n",
    "</div>\n",
    "\n",
    "<div class=\"HTML\">\n",
    "<li>\n",
    "\n",
    "</div>\n",
    "\n",
    "<a href=\"#Summary\" data-toc-modified-id=\"Summary-1.4\">1.4  Summary</a>\n",
    "\n",
    "<div class=\"HTML\">\n",
    "</li>\n",
    "\n",
    "</div>\n",
    "\n",
    "<div class=\"HTML\">\n",
    "<li>\n",
    "\n",
    "</div>\n",
    "\n",
    "<a href=\"#Active-5-minutes-break\" data-toc-modified-id=\"Active-5-minutes-break-1.5\">1.5  Active\n",
    "5 minutes break</a>\n",
    "\n",
    "<div class=\"HTML\">\n",
    "</li>\n",
    "\n",
    "</div>\n",
    "\n",
    "<div class=\"HTML\">\n",
    "</ul>\n",
    "\n",
    "</div>\n",
    "\n",
    "<div class=\"HTML\">\n",
    "</li>\n",
    "\n",
    "</div>\n",
    "\n",
    "<div class=\"HTML\">\n",
    "<li>\n",
    "\n",
    "</div>\n",
    "\n",
    "<a href=\"#Articifial-reverberation:-building-blocks\" data-toc-modified-id=\"Articifial-reverberation:-building-blocks-2\">2  Articifial\n",
    "reverberation: building blocks</a>\n",
    "\n",
    "<div class=\"HTML\">\n",
    "<ul class=\"toc-item\">\n",
    "\n",
    "</div>\n",
    "\n",
    "<div class=\"HTML\">\n",
    "<li>\n",
    "\n",
    "</div>\n",
    "\n",
    "<a href=\"#Plain-reverberator\" data-toc-modified-id=\"Plain-reverberator-2.1\">2.1  Plain\n",
    "reverberator</a>\n",
    "\n",
    "<div class=\"HTML\">\n",
    "</li>\n",
    "\n",
    "</div>\n",
    "\n",
    "<div class=\"HTML\">\n",
    "<li>\n",
    "\n",
    "</div>\n",
    "\n",
    "<a href=\"#Allpass-reverberator\" data-toc-modified-id=\"Allpass-reverberator-2.2\">2.2  Allpass\n",
    "reverberator</a>\n",
    "\n",
    "<div class=\"HTML\">\n",
    "</li>\n",
    "\n",
    "</div>\n",
    "\n",
    "<div class=\"HTML\">\n",
    "<li>\n",
    "\n",
    "</div>\n",
    "\n",
    "<a href=\"#Summary\" data-toc-modified-id=\"Summary-2.3\">2.3  Summary</a>\n",
    "\n",
    "<div class=\"HTML\">\n",
    "</li>\n",
    "\n",
    "</div>\n",
    "\n",
    "<div class=\"HTML\">\n",
    "</ul>\n",
    "\n",
    "</div>\n",
    "\n",
    "<div class=\"HTML\">\n",
    "</li>\n",
    "\n",
    "</div>\n",
    "\n",
    "<div class=\"HTML\">\n",
    "<li>\n",
    "\n",
    "</div>\n",
    "\n",
    "<a href=\"#Artificial-reververation:-Schroeder's-reverberator\" data-toc-modified-id=\"Artificial-reververation:-Schroeder's-reverberator-3\">3  Artificial\n",
    "reververation: Schroeder's reverberator</a>\n",
    "\n",
    "<div class=\"HTML\">\n",
    "<ul class=\"toc-item\">\n",
    "\n",
    "</div>\n",
    "\n",
    "<div class=\"HTML\">\n",
    "<li>\n",
    "\n",
    "</div>\n",
    "\n",
    "<a href=\"#Summary\" data-toc-modified-id=\"Summary-3.1\">3.1  Summary</a>\n",
    "\n",
    "<div class=\"HTML\">\n",
    "</li>\n",
    "\n",
    "</div>\n",
    "\n",
    "<div class=\"HTML\">\n",
    "<li>\n",
    "\n",
    "</div>\n",
    "\n",
    "<a href=\"#Active-10-minutes-break\" data-toc-modified-id=\"Active-10-minutes-break-3.2\">3.2  Active\n",
    "10 minutes break</a>\n",
    "\n",
    "<div class=\"HTML\">\n",
    "</li>\n",
    "\n",
    "</div>\n",
    "\n",
    "<div class=\"HTML\">\n",
    "</ul>\n",
    "\n",
    "</div>\n",
    "\n",
    "<div class=\"HTML\">\n",
    "</li>\n",
    "\n",
    "</div>\n",
    "\n",
    "<div class=\"HTML\">\n",
    "<li>\n",
    "\n",
    "</div>\n",
    "\n",
    "<a href=\"#Stereo-panning-techniques\" data-toc-modified-id=\"Stereo-panning-techniques-4\">4  Stereo\n",
    "panning techniques</a>\n",
    "\n",
    "<div class=\"HTML\">\n",
    "<ul class=\"toc-item\">\n",
    "\n",
    "</div>\n",
    "\n",
    "<div class=\"HTML\">\n",
    "<li>\n",
    "\n",
    "</div>\n",
    "\n",
    "<a href=\"#Reproducing-sound-using-loudspeakers\" data-toc-modified-id=\"Reproducing-sound-using-loudspeakers-4.1\">4.1  Reproducing\n",
    "sound using loudspeakers</a>\n",
    "\n",
    "<div class=\"HTML\">\n",
    "</li>\n",
    "\n",
    "</div>\n",
    "\n",
    "<div class=\"HTML\">\n",
    "<li>\n",
    "\n",
    "</div>\n",
    "\n",
    "<a href=\"#Stereo-panning\" data-toc-modified-id=\"Stereo-panning-4.2\">4.2  Stereo\n",
    "panning</a>\n",
    "\n",
    "<div class=\"HTML\">\n",
    "</li>\n",
    "\n",
    "</div>\n",
    "\n",
    "<div class=\"HTML\">\n",
    "<li>\n",
    "\n",
    "</div>\n",
    "\n",
    "<a href=\"#Summary\" data-toc-modified-id=\"Summary-4.3\">4.3  Summary</a>\n",
    "\n",
    "<div class=\"HTML\">\n",
    "</li>\n",
    "\n",
    "</div>\n",
    "\n",
    "<div class=\"HTML\">\n",
    "</ul>\n",
    "\n",
    "</div>\n",
    "\n",
    "<div class=\"HTML\">\n",
    "</li>\n",
    "\n",
    "</div>\n",
    "\n",
    "<div class=\"HTML\">\n",
    "</ul>\n",
    "\n",
    "</div>\n",
    "\n",
    "<div class=\"HTML\">\n",
    "</div>\n",
    "\n",
    "</div>\n",
    "\n"
   ]
  },
  {
   "cell_type": "markdown",
   "metadata": {},
   "source": [
    "### Room reverberation\n",
    "\n"
   ]
  },
  {
   "cell_type": "markdown",
   "metadata": {},
   "source": [
    "In the next 20 minutes, you will learn - what room reverberation is -\n",
    "why room reverberation is important - how we can model reverberation\n",
    "\n"
   ]
  },
  {
   "cell_type": "markdown",
   "metadata": {},
   "source": [
    "#### What is room reverberation?\n",
    "\n"
   ]
  },
  {
   "cell_type": "markdown",
   "metadata": {},
   "source": [
    "-   If you travel to Grand Canyon and yell \"Hello!\" as loud as you can,\n",
    "    you will hear it repeated a number of times after a second or so.\n",
    "    This effect is called an **echo**.\n",
    "-   In a **room**, the same thing happens. Only, the delays between the\n",
    "    echos are so small that you perceive is quite differently. This\n",
    "    effect is called **reverberation**.\n",
    "    \n",
    "    <div class=\"HTML\">\n",
    "    <center>\n",
    "    \n",
    "    </div>\n",
    "    \n",
    "    <img src=\"figures/grandCanyon.jpg\" alt=\"Grand Canyon\" width=\"70%\"/>\n",
    "    \n",
    "    <div class=\"HTML\">\n",
    "    </center>\n",
    "    \n",
    "    </div>\n",
    "\n",
    "<div class=\"HTML\">\n",
    "<center>\n",
    "\n",
    "</div>\n",
    "\n",
    "<img src=\"figures/ap9ReverberationInRoom.png\" alt=\"Room reverberation sketch\" width=\"80%\"/>\n",
    "\n",
    "<div class=\"HTML\">\n",
    "</center>\n",
    "\n",
    "</div>\n",
    "\n",
    "Reverberation is usually divided into three parts: 1. **Direct sound**:\n",
    "the direct path from the source to the listener 2. **Early reflections**:\n",
    "sound bounces off the walls a few times before reaching the listener 3.\n",
    "**Late reflections**: sound bounces off the walls many times before\n",
    "reaching the listener\n",
    "\n",
    "<div class=\"HTML\">\n",
    "<center>\n",
    "\n",
    "</div>\n",
    "\n",
    "<img src=\"figures/rev_early_late.png\" alt=\"Reverberation as an impulse response\" width=\"60%\"/>\n",
    "\n",
    "<div class=\"HTML\">\n",
    "</center>\n",
    "\n",
    "</div>\n",
    "\n"
   ]
  },
  {
   "cell_type": "markdown",
   "metadata": {},
   "source": [
    "##### Reverberation time\n",
    "\n"
   ]
  },
  {
   "cell_type": "markdown",
   "metadata": {},
   "source": [
    "A very important acoustical quantity of rooms is the **reverberation\n",
    "time** which is the time it takes for the **sound pressure level** to\n",
    "reduce by **60 dB** from when an excitation signal is abrutly ended. - The\n",
    "reverberation time of typical living rooms is 0.5-0.7 seconds - Churches\n",
    "have long reverberation times of several seconds\n",
    "\n",
    "<div class=\"HTML\">\n",
    "<center>\n",
    "\n",
    "</div>\n",
    "\n",
    "<img src=\"figures/ap9T60Sketch.png\" alt=\"T60\" width=\"70%\"/>\n",
    "\n",
    "<div class=\"HTML\">\n",
    "</center>\n",
    "\n",
    "</div>\n",
    "\n"
   ]
  },
  {
   "cell_type": "markdown",
   "metadata": {},
   "source": [
    "#### Why is room reverberation important?\n",
    "\n"
   ]
  },
  {
   "cell_type": "markdown",
   "metadata": {},
   "source": [
    "Reverberation is important since - the reflections are useful for\n",
    "determining the **distance** to a source (the human brain compares the\n",
    "levels of the direct path and initial reflections) - too much of it\n",
    "reduces speech intelligibility (i.e., it is harder to understand what is\n",
    "being said) - too little sounds unnatural (most music recordings have\n",
    "added artificial reverberation)\n",
    "\n"
   ]
  },
  {
   "cell_type": "markdown",
   "metadata": {},
   "source": [
    "##### How sound works (in rooms)\n",
    "\n"
   ]
  },
  {
   "cell_type": "markdown",
   "metadata": {},
   "source": [
    "<div class=\"HTML\">\n",
    "<center>\n",
    "\n",
    "</div>\n",
    "\n",
    "<a href=\"http://www.youtube.com/watch?feature=player_embedded&v=JPYt10zrclQ\n",
    "\" target=\"_blank\"><img src=\"http://img.youtube.com/vi/JPYt10zrclQ/0.jpg\" \n",
    "alt=\"How sound works (in rooms)\" width=\"480\" height=\"360\" border=\"10\" /></a>\n",
    "\n",
    "<div class=\"HTML\">\n",
    "</center>\n",
    "\n",
    "</div>\n",
    "\n"
   ]
  },
  {
   "cell_type": "markdown",
   "metadata": {},
   "source": [
    "##### Room in rooms\n",
    "\n"
   ]
  },
  {
   "cell_type": "markdown",
   "metadata": {},
   "source": [
    "When we play back a recording using a set of loudspeakers in a room, we\n",
    "combine the reverberation of two rooms! - This is unnatural and confuses\n",
    "our brain - Harder to concentrate and understand (think about, e.g.,\n",
    "video conferencing) - Many manufacturers selling high-end audio\n",
    "equipment offer some form of **room compensation** to remove the influence\n",
    "of the listener's room.\n",
    "\n"
   ]
  },
  {
   "cell_type": "markdown",
   "metadata": {},
   "source": [
    "#### Modelling reverberation\n",
    "\n"
   ]
  },
  {
   "cell_type": "markdown",
   "metadata": {},
   "source": [
    "<div class=\"HTML\">\n",
    "<center>\n",
    "\n",
    "</div>\n",
    "\n",
    "<img src=\"figures/rev_early_late.png\" alt=\"Reverberation as an impulse response\" width=\"40%\"/>\n",
    "\n",
    "<div class=\"HTML\">\n",
    "</center>\n",
    "\n",
    "</div>\n",
    "\n",
    "We can model a room using a feedforward (FIR) filter with impulse\n",
    "response $h_n$, i.e., $$\n",
    "    y_n = \\sum_{m=0}^{M} h_m x_{n-m}\n",
    "$$ where\n",
    "\n",
    "-   $x_{n}$ is the input signal to the room (e.g., a voice or a\n",
    "    loudspeaker signal)\n",
    "-   $M$ the length of the **room impulse response (RIR)** (must be longer\n",
    "    than the reverberation time)\n",
    "-   $y_n$ the signal that you hear\n",
    "\n"
   ]
  },
  {
   "cell_type": "markdown",
   "metadata": {},
   "source": [
    "##### Example of the filter length for modelling a RIR\n",
    "\n"
   ]
  },
  {
   "cell_type": "markdown",
   "metadata": {},
   "source": [
    "<div class=\"HTML\">\n",
    "<center>\n",
    "\n",
    "</div>\n",
    "\n",
    "<img src=\"figures/ap9RirAsFilters.png\" alt=\"RIR as filter\" width=\"50%\"/>\n",
    "\n",
    "<div class=\"HTML\">\n",
    "</center>\n",
    "\n",
    "</div>\n",
    "\n",
    "Assume that we use a sampling frequency of $f_\\text{s}=44.1$ kHz and\n",
    "that the reverberation time is $T_{60} = 0.7$ s. The filter length $M$\n",
    "should then satisfy $$\n",
    "    M \\geq T_{60}f_\\text{s} = 30870\\ \\text{samples}\\ .\n",
    "$$\n",
    "\n",
    "Note that - the RIR depends on the source and listener position in the\n",
    "room, and that a room therefore has many RIRs - we can measure a RIR of\n",
    "a room by, e.g., creating an impulse and recording the room's response -\n",
    "if we have a RIR, we can simulate how other signals sound in the room -\n",
    "that the room-in-room scenario can be modelled as two filters in series\n",
    "\n",
    "<div class=\"HTML\">\n",
    "<center>\n",
    "\n",
    "</div>\n",
    "\n",
    "<img src=\"figures/ap9RoomInRooms.png\" alt=\"Room in rooms\" width=\"80%\"/>\n",
    "\n",
    "<div class=\"HTML\">\n",
    "</center>\n",
    "\n",
    "</div>\n",
    "\n"
   ]
  },
  {
   "cell_type": "markdown",
   "metadata": {},
   "source": [
    "#### Summary\n",
    "\n"
   ]
  },
  {
   "cell_type": "markdown",
   "metadata": {},
   "source": [
    "1.  Reverberation is basically the echos in a room\n",
    "2.  Reverberation is typically divided into\n",
    "\n",
    "3.  direct path\n",
    "4.  early reflections\n",
    "5.  late reverberation\n",
    "\n",
    "6.  A very important acoustic quantity for rooms it the **reverberation\n",
    "    time**\n",
    "7.  Reverberation is a very important psychoacoustic phenomem which might\n",
    "    be useful or harmful\n",
    "8.  We can model reverberation using a long feedforward filter\n",
    "\n"
   ]
  },
  {
   "cell_type": "markdown",
   "metadata": {},
   "source": [
    "#### Active 5 minutes break\n",
    "\n"
   ]
  },
  {
   "cell_type": "markdown",
   "metadata": {},
   "source": [
    "Assume that you have the rectangular room sketched below and that the\n",
    "propagation speed is 343 m/s. A person is shooting a gun to time 0 at\n",
    "position $p_\\text{s}$ 1. At what time do you expect to hear the gun shot\n",
    "at the listening position $p_\\text{s}$? 2. At what time do you expect to\n",
    "hear **the first-order reflections** of the gun shot at the listening\n",
    "position $p_\\text{l}$?\n",
    "\n",
    "<div class=\"HTML\">\n",
    "<center>\n",
    "\n",
    "</div>\n",
    "\n",
    "<img src=\"figures/ap9RirTask.png\" alt=\"Rir task\" width=\"60%\"/>\n",
    "\n",
    "<div class=\"HTML\">\n",
    "</center>\n",
    "\n",
    "</div>\n",
    "\n"
   ]
  },
  {
   "cell_type": "markdown",
   "metadata": {},
   "source": [
    "##### Image source model\n",
    "\n"
   ]
  },
  {
   "cell_type": "markdown",
   "metadata": {},
   "source": [
    "<div class=\"HTML\">\n",
    "<center>\n",
    "\n",
    "</div>\n",
    "\n",
    "<img src=\"figures/ism.png\" alt=\"Image source model\" width=\"60%\"/>\n",
    "\n",
    "<div class=\"HTML\">\n",
    "</center>\n",
    "\n",
    "</div>\n",
    "\n"
   ]
  },
  {
   "cell_type": "markdown",
   "metadata": {},
   "source": [
    "### Articifial reverberation: building blocks\n",
    "\n"
   ]
  },
  {
   "cell_type": "markdown",
   "metadata": {},
   "source": [
    "In the next 20 minutes, you will learn - what the plain reverberator is\n",
    "\n",
    "-   what the allpass reverberator is\n",
    "\n",
    "Although physically accurate, creating artificial reverberation using a\n",
    "room impulse response of a room, i.e., $$\n",
    "    y_n = \\sum_{m=0}^{M} h_m x_{n-m}\n",
    "$$ has some limitations: - for a long RIR (i.e., a large M), we have to\n",
    "do many calculations - not easy to adjust for the user\n",
    "\n",
    "Instead of a physically realistic model, we will instead try to make a\n",
    "perceptually realistic model using two components: 1. plain reverberator\n",
    "(which is just a feedback comb filter) 2. allpass reverberator (which is\n",
    "almost the allpass filter, we have seen before)\n",
    "\n"
   ]
  },
  {
   "cell_type": "markdown",
   "metadata": {},
   "source": [
    "#### Plain reverberator\n",
    "\n"
   ]
  },
  {
   "cell_type": "markdown",
   "metadata": {},
   "source": [
    "The **plain reverberator** is simply the **feedback comb-filter**.\n",
    "\n",
    "<div class=\"HTML\">\n",
    "<center>\n",
    "\n",
    "</div>\n",
    "\n",
    "<img src=\"figures/comb.jpg\" alt=\"Comb filter\" width=\"50%\"/>\n",
    "\n",
    "<div class=\"HTML\">\n",
    "</center>\n",
    "\n",
    "</div>\n",
    "\n"
   ]
  },
  {
   "cell_type": "markdown",
   "metadata": {},
   "source": [
    "##### Time-domain\n",
    "\n"
   ]
  },
  {
   "cell_type": "markdown",
   "metadata": {},
   "source": [
    "The plain reverberator has the difference equation $$\n",
    "    y_n = x_n + a y_{n-D}\n",
    "$$ where - $D$ is the delay (in samples) - $a$ is the filter coefficient\n",
    "\n",
    "The impulse response is $$\n",
    "    h_n = \\begin{cases}\n",
    "        a^{n/D} & n=D, 2D, \\ldots\\\\\n",
    "        0 & \\text{otherwise}\n",
    "    \\end{cases}\\ .\n",
    "$$\n",
    "\n",
    "<div class=\"HTML\">\n",
    "<center>\n",
    "\n",
    "</div>\n",
    "\n",
    "<img src=\"figures/ap5ImpulseResponseFeedback.png\" alt=\"Plain reverberator impulse response\" width=\"80%\"/>\n",
    "\n",
    "<div class=\"HTML\">\n",
    "</center>\n",
    "\n",
    "</div>\n",
    "\n"
   ]
  },
  {
   "cell_type": "code",
   "execution_count": 1,
   "metadata": {},
   "outputs": [],
   "source": [
    "%matplotlib inline\n",
    "import numpy as np\n",
    "import matplotlib.pyplot as plt\n",
    "import scipy.io.wavfile as wave\n",
    "import IPython.display as ipd\n",
    "\n",
    "def plainReverberator(inputSignal, delay, filterParam):\n",
    "    nData = np.size(inputSignal)\n",
    "    outputSignal = np.zeros(nData)\n",
    "    for n in np.arange(nData):\n",
    "        if n < delay:\n",
    "            outputSignal[n] = inputSignal[n]\n",
    "        else:\n",
    "            outputSignal[n] = inputSignal[n] + filterParam*outputSignal[n-delay]\n",
    "    return outputSignal"
   ]
  },
  {
   "cell_type": "markdown",
   "metadata": {},
   "source": [
    "From the impulse response, we can calculate the **reverberation time** of\n",
    "the plain reverberator as the $n$ satisfying $$\n",
    "    -60\\ \\text{dB} = 20\\log10\\left(\\frac{|a^{0/D}|}{|a^{n/D}|}\\right) = -20\\log10\\left(|a|^{n/D}\\right)\\ .\n",
    "$$\n",
    "\n",
    "Solving this equation for $|a|$ yields $$\n",
    "\n",
    "| a|= 10<sup>\\frac{3D}{n}</sup> = 10^{\\frac{3D}{t<sub>60</sub>f\\_\\text{s}}}|\n",
    "\n",
    "$$ where - $t_{60}$ is the reverberation time in seconds - $f_\\text{s}$\n",
    "is the sampling frequency in Hz.\n",
    "\n",
    "Thus, given $D$ and $f_\\text{s}$, we can choose the magnitude of the\n",
    "filter coefficient $a$ so that we get the desired reverberation time\n",
    "$t_{60}$.\n",
    "\n"
   ]
  },
  {
   "cell_type": "code",
   "execution_count": 1,
   "metadata": {},
   "outputs": [],
   "source": [
    "def plainGainFromReverbTime(reverbTime, plainDelay, samplingFreq):\n",
    "    nDelays = np.size(plainDelay)\n",
    "    plainGains = np.zeros(nDelays)\n",
    "    for ii in np.arange(nDelays):\n",
    "        plainGains[ii] = 10**(-3*plainDelays[ii]/(reverbTime*samplingFreq))\n",
    "    return plainGains"
   ]
  },
  {
   "cell_type": "markdown",
   "metadata": {},
   "source": [
    "##### Frequency-domain\n",
    "\n"
   ]
  },
  {
   "cell_type": "markdown",
   "metadata": {},
   "source": [
    "The **frequency response** (DTFT) of the plain reverberator is $$\n",
    "    H(\\omega) = \\sum_{n=-\\infty}^\\infty h_n \\mathrm{e}^{-j\\omega n} = \\frac{1}{1-a\\mathrm{e}^{-j\\omega D}}\n",
    "$$ with amplitude response\n",
    "\n",
    "\\begin{align}\n",
    "    |H(\\omega)| &= \\sqrt{\\frac{1}{1+a^2-2a\\cos(\\omega D)}}\\ .\n",
    "\\end{align}\n",
    "\n",
    "<div class=\"HTML\">\n",
    "<center>\n",
    "\n",
    "</div>\n",
    "\n",
    "<img src=\"figures/ap9CombFilterAmpResp.png\" alt=\"Plain reverberator amplitude response\" width=\"80%\"/>\n",
    "\n",
    "<div class=\"HTML\">\n",
    "</center>\n",
    "\n",
    "</div>\n",
    "\n"
   ]
  },
  {
   "cell_type": "markdown",
   "metadata": {},
   "source": [
    "##### Limitations of the plain reverberator\n",
    "\n"
   ]
  },
  {
   "cell_type": "markdown",
   "metadata": {},
   "source": [
    "Unfortunately, a single plain reverberator is not good enough for\n",
    "generating realistic reverberation since 1. we would like a high echo\n",
    "density (i.e., $D$ should be small) 2. a small $D$ results in widely\n",
    "spaced peaks in the amplitude spectrum (i.e., we attenuate large\n",
    "portions of the input signal\n",
    "\n",
    "These problem can solved using - plain reverberators in parallel (to\n",
    "increase echo density without decreasing $D$) - allpass reverberator (to\n",
    "use a small $D$ without attenuating large portions of the input signal)\n",
    "\n"
   ]
  },
  {
   "cell_type": "markdown",
   "metadata": {},
   "source": [
    "#### Allpass reverberator\n",
    "\n"
   ]
  },
  {
   "cell_type": "markdown",
   "metadata": {},
   "source": [
    "The **allpass reverberator** is a generalisation of the traditional\n",
    "allpass filter.\n",
    "\n"
   ]
  },
  {
   "cell_type": "markdown",
   "metadata": {},
   "source": [
    "##### Time-domain\n",
    "\n"
   ]
  },
  {
   "cell_type": "markdown",
   "metadata": {},
   "source": [
    "The allpass reverberator has the difference equation $$\n",
    "    y_n = bx_n + x_{n-D} - b y_{n-D}\n",
    "$$ where - $D$ is the delay (in samples) - $b$ is the filter coefficient\n",
    "\n",
    "Note that we for $D=1$ obtain the traditional allpass filter, we have\n",
    "previously been using for creating a fractional delay.\n",
    "\n",
    "The impulse response is $$\n",
    "    h_n = \\begin{cases}\n",
    "        b & n = 0\\\\\n",
    "        (1-b^2)(-b)^{n/D-1} & n = D, 2D, \\ldots\\\\\n",
    "        0 & \\text{otherwise}\n",
    "    \\end{cases}\n",
    "$$\n",
    "\n",
    "<div class=\"HTML\">\n",
    "<center>\n",
    "\n",
    "</div>\n",
    "\n",
    "<img src=\"figures/ap9AllpassImpResp.png\" alt=\"Allpass reverberator impulse response\" width=\"80%\"/>\n",
    "\n",
    "<div class=\"HTML\">\n",
    "</center>\n",
    "\n",
    "</div>\n",
    "\n"
   ]
  },
  {
   "cell_type": "code",
   "execution_count": 1,
   "metadata": {},
   "outputs": [],
   "source": [
    "def allpassReverberator(inputSignal, delay, apParameter):\n",
    "    nData = np.size(inputSignal)\n",
    "    outputSignal = np.zeros(nData)\n",
    "    for n in np.arange(nData):\n",
    "        if n < delay:\n",
    "            outputSignal[n] = inputSignal[n]\n",
    "        else:\n",
    "            outputSignal[n] = apParameter*inputSignal[n] + inputSignal[n-delay] - \\\n",
    "                apParameter*outputSignal[n-delay]\n",
    "    return outputSignal"
   ]
  },
  {
   "cell_type": "markdown",
   "metadata": {},
   "source": [
    "##### Frequency-domain\n",
    "\n"
   ]
  },
  {
   "cell_type": "markdown",
   "metadata": {},
   "source": [
    "The **frequency response** (DTFT) of the allpass reverberator is $$\n",
    "    H(\\omega) = \\sum_{n=-\\infty}^\\infty h_n \\mathrm{e}^{-j\\omega n} = \\frac{b+\\mathrm{e}^{-j\\omega D}}{1+b\\mathrm{e}^{-j\\omega D}}\n",
    "$$ with amplitude response\n",
    "\n",
    "\\begin{align}\n",
    "    |H(\\omega)| &= 1\\ .\n",
    "\\end{align}\n",
    "\n"
   ]
  },
  {
   "cell_type": "markdown",
   "metadata": {},
   "source": [
    "#### Summary\n",
    "\n"
   ]
  },
  {
   "cell_type": "markdown",
   "metadata": {},
   "source": [
    "1.  The plain reverberator is simply the allpass filter\n",
    "2.  The allpass reverberator is a generalised allpass filter\n",
    "3.  We can control the reverberation times of the plain and allpass\n",
    "    reverberators directly through the delays and filter coefficients!\n",
    "\n"
   ]
  },
  {
   "cell_type": "markdown",
   "metadata": {},
   "source": [
    "### Artificial reververation: Schroeder's reverberator\n",
    "\n"
   ]
  },
  {
   "cell_type": "markdown",
   "metadata": {},
   "source": [
    "In the next 20 minutes, you will learn - how the plain and allpass\n",
    "reverberators can be used to create artificial reverberation - how the\n",
    "various filter parameters are selected\n",
    "\n",
    "The Schroeder's reverberator consists of - **four plain reverberators in\n",
    "parallel**: use large delays which are mutually prime numbers so that\n",
    "their non-zero outputs do not overlap too often. The filter coefficients\n",
    "are designed so that the desired reverberation time is achieved - **two\n",
    "allpass reverberators in series**: purpose is to increase the echo\n",
    "density (small delays) and not to increase the reverberation time\n",
    "significantly (filter coefficients not too close to 1)\n",
    "\n",
    "<div class=\"HTML\">\n",
    "<center>\n",
    "\n",
    "</div>\n",
    "\n",
    "<img src=\"figures/ap9ShroederBlockDiagram.png\" alt=\"Schroeder's reverberator\" width=\"80%\"/>\n",
    "\n",
    "<div class=\"HTML\">\n",
    "</center>\n",
    "\n",
    "</div>\n",
    "\n"
   ]
  },
  {
   "cell_type": "code",
   "execution_count": 1,
   "metadata": {},
   "outputs": [],
   "source": [
    "def shroederReverb(inputSignal, mixingParams, plainDelays, plainGains, allpassDelays, apParams):\n",
    "    nData = np.size(inputSignal)\n",
    "    tmpSignal = np.zeros(nData)\n",
    "    # run the plain reverberators in parallel\n",
    "    nPlainReverberators = np.size(plainDelays)\n",
    "    for ii in np.arange(nPlainReverberators):\n",
    "        tmpSignal = tmpSignal + \\\n",
    "            mixingParams[ii]*plainReverberator(inputSignal, plainDelays[ii], plainGains[ii])\n",
    "    # run the allpass reverberators in series\n",
    "    nAllpassReverberators = np.size(allpassDelays)\n",
    "    for ii in np.arange(nAllpassReverberators):\n",
    "        tmpSignal = allpassReverberator(tmpSignal, allpassDelays[ii], apParams[ii])\n",
    "    return tmpSignal"
   ]
  },
  {
   "cell_type": "markdown",
   "metadata": {},
   "source": [
    "##### Design procedure\n",
    "\n"
   ]
  },
  {
   "cell_type": "markdown",
   "metadata": {},
   "source": [
    "1.  Select the\n",
    "    -   mix parameters so that they sum to 1 (e.g., 0.3, 0.25, 0.25, and 0.2)\n",
    "    -   delays of the plain reverberator so that they are large and have\n",
    "        mutually prime numbers (e.g., 1553, 1613, 1493, and 1153 @ at\n",
    "        sampling frequency of 44.1 kHz)\n",
    "    -   delays of the allpass reverberator so that they are small (i.e., 223\n",
    "        and 443 @ at sampling frequency of 44.1 kHz)\n",
    "    -   filter coefficients of the allpass reverberator so that they are not\n",
    "        too close to 1 (i.e., 0.7 and 0.7)\n",
    "\n",
    "2.  Select the reverberation time $t_{60}$\n",
    "3.  calculate the filter coefficients $a_k$ of the plain reverberator as\n",
    "    $$\n",
    "       a_k = 10^{\\frac{3 D_k}{t_{60} f_\\text{s}}}\\ .\n",
    "       $$\n",
    "\n"
   ]
  },
  {
   "cell_type": "code",
   "execution_count": 1,
   "metadata": {},
   "outputs": [],
   "source": [
    "samplingFreq, guitarSignal = wave.read('data/guitar.wav')\n",
    "guitarSignal = guitarSignal/2**15 # normalise\n",
    "ipd.Audio(guitarSignal, rate=samplingFreq)"
   ]
  },
  {
   "cell_type": "code",
   "execution_count": 1,
   "metadata": {},
   "outputs": [],
   "source": [
    "mixingParams = np.array([0.3, 0.25, 0.25, 0,20])\n",
    "plainDelays = np.array([1553, 1613, 1493, 1153])\n",
    "allpassDelays = np.array([223, 443])\n",
    "apParams = np.array([-0.7, -0.7])\n",
    "reverbTime = 0.8 # seconds\n",
    "plainGains = plainGainFromReverbTime(reverbTime, plainDelays, samplingFreq)\n",
    "# compute the impulse response of the room\n",
    "irLength = np.int(np.floor(reverbTime*samplingFreq))\n",
    "impulse = np.r_[np.array([1]),np.zeros(irLength-1)]\n",
    "impulseResponse = guitarSignalWithReverb = \\\n",
    "    shroederReverb(impulse, mixingParams, plainDelays, plainGains, allpassDelays, apParams)\n",
    "plt.figure(figsize=(14,6))\n",
    "plt.plot(np.arange(irLength)/samplingFreq, impulseResponse)\n",
    "plt.xlabel('$t$ [s]'),plt.ylabel('$h(t)$'),plt.xlim((0,(irLength-1)/samplingFreq));"
   ]
  },
  {
   "cell_type": "code",
   "execution_count": 1,
   "metadata": {},
   "outputs": [
    {
     "ename": "NameError",
     "evalue": "name 'shroederReverb' is not defined",
     "output_type": "error",
     "traceback": [
      "\u001b[0;31m---------------------------------------------------------------------------\u001b[0m",
      "\u001b[0;31mNameError\u001b[0m                                 Traceback (most recent call last)",
      "\u001b[0;32m<ipython-input-1-f60aeaecb9b5>\u001b[0m in \u001b[0;36m<module>\u001b[0;34m\u001b[0m\n\u001b[1;32m      1\u001b[0m \u001b[0mguitarSignalWithReverb\u001b[0m \u001b[0;34m=\u001b[0m\u001b[0;31m \u001b[0m\u001b[0;31m\\\u001b[0m\u001b[0;34m\u001b[0m\u001b[0;34m\u001b[0m\u001b[0m\n\u001b[0;32m----> 2\u001b[0;31m     \u001b[0mshroederReverb\u001b[0m\u001b[0;34m(\u001b[0m\u001b[0mguitarSignal\u001b[0m\u001b[0;34m,\u001b[0m \u001b[0mmixingParams\u001b[0m\u001b[0;34m,\u001b[0m \u001b[0mplainDelays\u001b[0m\u001b[0;34m,\u001b[0m \u001b[0mplainGains\u001b[0m\u001b[0;34m,\u001b[0m \u001b[0mallpassDelays\u001b[0m\u001b[0;34m,\u001b[0m \u001b[0mapParams\u001b[0m\u001b[0;34m)\u001b[0m\u001b[0;34m\u001b[0m\u001b[0;34m\u001b[0m\u001b[0m\n\u001b[0m\u001b[1;32m      3\u001b[0m \u001b[0mipd\u001b[0m\u001b[0;34m.\u001b[0m\u001b[0mAudio\u001b[0m\u001b[0;34m(\u001b[0m\u001b[0mguitarSignalWithReverb\u001b[0m\u001b[0;34m,\u001b[0m \u001b[0mrate\u001b[0m\u001b[0;34m=\u001b[0m\u001b[0msamplingFreq\u001b[0m\u001b[0;34m)\u001b[0m\u001b[0;34m\u001b[0m\u001b[0;34m\u001b[0m\u001b[0m\n",
      "\u001b[0;31mNameError\u001b[0m: name 'shroederReverb' is not defined"
     ]
    }
   ],
   "source": [
    "guitarSignalWithReverb = \\\n",
    "    shroederReverb(guitarSignal, mixingParams, plainDelays, plainGains, allpassDelays, apParams)\n",
    "ipd.Audio(guitarSignalWithReverb, rate=samplingFreq)"
   ]
  },
  {
   "cell_type": "markdown",
   "metadata": {},
   "source": [
    "##### Some improvements\n",
    "\n"
   ]
  },
  {
   "cell_type": "markdown",
   "metadata": {},
   "source": [
    "Typical improvements of Shroeder's reverberator are to 1. include a\n",
    "lowpass filter in the plain reverberator to imitate that higher\n",
    "frequency sounds are typically attenuated more in rooms than low\n",
    "frequency sounds 2. use more plain reverberators in parallel\n",
    "\n",
    "**Moorer's reverberator** uses six plain reverberators in parallel, all\n",
    "including a lowpass filter.\n",
    "\n"
   ]
  },
  {
   "cell_type": "markdown",
   "metadata": {},
   "source": [
    "#### Summary\n",
    "\n"
   ]
  },
  {
   "cell_type": "markdown",
   "metadata": {},
   "source": [
    "1.  Schroeder's reverberator combines plain and allpass reverberators to\n",
    "    create artificial reverberation\n",
    "2.  Compared to a physically realistic reverberation model, Shroeder's\n",
    "    reverberator requires significantly fewer computations\n",
    "3.  Compared to a physically realistic reverberation model, the\n",
    "    reverberation time can be controlled easily in Shroeder's\n",
    "    reverberator\n",
    "\n"
   ]
  },
  {
   "cell_type": "markdown",
   "metadata": {},
   "source": [
    "#### Active 10 minutes break\n",
    "\n"
   ]
  },
  {
   "cell_type": "markdown",
   "metadata": {},
   "source": [
    "In the course, we have encountered many different terms, all related to\n",
    "filtering. Here, we will quickly review the most central ones. Discuss\n",
    "with your neighbour (not necessarily in order) 1. what filtering is 2.\n",
    "what a difference equation is 3. what an impulse response is 4. what the\n",
    "frequency response (DTFT) is 5. how the DTFT is related to the\n",
    "Z-transform 6. how the DFT is related to the DTFT 7. how the FFT is\n",
    "related to the DFT\n",
    "\n"
   ]
  }
 ],
 "metadata": {
  "kernelspec": {
   "display_name": "Python 3",
   "language": "python",
   "name": "python3"
  },
  "language_info": {
   "codemirror_mode": {
    "name": "ipython",
    "version": 3
   },
   "file_extension": ".py",
   "mimetype": "text/x-python",
   "name": "python",
   "nbconvert_exporter": "python",
   "pygments_lexer": "ipython3",
   "version": "3.7.3"
  },
  "org": null
 },
 "nbformat": 4,
 "nbformat_minor": 1
}
