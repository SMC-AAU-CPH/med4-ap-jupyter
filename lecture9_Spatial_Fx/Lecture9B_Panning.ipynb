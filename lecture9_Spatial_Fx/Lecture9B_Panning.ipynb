{
 "cells": [
  {
   "cell_type": "markdown",
   "metadata": {
    "toc-hr-collapsed": false
   },
   "source": [
    "# Stereo panning techniques"
   ]
  },
  {
   "cell_type": "markdown",
   "metadata": {},
   "source": [
    "In the next 20 minutes, you will learn \n",
    "\n",
    "-   what stereo is\n",
    "\n",
    "-   what the purpose of a pair of stereo loudspeakers are\n",
    "\n",
    "-   how loudspeakers can play back sources at different positions\n",
    "\n"
   ]
  },
  {
   "cell_type": "markdown",
   "metadata": {
    "toc-hr-collapsed": false
   },
   "source": [
    "## Reproducing sound using loudspeakers"
   ]
  },
  {
   "cell_type": "markdown",
   "metadata": {},
   "source": [
    "How do we make loudspeakers reproduce the sound from, e.g., a symphony orchestra?\n",
    "\n",
    "<br />\n",
    "\n",
    "<div class=\"HTML\">\n",
    "<center>\n",
    "\n",
    "</div>\n",
    "\n",
    "<img src=\"figures/orchestra.jpg\" alt=\"Orchestra\" width=\"80%\"/>\n",
    "\n",
    "<div class=\"HTML\">\n",
    "</center>\n",
    "\n",
    "</div>\n",
    "\n",
    "A listener should ideally hear what the sound engineer heard in the recording studio. To do that, we have to 1. place listener in the sweet-spot 2. attenuate effects of reverberation\n",
    "\n",
    "<br />\n",
    "\n",
    "<div class=\"HTML\">\n",
    "<center>\n",
    "\n",
    "</div>\n",
    "\n",
    "<img src=\"figures/bl90.jpg\" alt=\"BeoLab 90\" width=\"60%\"/>\n",
    "\n",
    "<div class=\"HTML\">\n",
    "</center>\n",
    "\n",
    "</div>\n",
    "\n"
   ]
  },
  {
   "cell_type": "markdown",
   "metadata": {},
   "source": [
    "### Stereo setup"
   ]
  },
  {
   "cell_type": "markdown",
   "metadata": {},
   "source": [
    "Listener is placed in the **sweet-spot**.\n",
    "<center>\n",
    "<img src=\"figures/surroundSetup1.png\" alt=\"Stereo\" width=\"50%\"/>\n",
    "</center>"
   ]
  },
  {
   "cell_type": "markdown",
   "metadata": {},
   "source": [
    "### Surround setup"
   ]
  },
  {
   "cell_type": "markdown",
   "metadata": {},
   "source": [
    "Listener is placed in the **sweet-spot**.\n",
    "<center>\n",
    "<img src=\"figures/surroundSetup2.png\" alt=\"Surround\" width=\"50%\"/>\n",
    "</center>"
   ]
  },
  {
   "cell_type": "markdown",
   "metadata": {
    "toc-hr-collapsed": true
   },
   "source": [
    "## Stereo panning"
   ]
  },
  {
   "cell_type": "markdown",
   "metadata": {},
   "source": [
    "The recording engineer can place an audio source (e.g., a singer) in\n",
    "between the two loudspeakers by \n",
    "\n",
    "1.  changing the amplitudes of the source (amplitude panning)\n",
    "\n",
    "1.  changing the delay of the source (phase panning)\n",
    "\n",
    "<div class=\"HTML\">\n",
    "<center>\n",
    "\n",
    "</div>\n",
    "\n",
    "<img src=\"figures/surroundSetup1.png\" alt=\"Stereo\" width=\"40%\"/>\n",
    "\n",
    "<div class=\"HTML\">\n",
    "</center>\n",
    "\n",
    "</div>\n",
    "\n"
   ]
  },
  {
   "cell_type": "markdown",
   "metadata": {},
   "source": [
    "### Amplitude panning\n"
   ]
  },
  {
   "cell_type": "markdown",
   "metadata": {},
   "source": [
    "Assume that we wish to playback the mono signal $x_n$ on two loudspeakers so that it sounds as if it is coming from a particular direction $\\varphi$ relative to the listener.\n",
    "\n",
    "In amplitude panning, we can **only** change the amplitudes of the two loudspeaker signals \n",
    "\n",
    "-   **left speaker**: playing $g_1 x_n$\n",
    "-   **right speaker**: playing $g_2 x_n$\n",
    "\n",
    "How do we choose $g_1$ and $g_2$?\n",
    "\n",
    "Many different solutions available (see the book), but we will here describe a particular case of the **tangent panning law**.\n",
    "\n",
    "<div class=\"HTML\">\n",
    "<center>\n",
    "\n",
    "</div>\n",
    "\n",
    "<img src=\"figures/ap9StereoPanning.png\" alt=\"Stereo panning\" width=\"60%\"/>\n",
    "\n",
    "<div class=\"HTML\">\n",
    "</center>\n",
    "\n",
    "</div>\n",
    "\n",
    "From the figure, we have that\n",
    "\n",
    "\\begin{align}\n",
    "    g_1\\boldsymbol{s}_1 &= g_1\\begin{bmatrix}\n",
    "        \\cos(\\theta)\\\\\n",
    "        \\sin(\\theta)\n",
    "    \\end{bmatrix}\\\\\n",
    "    g_2\\boldsymbol{s}_2 &= g_2\\begin{bmatrix}\n",
    "        \\cos(\\theta)\\\\\n",
    "        -\\sin(\\theta)\n",
    "    \\end{bmatrix}\\\\\n",
    "    \\boldsymbol{v} &= \\begin{bmatrix}\n",
    "        \\cos(\\varphi)\\\\\n",
    "        \\sin(\\varphi)\n",
    "    \\end{bmatrix}\n",
    "\\end{align}\n",
    "\n",
    "By setting $\\boldsymbol{v} = g_1\\boldsymbol{s}_1+g_2\\boldsymbol{s}_2$,\n",
    "we obtain the two equations\n",
    "\n",
    "\\begin{align}\n",
    "    \\cos(\\varphi) &= (g_1+g_2)\\cos(\\theta)\\\\\n",
    "    \\sin(\\varphi) &= (g_1-g_2)\\sin(\\theta)\n",
    "\\end{align}\n",
    "\n",
    "which have the solution\n",
    "\n",
    "\\begin{align}\n",
    "    g_1 &= \\frac{\\cos(\\varphi)}{2\\cos(\\theta)}+\\frac{\\sin(\\varphi)}{2\\sin(\\theta)}\\\\\n",
    "    g_2 &= \\frac{\\cos(\\varphi)}{2\\cos(\\theta)}-\\frac{\\sin(\\varphi)}{2\\sin(\\theta)}\\ .\n",
    "\\end{align}\n",
    "\n",
    "Note that we obtain the **tangent panning law** if we divide the second\n",
    "equation from the top with the first equation from the top.\n",
    "\n"
   ]
  },
  {
   "cell_type": "code",
   "execution_count": 1,
   "metadata": {},
   "outputs": [],
   "source": [
    "# %matplotlib inline\n",
    "import numpy as np\n",
    "import matplotlib.pyplot as plt\n",
    "import scipy.io.wavfile as wave\n",
    "import IPython.display as ipd\n",
    "\n",
    "def stereoTangentPanning(inputSignal, loudspeakerAngle, virtualSourceAngle):\n",
    "    c = np.cos(virtualSourceAngle)/(2*np.cos(loudspeakerAngle))\n",
    "    s = np.sin(virtualSourceAngle)/(2*np.sin(loudspeakerAngle))\n",
    "    leftSpeakerSignal = (c+s)*inputSignal\n",
    "    rightSpeakerSignal = (c-s)*inputSignal\n",
    "    return leftSpeakerSignal, rightSpeakerSignal"
   ]
  },
  {
   "cell_type": "code",
   "execution_count": null,
   "metadata": {},
   "outputs": [],
   "source": [
    "samplingFreq, guitarSignal = wave.read('data/guitar.wav')\n",
    "guitarSignal = guitarSignal/2**15 # normalise\n",
    "# perform stereo panning\n",
    "loudspeakerAngle = 30*np.pi/180 # radians\n",
    "virtualSourceAngle = 0*np.pi/180 # radians\n",
    "leftSpeakerSignal, rightSpeakerSignal = stereoTangentPanning(guitarSignal, loudspeakerAngle, virtualSourceAngle)\n",
    "ipd.Audio([leftSpeakerSignal, rightSpeakerSignal], rate=samplingFreq)"
   ]
  },
  {
   "cell_type": "code",
   "execution_count": null,
   "metadata": {},
   "outputs": [],
   "source": [
    "# linear panning from right to left\n",
    "nData = np.size(guitarSignal)\n",
    "virtualSourceAngles = np.arange(nData)*2*loudspeakerAngle/nData-loudspeakerAngle\n",
    "leftSpeakerSignal, rightSpeakerSignal = stereoTangentPanning(guitarSignal, loudspeakerAngle, virtualSourceAngles)\n",
    "ipd.Audio([leftSpeakerSignal, rightSpeakerSignal], rate=samplingFreq)"
   ]
  },
  {
   "cell_type": "markdown",
   "metadata": {},
   "source": [
    "Other amplitude panning techniques exist (see the book): \n",
    "\n",
    "-   The sine panning law\n",
    "-   The tangent panning law with additional constraints\n",
    "\n",
    "Note that we can also delay the signals in the loudspeaker to make them appear closer or farther away. This is called **phase panning**.\n",
    "\n"
   ]
  },
  {
   "cell_type": "markdown",
   "metadata": {
    "toc-hr-collapsed": true
   },
   "source": [
    "## Summary\n",
    "\n"
   ]
  },
  {
   "cell_type": "markdown",
   "metadata": {},
   "source": [
    "\n",
    "1.  We can make a set of stereo loudspeakers reproduce sound sources placed between and behind the loudspeakers by\n",
    "\n",
    "2.  **amplitude panning**: change the gains of the source when played back by the two loudspeakers\n",
    "\n",
    "3.  **phase panning**: change the delays of the source when played back by the two loudspeakers\n",
    "\n"
   ]
  }
 ],
 "metadata": {
  "kernelspec": {
   "display_name": "Python 3",
   "language": "python",
   "name": "python3"
  },
  "language_info": {
   "codemirror_mode": {
    "name": "ipython",
    "version": 3
   },
   "file_extension": ".py",
   "mimetype": "text/x-python",
   "name": "python",
   "nbconvert_exporter": "python",
   "pygments_lexer": "ipython3",
   "version": "3.7.1"
  },
  "org": null
 },
 "nbformat": 4,
 "nbformat_minor": 2
}
