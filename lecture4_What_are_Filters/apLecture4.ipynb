{
 "cells": [
  {
   "cell_type": "markdown",
   "metadata": {
    "slideshow": {
     "slide_type": "slide"
    }
   },
   "source": [
    "# Lecture 4: What are filters?\n",
    "Audio Processing, MED4, Aalborg University, 2020\n",
    "\n",
    "By Jesper Kjær Nielsen (jkn@create.aau.dk), Audio Analysis Lab, Aalborg University.\n",
    "\n",
    "Last edited: 2020-02-17"
   ]
  },
  {
   "cell_type": "code",
   "execution_count": 3,
   "metadata": {
    "slideshow": {
     "slide_type": "skip"
    }
   },
   "outputs": [],
   "source": [
    "%matplotlib inline\n",
    "import numpy as np\n",
    "import matplotlib.pyplot as plt\n",
    "import scipy.signal as sig"
   ]
  },
  {
   "cell_type": "markdown",
   "metadata": {
    "slideshow": {
     "slide_type": "slide"
    }
   },
   "source": [
    "Central aspects of the course\n",
    "- [x] What is sound?\n",
    "- [x] How is sound generated?\n",
    "- [x] How is sound turned into signals (i.e., data) on a computer?\n",
    "- [ ] **How can we analyse these signals (i.e. extract information from them)?**\n",
    "- [ ] How can we modify these signals?\n",
    "<center>\n",
    "<img src=\"figures/apOverview.png\" alt=\"Course overview\" width=\"100%\"/>\n",
    "</center>\n"
   ]
  },
  {
   "cell_type": "markdown",
   "metadata": {
    "slideshow": {
     "slide_type": "slide"
    },
    "toc": true
   },
   "source": [
    "<h1>Table of Contents<span class=\"tocSkip\"></span></h1>\n",
    "<div class=\"toc\"><ul class=\"toc-item\"><li><span><a href=\"#Lecture-4:-What-are-filters?\" data-toc-modified-id=\"Lecture-4:-What-are-filters?-1\"><span class=\"toc-item-num\">1&nbsp;&nbsp;</span>Lecture 4: What are filters?</a></span><ul class=\"toc-item\"><li><span><a href=\"#Introduction-to-filtering\" data-toc-modified-id=\"Introduction-to-filtering-1.1\"><span class=\"toc-item-num\">1.1&nbsp;&nbsp;</span>Introduction to filtering</a></span></li><li><span><a href=\"#Feedforward-filters-and-their-impulse-responses\" data-toc-modified-id=\"Feedforward-filters-and-their-impulse-responses-1.2\"><span class=\"toc-item-num\">1.2&nbsp;&nbsp;</span>Feedforward filters and their impulse responses</a></span></li><li><span><a href=\"#Frequency-response-of-feedforward-filters\" data-toc-modified-id=\"Frequency-response-of-feedforward-filters-1.3\"><span class=\"toc-item-num\">1.3&nbsp;&nbsp;</span>Frequency response of feedforward filters</a></span></li><li><span><a href=\"#Introduction-to-the-feedback-filter\" data-toc-modified-id=\"Introduction-to-the-feedback-filter-1.4\"><span class=\"toc-item-num\">1.4&nbsp;&nbsp;</span>Introduction to the feedback filter</a></span></li></ul></li></ul></div>"
   ]
  },
  {
   "cell_type": "markdown",
   "metadata": {
    "slideshow": {
     "slide_type": "slide"
    }
   },
   "source": [
    "## Introduction to filtering\n",
    "In the next 20 minutes, you will learn\n",
    "- that you are already using filters in your everyday life\n",
    "- how you can understand filtering in connection with audio"
   ]
  },
  {
   "cell_type": "markdown",
   "metadata": {
    "slideshow": {
     "slide_type": "slide"
    },
    "toc-hr-collapsed": true
   },
   "source": [
    "### Some filters from our everyday life:"
   ]
  },
  {
   "cell_type": "markdown",
   "metadata": {
    "slideshow": {
     "slide_type": "fragment"
    }
   },
   "source": [
    "<center>\n",
    "<img src=\"figures/coffeeFilter.jpg\" alt=\"Coffee filter\" width=\"80%\"/>\n",
    "</center>"
   ]
  },
  {
   "cell_type": "markdown",
   "metadata": {
    "slideshow": {
     "slide_type": "slide"
    }
   },
   "source": [
    "<center>\n",
    "<img src=\"figures/fishNet.jpg\" alt=\"Fish net\" width=\"80%\"/>\n",
    "</center>"
   ]
  },
  {
   "cell_type": "markdown",
   "metadata": {
    "slideshow": {
     "slide_type": "slide"
    }
   },
   "source": [
    "<center>\n",
    "<img src=\"figures/instagramFilter.jpg\" alt=\"Instagram filter\" width=\"80%\"/>\n",
    "</center>"
   ]
  },
  {
   "cell_type": "markdown",
   "metadata": {
    "slideshow": {
     "slide_type": "slide"
    }
   },
   "source": [
    "#### What about filters for audio?"
   ]
  },
  {
   "cell_type": "markdown",
   "metadata": {
    "slideshow": {
     "slide_type": "fragment"
    }
   },
   "source": [
    "<center>\n",
    "<img src=\"figures/bassTreble.jpg\" alt=\"Pre-amp\" width=\"80%\"/>\n",
    "</center>"
   ]
  },
  {
   "cell_type": "markdown",
   "metadata": {
    "slideshow": {
     "slide_type": "slide"
    }
   },
   "source": [
    "<center>\n",
    "<img src=\"figures/ancHeadphones.jpg\" alt=\"ANC Headphones\" width=\"80%\"/>\n",
    "</center>"
   ]
  },
  {
   "cell_type": "markdown",
   "metadata": {
    "slideshow": {
     "slide_type": "slide"
    }
   },
   "source": [
    "<center>\n",
    "<img src=\"figures/microphoneArray.jpg\" alt=\"Microphone array\" width=\"80%\"/>\n",
    "</center>"
   ]
  },
  {
   "cell_type": "markdown",
   "metadata": {
    "slideshow": {
     "slide_type": "slide"
    }
   },
   "source": [
    "<center>\n",
    "<a href=\"http://www.youtube.com/watch?feature=player_embedded&v=R87mpsSAHXg&t=84s\n",
    "\" target=\"_blank\"><img src=\"http://img.youtube.com/vi/R87mpsSAHXg/0.jpg\" \n",
    "alt=\"Wah Wah pedal\" width=\"480\" height=\"360\" border=\"10\" /></a>\n",
    "</center>"
   ]
  },
  {
   "cell_type": "markdown",
   "metadata": {
    "slideshow": {
     "slide_type": "slide"
    }
   },
   "source": [
    "#### Example: measuring speed using filtering\n",
    "<br />\n",
    "\n",
    "<center>\n",
    "<img src=\"figures/carSpeedometer.jpg\" alt=\"Speedometer of a car\" width=\"80%\"/>\n",
    "</center>"
   ]
  },
  {
   "cell_type": "markdown",
   "metadata": {
    "slideshow": {
     "slide_type": "slide"
    }
   },
   "source": [
    "- Assume that we wish to show the **instantaneous speed** of a car to its driver:\n",
    "- Unfortunately, we cannot measure the speed directly, but only the driven distance $s(t)$ every $T_\\text{s}$ seconds.\n",
    "- After sampling, the discrete-time signal describing the the driven distance is $s_n=s(t_n)$."
   ]
  },
  {
   "cell_type": "markdown",
   "metadata": {
    "slideshow": {
     "slide_type": "slide"
    }
   },
   "source": [
    "<center>\n",
    "<img src=\"figures/ap4VehicleSpeedPosition.png\" alt=\"Position of a vehicle\" width=\"60%\"/>\n",
    "</center>"
   ]
  },
  {
   "cell_type": "markdown",
   "metadata": {
    "slideshow": {
     "slide_type": "slide"
    }
   },
   "source": [
    "To compute the **instantaneous speed** $v_n$ from $s_n$, we use that the speed of an object is **how much the object moves per unit time**. Thus, we could compute the **instantaneous speed** as\n",
    "$$\n",
    "    v_n = \\frac{s_n-s_{n-1}}{T_\\text{s}} = f_\\text{s}(s_n-s_{n-1}) = f_\\text{s}s_n-f_\\text{s}s_{n-1}\\ .\n",
    "$$\n"
   ]
  },
  {
   "cell_type": "markdown",
   "metadata": {
    "slideshow": {
     "slide_type": "fragment"
    }
   },
   "source": [
    "<center>\n",
    "<img src=\"figures/ap4VehicleSpeed.png\" alt=\"Speed of a vehicle\" width=\"60%\"/>\n",
    "</center>"
   ]
  },
  {
   "cell_type": "markdown",
   "metadata": {
    "slideshow": {
     "slide_type": "slide"
    }
   },
   "source": [
    "The computation of the instantaneous speed can be interpreted as a **filter** given by\n",
    "$$\n",
    "    v_n = f_\\text{s}s_n-f_\\text{s}s_{n-1}\n",
    "$$\n",
    "and this is a so-called **difference equation**.\n",
    "- Filter input: the discrete-time signal $s_n$ (position)\n",
    "- Filter output: the discrete-time signal $v_n$ (speed)\n",
    "- Filtering operation: a function which maps the input signal into the output signal"
   ]
  },
  {
   "cell_type": "markdown",
   "metadata": {
    "slideshow": {
     "slide_type": "slide"
    }
   },
   "source": [
    "If we loook at the difference equation\n",
    "$$\n",
    "    v_n = f_\\text{s}s_n-f_\\text{s}s_{n-1}\\ ,\n",
    "$$\n",
    "we have to do three things to do filtering:\n",
    "1. **multiply** numbers (e.g., $ax_n$)\n",
    "2. **sum** numbers (e.g., $x_n+s_n$)\n",
    "3. **delay** samples (e.g., $x_{n-m}$)"
   ]
  },
  {
   "cell_type": "markdown",
   "metadata": {
    "slideshow": {
     "slide_type": "slide"
    }
   },
   "source": [
    "We can also illustrate these three operations graphically.\n",
    "<center>\n",
    "<img src=\"figures/ap4FilterBuildingBlocks.png\" alt=\"Filter blocks\" width=\"60%\"/>\n",
    "</center>"
   ]
  },
  {
   "cell_type": "markdown",
   "metadata": {
    "slideshow": {
     "slide_type": "slide"
    }
   },
   "source": [
    "The filter\n",
    "$$\n",
    "    v_n = f_\\text{s}s_n-f_\\text{s}s_{n-1}\\ ,\n",
    "$$\n",
    "can then be illustrated as\n",
    "\n",
    "<center>\n",
    "<img src=\"figures/ap4VehicleSpeedFilter.png\" alt=\"Filter interpretation of speed of a vehicle\" width=\"60%\"/>\n",
    "</center>"
   ]
  },
  {
   "cell_type": "markdown",
   "metadata": {
    "slideshow": {
     "slide_type": "slide"
    },
    "toc-hr-collapsed": true
   },
   "source": [
    "### A digital filter\n",
    "We have the following components in a digital filter:\n",
    "- **Filter input**: a discrete-time signal $x_n$\n",
    "- **Filter output**: a discrete-time signal $y_n$\n",
    "- **Filter operation**: a function $f(y_{n-1}, y_{n-2}, \\ldots, y_{n-p}, x_n, x_{n-1}, x_{n-2}, \\ldots, x_{n-q})$ which computes the current output sample $y_n$ from\n",
    " - the current input sample $x_n$ and $q$ past input samples $x_{n-1}, x_{n-2}, \\ldots, x_{n-q}$ and\n",
    " - the past $p$ output samples $y_{n-1}, y_{n-2}, \\ldots, y_{n-p}$\n",
    " \n",
    "<center>\n",
    "<img src=\"figures/xn_Filter_yn.png\" alt=\"Filter block\" width=\"60%\"/>\n",
    "</center>\n",
    "\n",
    "---\n",
    "Note that the filter output can, in principle, also depend on future values of the input. However, we will not cover this here."
   ]
  },
  {
   "cell_type": "markdown",
   "metadata": {
    "slideshow": {
     "slide_type": "slide"
    }
   },
   "source": [
    "Two main types of filters:\n",
    "- **Feedforward filter**: the filter output only depends on the filter inputs, i.e.,\n",
    "$$\n",
    "    y_n = f(x_n, x_{n-1}, x_{n-2}, \\ldots, x_{n-q})\n",
    "$$\n",
    " - The number of past output samples $q$ is zero\n",
    " - The feedforward filter is also often referred to a finite impulse response (FIR) filter. More on why later."
   ]
  },
  {
   "cell_type": "markdown",
   "metadata": {
    "slideshow": {
     "slide_type": "slide"
    }
   },
   "source": [
    "- **Feedback filter**: the filter can depend on both the input and output signals, i.e.,\n",
    "$$\n",
    "    y_n = f(y_{n-1}, y_{n-2}, \\ldots, y_{n-p}, x_n, x_{n-1}, x_{n-2}, \\ldots, x_{n-q})\n",
    "$$\n",
    " - The number of past output samples $p$ is at least 1\n",
    " - The feedback filter is also often referred to an infinite impulse response (IIR) filter. More on why later."
   ]
  },
  {
   "cell_type": "markdown",
   "metadata": {
    "slideshow": {
     "slide_type": "slide"
    }
   },
   "source": [
    "#### Example: measuring speed using filtering\n",
    "We can say the following about the filter\n",
    "$$\n",
    "    v_n = f_\\text{s}s_n-f_\\text{s}s_{n-1}.\n",
    "$$"
   ]
  },
  {
   "cell_type": "markdown",
   "metadata": {
    "slideshow": {
     "slide_type": "fragment"
    }
   },
   "source": [
    "- The filter input is the signal $s_n$\n",
    "- The filter output is the signal $v_n$\n",
    "- The filter is a feedforward filter since the output only depends on the input signal. Thus, $p=0$.\n",
    "- The order $q$ is one, i.e., the filter is a first-order FIR filter"
   ]
  },
  {
   "cell_type": "markdown",
   "metadata": {
    "slideshow": {
     "slide_type": "slide"
    }
   },
   "source": [
    "### Summary\n",
    "1. Filtering can be based on\n",
    " - object size: e.g., coffee and fish\n",
    " - wavelength/**frequency**: e.g., light and **audio**\n",
    " - space: e.g., microphone array\n",
    "2. Generally, you can think of a filter as something which extracts what you are interested in."
   ]
  },
  {
   "cell_type": "markdown",
   "metadata": {
    "slideshow": {
     "slide_type": "slide"
    }
   },
   "source": [
    "3. We usually draw a filter as in the figure below where\n",
    " - **Filter input**: a discrete-time signal $x_n$\n",
    " - **Filter output**: a discrete-time signal $y_n$\n",
    " - **Filter operation**: computes the current output sample as a combination of the **current and past input samples** and the **past output samples** (we have not seen the latter yet, though)\n",
    "  \n",
    "<center>\n",
    "    <img src=\"figures/xn_Filter_yn.png\" alt=\"Filter block\" width=\"60%\"/>\n",
    "</center>"
   ]
  },
  {
   "cell_type": "markdown",
   "metadata": {
    "slideshow": {
     "slide_type": "slide"
    }
   },
   "source": [
    "### Active break\n",
    "1. Discuss with your neighbour what the three blocks illustrated below do. What eactly means $x_n$ (discussed in the last lecture) and does it relate to sampling?\n",
    "\n",
    "Assume that we have a filter given by\n",
    "$$\n",
    "    y_n = x_n + b_1 x_{n-1}\\ .\n",
    "$$\n",
    "2. Illustrate this filter graphically. \n",
    "3. Let us assume that $x_n = 1$ for $n=0$ and zero otherwise. Compute $y_n$ by hand for $n = 0,1,\\ldots,4$.\n",
    "\n",
    "Now assume that we have the slightly more complicated filter\n",
    "$$\n",
    "    y_n = b_0 x_n+b_1 x_{n-1}+b_2x_{n-2}\\ .\n",
    "$$\n",
    "4. Repeat 2. and 3. from above with this new filter.\n",
    "<center>\n",
    "<img src=\"figures/ap4FilterBuildingBlocks.png\" alt=\"Filter blocks\" width=\"50%\"/>\n",
    "</center>"
   ]
  },
  {
   "cell_type": "markdown",
   "metadata": {
    "slideshow": {
     "slide_type": "slide"
    }
   },
   "source": [
    "## Feedforward filters and their impulse responses\n",
    "In the next 20 minutes, you will learn\n",
    "- what a feedforward filter is\n",
    "- what the impulse response of a filter is"
   ]
  },
  {
   "cell_type": "markdown",
   "metadata": {
    "slideshow": {
     "slide_type": "slide"
    }
   },
   "source": [
    "### Difference equation\n",
    "The difference equation of a feedforward filter is\n",
    "\\begin{align}\n",
    "    y_n &= b_0x_n + b_1 x_{n-1} + \\cdots + b_q x_{n-q}\\\\\n",
    "    &= \\sum_{m=0}^{q} b_m x_{n-m}\n",
    "\\end{align}\n",
    "where\n",
    "- $x_n$ is the input signal\n",
    "- $y_n$ is the output signal\n",
    "- $b_0, b_1, \\ldots, b_q$ are **filter coefficients**\n",
    "- we can refer to the past values $x_{n-1}, x_{n-2}, \\ldots, x_{n-q}$ as the **filter state**."
   ]
  },
  {
   "cell_type": "markdown",
   "metadata": {
    "slideshow": {
     "slide_type": "slide"
    }
   },
   "source": [
    "<center>\n",
    "<img src=\"figures/feedforwardFilterIllustration.png\" alt=\"Feedforward Filter Illustration\" width=\"50%\"/>\n",
    "</center>"
   ]
  },
  {
   "cell_type": "markdown",
   "metadata": {
    "slideshow": {
     "slide_type": "slide"
    }
   },
   "source": [
    "### Impulse response of a feedforward filter\n",
    "#### Example: a simple filter\n",
    "Let us look at the filter\n",
    "$$\n",
    "    y_n = x_n+b_1 x_{n-1}\\ .\n",
    "$$\n",
    "Thus, we have\n",
    "- $q=1$\n",
    "- $b_0=1$\n",
    "- the filter state is $x_{n-1}$"
   ]
  },
  {
   "cell_type": "markdown",
   "metadata": {
    "slideshow": {
     "slide_type": "slide"
    }
   },
   "source": [
    "Let us try to send an impulse\n",
    "$$\n",
    "    \\delta_n = \\begin{cases}\n",
    "        1 & n=0\\\\\n",
    "        0 & \\text{otherwise}\n",
    "    \\end{cases}\n",
    "$$\n",
    "through the filter."
   ]
  },
  {
   "cell_type": "markdown",
   "metadata": {
    "slideshow": {
     "slide_type": "fragment"
    }
   },
   "source": [
    "When we set $x_n=\\delta_n$, we get\n",
    "$$\n",
    "    y_n = \\begin{cases}\n",
    "        1 & n=0\\\\\n",
    "        b_1 & n=1\\\\\n",
    "        0 & \\text{otherwise}\n",
    "    \\end{cases}\\ .\n",
    "$$"
   ]
  },
  {
   "cell_type": "markdown",
   "metadata": {
    "slideshow": {
     "slide_type": "slide"
    }
   },
   "source": [
    "The filter's response to an impulse is referred to as the filter's **impulse response** and usually denoted by $h_n$, i.e., $y_n=h_n$ when $x_n=\\delta_n$.\n",
    "\n",
    "<center>\n",
    "<img src=\"figures/ap4FirImpulseResponse.png\" alt=\"Sketch of FIR impulse response\" width=\"70%\"/>\n",
    "</center>"
   ]
  },
  {
   "cell_type": "markdown",
   "metadata": {
    "slideshow": {
     "slide_type": "slide"
    }
   },
   "source": [
    "#### Example: a slightly more complicated filter\n",
    "Let us look at the filter\n",
    "$$\n",
    "    y_n = b_0 x_n+b_1 x_{n-1}+b_3 x_{n-3}\\ .\n",
    "$$\n",
    "Thus, we have\n",
    "- $q=3$\n",
    "- $b_2=0$\n",
    "- the filter state is $x_{n-1}, x_{n-2}, x_{n-3}$"
   ]
  },
  {
   "cell_type": "markdown",
   "metadata": {
    "slideshow": {
     "slide_type": "slide"
    }
   },
   "source": [
    "Let us try to send an impulse\n",
    "$$\n",
    "    \\delta_n = \\begin{cases}\n",
    "        1 & n=0\\\\\n",
    "        0 & \\text{otherwise}\n",
    "    \\end{cases}\n",
    "$$\n",
    "through the filter."
   ]
  },
  {
   "cell_type": "markdown",
   "metadata": {
    "slideshow": {
     "slide_type": "fragment"
    }
   },
   "source": [
    "When we set $x_n=\\delta_n$, we obtain the impulse response $h_n=y_n$ to\n",
    "$$\n",
    "    h_n = \\begin{cases}\n",
    "        b_0 & n=0\\\\\n",
    "        b_1 & n=1\\\\\n",
    "        b_3 & n=3\\\\\n",
    "        0 & \\text{otherwise}\n",
    "    \\end{cases}\\ .\n",
    "$$"
   ]
  },
  {
   "cell_type": "markdown",
   "metadata": {
    "slideshow": {
     "slide_type": "slide"
    }
   },
   "source": [
    "#### Impulse response of a general feedforward filter\n",
    "If an impulse $\\delta_n$ is send through a feedforward filter of the form\n",
    "\\begin{align}\n",
    "    y_n &= b_0x_n + b_1 x_{n-1} + \\cdots + b_p x_{n-q}\\\\\n",
    "    &= \\sum_{m=0}^{q} b_m x_{n-m}\\ ,\n",
    "\\end{align}\n",
    "we obtain the impulse response $h_n = y_n$ as\n",
    "$$\n",
    "    h_n = \\begin{cases}\n",
    "        b_n & 0\\leq n \\leq q\\\\\n",
    "        0 & \\text{otherwise}\n",
    "    \\end{cases}\\ .\n",
    "$$\n",
    "\n",
    "Since the filter output goes to and stays at 0 for sampling indices $n>q$, the feedforward filter is usually referred to as the **finite impulse response (FIR)** filter."
   ]
  },
  {
   "cell_type": "code",
   "execution_count": 1,
   "metadata": {
    "slideshow": {
     "slide_type": "slide"
    }
   },
   "outputs": [],
   "source": [
    "def firFiltering(filterCoefficients, inputSignal, filterState=None):\n",
    "    nData = np.size(inputSignal)\n",
    "    firFilterOrder = np.size(filterCoefficients)-1\n",
    "    # set the filter state to zeros if not specified\n",
    "    if filterState is None:\n",
    "        filterState = np.zeros(firFilterOrder)\n",
    "    # do the filtering\n",
    "    outputSignal = np.zeros(nData)\n",
    "    for n in np.arange(nData):\n",
    "        outputSignal[n] = filterCoefficients[0]*inputSignal[n]\n",
    "        for m in np.arange(firFilterOrder):\n",
    "            outputSignal[n] = outputSignal[n] + \\\n",
    "                filterCoefficients[m+1]*filterState[m] \n",
    "        filterState = np.r_[inputSignal[n],filterState[0:firFilterOrder-1]]\n",
    "    return outputSignal, filterState"
   ]
  },
  {
   "cell_type": "code",
   "execution_count": 4,
   "metadata": {
    "slideshow": {
     "slide_type": "slide"
    }
   },
   "outputs": [],
   "source": [
    "# compute the impulse response\n",
    "nData = 10\n",
    "impulse = np.r_[1, np.zeros(nData-1)]\n",
    "samplingIndices = np.arange(nData)\n",
    "filterCoefficients = np.array([1.1, -0.5, 0, 0.5, 0.25])\n",
    "impulseResponse, filterState = firFiltering(filterCoefficients, impulse)"
   ]
  },
  {
   "cell_type": "code",
   "execution_count": 7,
   "metadata": {
    "slideshow": {
     "slide_type": "slide"
    }
   },
   "outputs": [
    {
     "data": {
      "image/png": "[encoded data removed]",
      "text/plain": [
       "<Figure size 720x432 with 1 Axes>"
      ]
     },
     "metadata": {
      "needs_background": "light"
     },
     "output_type": "display_data"
    }
   ],
   "source": [
    "# plot the results\n",
    "plt.figure(figsize=(10,6))\n",
    "plt.stem(samplingIndices, impulse,'b', markerfmt='bo', label=\"$\\delta_n$\", use_line_collection=True)\n",
    "plt.stem(samplingIndices, impulseResponse, 'r', markerfmt='rx', label=\"$h_n$\", use_line_collection=True)\n",
    "plt.legend()\n",
    "plt.xlim((samplingIndices[0]-0.1,samplingIndices[nData-1])), plt.ylim((-0.5,1.1))\n",
    "plt.xlabel('Sampling index [.]'), plt.ylabel('Signal value [.]');"
   ]
  },
  {
   "cell_type": "markdown",
   "metadata": {
    "slideshow": {
     "slide_type": "slide"
    }
   },
   "source": [
    "### Summary\n",
    "1. A feedforward filter has the **difference equation**\n",
    "\\begin{align}\n",
    "    y_n &= b_0x_n + b_1 x_{n-1} + \\cdots + b_p x_{n-q}= \\sum_{m=0}^{q} b_m x_{n-m}\\ .\n",
    "\\end{align}\n",
    "2. If we send an impulse $\\delta_n$ through a filter, we obtain the filter's **impulse response**.\n",
    "3. For a general feedforward filter, the impulse response is **finite** and given by\n",
    "$$\n",
    "    h_n = \\begin{cases}\n",
    "        b_n & 0\\leq n \\leq q\\\\\n",
    "        0 & \\text{otherwise}\n",
    "    \\end{cases}\\ .\n",
    "$$"
   ]
  },
  {
   "cell_type": "markdown",
   "metadata": {
    "slideshow": {
     "slide_type": "slide"
    }
   },
   "source": [
    "### Active break\n",
    "1. Describe in words what an impulse response is and how you can compute it.\n",
    "2. Sketch the impulse response of the following feedforward filter\n",
    "$$\n",
    "    y_n = \\frac{1}{q+1}\\sum_{m=0}^q x_{n-m}\\ .\n",
    "$$\n",
    "What are the filter coefficients $b_0, b_1, \\ldots, b_q$?\n",
    "3. Simulate samples for $n=0,1,\\ldots,47999$ from the following input signal\n",
    "$$\n",
    "    x_n = \\cos(2\\pi f_1 n/f_\\text{s}) + \\cos(2\\pi f_2 n/f_\\text{s})\n",
    "$$\n",
    "where $f_\\text{s} = 48$ kHz, $f_1 = 500$ Hz, and $f_1 = 5$ kHz. (Tip: use the function `genSinusoid` from the last block of lecture 2). Plot the first 200 samples of the signal $x_n$.\n",
    "4. Compute $y_n$ by filtering $x_n$ through the filter above (Tip: you can use [scipy's `lfilter` function](https://docs.scipy.org/doc/scipy/reference/generated/scipy.signal.lfilter.html#scipy.signal.lfilter) instead of mine from above.\n",
    "5. Plot the first 200 samples of $x_n$ and $y_n$ in the same plot. What does the filter seem to do? Can you also hear this if you play back the signals?"
   ]
  },
  {
   "cell_type": "markdown",
   "metadata": {
    "slideshow": {
     "slide_type": "slide"
    }
   },
   "source": [
    "## Frequency response of feedforward filters\n",
    "In the next 20 minutes, you will learn\n",
    "- what the frequency response of a filter is\n",
    "- what the frequency response of a feedforward filter is\n",
    "- what the amplitude and phase response of a filter is"
   ]
  },
  {
   "cell_type": "markdown",
   "metadata": {
    "slideshow": {
     "slide_type": "slide"
    }
   },
   "source": [
    "#### Example: a first order FIR filter\n",
    "Let us again look at the simple filter\n",
    "$$\n",
    "    y_n = x_n+b_1 x_{n-1}\n",
    "$$\n",
    "which we also looked at before and now know is a **first order FIR filter** with impulse response\n",
    "$$\n",
    "    h_n = \\begin{cases}\n",
    "        1 & n=0\\\\\n",
    "        b_1 & n=1\\\\\n",
    "        0 & \\text{otherwise}\n",
    "    \\end{cases}\\ .\n",
    "$$"
   ]
  },
  {
   "cell_type": "markdown",
   "metadata": {
    "slideshow": {
     "slide_type": "slide"
    }
   },
   "source": [
    "Instead of an impulse, let us now try to send the phasor $\\mathrm{e}^{j\\omega n}$ through the filter. \n",
    "\n",
    "We set $x_n=\\mathrm{e}^{j\\omega n}$ and get\n",
    "\\begin{align}\n",
    "    y_n &= \\mathrm{e}^{j\\omega n} + b_1\\mathrm{e}^{j\\omega (n-1)} = \\mathrm{e}^{j\\omega n} + b_1\\mathrm{e}^{-j\\omega }\\mathrm{e}^{j\\omega n}\\\\\n",
    "    &= \\left[1+b_1\\mathrm{e}^{-j\\omega }\\right] \\mathrm{e}^{j\\omega n}\\ .\n",
    "\\end{align}\n",
    "Note that\n",
    "- we used the rule $a^n a^m = a^{n+m}$\n",
    "- the filter output is simply the real value, i.e., $\\text{Re}(y_n)$, if we set $x_n=\\text{Re}(\\mathrm{e}^{j\\omega n})=\\cos(\\omega n)$."
   ]
  },
  {
   "cell_type": "markdown",
   "metadata": {
    "slideshow": {
     "slide_type": "fragment"
    }
   },
   "source": [
    "Thus, the output signal is simply the phasor (input signal $x_n$) multiplied by the complex number\n",
    "$$\n",
    "    H(\\omega) = 1+b_1\\mathrm{e}^{-j\\omega }\n",
    "$$\n",
    "which depends on the digital frequency $\\omega$ and filter coefficients $1$ and $b_1$, but not on the sampling index $n$.\n",
    "\n",
    "When viewed as a function of the digital frequency $\\omega$, we call this complex number for the filter's **frequency response**."
   ]
  },
  {
   "cell_type": "markdown",
   "metadata": {
    "slideshow": {
     "slide_type": "slide"
    }
   },
   "source": [
    "Using Euler's formula\n",
    "$$\n",
    "    \\mathrm{e}^{j\\theta} = \\cos(\\theta)+j\\sin(\\theta)\\ ,\n",
    "$$\n",
    "we can write the frequency response $H(\\omega)$ in a rectangular form as\n",
    "$$\n",
    "    H(\\omega) = 1+b_1\\cos(\\omega)-jb_1\\sin(\\omega)\n",
    "$$\n",
    "which has $1+b_1\\cos(\\omega)$ as the real part and $-b_1\\sin(\\omega)$ as the imaginary part."
   ]
  },
  {
   "cell_type": "markdown",
   "metadata": {
    "slideshow": {
     "slide_type": "slide"
    }
   },
   "source": [
    "More interestingly, the polar form of the frequency response can be written as\n",
    "$$\n",
    "    H(\\omega) = |H(\\omega)|\\mathrm{e}^{j\\angle H(\\omega)}\n",
    "$$\n",
    "where\n",
    "\\begin{align}\n",
    "    |H(\\omega)| &= \\sqrt{(1+b_1\\cos(\\omega))^2+(-b_1\\sin(\\omega))^2} = \\sqrt{1+b_1^2+2b_1\\cos(\\omega)}\\\\\n",
    "    \\angle H(\\omega) &= \\mathrm{arctan}\\left(\\frac{-b_1\\sin(\\omega)}{1+b_1\\cos(\\omega)}\\right)\\ .\n",
    "\\end{align}\n",
    "Note that $|H(\\omega)|$ and $\\angle H(\\omega)$ are usually referred to as the **amplitude response** and **phase response**, respectively."
   ]
  },
  {
   "cell_type": "code",
   "execution_count": 5,
   "metadata": {
    "slideshow": {
     "slide_type": "skip"
    }
   },
   "outputs": [],
   "source": [
    "def firFreqResp(filterCoefficients, freqGrid):\n",
    "    nFreqs = np.size(freqGrid)\n",
    "    firFilterOrder = np.size(filterCoefficients)-1\n",
    "    # compute the frequency response\n",
    "    freqResp = filterCoefficients[0]*np.ones(nFreqs)\n",
    "    for m in np.arange(firFilterOrder)+1:\n",
    "        freqResp = freqResp + filterCoefficients[m]*np.exp(-1j*m*freqGrid)\n",
    "    return freqResp"
   ]
  },
  {
   "cell_type": "code",
   "execution_count": 6,
   "metadata": {
    "slideshow": {
     "slide_type": "slide"
    }
   },
   "outputs": [],
   "source": [
    "# compute the frequency response\n",
    "nFreqs = 100\n",
    "freqGrid = 2*np.pi*np.arange(nFreqs)/nFreqs\n",
    "firFilterCoefficients = np.array([1, 0.9])\n",
    "_, freqResp = sig.dfreqresp((firFilterCoefficients, 1, 1), freqGrid)\n",
    "ampResp = np.abs(freqResp)\n",
    "phaseResp = np.angle(freqResp)"
   ]
  },
  {
   "cell_type": "code",
   "execution_count": 7,
   "metadata": {
    "slideshow": {
     "slide_type": "slide"
    }
   },
   "outputs": [
    {
     "data": {
      "image/png": "[encoded data removed]",
      "text/plain": [
       "<Figure size 720x432 with 2 Axes>"
      ]
     },
     "metadata": {
      "needs_background": "light"
     },
     "output_type": "display_data"
    }
   ],
   "source": [
    "# plot the results\n",
    "plt.figure(figsize=(10,6))\n",
    "plt.subplot(2,1,1)\n",
    "plt.plot(freqGrid, ampResp, linewidth=2)\n",
    "plt.xlim((freqGrid[0],freqGrid[nFreqs-1])), plt.ylim((0,1.1*np.max(ampResp)))\n",
    "plt.xlabel('Dig. freq. [rad/sample]'), plt.ylabel('Amplitude response [.]');\n",
    "plt.subplot(2,1,2)\n",
    "plt.plot(freqGrid, phaseResp, linewidth=2)\n",
    "plt.xlim((freqGrid[0],freqGrid[nFreqs-1])), plt.ylim((-np.pi,np.pi))\n",
    "plt.xlabel('Dig. freq. [rad/sample]'), plt.ylabel('Phase response [.]');"
   ]
  },
  {
   "cell_type": "markdown",
   "metadata": {
    "slideshow": {
     "slide_type": "slide"
    }
   },
   "source": [
    "#### Example: filtering two phasors\n",
    "Assume that we have the signal\n",
    "$$\n",
    "    x_n = \\mathrm{e}^{j\\omega_1 n} + \\mathrm{e}^{j\\omega_2 n}\n",
    "$$\n",
    "where $\\omega_1=2\\pi f_1/f_\\text{s}$ and $\\omega_2=2\\pi f_2/f_\\text{s}$ are **digital frequencies** (see last lecture).\n",
    "\n",
    "The filter output is then\n",
    "\\begin{align}\n",
    "    y_n &= x_n+b_1 x_{n-1} = H(\\omega_1)\\mathrm{e}^{j\\omega_1 n}+H(\\omega_2)\\mathrm{e}^{j\\omega_2 n}\\\\\n",
    "    &= A_1 \\mathrm{e}^{j\\omega_1 n+\\Phi_1}+ A_2 \\mathrm{e}^{j\\omega_2 n+\\Phi_2}\n",
    "\\end{align}\n",
    "where the amplitudes and phases of the sinusoids for $i=\\{1,2\\}$ are given by\n",
    "\\begin{align}\n",
    "    A_i &= |H(\\omega_i)| = \\sqrt{1+b_1^2+2b_1\\cos(\\omega_i)}\\\\\n",
    "    \\Phi_i &= \\angle H(\\omega_i) = \\mathrm{arctan}\\left(\\frac{-b_1\\sin(\\omega_i)}{1+b_1\\cos(\\omega_i)}\\right)\\ .\n",
    "\\end{align}\n",
    "\n",
    "Thus, the filter changes the **amplitudes** and **phases** of the sinusoids, but not the **frequencies**!"
   ]
  },
  {
   "cell_type": "markdown",
   "metadata": {
    "slideshow": {
     "slide_type": "slide"
    }
   },
   "source": [
    "### Frequency response of a general feedforward filter\n",
    "If we send a phasor $\\mathrm{e}^{j\\omega n}$ through the feedforward filter\n",
    "\\begin{align}\n",
    "    y_n &= b_0x_n + b_1 x_{n-1} + \\cdots + b_q x_{n-q} = \\sum_{m=0}^{q} b_m x_{n-m}\\ ,\n",
    "\\end{align}\n",
    "we obtain\n",
    "$$\n",
    "    y_n = \\sum_{m=0}^{q} b_m \\mathrm{e}^{j\\omega (n-m)} = \\mathrm{e}^{j\\omega n} \\sum_{m=0}^{q} b_m \\mathrm{e}^{-j\\omega m}\\ .\n",
    "$$"
   ]
  },
  {
   "cell_type": "markdown",
   "metadata": {
    "slideshow": {
     "slide_type": "fragment"
    }
   },
   "source": [
    "Thus, the **frequency response** of the feedforward filter is\n",
    "$$\n",
    "    H(\\omega) = b_0 + b_1\\mathrm{e}^{-j\\omega} + \\cdots + b_q \\mathrm{e}^{-j\\omega q} = \\sum_{m=0}^{q} b_m \\mathrm{e}^{-j\\omega m}\\ .\n",
    "$$"
   ]
  },
  {
   "cell_type": "markdown",
   "metadata": {
    "slideshow": {
     "slide_type": "slide"
    }
   },
   "source": [
    "### The transfer function\n",
    "When we derived the frequency response, we used a phasor as the input signal, i.e., $x_n=\\mathrm{e}^{j\\omega n}$. If we set $x_n=z^n$ as the input signal, where $z$ in an arbitrary complex number, we get\n",
    "$$\n",
    "    y_n = \\sum_{m=0}^{q} b_m z^{n-m} = z^n \\sum_{m=0}^{q} b_m z^{-m}\\ .\n",
    "$$\n",
    "Analogously to the frequency response, we see that the output signal is a multiplication between the input signal and a complex number $H(z)$ given by\n",
    "$$\n",
    "    H(z) = b_0 + b_1z^{-1} + \\cdots + b_q z^{-q} = \\sum_{m=0}^{q} b_m z^{-m}\\ .\n",
    "$$\n",
    "This complex number is referred to as the filter's **transfer function**."
   ]
  },
  {
   "cell_type": "markdown",
   "metadata": {
    "slideshow": {
     "slide_type": "slide"
    }
   },
   "source": [
    "If we write the complex number $z$ in its polar form $z=r\\mathrm{e}^{j\\omega}$, we see that\n",
    "$$\n",
    "    z^n = (r\\mathrm{e}^{j\\omega})^n = r^n\\mathrm{e}^{j\\omega n}\\ .\n",
    "$$\n",
    "Thus, the frequency response is a special case of the transfer function for $r=1$!"
   ]
  },
  {
   "cell_type": "markdown",
   "metadata": {
    "slideshow": {
     "slide_type": "fragment"
    }
   },
   "source": [
    "We often prefer working with the transfer function for a couple of reasons:\n",
    "1. Simpler notation since we can write $z$ instead of $\\mathrm{e}^{j\\omega}$.\n",
    "2. The frequency response is a special case of the transfer function (when we set $r=1$ in the latter).\n",
    "3. The transfer function allow us to make a more thorough analysis of the filter.\n",
    "\n",
    "We will say much more on the transfer function in lecture 6."
   ]
  },
  {
   "cell_type": "markdown",
   "metadata": {
    "slideshow": {
     "slide_type": "slide"
    }
   },
   "source": [
    "### Summary\n",
    "1. If we send a phasor $\\mathrm{e}^{j\\omega n}$ through a filter, we obtain the filter's **frequency response** at the frequency $\\omega$.\n",
    "2. For a general feedforward filter, the frequency response is\n",
    "$$\n",
    "    H(\\omega) = \\sum_{m=0}^{q} b_m \\mathrm{e}^{-j\\omega m}\n",
    "$$\n",
    "which is just a complex number whose\n",
    " - magnitude $|H(\\omega)|$ is known as the **amplitude response**\n",
    " - phase $\\angle H(\\omega)$ is known as the **phase response**.\n"
   ]
  },
  {
   "cell_type": "markdown",
   "metadata": {
    "slideshow": {
     "slide_type": "slide"
    }
   },
   "source": [
    "### Active break\n",
    "Consider the simple filter with difference equation\n",
    "$$\n",
    "    y_n = 0.5x_n+0.5x_{n-1}\\ .\n",
    "$$\n",
    "1. What can you say about this filter (type, filter coefficients,  and order $q$)? Make a drawing of the filter.\n",
    "2. Compute the filter's impulse response $h_n$.\n",
    "3. Compute the filter's frequency response $H(\\omega)$, amplitude response $|H(\\omega)|$, and phase response $\\angle H(\\omega)$. Feel free to use either a computer or pen and paper.\n",
    "4. Do exercise 1 in the *Introduction to Audio Processing* book (p. 60). You can use Python instead of Pure Data.\n",
    "\n",
    "---\n",
    "Tip: Send an impulse $\\delta_n$ and a phasor $\\mathrm{e}^{j\\omega n}$ through the filter to get the impulse response and the frequency response, respectively.  Moreover, a feedforward filter has the difference equation\n",
    "\\begin{align}\n",
    "    y_n &= b_0x_n + b_1 x_{n-1} + \\cdots + b_q x_{n-q} = \\sum_{m=0}^{q} b_m x_{n-m}\\ .\n",
    "\\end{align}\n"
   ]
  },
  {
   "cell_type": "markdown",
   "metadata": {
    "slideshow": {
     "slide_type": "slide"
    }
   },
   "source": [
    "## Introduction to the feedback filter\n",
    "In the next 20 minutes, you will learn\n",
    "- what a feedback filter is\n",
    "- what the impulse response and frequency response of a feedback filter is\n",
    "- what a resonance filter is"
   ]
  },
  {
   "cell_type": "markdown",
   "metadata": {
    "slideshow": {
     "slide_type": "slide"
    }
   },
   "source": [
    "### Feedback filter\n",
    "The difference equation of a feedback filter (with $q=1$) is\n",
    "\\begin{align}\n",
    "    y_n &= b_0x_n + a_1y_{n-1} + \\ldots + a_py_{n-p} = b_0x_n + \\sum_{m=0}^{p} a_m y_{n-m}\n",
    "\\end{align}\n",
    "where\n",
    "- $x_n$ is the input signal\n",
    "- $y_n$ is the output signal\n",
    "- $b_0, a_1, a_2, \\ldots, a_p$ are **filter coefficients**\n",
    "- we often refer to the past values $y_{n-1}, y_{n-2}, \\ldots, y_{n-p}$ as the **filter state**.\n",
    "\n",
    "---\n",
    "Note that general feedback filters can have $q>1$, but we wait with this general case until lecture 6."
   ]
  },
  {
   "cell_type": "markdown",
   "metadata": {
    "slideshow": {
     "slide_type": "slide"
    }
   },
   "source": [
    "<center>\n",
    "<img src=\"figures/ap4IirFilterIllustration.png\" alt=\"Feedback Filter Illustration\" width=\"50%\"/>\n",
    "</center>"
   ]
  },
  {
   "cell_type": "markdown",
   "metadata": {
    "slideshow": {
     "slide_type": "slide"
    }
   },
   "source": [
    "### Impulse response of a feedback filter\n",
    "#### Example: a simple filter\n",
    "Let us look at the filter\n",
    "$$\n",
    "    y_n = x_n+a_1 y_{n-1}\\ .\n",
    "$$\n",
    "Thus, we have\n",
    "- $p=0$ and $q=1$\n",
    "- $b_0=1$\n",
    "- the filter state is $y_{n-1}$"
   ]
  },
  {
   "cell_type": "markdown",
   "metadata": {
    "slideshow": {
     "slide_type": "slide"
    }
   },
   "source": [
    "Let us try to send an impulse\n",
    "$$\n",
    "    \\delta_n = \\begin{cases}\n",
    "        1 & n=0\\\\\n",
    "        0 & \\text{otherwise}\n",
    "    \\end{cases}\n",
    "$$\n",
    "through the filter."
   ]
  },
  {
   "cell_type": "markdown",
   "metadata": {
    "slideshow": {
     "slide_type": "slide"
    }
   },
   "source": [
    "When we set $x_n=\\delta_n$, we get the impulse response $h_n=y_n$ given by\n",
    "$$\n",
    "    h_n = \\begin{cases}\n",
    "        a_1^n & n\\geq 0\\\\\n",
    "        0 & \\text{otherwise}\n",
    "    \\end{cases}\\ .\n",
    "$$\n",
    "Note that $h_n$ never becones zero for $n\\geq 0$. Therefore, feedback filters are referred to as **infinite impulse response** (IIR) filters.\n",
    "- Unlike an FIR filter, the impulse response of a general IIR filter is not simply linked to the filter coefficients."
   ]
  },
  {
   "cell_type": "code",
   "execution_count": 8,
   "metadata": {
    "slideshow": {
     "slide_type": "slide"
    }
   },
   "outputs": [],
   "source": [
    "def iirFiltering(filterCoefficients, inputSignal, filterState=None):\n",
    "    # NOTE: this is only a special case of an IIR filter where the there is no feedforward part,\n",
    "    # except for x_n which is unscaled (i.e., p=0 and b_0=1).\n",
    "    nData = np.size(inputSignal)\n",
    "    iirFilterOrder = np.size(filterCoefficients)\n",
    "    # set the filter state to zeros if not specified\n",
    "    if filterState is None:\n",
    "        filterState = np.zeros(iirFilterOrder)\n",
    "    # do the filtering\n",
    "    outputSignal = np.zeros(nData)\n",
    "    for n in np.arange(nData):\n",
    "        outputSignal[n] = inputSignal[n]\n",
    "        for m in np.arange(iirFilterOrder):\n",
    "            outputSignal[n] = outputSignal[n] + \\\n",
    "                filterCoefficients[m]*filterState[m]\n",
    "        filterState = np.r_[outputSignal[n],filterState[0:iirFilterOrder-1]]\n",
    "    return outputSignal, filterState"
   ]
  },
  {
   "cell_type": "code",
   "execution_count": 9,
   "metadata": {
    "slideshow": {
     "slide_type": "slide"
    }
   },
   "outputs": [
    {
     "name": "stderr",
     "output_type": "stream",
     "text": [
      "/opt/tljh/user/lib/python3.7/site-packages/ipykernel_launcher.py:9: UserWarning: In Matplotlib 3.3 individual lines on a stem plot will be added as a LineCollection instead of individual lines. This significantly improves the performance of a stem plot. To remove this warning and switch to the new behaviour, set the \"use_line_collection\" keyword argument to True.\n",
      "  if __name__ == '__main__':\n",
      "/opt/tljh/user/lib/python3.7/site-packages/ipykernel_launcher.py:10: UserWarning: In Matplotlib 3.3 individual lines on a stem plot will be added as a LineCollection instead of individual lines. This significantly improves the performance of a stem plot. To remove this warning and switch to the new behaviour, set the \"use_line_collection\" keyword argument to True.\n",
      "  # Remove the CWD from sys.path while we load stuff.\n"
     ]
    },
    {
     "data": {
      "image/png": "[encoded data removed]",
      "text/plain": [
       "<Figure size 720x432 with 1 Axes>"
      ]
     },
     "metadata": {
      "needs_background": "light"
     },
     "output_type": "display_data"
    }
   ],
   "source": [
    "# compute the impulse response\n",
    "nData = 25\n",
    "impulse = np.r_[1, np.zeros(nData-1)]\n",
    "samplingIndices = np.arange(nData)\n",
    "filterCoefficients = np.array([0.7])\n",
    "impulseResponse, filterState = iirFiltering(filterCoefficients, impulse)\n",
    "# plot the results\n",
    "plt.figure(figsize=(10,6))\n",
    "plt.stem(samplingIndices, impulse,'b', markerfmt='bo', label=\"$\\delta_n$\")\n",
    "plt.stem(samplingIndices, impulseResponse, 'r', markerfmt='rx', label=\"$h_n$\")\n",
    "plt.legend()\n",
    "plt.xlim((samplingIndices[0]-0.1,samplingIndices[nData-1])),\n",
    "plt.ylim((np.minimum(np.min(impulseResponse),0),np.max(impulseResponse)))\n",
    "plt.xlabel('Sampling index [.]'), plt.ylabel('Signal value [.]');"
   ]
  },
  {
   "cell_type": "markdown",
   "metadata": {
    "slideshow": {
     "slide_type": "slide"
    }
   },
   "source": [
    "### Frequency response of a feedback filter\n",
    "#### Example: a resonance filter\n",
    "Let us look at the filter\n",
    "$$\n",
    "    y_n = b_0x_n+a_1 y_{n-1}+a_2 y_{n-2}\\ .\n",
    "$$\n",
    "Thus, we have\n",
    "- $p=2$ and $q=0$\n",
    "- the filter state is $y_{n-1}, y_{n-2}$\n",
    "\n",
    "For particular values of the filter coefficients, we obtain a **resonance filter** which we will talk more about later."
   ]
  },
  {
   "cell_type": "markdown",
   "metadata": {
    "slideshow": {
     "slide_type": "slide"
    }
   },
   "source": [
    "Let us now try to send the phasor $\\mathrm{e}^{j\\omega n}$ through the filter. \n",
    "\n",
    "We set $x_n=\\mathrm{e}^{j\\omega n}$ and get\n",
    "\\begin{align}\n",
    "    y_n &= b_0\\mathrm{e}^{j\\omega n} +a_1 y_{n-1}+a_2 y_{n-2}\n",
    "\\end{align}\n",
    "which we can rewrite as\n",
    "$$\n",
    "    b_0\\mathrm{e}^{j\\omega n} = y_n - a_1 y_{n-1} - a_2 y_{n-2}\\ .\n",
    "$$"
   ]
  },
  {
   "cell_type": "markdown",
   "metadata": {
    "slideshow": {
     "slide_type": "slide"
    }
   },
   "source": [
    "If we guess that the output signal is a multipication of the input phasor and the frequency response, i.e., $y_n=H(\\omega)\\mathrm{e}^{j\\omega n}$, we obtain\n",
    "\\begin{align}\n",
    "    b_0\\mathrm{e}^{j\\omega n} &= H(\\omega)\\mathrm{e}^{j\\omega n} - a_1 H(\\omega)\\mathrm{e}^{j\\omega (n-1)} - a_2 H(\\omega)\\mathrm{e}^{j\\omega (n-2)}\\\\\n",
    "    &= (1-a_1\\mathrm{e}^{-j\\omega }-a_2\\mathrm{e}^{-j2\\omega})H(\\omega)\\mathrm{e}^{j\\omega n}\n",
    "\\end{align}\n",
    "from which we get that\n",
    "$$\n",
    "    H(\\omega) = \\frac{b_0}{1-a_1\\mathrm{e}^{-j\\omega }-a_2\\mathrm{e}^{-j2\\omega}}\\ .\n",
    "$$\n",
    "The amplitude response $|H(\\omega)|$ and the phase response $\\angle H(\\omega)$ are defined in exactly the same way as for the feedforward filter."
   ]
  },
  {
   "cell_type": "markdown",
   "metadata": {
    "slideshow": {
     "slide_type": "slide"
    }
   },
   "source": [
    "#### Frequency response of a general feedback filter\n",
    "A filter with the difference equation\n",
    "\\begin{align}\n",
    "    y_n &= b_0x_n + a_1y_{n-1} + \\ldots + a_py_{n-q} = b_0x_0 + \\sum_{m=0}^{p} a_m y_{n-m}\n",
    "\\end{align}\n",
    "has the frequency response\n",
    "$$\n",
    "    H(\\omega) = \\frac{b_0}{1-\\sum_{m=1}^p a_m\\mathrm{e}^{-j\\omega m}}\\ .\n",
    "$$"
   ]
  },
  {
   "cell_type": "code",
   "execution_count": 10,
   "metadata": {
    "slideshow": {
     "slide_type": "slide"
    }
   },
   "outputs": [],
   "source": [
    "# compute the frequency response\n",
    "nFreqs = 100\n",
    "freqGrid = 2*np.pi*np.arange(nFreqs)/nFreqs\n",
    "iirFilterCoefficients = np.array([1, -0.8])\n",
    "_, freqResp = sig.dfreqresp((1, iirFilterCoefficients, 1), freqGrid)\n",
    "ampResp = np.abs(freqResp)\n",
    "phaseResp = np.angle(freqResp)"
   ]
  },
  {
   "cell_type": "code",
   "execution_count": 11,
   "metadata": {
    "slideshow": {
     "slide_type": "slide"
    }
   },
   "outputs": [
    {
     "data": {
      "image/png": "[encoded data removed]",
      "text/plain": [
       "<Figure size 720x432 with 2 Axes>"
      ]
     },
     "metadata": {
      "needs_background": "light"
     },
     "output_type": "display_data"
    }
   ],
   "source": [
    "# plot the results\n",
    "plt.figure(figsize=(10,6))\n",
    "plt.subplot(2,1,1)\n",
    "plt.plot(freqGrid, ampResp, linewidth=2)\n",
    "plt.xlim((freqGrid[0],freqGrid[nFreqs-1])), plt.ylim((0,1.1*np.max(ampResp)))\n",
    "plt.xlabel('Dig. freq. [rad/sample]'), plt.ylabel('Amplitude response [.]');\n",
    "plt.subplot(2,1,2)\n",
    "plt.plot(freqGrid, phaseResp, linewidth=2)\n",
    "plt.xlim((freqGrid[0],freqGrid[nFreqs-1])), plt.ylim((-np.pi,np.pi))\n",
    "plt.xlabel('Dig. freq. [rad/sample]'), plt.ylabel('Phase response [.]');"
   ]
  },
  {
   "cell_type": "markdown",
   "metadata": {
    "slideshow": {
     "slide_type": "slide"
    }
   },
   "source": [
    "### Resonance filter\n",
    "Assume that we can write the frequency response of a feedback filter as\n",
    "$$\n",
    "    H(\\omega) = \\frac{b_0}{(1-p_1\\mathrm{e}^{-j\\omega})(1-p_1^*\\mathrm{e}^{-j\\omega})}\n",
    "$$\n",
    "where $p_1$ is a so-called **pole** which we are going to talk more about in lecture 6."
   ]
  },
  {
   "cell_type": "markdown",
   "metadata": {
    "slideshow": {
     "slide_type": "fragment"
    }
   },
   "source": [
    "A pole is a complex number so we can write it in a polar form as\n",
    "\\begin{align}\n",
    "    p_1 &= R\\mathrm{e}^{j\\theta}\\\\\n",
    "    p_1^* &= R\\mathrm{e}^{-j\\theta}\n",
    "\\end{align}\n",
    "where $R$ is the magnitude and $\\theta$ an angle."
   ]
  },
  {
   "cell_type": "markdown",
   "metadata": {
    "slideshow": {
     "slide_type": "slide"
    }
   },
   "source": [
    "If we insert these expression for $p_1$ and $p_1^*$ in the frequency response, we obtain\n",
    "\\begin{align}\n",
    "    H(\\omega) &= \\frac{b_0}{(1-R\\mathrm{e}^{j\\theta}\\mathrm{e}^{-j\\omega})(1-R\\mathrm{e}^{-j\\theta}\\mathrm{e}^{-j\\omega})}\\\\\n",
    "    &= \\frac{b_0}{1-2R\\cos(\\theta)\\mathrm{e}^{-j\\omega}+R^2\\mathrm{e}^{-j2\\omega}}\\ .\n",
    "\\end{align}\n",
    "\n",
    "We now see that the resonance filter has filter coefficients\n",
    "\\begin{align}\n",
    "    a_1 &= 2R\\cos(\\theta)\\\\\n",
    "    a_2 &= -R^2\\ .\n",
    "\\end{align}"
   ]
  },
  {
   "cell_type": "markdown",
   "metadata": {
    "slideshow": {
     "slide_type": "slide"
    }
   },
   "source": [
    "<center>\n",
    "<img src=\"figures/ap4ResonatorSketch.png\" alt=\"Resonator Filter Illustration\" width=\"80%\"/>\n",
    "</center>"
   ]
  },
  {
   "cell_type": "markdown",
   "metadata": {
    "slideshow": {
     "slide_type": "slide"
    }
   },
   "source": [
    "We now wish to choose $b_0$, $R$, and $\\theta$ so that we get\n",
    "- the desired center frequency $\\omega_\\text{c}$\n",
    "- the desired bandwidth $B_\\text{w}$\n",
    "- the desired gain at the center frequency\n"
   ]
  },
  {
   "cell_type": "markdown",
   "metadata": {
    "slideshow": {
     "slide_type": "slide"
    }
   },
   "source": [
    "Unfortunately, it is a bit complicated to show, but it can be shown that\n",
    "\\begin{align}\n",
    "    \\omega_\\text{c} &= \\arccos\\left(\\frac{1+R^2}{2R}\\cos(\\theta)\\right)\\ ,\\quad\\text{if }\\cos(\\theta)\\leq\\frac{2R}{1+R^2}\\\\\n",
    "    B_\\text{w} &\\approx 2-2R\\\\\n",
    "    b_0 &= (1-R^2)\\sin(\\theta)\\ .\n",
    "\\end{align}\n",
    "\n",
    "From these equations, we can compute the values of $b_0$, $R$, and $\\theta$ as\n",
    "\\begin{align}\n",
    "    R &\\approx \\frac{2-B_\\text{w}}{2}\\\\\n",
    "    \\theta &= \\arccos\\left(\\frac{2R}{1+R^2}\\cos(\\omega_\\text{c})\\right)\\\\\n",
    "    b_0 &= (1-R^2)\\sin(\\theta)\\ .\n",
    "\\end{align}\n"
   ]
  },
  {
   "cell_type": "code",
   "execution_count": 12,
   "metadata": {
    "slideshow": {
     "slide_type": "slide"
    }
   },
   "outputs": [],
   "source": [
    "def resonanceFreqResp(centerFreq, bandwidth, freqGrid):\n",
    "    nFreqs = np.size(freqGrid)\n",
    "    poleRadius = (2-bandwidth)/2\n",
    "    poleAngle = np.arccos(2*poleRadius*np.cos(centerFreq)/(1+poleRadius**2))\n",
    "    gain = (1-poleRadius**2)*np.sin(poleAngle)\n",
    "    iirCoefficients = np.array([2*poleRadius*np.cos(poleAngle), -poleRadius**2])\n",
    "    freqResp = gain/(1-2*poleRadius*np.cos(poleAngle)*np.exp(-1j*freqGrid)+poleRadius**2*np.exp(-1j*2*freqGrid))\n",
    "    return freqResp"
   ]
  },
  {
   "cell_type": "code",
   "execution_count": 13,
   "metadata": {
    "slideshow": {
     "slide_type": "slide"
    }
   },
   "outputs": [],
   "source": [
    "# compute the frequency response\n",
    "nFreqs = 1000\n",
    "samplingFreq = 1000;\n",
    "digFreqGrid = 2*np.pi*np.arange(nFreqs)/nFreqs\n",
    "freqGrid = digFreqGrid*samplingFreq/(2*np.pi)\n",
    "centerFreq = 2*np.pi*100/samplingFreq\n",
    "bandwidth = 2*np.pi*50/samplingFreq\n",
    "freqResp = resonanceFreqResp(centerFreq, bandwidth, digFreqGrid)\n",
    "ampResp = np.abs(freqResp)\n",
    "phaseResp = np.angle(freqResp)"
   ]
  },
  {
   "cell_type": "code",
   "execution_count": 14,
   "metadata": {
    "slideshow": {
     "slide_type": "slide"
    }
   },
   "outputs": [
    {
     "data": {
      "image/png": "[encoded data removed]",
      "text/plain": [
       "<Figure size 720x432 with 2 Axes>"
      ]
     },
     "metadata": {
      "needs_background": "light"
     },
     "output_type": "display_data"
    }
   ],
   "source": [
    "# plot the results\n",
    "plt.figure(figsize=(10,6))\n",
    "plt.subplot(2,1,1)\n",
    "plt.plot(freqGrid, ampResp, linewidth=2)\n",
    "plt.xlim((freqGrid[0],freqGrid[nFreqs-1])), plt.ylim((0,1.1*np.max(ampResp)))\n",
    "plt.xlabel('Frequency [Hz]'), plt.ylabel('Amplitude response [.]');\n",
    "plt.subplot(2,1,2)\n",
    "plt.plot(freqGrid, phaseResp, linewidth=2)\n",
    "plt.xlim((freqGrid[0],freqGrid[nFreqs-1])), plt.ylim((-np.pi,np.pi))\n",
    "plt.xlabel('Frequency [Hz]'), plt.ylabel('Phase response [.]');"
   ]
  },
  {
   "cell_type": "markdown",
   "metadata": {
    "slideshow": {
     "slide_type": "slide"
    }
   },
   "source": [
    "### Summary\n",
    "1. A feedback filter (with no feedforward part, i.e., $q=0$) has the difference equation\n",
    "\\begin{align}\n",
    "    y_n &= b_0x_n + a_1y_{n-1} + \\ldots + a_py_{n-p} = b_0x_n + \\sum_{m=0}^{p} a_m y_{n-m}\\ .\n",
    "\\end{align}\n",
    "2. The feedback filter is often referred to as an **infinite impulse response** (IIR) filter since its output never becomes zero for a finite sampling index.\n",
    "3. The frequency response of an IIR filter (with $q=0$) is\n",
    "$$\n",
    "    H(\\omega) = \\frac{b_0}{1-\\sum_{m=1}^p a_m\\mathrm{e}^{-j\\omega m}}\\ .\n",
    "$$\n",
    "4. A resonance filter is a special kind of filter with the difference equation\n",
    "\\begin{align}\n",
    "    y_n &= b_0x_n + 2R\\cos(\\theta)y_{n-1} - R^2y_{n-2}\\ .\n",
    "\\end{align}"
   ]
  },
  {
   "cell_type": "markdown",
   "metadata": {
    "slideshow": {
     "slide_type": "slide"
    }
   },
   "source": [
    "### Active break\n",
    "Do exercise 2-4 in the *Introduction to Audio Processing* book (p. 60). You can use Python instead of Pure Data."
   ]
  }
 ],
 "metadata": {
  "celltoolbar": "Slideshow",
  "kernelspec": {
   "display_name": "Python 3.8.0 64-bit ('minimal_ds': conda)",
   "language": "python",
   "name": "python38064bitminimaldsconda76ff49a8f8ba4468b4e7edfee9b9acfa"
  },
  "language_info": {
   "codemirror_mode": {
    "name": "ipython",
    "version": 3
   },
   "file_extension": ".py",
   "mimetype": "text/x-python",
   "name": "python",
   "nbconvert_exporter": "python",
   "pygments_lexer": "ipython3",
   "version": "3.8.2"
  },
  "toc": {
   "base_numbering": 1,
   "nav_menu": {},
   "number_sections": true,
   "sideBar": true,
   "skip_h1_title": false,
   "title_cell": "Table of Contents",
   "title_sidebar": "Contents",
   "toc_cell": true,
   "toc_position": {},
   "toc_section_display": true,
   "toc_window_display": false
  }
 },
 "nbformat": 4,
 "nbformat_minor": 4
}
